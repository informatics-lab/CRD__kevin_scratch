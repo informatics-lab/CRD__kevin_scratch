{
 "cells": [
  {
   "cell_type": "markdown",
   "metadata": {},
   "source": [
    "# Create Zarr of 9 years of daily CSSP China data [1851-1859]"
   ]
  },
  {
   "cell_type": "code",
   "execution_count": 1,
   "metadata": {},
   "outputs": [],
   "source": [
    "import iris\n",
    "import os\n",
    "import sys\n",
    "import logging\n",
    "import xarray as xr\n",
    "import numpy as np\n",
    "\n",
    "import crd_utils as crd\n",
    "import umdates_utils as um\n",
    "\n",
    "from datetime import datetime, timedelta"
   ]
  },
  {
   "cell_type": "markdown",
   "metadata": {},
   "source": [
    "## Create a list of all the files we want to process"
   ]
  },
  {
   "cell_type": "code",
   "execution_count": 2,
   "metadata": {},
   "outputs": [
    {
     "name": "stdout",
     "output_type": "stream",
     "text": [
      "5850\n"
     ]
    }
   ],
   "source": [
    "# daily data filenames\n",
    "filepath = '/data/cssp-china/mini-dataset-24-01-19/20CR/daily'\n",
    "files = sorted(os.listdir(filepath))\n",
    "print(len(files))"
   ]
  },
  {
   "cell_type": "code",
   "execution_count": 3,
   "metadata": {},
   "outputs": [
    {
     "name": "stdout",
     "output_type": "stream",
     "text": [
      "3288\n"
     ]
    }
   ],
   "source": [
    "# generate all possible filenames for the time period\n",
    "runid = 'apepd'\n",
    "startd = datetime(1851, 1, 1)   # 00Z on Jan 01 1851\n",
    "endd = datetime(1860, 1, 1)     # 00Z on Jan 01 1860\n",
    "freq = 'pa'\n",
    "\n",
    "decade_filenames = um.UMFileList(runid, startd, endd, freq)\n",
    "print(len(decade_filenames))"
   ]
  },
  {
   "cell_type": "code",
   "execution_count": 4,
   "metadata": {},
   "outputs": [
    {
     "name": "stdout",
     "output_type": "stream",
     "text": [
      "329\n"
     ]
    }
   ],
   "source": [
    "# find the overlap of actual filenames with all possible filenames in that decade\n",
    "filenames = list(set(files).intersection(set(decade_filenames)))\n",
    "filenames.sort()\n",
    "print(len(filenames))"
   ]
  },
  {
   "cell_type": "code",
   "execution_count": 5,
   "metadata": {},
   "outputs": [
    {
     "name": "stdout",
     "output_type": "stream",
     "text": [
      "329\n"
     ]
    }
   ],
   "source": [
    "filepaths = [os.path.join(filepath, filename) for filename in filenames]\n",
    "print(len(filepaths))"
   ]
  },
  {
   "cell_type": "markdown",
   "metadata": {},
   "source": [
    "## Set all the Cube, Dataset and Zarr variables we need to process the cubes"
   ]
  },
  {
   "cell_type": "code",
   "execution_count": 6,
   "metadata": {},
   "outputs": [
    {
     "name": "stdout",
     "output_type": "stream",
     "text": [
      "CPU times: user 1.56 s, sys: 97.3 ms, total: 1.66 s\n",
      "Wall time: 1.81 s\n"
     ]
    },
    {
     "data": {
      "text/html": [
       "\n",
       "<style>\n",
       "  a.iris {\n",
       "      text-decoration: none !important;\n",
       "  }\n",
       "  table.iris {\n",
       "      white-space: pre;\n",
       "      border: 1px solid;\n",
       "      border-color: #9c9c9c;\n",
       "      font-family: monaco, monospace;\n",
       "  }\n",
       "  th.iris {\n",
       "      background: #303f3f;\n",
       "      color: #e0e0e0;\n",
       "      border-left: 1px solid;\n",
       "      border-color: #9c9c9c;\n",
       "      font-size: 1.05em;\n",
       "      min-width: 50px;\n",
       "      max-width: 125px;\n",
       "  }\n",
       "  tr.iris :first-child {\n",
       "      border-right: 1px solid #9c9c9c !important;\n",
       "  }\n",
       "  td.iris-title {\n",
       "      background: #d5dcdf;\n",
       "      border-top: 1px solid #9c9c9c;\n",
       "      font-weight: bold;\n",
       "  }\n",
       "  .iris-word-cell {\n",
       "      text-align: left !important;\n",
       "      white-space: pre;\n",
       "  }\n",
       "  .iris-subheading-cell {\n",
       "      padding-left: 2em !important;\n",
       "  }\n",
       "  .iris-inclusion-cell {\n",
       "      padding-right: 1em !important;\n",
       "  }\n",
       "  .iris-panel-body {\n",
       "      padding-top: 0px;\n",
       "  }\n",
       "  .iris-panel-title {\n",
       "      padding-left: 3em;\n",
       "  }\n",
       "  .iris-panel-title {\n",
       "      margin-top: 7px;\n",
       "  }\n",
       "</style>\n",
       "<table class=\"iris\" id=\"140586550967880\">\n",
       "    <tr class=\"iris\">\n",
       "<th class=\"iris iris-word-cell\">Geopotential Height (m)</th>\n",
       "<th class=\"iris iris-word-cell\">time</th>\n",
       "<th class=\"iris iris-word-cell\">pressure</th>\n",
       "<th class=\"iris iris-word-cell\">grid_latitude</th>\n",
       "<th class=\"iris iris-word-cell\">grid_longitude</th>\n",
       "</tr>\n",
       "    <tr class=\"iris\">\n",
       "<td class=\"iris-word-cell iris-subheading-cell\">Shape</td>\n",
       "<td class=\"iris iris-inclusion-cell\">4</td>\n",
       "<td class=\"iris iris-inclusion-cell\">14</td>\n",
       "<td class=\"iris iris-inclusion-cell\">219</td>\n",
       "<td class=\"iris iris-inclusion-cell\">286</td>\n",
       "</tr>\n",
       "    <tr class=\"iris\">\n",
       "    <td class=\"iris-title iris-word-cell\">Dimension coordinates</td>\n",
       "    <td class=\"iris-title\"></td>\n",
       "    <td class=\"iris-title\"></td>\n",
       "    <td class=\"iris-title\"></td>\n",
       "    <td class=\"iris-title\"></td>\n",
       "</tr>\n",
       "<tr class=\"iris\">\n",
       "    <td class=\"iris-word-cell iris-subheading-cell\">\ttime</td>\n",
       "    <td class=\"iris-inclusion-cell\">x</td>\n",
       "    <td class=\"iris-inclusion-cell\">-</td>\n",
       "    <td class=\"iris-inclusion-cell\">-</td>\n",
       "    <td class=\"iris-inclusion-cell\">-</td>\n",
       "</tr>\n",
       "<tr class=\"iris\">\n",
       "    <td class=\"iris-word-cell iris-subheading-cell\">\tpressure</td>\n",
       "    <td class=\"iris-inclusion-cell\">-</td>\n",
       "    <td class=\"iris-inclusion-cell\">x</td>\n",
       "    <td class=\"iris-inclusion-cell\">-</td>\n",
       "    <td class=\"iris-inclusion-cell\">-</td>\n",
       "</tr>\n",
       "<tr class=\"iris\">\n",
       "    <td class=\"iris-word-cell iris-subheading-cell\">\tgrid_latitude</td>\n",
       "    <td class=\"iris-inclusion-cell\">-</td>\n",
       "    <td class=\"iris-inclusion-cell\">-</td>\n",
       "    <td class=\"iris-inclusion-cell\">x</td>\n",
       "    <td class=\"iris-inclusion-cell\">-</td>\n",
       "</tr>\n",
       "<tr class=\"iris\">\n",
       "    <td class=\"iris-word-cell iris-subheading-cell\">\tgrid_longitude</td>\n",
       "    <td class=\"iris-inclusion-cell\">-</td>\n",
       "    <td class=\"iris-inclusion-cell\">-</td>\n",
       "    <td class=\"iris-inclusion-cell\">-</td>\n",
       "    <td class=\"iris-inclusion-cell\">x</td>\n",
       "</tr>\n",
       "<tr class=\"iris\">\n",
       "    <td class=\"iris-title iris-word-cell\">Auxiliary coordinates</td>\n",
       "    <td class=\"iris-title\"></td>\n",
       "    <td class=\"iris-title\"></td>\n",
       "    <td class=\"iris-title\"></td>\n",
       "    <td class=\"iris-title\"></td>\n",
       "</tr>\n",
       "<tr class=\"iris\">\n",
       "    <td class=\"iris-word-cell iris-subheading-cell\">\tforecast_period</td>\n",
       "    <td class=\"iris-inclusion-cell\">x</td>\n",
       "    <td class=\"iris-inclusion-cell\">-</td>\n",
       "    <td class=\"iris-inclusion-cell\">-</td>\n",
       "    <td class=\"iris-inclusion-cell\">-</td>\n",
       "</tr>\n",
       "<tr class=\"iris\">\n",
       "    <td class=\"iris-title iris-word-cell\">Scalar coordinates</td>\n",
       "    <td class=\"iris-title\"></td>\n",
       "    <td class=\"iris-title\"></td>\n",
       "    <td class=\"iris-title\"></td>\n",
       "    <td class=\"iris-title\"></td>\n",
       "</tr>\n",
       "<tr class=\"iris\">\n",
       "    <td class=\"iris-word-cell iris-subheading-cell\">\tforecast_reference_time</td>\n",
       "    <td class=\"iris-word-cell\" colspan=\"4\">1849-12-01 00:00:00</td>\n",
       "</tr>\n",
       "<tr class=\"iris\">\n",
       "    <td class=\"iris-title iris-word-cell\">Attributes</td>\n",
       "    <td class=\"iris-title\"></td>\n",
       "    <td class=\"iris-title\"></td>\n",
       "    <td class=\"iris-title\"></td>\n",
       "    <td class=\"iris-title\"></td>\n",
       "</tr>\n",
       "<tr class=\"iris\">\n",
       "    <td class=\"iris-word-cell iris-subheading-cell\">\tSTASH</td>\n",
       "    <td class=\"iris-word-cell\" colspan=\"4\">m01s16i202</td>\n",
       "</tr>\n",
       "<tr class=\"iris\">\n",
       "    <td class=\"iris-word-cell iris-subheading-cell\">\tsource</td>\n",
       "    <td class=\"iris-word-cell\" colspan=\"4\">Data from Met Office Unified Model</td>\n",
       "</tr>\n",
       "<tr class=\"iris\">\n",
       "    <td class=\"iris-title iris-word-cell\">Cell methods</td>\n",
       "    <td class=\"iris-title\"></td>\n",
       "    <td class=\"iris-title\"></td>\n",
       "    <td class=\"iris-title\"></td>\n",
       "    <td class=\"iris-title\"></td>\n",
       "</tr>\n",
       "<tr class=\"iris\">\n",
       "    <td class=\"iris-word-cell iris-subheading-cell\">\tmean</td>\n",
       "    <td class=\"iris-word-cell\" colspan=\"4\">time (1 hour)</td>\n",
       "</tr>\n",
       "</table>\n",
       "        "
      ],
      "text/plain": [
       "<iris 'Cube' of geopotential_height / (m) (time: 4; pressure: 14; grid_latitude: 219; grid_longitude: 286)>"
      ]
     },
     "execution_count": 6,
     "metadata": {},
     "output_type": "execute_result"
    }
   ],
   "source": [
    "%%time\n",
    "cubelist = iris.load(filepaths[0:1])\n",
    "cubelist[7]"
   ]
  },
  {
   "cell_type": "code",
   "execution_count": 7,
   "metadata": {},
   "outputs": [
    {
     "name": "stdout",
     "output_type": "stream",
     "text": [
      "0: m01s05i217 / (unknown)              (time: 4; grid_latitude: 219; grid_longitude: 286)\n",
      "1: air_pressure_at_sea_level / (Pa)    (time: 4; grid_latitude: 219; grid_longitude: 286)\n",
      "2: air_temperature / (K)               (time: 4; grid_latitude: 219; grid_longitude: 286)\n",
      "3: air_temperature / (K)               (time: 4; grid_latitude: 219; grid_longitude: 286)\n",
      "4: air_temperature / (K)               (time: 4; grid_latitude: 219; grid_longitude: 286)\n",
      "5: air_temperature / (K)               (time: 4; pressure: 14; grid_latitude: 219; grid_longitude: 286)\n",
      "6: cloud_area_fraction / (1)           (time: 4; grid_latitude: 219; grid_longitude: 286)\n",
      "7: geopotential_height / (m)           (time: 4; pressure: 14; grid_latitude: 219; grid_longitude: 286)\n",
      "8: precipitation_flux / (kg m-2 s-1)   (time: 4; grid_latitude: 219; grid_longitude: 286)\n",
      "9: relative_humidity / (%)             (time: 4; grid_latitude: 219; grid_longitude: 286)\n",
      "10: relative_humidity / (%)             (time: 4; grid_latitude: 219; grid_longitude: 286)\n",
      "11: relative_humidity / (%)             (time: 4; grid_latitude: 219; grid_longitude: 286)\n",
      "12: relative_humidity / (%)             (time: 4; pressure: 14; grid_latitude: 219; grid_longitude: 286)\n",
      "13: specific_humidity / (1)             (time: 4; grid_latitude: 219; grid_longitude: 286)\n",
      "14: surface_air_pressure / (Pa)         (time: 4; grid_latitude: 219; grid_longitude: 286)\n",
      "15: surface_downwelling_longwave_flux_in_air / (W m-2) (time: 4; grid_latitude: 219; grid_longitude: 286)\n",
      "16: surface_downwelling_shortwave_flux_in_air / (W m-2) (time: 4; grid_latitude: 219; grid_longitude: 286)\n",
      "17: surface_temperature / (K)           (time: 4; grid_latitude: 219; grid_longitude: 286)\n",
      "18: surface_temperature / (K)           (time: 4; grid_latitude: 219; grid_longitude: 286)\n",
      "19: surface_temperature / (K)           (time: 4; grid_latitude: 219; grid_longitude: 286)\n",
      "20: x_wind / (m s-1)                    (time: 4; grid_latitude: 218; grid_longitude: 286)\n",
      "21: x_wind / (m s-1)                    (time: 4; pressure: 14; grid_latitude: 218; grid_longitude: 286)\n",
      "22: y_wind / (m s-1)                    (time: 4; grid_latitude: 218; grid_longitude: 286)\n",
      "23: y_wind / (m s-1)                    (time: 4; pressure: 14; grid_latitude: 218; grid_longitude: 286)\n"
     ]
    }
   ],
   "source": [
    "print(cubelist)"
   ]
  },
  {
   "cell_type": "code",
   "execution_count": 8,
   "metadata": {},
   "outputs": [],
   "source": [
    "CUBENAMES = [cube.name() for cube in cubelist]\n",
    "UNIQUE_COORDS = crd.unique_coords_list(cubelist)\n",
    "COORD_NAME_MAPPING = crd.get_new_coord_names(UNIQUE_COORDS)"
   ]
  },
  {
   "cell_type": "code",
   "execution_count": 9,
   "metadata": {},
   "outputs": [
    {
     "name": "stdout",
     "output_type": "stream",
     "text": [
      "['time', 'grid_latitude', 'grid_longitude', 'forecast_reference_time', 'forecast_period', 'height', 'pressure', 'grid_latitude', 'grid_longitude', 'height']\n"
     ]
    }
   ],
   "source": [
    "print([coord.name() for coord in UNIQUE_COORDS])"
   ]
  },
  {
   "cell_type": "code",
   "execution_count": 10,
   "metadata": {},
   "outputs": [
    {
     "data": {
      "text/plain": [
       "('grid_latitude_1', 'grid_longitude_1', 'height_1')"
      ]
     },
     "execution_count": 10,
     "metadata": {},
     "output_type": "execute_result"
    }
   ],
   "source": [
    "COORD_NAME_MAPPING[1]"
   ]
  },
  {
   "cell_type": "code",
   "execution_count": 6,
   "metadata": {},
   "outputs": [],
   "source": [
    "ZARR = '/data/cssp-china/zarr_daily_1851-1859'\n",
    "CHUNKS = {'time': 200, 'pressure':1, 'grid_latitude': 219, 'grid_longitude': 286, 'grid_latitude_1': 218, 'grid_longitude_1': 286}"
   ]
  },
  {
   "cell_type": "markdown",
   "metadata": {},
   "source": [
    "## Initialise logging"
   ]
  },
  {
   "cell_type": "code",
   "execution_count": 12,
   "metadata": {},
   "outputs": [],
   "source": [
    "LOGFILE = '/data/cssp-china/zarr_append_log.log'\n",
    "logging.basicConfig(filename=LOGFILE,\n",
    "                    level=logging.DEBUG,\n",
    "                    format='%(asctime)s %(message)s',\n",
    "                    datefmt='%d/%m/%Y %H:%M:%S')"
   ]
  },
  {
   "cell_type": "code",
   "execution_count": 13,
   "metadata": {},
   "outputs": [],
   "source": [
    "if not os.path.isfile(LOGFILE):\n",
    "    os.mknod(LOGFILE)\n",
    "\n",
    "if os.stat(LOGFILE).st_size == 0:\n",
    "    logging.info('Initiate log')\n",
    "    print(f'Log initiated at {LOGFILE}')"
   ]
  },
  {
   "cell_type": "markdown",
   "metadata": {},
   "source": [
    "## Create a Zarr with 21 cubes, which definitely amounts to 200 time steps (~20 days)"
   ]
  },
  {
   "cell_type": "code",
   "execution_count": 14,
   "metadata": {},
   "outputs": [
    {
     "name": "stdout",
     "output_type": "stream",
     "text": [
      "CPU times: user 1min 15s, sys: 5.65 s, total: 1min 20s\n",
      "Wall time: 1min 41s\n"
     ]
    },
    {
     "data": {
      "text/html": [
       "\n",
       "<style>\n",
       "  a.iris {\n",
       "      text-decoration: none !important;\n",
       "  }\n",
       "  table.iris {\n",
       "      white-space: pre;\n",
       "      border: 1px solid;\n",
       "      border-color: #9c9c9c;\n",
       "      font-family: monaco, monospace;\n",
       "  }\n",
       "  th.iris {\n",
       "      background: #303f3f;\n",
       "      color: #e0e0e0;\n",
       "      border-left: 1px solid;\n",
       "      border-color: #9c9c9c;\n",
       "      font-size: 1.05em;\n",
       "      min-width: 50px;\n",
       "      max-width: 125px;\n",
       "  }\n",
       "  tr.iris :first-child {\n",
       "      border-right: 1px solid #9c9c9c !important;\n",
       "  }\n",
       "  td.iris-title {\n",
       "      background: #d5dcdf;\n",
       "      border-top: 1px solid #9c9c9c;\n",
       "      font-weight: bold;\n",
       "  }\n",
       "  .iris-word-cell {\n",
       "      text-align: left !important;\n",
       "      white-space: pre;\n",
       "  }\n",
       "  .iris-subheading-cell {\n",
       "      padding-left: 2em !important;\n",
       "  }\n",
       "  .iris-inclusion-cell {\n",
       "      padding-right: 1em !important;\n",
       "  }\n",
       "  .iris-panel-body {\n",
       "      padding-top: 0px;\n",
       "  }\n",
       "  .iris-panel-title {\n",
       "      padding-left: 3em;\n",
       "  }\n",
       "  .iris-panel-title {\n",
       "      margin-top: 7px;\n",
       "  }\n",
       "</style>\n",
       "<table class=\"iris\" id=\"139927423806712\">\n",
       "    <tr class=\"iris\">\n",
       "<th class=\"iris iris-word-cell\">Geopotential Height (m)</th>\n",
       "<th class=\"iris iris-word-cell\">time</th>\n",
       "<th class=\"iris iris-word-cell\">pressure</th>\n",
       "<th class=\"iris iris-word-cell\">grid_latitude</th>\n",
       "<th class=\"iris iris-word-cell\">grid_longitude</th>\n",
       "</tr>\n",
       "    <tr class=\"iris\">\n",
       "<td class=\"iris-word-cell iris-subheading-cell\">Shape</td>\n",
       "<td class=\"iris iris-inclusion-cell\">204</td>\n",
       "<td class=\"iris iris-inclusion-cell\">14</td>\n",
       "<td class=\"iris iris-inclusion-cell\">219</td>\n",
       "<td class=\"iris iris-inclusion-cell\">286</td>\n",
       "</tr>\n",
       "    <tr class=\"iris\">\n",
       "    <td class=\"iris-title iris-word-cell\">Dimension coordinates</td>\n",
       "    <td class=\"iris-title\"></td>\n",
       "    <td class=\"iris-title\"></td>\n",
       "    <td class=\"iris-title\"></td>\n",
       "    <td class=\"iris-title\"></td>\n",
       "</tr>\n",
       "<tr class=\"iris\">\n",
       "    <td class=\"iris-word-cell iris-subheading-cell\">\ttime</td>\n",
       "    <td class=\"iris-inclusion-cell\">x</td>\n",
       "    <td class=\"iris-inclusion-cell\">-</td>\n",
       "    <td class=\"iris-inclusion-cell\">-</td>\n",
       "    <td class=\"iris-inclusion-cell\">-</td>\n",
       "</tr>\n",
       "<tr class=\"iris\">\n",
       "    <td class=\"iris-word-cell iris-subheading-cell\">\tpressure</td>\n",
       "    <td class=\"iris-inclusion-cell\">-</td>\n",
       "    <td class=\"iris-inclusion-cell\">x</td>\n",
       "    <td class=\"iris-inclusion-cell\">-</td>\n",
       "    <td class=\"iris-inclusion-cell\">-</td>\n",
       "</tr>\n",
       "<tr class=\"iris\">\n",
       "    <td class=\"iris-word-cell iris-subheading-cell\">\tgrid_latitude</td>\n",
       "    <td class=\"iris-inclusion-cell\">-</td>\n",
       "    <td class=\"iris-inclusion-cell\">-</td>\n",
       "    <td class=\"iris-inclusion-cell\">x</td>\n",
       "    <td class=\"iris-inclusion-cell\">-</td>\n",
       "</tr>\n",
       "<tr class=\"iris\">\n",
       "    <td class=\"iris-word-cell iris-subheading-cell\">\tgrid_longitude</td>\n",
       "    <td class=\"iris-inclusion-cell\">-</td>\n",
       "    <td class=\"iris-inclusion-cell\">-</td>\n",
       "    <td class=\"iris-inclusion-cell\">-</td>\n",
       "    <td class=\"iris-inclusion-cell\">x</td>\n",
       "</tr>\n",
       "<tr class=\"iris\">\n",
       "    <td class=\"iris-title iris-word-cell\">Auxiliary coordinates</td>\n",
       "    <td class=\"iris-title\"></td>\n",
       "    <td class=\"iris-title\"></td>\n",
       "    <td class=\"iris-title\"></td>\n",
       "    <td class=\"iris-title\"></td>\n",
       "</tr>\n",
       "<tr class=\"iris\">\n",
       "    <td class=\"iris-word-cell iris-subheading-cell\">\tforecast_period</td>\n",
       "    <td class=\"iris-inclusion-cell\">x</td>\n",
       "    <td class=\"iris-inclusion-cell\">-</td>\n",
       "    <td class=\"iris-inclusion-cell\">-</td>\n",
       "    <td class=\"iris-inclusion-cell\">-</td>\n",
       "</tr>\n",
       "<tr class=\"iris\">\n",
       "    <td class=\"iris-title iris-word-cell\">Scalar coordinates</td>\n",
       "    <td class=\"iris-title\"></td>\n",
       "    <td class=\"iris-title\"></td>\n",
       "    <td class=\"iris-title\"></td>\n",
       "    <td class=\"iris-title\"></td>\n",
       "</tr>\n",
       "<tr class=\"iris\">\n",
       "    <td class=\"iris-word-cell iris-subheading-cell\">\tforecast_reference_time</td>\n",
       "    <td class=\"iris-word-cell\" colspan=\"4\">1849-12-01 00:00:00</td>\n",
       "</tr>\n",
       "<tr class=\"iris\">\n",
       "    <td class=\"iris-title iris-word-cell\">Attributes</td>\n",
       "    <td class=\"iris-title\"></td>\n",
       "    <td class=\"iris-title\"></td>\n",
       "    <td class=\"iris-title\"></td>\n",
       "    <td class=\"iris-title\"></td>\n",
       "</tr>\n",
       "<tr class=\"iris\">\n",
       "    <td class=\"iris-word-cell iris-subheading-cell\">\tSTASH</td>\n",
       "    <td class=\"iris-word-cell\" colspan=\"4\">m01s16i202</td>\n",
       "</tr>\n",
       "<tr class=\"iris\">\n",
       "    <td class=\"iris-word-cell iris-subheading-cell\">\tsource</td>\n",
       "    <td class=\"iris-word-cell\" colspan=\"4\">Data from Met Office Unified Model</td>\n",
       "</tr>\n",
       "<tr class=\"iris\">\n",
       "    <td class=\"iris-title iris-word-cell\">Cell methods</td>\n",
       "    <td class=\"iris-title\"></td>\n",
       "    <td class=\"iris-title\"></td>\n",
       "    <td class=\"iris-title\"></td>\n",
       "    <td class=\"iris-title\"></td>\n",
       "</tr>\n",
       "<tr class=\"iris\">\n",
       "    <td class=\"iris-word-cell iris-subheading-cell\">\tmean</td>\n",
       "    <td class=\"iris-word-cell\" colspan=\"4\">time (1 hour)</td>\n",
       "</tr>\n",
       "</table>\n",
       "        "
      ],
      "text/plain": [
       "<iris 'Cube' of geopotential_height / (m) (time: 204; pressure: 14; grid_latitude: 219; grid_longitude: 286)>"
      ]
     },
     "execution_count": 14,
     "metadata": {},
     "output_type": "execute_result"
    }
   ],
   "source": [
    "%%time\n",
    "cubelist0 = iris.load(filepaths[0:21])\n",
    "cubelist0[7]"
   ]
  },
  {
   "cell_type": "code",
   "execution_count": 15,
   "metadata": {
    "collapsed": true,
    "jupyter": {
     "outputs_hidden": true
    }
   },
   "outputs": [
    {
     "name": "stdout",
     "output_type": "stream",
     "text": [
      "m01s05i217 -> m01s05i217_max\n",
      "  x time\n",
      "  x grid_latitude\n",
      "  x grid_longitude\n",
      "  x forecast_reference_time\n",
      "  x forecast_period\n",
      "air_pressure_at_sea_level\n",
      "  x time\n",
      "  x grid_latitude\n",
      "  x grid_longitude\n",
      "  x forecast_reference_time\n",
      "  x forecast_period\n",
      "air_temperature -> air_temperature_at_2m_mean\n",
      "  x time\n",
      "  x grid_latitude\n",
      "  x grid_longitude\n",
      "  x forecast_reference_time\n",
      "  x height\n",
      "  x forecast_period\n",
      "air_temperature -> air_temperature_at_2m_max\n",
      "  x time\n",
      "  x grid_latitude\n",
      "  x grid_longitude\n",
      "  x forecast_reference_time\n",
      "  x height\n",
      "  x forecast_period\n",
      "air_temperature -> air_temperature_at_2m_min\n",
      "  x time\n",
      "  x grid_latitude\n",
      "  x grid_longitude\n",
      "  x forecast_reference_time\n",
      "  x height\n",
      "  x forecast_period\n",
      "air_temperature -> air_temperature_at_pressure_mean\n",
      "  x time\n",
      "  x pressure\n",
      "  x grid_latitude\n",
      "  x grid_longitude\n",
      "  x forecast_reference_time\n",
      "  x forecast_period\n",
      "cloud_area_fraction\n",
      "  x time\n",
      "  x grid_latitude\n",
      "  x grid_longitude\n",
      "  x forecast_reference_time\n",
      "  x forecast_period\n",
      "geopotential_height\n",
      "  x time\n",
      "  x pressure\n",
      "  x grid_latitude\n",
      "  x grid_longitude\n",
      "  x forecast_reference_time\n",
      "  x forecast_period\n",
      "precipitation_flux\n",
      "  x time\n",
      "  x grid_latitude\n",
      "  x grid_longitude\n",
      "  x forecast_reference_time\n",
      "  x forecast_period\n",
      "relative_humidity -> relative_humidity_at_2m_mean\n",
      "  x time\n",
      "  x grid_latitude\n",
      "  x grid_longitude\n",
      "  x forecast_reference_time\n",
      "  x height\n",
      "  x forecast_period\n",
      "relative_humidity -> relative_humidity_at_2m_max\n",
      "  x time\n",
      "  x grid_latitude\n",
      "  x grid_longitude\n",
      "  x forecast_reference_time\n",
      "  x height\n",
      "  x forecast_period\n",
      "relative_humidity -> relative_humidity_at_2m_min\n",
      "  x time\n",
      "  x grid_latitude\n",
      "  x grid_longitude\n",
      "  x forecast_reference_time\n",
      "  x height\n",
      "  x forecast_period\n",
      "relative_humidity -> relative_humidity_at_pressure_mean\n",
      "  x time\n",
      "  x pressure\n",
      "  x grid_latitude\n",
      "  x grid_longitude\n",
      "  x forecast_reference_time\n",
      "  x forecast_period\n",
      "specific_humidity\n",
      "  x time\n",
      "  x grid_latitude\n",
      "  x grid_longitude\n",
      "  x forecast_reference_time\n",
      "  x height\n",
      "  x forecast_period\n",
      "surface_air_pressure\n",
      "  x time\n",
      "  x grid_latitude\n",
      "  x grid_longitude\n",
      "  x forecast_reference_time\n",
      "  x forecast_period\n",
      "surface_downwelling_longwave_flux_in_air\n",
      "  x time\n",
      "  x grid_latitude\n",
      "  x grid_longitude\n",
      "  x forecast_reference_time\n",
      "  x forecast_period\n",
      "surface_downwelling_shortwave_flux_in_air\n",
      "  x time\n",
      "  x grid_latitude\n",
      "  x grid_longitude\n",
      "  x forecast_reference_time\n",
      "  x forecast_period\n",
      "surface_temperature -> surface_temperature_mean\n",
      "  x time\n",
      "  x grid_latitude\n",
      "  x grid_longitude\n",
      "  x forecast_reference_time\n",
      "  x forecast_period\n",
      "surface_temperature -> surface_temperature_max\n",
      "  x time\n",
      "  x grid_latitude\n",
      "  x grid_longitude\n",
      "  x forecast_reference_time\n",
      "  x forecast_period\n",
      "surface_temperature -> surface_temperature_min\n",
      "  x time\n",
      "  x grid_latitude\n",
      "  x grid_longitude\n",
      "  x forecast_reference_time\n",
      "  x forecast_period\n",
      "x_wind -> x_wind_at_10m_mean\n",
      "  x time\n",
      "    grid_latitude_1\n",
      "    grid_longitude_1\n",
      "  x forecast_reference_time\n",
      "    height_1\n",
      "  x forecast_period\n",
      "x_wind -> x_wind_at_pressure_mean\n",
      "  x time\n",
      "  x pressure\n",
      "    grid_latitude_1\n",
      "    grid_longitude_1\n",
      "  x forecast_reference_time\n",
      "  x forecast_period\n",
      "y_wind -> y_wind_at_10m_mean\n",
      "  x time\n",
      "    grid_latitude_1\n",
      "    grid_longitude_1\n",
      "  x forecast_reference_time\n",
      "    height_1\n",
      "  x forecast_period\n",
      "y_wind -> y_wind_at_pressure_mean\n",
      "  x time\n",
      "  x pressure\n",
      "    grid_latitude_1\n",
      "    grid_longitude_1\n",
      "  x forecast_reference_time\n",
      "  x forecast_period\n",
      "CPU times: user 16.1 ms, sys: 294 µs, total: 16.4 ms\n",
      "Wall time: 10.7 ms\n"
     ]
    }
   ],
   "source": [
    "%%time\n",
    "crd.rename_cubes(cubelist0, CUBENAMES, COORD_NAME_MAPPING, dryrun=False)"
   ]
  },
  {
   "cell_type": "code",
   "execution_count": 16,
   "metadata": {},
   "outputs": [
    {
     "name": "stdout",
     "output_type": "stream",
     "text": [
      "CPU times: user 229 ms, sys: 8.37 ms, total: 237 ms\n",
      "Wall time: 240 ms\n"
     ]
    }
   ],
   "source": [
    "%%time\n",
    "dalist0 = crd.cubelist_to_dalist(cubelist0)\n",
    "ds0 = xr.merge(dalist0)"
   ]
  },
  {
   "cell_type": "code",
   "execution_count": 17,
   "metadata": {},
   "outputs": [
    {
     "data": {
      "text/html": [
       "<pre>&lt;xarray.Dataset&gt;\n",
       "Dimensions:                                    (grid_latitude: 219, grid_latitude_1: 218, grid_longitude: 286, grid_longitude_1: 286, pressure: 14, time: 204)\n",
       "Coordinates:\n",
       "  * time                                       (time) datetime64[ns] 1851-01-01T12:00:00 ... 1851-07-23T12:00:00\n",
       "  * grid_latitude                              (grid_latitude) float32 22.88 ... -25.08\n",
       "  * grid_longitude                             (grid_longitude) float32 323.48 ... 386.18002\n",
       "    forecast_reference_time                    datetime64[ns] 1849-12-01\n",
       "    forecast_period                            (time) timedelta64[ns] 396 days 12:00:00 ... 599 days 12:00:00\n",
       "    height                                     float64 1.5\n",
       "  * pressure                                   (pressure) float32 10.0 ... 1000.0\n",
       "  * grid_latitude_1                            (grid_latitude_1) float32 22.77 ... -24.969997\n",
       "  * grid_longitude_1                           (grid_longitude_1) float32 323.59003 ... 386.29004\n",
       "    height_1                                   float64 10.0\n",
       "Data variables:\n",
       "    m01s05i217_max                             (time, grid_latitude, grid_longitude) float32 dask.array&lt;chunksize=(1, 219, 286), meta=np.ndarray&gt;\n",
       "    air_pressure_at_sea_level                  (time, grid_latitude, grid_longitude) float32 dask.array&lt;chunksize=(1, 219, 286), meta=np.ndarray&gt;\n",
       "    air_temperature_at_2m_mean                 (time, grid_latitude, grid_longitude) float32 dask.array&lt;chunksize=(1, 219, 286), meta=np.ndarray&gt;\n",
       "    air_temperature_at_2m_max                  (time, grid_latitude, grid_longitude) float32 dask.array&lt;chunksize=(1, 219, 286), meta=np.ndarray&gt;\n",
       "    air_temperature_at_2m_min                  (time, grid_latitude, grid_longitude) float32 dask.array&lt;chunksize=(1, 219, 286), meta=np.ndarray&gt;\n",
       "    air_temperature_at_pressure_mean           (time, pressure, grid_latitude, grid_longitude) float32 dask.array&lt;chunksize=(1, 1, 219, 286), meta=np.ndarray&gt;\n",
       "    cloud_area_fraction                        (time, grid_latitude, grid_longitude) float32 dask.array&lt;chunksize=(1, 219, 286), meta=np.ndarray&gt;\n",
       "    geopotential_height                        (time, pressure, grid_latitude, grid_longitude) float32 dask.array&lt;chunksize=(1, 1, 219, 286), meta=np.ndarray&gt;\n",
       "    precipitation_flux                         (time, grid_latitude, grid_longitude) float32 dask.array&lt;chunksize=(1, 219, 286), meta=np.ndarray&gt;\n",
       "    relative_humidity_at_2m_mean               (time, grid_latitude, grid_longitude) float32 dask.array&lt;chunksize=(1, 219, 286), meta=np.ndarray&gt;\n",
       "    relative_humidity_at_2m_max                (time, grid_latitude, grid_longitude) float32 dask.array&lt;chunksize=(1, 219, 286), meta=np.ndarray&gt;\n",
       "    relative_humidity_at_2m_min                (time, grid_latitude, grid_longitude) float32 dask.array&lt;chunksize=(1, 219, 286), meta=np.ndarray&gt;\n",
       "    relative_humidity_at_pressure_mean         (time, pressure, grid_latitude, grid_longitude) float32 dask.array&lt;chunksize=(1, 1, 219, 286), meta=np.ndarray&gt;\n",
       "    specific_humidity                          (time, grid_latitude, grid_longitude) float32 dask.array&lt;chunksize=(1, 219, 286), meta=np.ndarray&gt;\n",
       "    surface_air_pressure                       (time, grid_latitude, grid_longitude) float32 dask.array&lt;chunksize=(1, 219, 286), meta=np.ndarray&gt;\n",
       "    surface_downwelling_longwave_flux_in_air   (time, grid_latitude, grid_longitude) float32 dask.array&lt;chunksize=(1, 219, 286), meta=np.ndarray&gt;\n",
       "    surface_downwelling_shortwave_flux_in_air  (time, grid_latitude, grid_longitude) float32 dask.array&lt;chunksize=(1, 219, 286), meta=np.ndarray&gt;\n",
       "    surface_temperature_mean                   (time, grid_latitude, grid_longitude) float32 dask.array&lt;chunksize=(1, 219, 286), meta=np.ndarray&gt;\n",
       "    surface_temperature_max                    (time, grid_latitude, grid_longitude) float32 dask.array&lt;chunksize=(1, 219, 286), meta=np.ndarray&gt;\n",
       "    surface_temperature_min                    (time, grid_latitude, grid_longitude) float32 dask.array&lt;chunksize=(1, 219, 286), meta=np.ndarray&gt;\n",
       "    x_wind_at_10m_mean                         (time, grid_latitude_1, grid_longitude_1) float32 dask.array&lt;chunksize=(1, 218, 286), meta=np.ndarray&gt;\n",
       "    x_wind_at_pressure_mean                    (time, pressure, grid_latitude_1, grid_longitude_1) float32 dask.array&lt;chunksize=(1, 1, 218, 286), meta=np.ndarray&gt;\n",
       "    y_wind_at_10m_mean                         (time, grid_latitude_1, grid_longitude_1) float32 dask.array&lt;chunksize=(1, 218, 286), meta=np.ndarray&gt;\n",
       "    y_wind_at_pressure_mean                    (time, pressure, grid_latitude_1, grid_longitude_1) float32 dask.array&lt;chunksize=(1, 1, 218, 286), meta=np.ndarray&gt;</pre>"
      ],
      "text/plain": [
       "<xarray.Dataset>\n",
       "Dimensions:                                    (grid_latitude: 219, grid_latitude_1: 218, grid_longitude: 286, grid_longitude_1: 286, pressure: 14, time: 204)\n",
       "Coordinates:\n",
       "  * time                                       (time) datetime64[ns] 1851-01-01T12:00:00 ... 1851-07-23T12:00:00\n",
       "  * grid_latitude                              (grid_latitude) float32 22.88 ... -25.08\n",
       "  * grid_longitude                             (grid_longitude) float32 323.48 ... 386.18002\n",
       "    forecast_reference_time                    datetime64[ns] 1849-12-01\n",
       "    forecast_period                            (time) timedelta64[ns] 396 days 12:00:00 ... 599 days 12:00:00\n",
       "    height                                     float64 1.5\n",
       "  * pressure                                   (pressure) float32 10.0 ... 1000.0\n",
       "  * grid_latitude_1                            (grid_latitude_1) float32 22.77 ... -24.969997\n",
       "  * grid_longitude_1                           (grid_longitude_1) float32 323.59003 ... 386.29004\n",
       "    height_1                                   float64 10.0\n",
       "Data variables:\n",
       "    m01s05i217_max                             (time, grid_latitude, grid_longitude) float32 dask.array<chunksize=(1, 219, 286), meta=np.ndarray>\n",
       "    air_pressure_at_sea_level                  (time, grid_latitude, grid_longitude) float32 dask.array<chunksize=(1, 219, 286), meta=np.ndarray>\n",
       "    air_temperature_at_2m_mean                 (time, grid_latitude, grid_longitude) float32 dask.array<chunksize=(1, 219, 286), meta=np.ndarray>\n",
       "    air_temperature_at_2m_max                  (time, grid_latitude, grid_longitude) float32 dask.array<chunksize=(1, 219, 286), meta=np.ndarray>\n",
       "    air_temperature_at_2m_min                  (time, grid_latitude, grid_longitude) float32 dask.array<chunksize=(1, 219, 286), meta=np.ndarray>\n",
       "    air_temperature_at_pressure_mean           (time, pressure, grid_latitude, grid_longitude) float32 dask.array<chunksize=(1, 1, 219, 286), meta=np.ndarray>\n",
       "    cloud_area_fraction                        (time, grid_latitude, grid_longitude) float32 dask.array<chunksize=(1, 219, 286), meta=np.ndarray>\n",
       "    geopotential_height                        (time, pressure, grid_latitude, grid_longitude) float32 dask.array<chunksize=(1, 1, 219, 286), meta=np.ndarray>\n",
       "    precipitation_flux                         (time, grid_latitude, grid_longitude) float32 dask.array<chunksize=(1, 219, 286), meta=np.ndarray>\n",
       "    relative_humidity_at_2m_mean               (time, grid_latitude, grid_longitude) float32 dask.array<chunksize=(1, 219, 286), meta=np.ndarray>\n",
       "    relative_humidity_at_2m_max                (time, grid_latitude, grid_longitude) float32 dask.array<chunksize=(1, 219, 286), meta=np.ndarray>\n",
       "    relative_humidity_at_2m_min                (time, grid_latitude, grid_longitude) float32 dask.array<chunksize=(1, 219, 286), meta=np.ndarray>\n",
       "    relative_humidity_at_pressure_mean         (time, pressure, grid_latitude, grid_longitude) float32 dask.array<chunksize=(1, 1, 219, 286), meta=np.ndarray>\n",
       "    specific_humidity                          (time, grid_latitude, grid_longitude) float32 dask.array<chunksize=(1, 219, 286), meta=np.ndarray>\n",
       "    surface_air_pressure                       (time, grid_latitude, grid_longitude) float32 dask.array<chunksize=(1, 219, 286), meta=np.ndarray>\n",
       "    surface_downwelling_longwave_flux_in_air   (time, grid_latitude, grid_longitude) float32 dask.array<chunksize=(1, 219, 286), meta=np.ndarray>\n",
       "    surface_downwelling_shortwave_flux_in_air  (time, grid_latitude, grid_longitude) float32 dask.array<chunksize=(1, 219, 286), meta=np.ndarray>\n",
       "    surface_temperature_mean                   (time, grid_latitude, grid_longitude) float32 dask.array<chunksize=(1, 219, 286), meta=np.ndarray>\n",
       "    surface_temperature_max                    (time, grid_latitude, grid_longitude) float32 dask.array<chunksize=(1, 219, 286), meta=np.ndarray>\n",
       "    surface_temperature_min                    (time, grid_latitude, grid_longitude) float32 dask.array<chunksize=(1, 219, 286), meta=np.ndarray>\n",
       "    x_wind_at_10m_mean                         (time, grid_latitude_1, grid_longitude_1) float32 dask.array<chunksize=(1, 218, 286), meta=np.ndarray>\n",
       "    x_wind_at_pressure_mean                    (time, pressure, grid_latitude_1, grid_longitude_1) float32 dask.array<chunksize=(1, 1, 218, 286), meta=np.ndarray>\n",
       "    y_wind_at_10m_mean                         (time, grid_latitude_1, grid_longitude_1) float32 dask.array<chunksize=(1, 218, 286), meta=np.ndarray>\n",
       "    y_wind_at_pressure_mean                    (time, pressure, grid_latitude_1, grid_longitude_1) float32 dask.array<chunksize=(1, 1, 218, 286), meta=np.ndarray>"
      ]
     },
     "execution_count": 17,
     "metadata": {},
     "output_type": "execute_result"
    }
   ],
   "source": [
    "ds0"
   ]
  },
  {
   "cell_type": "code",
   "execution_count": 18,
   "metadata": {},
   "outputs": [
    {
     "name": "stdout",
     "output_type": "stream",
     "text": [
      "Written dataset to /data/cssp-china/zarr_daily_1851-1859\n",
      "CPU times: user 47.3 s, sys: 11 s, total: 58.4 s\n",
      "Wall time: 1min 31s\n"
     ]
    }
   ],
   "source": [
    "%%time\n",
    "logging.info(f'Creating {ZARR}')\n",
    "crd.ds_to_zarr(ds0, ZARR, chunks=CHUNKS)"
   ]
  },
  {
   "cell_type": "code",
   "execution_count": 19,
   "metadata": {},
   "outputs": [
    {
     "data": {
      "text/html": [
       "<pre>&lt;xarray.Dataset&gt;\n",
       "Dimensions:                                    (grid_latitude: 219, grid_latitude_1: 218, grid_longitude: 286, grid_longitude_1: 286, pressure: 14, time: 204)\n",
       "Coordinates:\n",
       "    forecast_period                            (time) timedelta64[ns] dask.array&lt;chunksize=(204,), meta=np.ndarray&gt;\n",
       "    forecast_reference_time                    datetime64[ns] ...\n",
       "  * grid_latitude                              (grid_latitude) float32 22.88 ... -25.08\n",
       "  * grid_latitude_1                            (grid_latitude_1) float32 22.77 ... -24.969997\n",
       "  * grid_longitude                             (grid_longitude) float32 323.48 ... 386.18002\n",
       "  * grid_longitude_1                           (grid_longitude_1) float32 323.59003 ... 386.29004\n",
       "    height                                     float64 ...\n",
       "    height_1                                   float64 ...\n",
       "  * pressure                                   (pressure) float32 10.0 ... 1000.0\n",
       "  * time                                       (time) datetime64[ns] 1851-01-01T12:00:00 ... 1851-07-23T12:00:00\n",
       "Data variables:\n",
       "    air_pressure_at_sea_level                  (time, grid_latitude, grid_longitude) float32 dask.array&lt;chunksize=(200, 219, 286), meta=np.ndarray&gt;\n",
       "    air_temperature_at_2m_max                  (time, grid_latitude, grid_longitude) float32 dask.array&lt;chunksize=(200, 219, 286), meta=np.ndarray&gt;\n",
       "    air_temperature_at_2m_mean                 (time, grid_latitude, grid_longitude) float32 dask.array&lt;chunksize=(200, 219, 286), meta=np.ndarray&gt;\n",
       "    air_temperature_at_2m_min                  (time, grid_latitude, grid_longitude) float32 dask.array&lt;chunksize=(200, 219, 286), meta=np.ndarray&gt;\n",
       "    air_temperature_at_pressure_mean           (time, pressure, grid_latitude, grid_longitude) float32 dask.array&lt;chunksize=(200, 1, 219, 286), meta=np.ndarray&gt;\n",
       "    cloud_area_fraction                        (time, grid_latitude, grid_longitude) float32 dask.array&lt;chunksize=(200, 219, 286), meta=np.ndarray&gt;\n",
       "    geopotential_height                        (time, pressure, grid_latitude, grid_longitude) float32 dask.array&lt;chunksize=(200, 1, 219, 286), meta=np.ndarray&gt;\n",
       "    m01s05i217_max                             (time, grid_latitude, grid_longitude) float32 dask.array&lt;chunksize=(200, 219, 286), meta=np.ndarray&gt;\n",
       "    precipitation_flux                         (time, grid_latitude, grid_longitude) float32 dask.array&lt;chunksize=(200, 219, 286), meta=np.ndarray&gt;\n",
       "    relative_humidity_at_2m_max                (time, grid_latitude, grid_longitude) float32 dask.array&lt;chunksize=(200, 219, 286), meta=np.ndarray&gt;\n",
       "    relative_humidity_at_2m_mean               (time, grid_latitude, grid_longitude) float32 dask.array&lt;chunksize=(200, 219, 286), meta=np.ndarray&gt;\n",
       "    relative_humidity_at_2m_min                (time, grid_latitude, grid_longitude) float32 dask.array&lt;chunksize=(200, 219, 286), meta=np.ndarray&gt;\n",
       "    relative_humidity_at_pressure_mean         (time, pressure, grid_latitude, grid_longitude) float32 dask.array&lt;chunksize=(200, 1, 219, 286), meta=np.ndarray&gt;\n",
       "    specific_humidity                          (time, grid_latitude, grid_longitude) float32 dask.array&lt;chunksize=(200, 219, 286), meta=np.ndarray&gt;\n",
       "    surface_air_pressure                       (time, grid_latitude, grid_longitude) float32 dask.array&lt;chunksize=(200, 219, 286), meta=np.ndarray&gt;\n",
       "    surface_downwelling_longwave_flux_in_air   (time, grid_latitude, grid_longitude) float32 dask.array&lt;chunksize=(200, 219, 286), meta=np.ndarray&gt;\n",
       "    surface_downwelling_shortwave_flux_in_air  (time, grid_latitude, grid_longitude) float32 dask.array&lt;chunksize=(200, 219, 286), meta=np.ndarray&gt;\n",
       "    surface_temperature_max                    (time, grid_latitude, grid_longitude) float32 dask.array&lt;chunksize=(200, 219, 286), meta=np.ndarray&gt;\n",
       "    surface_temperature_mean                   (time, grid_latitude, grid_longitude) float32 dask.array&lt;chunksize=(200, 219, 286), meta=np.ndarray&gt;\n",
       "    surface_temperature_min                    (time, grid_latitude, grid_longitude) float32 dask.array&lt;chunksize=(200, 219, 286), meta=np.ndarray&gt;\n",
       "    x_wind_at_10m_mean                         (time, grid_latitude_1, grid_longitude_1) float32 dask.array&lt;chunksize=(200, 218, 286), meta=np.ndarray&gt;\n",
       "    x_wind_at_pressure_mean                    (time, pressure, grid_latitude_1, grid_longitude_1) float32 dask.array&lt;chunksize=(200, 1, 218, 286), meta=np.ndarray&gt;\n",
       "    y_wind_at_10m_mean                         (time, grid_latitude_1, grid_longitude_1) float32 dask.array&lt;chunksize=(200, 218, 286), meta=np.ndarray&gt;\n",
       "    y_wind_at_pressure_mean                    (time, pressure, grid_latitude_1, grid_longitude_1) float32 dask.array&lt;chunksize=(200, 1, 218, 286), meta=np.ndarray&gt;</pre>"
      ],
      "text/plain": [
       "<xarray.Dataset>\n",
       "Dimensions:                                    (grid_latitude: 219, grid_latitude_1: 218, grid_longitude: 286, grid_longitude_1: 286, pressure: 14, time: 204)\n",
       "Coordinates:\n",
       "    forecast_period                            (time) timedelta64[ns] dask.array<chunksize=(204,), meta=np.ndarray>\n",
       "    forecast_reference_time                    datetime64[ns] ...\n",
       "  * grid_latitude                              (grid_latitude) float32 22.88 ... -25.08\n",
       "  * grid_latitude_1                            (grid_latitude_1) float32 22.77 ... -24.969997\n",
       "  * grid_longitude                             (grid_longitude) float32 323.48 ... 386.18002\n",
       "  * grid_longitude_1                           (grid_longitude_1) float32 323.59003 ... 386.29004\n",
       "    height                                     float64 ...\n",
       "    height_1                                   float64 ...\n",
       "  * pressure                                   (pressure) float32 10.0 ... 1000.0\n",
       "  * time                                       (time) datetime64[ns] 1851-01-01T12:00:00 ... 1851-07-23T12:00:00\n",
       "Data variables:\n",
       "    air_pressure_at_sea_level                  (time, grid_latitude, grid_longitude) float32 dask.array<chunksize=(200, 219, 286), meta=np.ndarray>\n",
       "    air_temperature_at_2m_max                  (time, grid_latitude, grid_longitude) float32 dask.array<chunksize=(200, 219, 286), meta=np.ndarray>\n",
       "    air_temperature_at_2m_mean                 (time, grid_latitude, grid_longitude) float32 dask.array<chunksize=(200, 219, 286), meta=np.ndarray>\n",
       "    air_temperature_at_2m_min                  (time, grid_latitude, grid_longitude) float32 dask.array<chunksize=(200, 219, 286), meta=np.ndarray>\n",
       "    air_temperature_at_pressure_mean           (time, pressure, grid_latitude, grid_longitude) float32 dask.array<chunksize=(200, 1, 219, 286), meta=np.ndarray>\n",
       "    cloud_area_fraction                        (time, grid_latitude, grid_longitude) float32 dask.array<chunksize=(200, 219, 286), meta=np.ndarray>\n",
       "    geopotential_height                        (time, pressure, grid_latitude, grid_longitude) float32 dask.array<chunksize=(200, 1, 219, 286), meta=np.ndarray>\n",
       "    m01s05i217_max                             (time, grid_latitude, grid_longitude) float32 dask.array<chunksize=(200, 219, 286), meta=np.ndarray>\n",
       "    precipitation_flux                         (time, grid_latitude, grid_longitude) float32 dask.array<chunksize=(200, 219, 286), meta=np.ndarray>\n",
       "    relative_humidity_at_2m_max                (time, grid_latitude, grid_longitude) float32 dask.array<chunksize=(200, 219, 286), meta=np.ndarray>\n",
       "    relative_humidity_at_2m_mean               (time, grid_latitude, grid_longitude) float32 dask.array<chunksize=(200, 219, 286), meta=np.ndarray>\n",
       "    relative_humidity_at_2m_min                (time, grid_latitude, grid_longitude) float32 dask.array<chunksize=(200, 219, 286), meta=np.ndarray>\n",
       "    relative_humidity_at_pressure_mean         (time, pressure, grid_latitude, grid_longitude) float32 dask.array<chunksize=(200, 1, 219, 286), meta=np.ndarray>\n",
       "    specific_humidity                          (time, grid_latitude, grid_longitude) float32 dask.array<chunksize=(200, 219, 286), meta=np.ndarray>\n",
       "    surface_air_pressure                       (time, grid_latitude, grid_longitude) float32 dask.array<chunksize=(200, 219, 286), meta=np.ndarray>\n",
       "    surface_downwelling_longwave_flux_in_air   (time, grid_latitude, grid_longitude) float32 dask.array<chunksize=(200, 219, 286), meta=np.ndarray>\n",
       "    surface_downwelling_shortwave_flux_in_air  (time, grid_latitude, grid_longitude) float32 dask.array<chunksize=(200, 219, 286), meta=np.ndarray>\n",
       "    surface_temperature_max                    (time, grid_latitude, grid_longitude) float32 dask.array<chunksize=(200, 219, 286), meta=np.ndarray>\n",
       "    surface_temperature_mean                   (time, grid_latitude, grid_longitude) float32 dask.array<chunksize=(200, 219, 286), meta=np.ndarray>\n",
       "    surface_temperature_min                    (time, grid_latitude, grid_longitude) float32 dask.array<chunksize=(200, 219, 286), meta=np.ndarray>\n",
       "    x_wind_at_10m_mean                         (time, grid_latitude_1, grid_longitude_1) float32 dask.array<chunksize=(200, 218, 286), meta=np.ndarray>\n",
       "    x_wind_at_pressure_mean                    (time, pressure, grid_latitude_1, grid_longitude_1) float32 dask.array<chunksize=(200, 1, 218, 286), meta=np.ndarray>\n",
       "    y_wind_at_10m_mean                         (time, grid_latitude_1, grid_longitude_1) float32 dask.array<chunksize=(200, 218, 286), meta=np.ndarray>\n",
       "    y_wind_at_pressure_mean                    (time, pressure, grid_latitude_1, grid_longitude_1) float32 dask.array<chunksize=(200, 1, 218, 286), meta=np.ndarray>"
      ]
     },
     "execution_count": 19,
     "metadata": {},
     "output_type": "execute_result"
    }
   ],
   "source": [
    "dsz0 = xr.open_zarr(ZARR)\n",
    "dsz0"
   ]
  },
  {
   "cell_type": "code",
   "execution_count": 20,
   "metadata": {},
   "outputs": [
    {
     "data": {
      "text/plain": [
       "4.541737716"
      ]
     },
     "execution_count": 20,
     "metadata": {},
     "output_type": "execute_result"
    }
   ],
   "source": [
    "# Size of Dataset in GB\n",
    "dsz0.nbytes / 1e9"
   ]
  },
  {
   "cell_type": "code",
   "execution_count": 21,
   "metadata": {},
   "outputs": [],
   "source": [
    "logging.info(f'  Successfull creation of {ZARR}')\n",
    "logging.info(f'  Processed filenames 0:{filenames[0]} - 21:{filenames[21]}')\n",
    "logging.info(f'  Chunking {CHUNKS}')"
   ]
  },
  {
   "cell_type": "markdown",
   "metadata": {},
   "source": [
    "## Now loop through the remaining cubes and append to the Zarr we created"
   ]
  },
  {
   "cell_type": "code",
   "execution_count": 14,
   "metadata": {},
   "outputs": [],
   "source": [
    "def logprint(message):\n",
    "    logging.info(message)\n",
    "    print(message)"
   ]
  },
  {
   "cell_type": "code",
   "execution_count": 48,
   "metadata": {},
   "outputs": [
    {
     "name": "stdout",
     "output_type": "stream",
     "text": [
      "Appending data to /data/cssp-china/zarr_daily_1851-1859\n",
      "  Processing filenames 319:apepda.pa59aa0.pp - 329:apepda.pa59ct0.pp\n",
      "  | Loaded files successfully\n",
      "  | Renamed files successfully\n",
      "  | Created dataset successfully\n",
      "Appended dataset to /data/cssp-china/zarr_daily_1851-1859\n",
      "  | Appended to Zarr /data/cssp-china/zarr_daily_1851-1859 successfully\n",
      "  Appending data complete\n",
      "CPU times: user 1min 10s, sys: 14 s, total: 1min 24s\n",
      "Wall time: 2min 25s\n"
     ]
    }
   ],
   "source": [
    "%%time\n",
    "# Loop through in bunches of 12 cubes, so as to not use to much memory at one time\n",
    "start = 319\n",
    "step = 12\n",
    "stop = len(filepaths)\n",
    "# stop = start+(2*step)\n",
    "\n",
    "logprint(f'Appending data to {ZARR}')\n",
    "\n",
    "for i in range(start, stop, step):\n",
    "    fnames = filenames[i:i+step]\n",
    "    logprint(f'  Processing filenames {i}:{fnames[1]} - {min([i+step, stop])}:{fnames[-1]}')\n",
    "    try:\n",
    "        cubelist = iris.load(filepaths[i:i+step])\n",
    "        logprint(f'  | Loaded files successfully')\n",
    "        \n",
    "        crd.rename_cubes(cubelist, CUBENAMES, COORD_NAME_MAPPING, dryrun=False, verbose=False)\n",
    "        logprint(f'  | Renamed files successfully')\n",
    "        \n",
    "        dalist = crd.cubelist_to_dalist(cubelist)\n",
    "        ds = xr.merge(dalist)\n",
    "        logprint(f'  | Created dataset successfully')\n",
    "        \n",
    "        crd.ds_to_zarr(ds, ZARR, chunks=CHUNKS)\n",
    "        logprint(f'  | Appended to Zarr {ZARR} successfully')\n",
    "        \n",
    "    except Exception as e:\n",
    "        logprint(f'  X ERROR: {e}')\n",
    "        raise e\n",
    "\n",
    "logprint(f'  Appending data complete')"
   ]
  },
  {
   "cell_type": "code",
   "execution_count": 7,
   "metadata": {},
   "outputs": [
    {
     "data": {
      "text/html": [
       "<pre>&lt;xarray.Dataset&gt;\n",
       "Dimensions:                                    (grid_latitude: 219, grid_latitude_1: 218, grid_longitude: 286, grid_longitude_1: 286, pressure: 14, time: 3244)\n",
       "Coordinates:\n",
       "    forecast_period                            (time) timedelta64[ns] dask.array&lt;chunksize=(204,), meta=np.ndarray&gt;\n",
       "    forecast_reference_time                    datetime64[ns] ...\n",
       "  * grid_latitude                              (grid_latitude) float32 22.88 ... -25.08\n",
       "  * grid_latitude_1                            (grid_latitude_1) float32 22.77 ... -24.969997\n",
       "  * grid_longitude                             (grid_longitude) float32 323.48 ... 386.18002\n",
       "  * grid_longitude_1                           (grid_longitude_1) float32 323.59003 ... 386.29004\n",
       "    height                                     float64 ...\n",
       "    height_1                                   float64 ...\n",
       "  * pressure                                   (pressure) float32 10.0 ... 1000.0\n",
       "  * time                                       (time) datetime64[ns] 1851-01-01T12:00:00 ... 1859-12-28T12:00:00\n",
       "Data variables:\n",
       "    air_pressure_at_sea_level                  (time, grid_latitude, grid_longitude) float32 dask.array&lt;chunksize=(200, 219, 286), meta=np.ndarray&gt;\n",
       "    air_temperature_at_2m_max                  (time, grid_latitude, grid_longitude) float32 dask.array&lt;chunksize=(200, 219, 286), meta=np.ndarray&gt;\n",
       "    air_temperature_at_2m_mean                 (time, grid_latitude, grid_longitude) float32 dask.array&lt;chunksize=(200, 219, 286), meta=np.ndarray&gt;\n",
       "    air_temperature_at_2m_min                  (time, grid_latitude, grid_longitude) float32 dask.array&lt;chunksize=(200, 219, 286), meta=np.ndarray&gt;\n",
       "    air_temperature_at_pressure_mean           (time, pressure, grid_latitude, grid_longitude) float32 dask.array&lt;chunksize=(200, 1, 219, 286), meta=np.ndarray&gt;\n",
       "    cloud_area_fraction                        (time, grid_latitude, grid_longitude) float32 dask.array&lt;chunksize=(200, 219, 286), meta=np.ndarray&gt;\n",
       "    geopotential_height                        (time, pressure, grid_latitude, grid_longitude) float32 dask.array&lt;chunksize=(200, 1, 219, 286), meta=np.ndarray&gt;\n",
       "    m01s05i217_max                             (time, grid_latitude, grid_longitude) float32 dask.array&lt;chunksize=(200, 219, 286), meta=np.ndarray&gt;\n",
       "    precipitation_flux                         (time, grid_latitude, grid_longitude) float32 dask.array&lt;chunksize=(200, 219, 286), meta=np.ndarray&gt;\n",
       "    relative_humidity_at_2m_max                (time, grid_latitude, grid_longitude) float32 dask.array&lt;chunksize=(200, 219, 286), meta=np.ndarray&gt;\n",
       "    relative_humidity_at_2m_mean               (time, grid_latitude, grid_longitude) float32 dask.array&lt;chunksize=(200, 219, 286), meta=np.ndarray&gt;\n",
       "    relative_humidity_at_2m_min                (time, grid_latitude, grid_longitude) float32 dask.array&lt;chunksize=(200, 219, 286), meta=np.ndarray&gt;\n",
       "    relative_humidity_at_pressure_mean         (time, pressure, grid_latitude, grid_longitude) float32 dask.array&lt;chunksize=(200, 1, 219, 286), meta=np.ndarray&gt;\n",
       "    specific_humidity                          (time, grid_latitude, grid_longitude) float32 dask.array&lt;chunksize=(200, 219, 286), meta=np.ndarray&gt;\n",
       "    surface_air_pressure                       (time, grid_latitude, grid_longitude) float32 dask.array&lt;chunksize=(200, 219, 286), meta=np.ndarray&gt;\n",
       "    surface_downwelling_longwave_flux_in_air   (time, grid_latitude, grid_longitude) float32 dask.array&lt;chunksize=(200, 219, 286), meta=np.ndarray&gt;\n",
       "    surface_downwelling_shortwave_flux_in_air  (time, grid_latitude, grid_longitude) float32 dask.array&lt;chunksize=(200, 219, 286), meta=np.ndarray&gt;\n",
       "    surface_temperature_max                    (time, grid_latitude, grid_longitude) float32 dask.array&lt;chunksize=(200, 219, 286), meta=np.ndarray&gt;\n",
       "    surface_temperature_mean                   (time, grid_latitude, grid_longitude) float32 dask.array&lt;chunksize=(200, 219, 286), meta=np.ndarray&gt;\n",
       "    surface_temperature_min                    (time, grid_latitude, grid_longitude) float32 dask.array&lt;chunksize=(200, 219, 286), meta=np.ndarray&gt;\n",
       "    x_wind_at_10m_mean                         (time, grid_latitude_1, grid_longitude_1) float32 dask.array&lt;chunksize=(200, 218, 286), meta=np.ndarray&gt;\n",
       "    x_wind_at_pressure_mean                    (time, pressure, grid_latitude_1, grid_longitude_1) float32 dask.array&lt;chunksize=(200, 1, 218, 286), meta=np.ndarray&gt;\n",
       "    y_wind_at_10m_mean                         (time, grid_latitude_1, grid_longitude_1) float32 dask.array&lt;chunksize=(200, 218, 286), meta=np.ndarray&gt;\n",
       "    y_wind_at_pressure_mean                    (time, pressure, grid_latitude_1, grid_longitude_1) float32 dask.array&lt;chunksize=(200, 1, 218, 286), meta=np.ndarray&gt;</pre>"
      ],
      "text/plain": [
       "<xarray.Dataset>\n",
       "Dimensions:                                    (grid_latitude: 219, grid_latitude_1: 218, grid_longitude: 286, grid_longitude_1: 286, pressure: 14, time: 3244)\n",
       "Coordinates:\n",
       "    forecast_period                            (time) timedelta64[ns] dask.array<chunksize=(204,), meta=np.ndarray>\n",
       "    forecast_reference_time                    datetime64[ns] ...\n",
       "  * grid_latitude                              (grid_latitude) float32 22.88 ... -25.08\n",
       "  * grid_latitude_1                            (grid_latitude_1) float32 22.77 ... -24.969997\n",
       "  * grid_longitude                             (grid_longitude) float32 323.48 ... 386.18002\n",
       "  * grid_longitude_1                           (grid_longitude_1) float32 323.59003 ... 386.29004\n",
       "    height                                     float64 ...\n",
       "    height_1                                   float64 ...\n",
       "  * pressure                                   (pressure) float32 10.0 ... 1000.0\n",
       "  * time                                       (time) datetime64[ns] 1851-01-01T12:00:00 ... 1859-12-28T12:00:00\n",
       "Data variables:\n",
       "    air_pressure_at_sea_level                  (time, grid_latitude, grid_longitude) float32 dask.array<chunksize=(200, 219, 286), meta=np.ndarray>\n",
       "    air_temperature_at_2m_max                  (time, grid_latitude, grid_longitude) float32 dask.array<chunksize=(200, 219, 286), meta=np.ndarray>\n",
       "    air_temperature_at_2m_mean                 (time, grid_latitude, grid_longitude) float32 dask.array<chunksize=(200, 219, 286), meta=np.ndarray>\n",
       "    air_temperature_at_2m_min                  (time, grid_latitude, grid_longitude) float32 dask.array<chunksize=(200, 219, 286), meta=np.ndarray>\n",
       "    air_temperature_at_pressure_mean           (time, pressure, grid_latitude, grid_longitude) float32 dask.array<chunksize=(200, 1, 219, 286), meta=np.ndarray>\n",
       "    cloud_area_fraction                        (time, grid_latitude, grid_longitude) float32 dask.array<chunksize=(200, 219, 286), meta=np.ndarray>\n",
       "    geopotential_height                        (time, pressure, grid_latitude, grid_longitude) float32 dask.array<chunksize=(200, 1, 219, 286), meta=np.ndarray>\n",
       "    m01s05i217_max                             (time, grid_latitude, grid_longitude) float32 dask.array<chunksize=(200, 219, 286), meta=np.ndarray>\n",
       "    precipitation_flux                         (time, grid_latitude, grid_longitude) float32 dask.array<chunksize=(200, 219, 286), meta=np.ndarray>\n",
       "    relative_humidity_at_2m_max                (time, grid_latitude, grid_longitude) float32 dask.array<chunksize=(200, 219, 286), meta=np.ndarray>\n",
       "    relative_humidity_at_2m_mean               (time, grid_latitude, grid_longitude) float32 dask.array<chunksize=(200, 219, 286), meta=np.ndarray>\n",
       "    relative_humidity_at_2m_min                (time, grid_latitude, grid_longitude) float32 dask.array<chunksize=(200, 219, 286), meta=np.ndarray>\n",
       "    relative_humidity_at_pressure_mean         (time, pressure, grid_latitude, grid_longitude) float32 dask.array<chunksize=(200, 1, 219, 286), meta=np.ndarray>\n",
       "    specific_humidity                          (time, grid_latitude, grid_longitude) float32 dask.array<chunksize=(200, 219, 286), meta=np.ndarray>\n",
       "    surface_air_pressure                       (time, grid_latitude, grid_longitude) float32 dask.array<chunksize=(200, 219, 286), meta=np.ndarray>\n",
       "    surface_downwelling_longwave_flux_in_air   (time, grid_latitude, grid_longitude) float32 dask.array<chunksize=(200, 219, 286), meta=np.ndarray>\n",
       "    surface_downwelling_shortwave_flux_in_air  (time, grid_latitude, grid_longitude) float32 dask.array<chunksize=(200, 219, 286), meta=np.ndarray>\n",
       "    surface_temperature_max                    (time, grid_latitude, grid_longitude) float32 dask.array<chunksize=(200, 219, 286), meta=np.ndarray>\n",
       "    surface_temperature_mean                   (time, grid_latitude, grid_longitude) float32 dask.array<chunksize=(200, 219, 286), meta=np.ndarray>\n",
       "    surface_temperature_min                    (time, grid_latitude, grid_longitude) float32 dask.array<chunksize=(200, 219, 286), meta=np.ndarray>\n",
       "    x_wind_at_10m_mean                         (time, grid_latitude_1, grid_longitude_1) float32 dask.array<chunksize=(200, 218, 286), meta=np.ndarray>\n",
       "    x_wind_at_pressure_mean                    (time, pressure, grid_latitude_1, grid_longitude_1) float32 dask.array<chunksize=(200, 1, 218, 286), meta=np.ndarray>\n",
       "    y_wind_at_10m_mean                         (time, grid_latitude_1, grid_longitude_1) float32 dask.array<chunksize=(200, 218, 286), meta=np.ndarray>\n",
       "    y_wind_at_pressure_mean                    (time, pressure, grid_latitude_1, grid_longitude_1) float32 dask.array<chunksize=(200, 1, 218, 286), meta=np.ndarray>"
      ]
     },
     "execution_count": 7,
     "metadata": {},
     "output_type": "execute_result"
    }
   ],
   "source": [
    "dsz1 = xr.open_zarr(ZARR)\n",
    "dsz1"
   ]
  },
  {
   "cell_type": "code",
   "execution_count": 8,
   "metadata": {},
   "outputs": [
    {
     "data": {
      "text/html": [
       "\n",
       "<style>\n",
       "  a.iris {\n",
       "      text-decoration: none !important;\n",
       "  }\n",
       "  table.iris {\n",
       "      white-space: pre;\n",
       "      border: 1px solid;\n",
       "      border-color: #9c9c9c;\n",
       "      font-family: monaco, monospace;\n",
       "  }\n",
       "  th.iris {\n",
       "      background: #303f3f;\n",
       "      color: #e0e0e0;\n",
       "      border-left: 1px solid;\n",
       "      border-color: #9c9c9c;\n",
       "      font-size: 1.05em;\n",
       "      min-width: 50px;\n",
       "      max-width: 125px;\n",
       "  }\n",
       "  tr.iris :first-child {\n",
       "      border-right: 1px solid #9c9c9c !important;\n",
       "  }\n",
       "  td.iris-title {\n",
       "      background: #d5dcdf;\n",
       "      border-top: 1px solid #9c9c9c;\n",
       "      font-weight: bold;\n",
       "  }\n",
       "  .iris-word-cell {\n",
       "      text-align: left !important;\n",
       "      white-space: pre;\n",
       "  }\n",
       "  .iris-subheading-cell {\n",
       "      padding-left: 2em !important;\n",
       "  }\n",
       "  .iris-inclusion-cell {\n",
       "      padding-right: 1em !important;\n",
       "  }\n",
       "  .iris-panel-body {\n",
       "      padding-top: 0px;\n",
       "  }\n",
       "  .iris-panel-title {\n",
       "      padding-left: 3em;\n",
       "  }\n",
       "  .iris-panel-title {\n",
       "      margin-top: 7px;\n",
       "  }\n",
       "</style>\n",
       "<table class=\"iris\" id=\"140368525732832\">\n",
       "    <tr class=\"iris\">\n",
       "<th class=\"iris iris-word-cell\">Air Pressure At Sea Level (Pa)</th>\n",
       "<th class=\"iris iris-word-cell\">time</th>\n",
       "<th class=\"iris iris-word-cell\">grid_latitude</th>\n",
       "<th class=\"iris iris-word-cell\">grid_longitude</th>\n",
       "</tr>\n",
       "    <tr class=\"iris\">\n",
       "<td class=\"iris-word-cell iris-subheading-cell\">Shape</td>\n",
       "<td class=\"iris iris-inclusion-cell\">3244</td>\n",
       "<td class=\"iris iris-inclusion-cell\">219</td>\n",
       "<td class=\"iris iris-inclusion-cell\">286</td>\n",
       "</tr>\n",
       "    <tr class=\"iris\">\n",
       "    <td class=\"iris-title iris-word-cell\">Dimension coordinates</td>\n",
       "    <td class=\"iris-title\"></td>\n",
       "    <td class=\"iris-title\"></td>\n",
       "    <td class=\"iris-title\"></td>\n",
       "</tr>\n",
       "<tr class=\"iris\">\n",
       "    <td class=\"iris-word-cell iris-subheading-cell\">\ttime</td>\n",
       "    <td class=\"iris-inclusion-cell\">x</td>\n",
       "    <td class=\"iris-inclusion-cell\">-</td>\n",
       "    <td class=\"iris-inclusion-cell\">-</td>\n",
       "</tr>\n",
       "<tr class=\"iris\">\n",
       "    <td class=\"iris-word-cell iris-subheading-cell\">\tgrid_latitude</td>\n",
       "    <td class=\"iris-inclusion-cell\">-</td>\n",
       "    <td class=\"iris-inclusion-cell\">x</td>\n",
       "    <td class=\"iris-inclusion-cell\">-</td>\n",
       "</tr>\n",
       "<tr class=\"iris\">\n",
       "    <td class=\"iris-word-cell iris-subheading-cell\">\tgrid_longitude</td>\n",
       "    <td class=\"iris-inclusion-cell\">-</td>\n",
       "    <td class=\"iris-inclusion-cell\">-</td>\n",
       "    <td class=\"iris-inclusion-cell\">x</td>\n",
       "</tr>\n",
       "<tr class=\"iris\">\n",
       "    <td class=\"iris-title iris-word-cell\">Auxiliary coordinates</td>\n",
       "    <td class=\"iris-title\"></td>\n",
       "    <td class=\"iris-title\"></td>\n",
       "    <td class=\"iris-title\"></td>\n",
       "</tr>\n",
       "<tr class=\"iris\">\n",
       "    <td class=\"iris-word-cell iris-subheading-cell\">\tforecast_period</td>\n",
       "    <td class=\"iris-inclusion-cell\">x</td>\n",
       "    <td class=\"iris-inclusion-cell\">-</td>\n",
       "    <td class=\"iris-inclusion-cell\">-</td>\n",
       "</tr>\n",
       "<tr class=\"iris\">\n",
       "    <td class=\"iris-title iris-word-cell\">Scalar coordinates</td>\n",
       "    <td class=\"iris-title\"></td>\n",
       "    <td class=\"iris-title\"></td>\n",
       "    <td class=\"iris-title\"></td>\n",
       "</tr>\n",
       "<tr class=\"iris\">\n",
       "    <td class=\"iris-word-cell iris-subheading-cell\">\tforecast_reference_time</td>\n",
       "    <td class=\"iris-word-cell\" colspan=\"3\">1849-12-01 00:00:00</td>\n",
       "</tr>\n",
       "<tr class=\"iris\">\n",
       "    <td class=\"iris-word-cell iris-subheading-cell\">\theight</td>\n",
       "    <td class=\"iris-word-cell\" colspan=\"3\">1.5 m</td>\n",
       "</tr>\n",
       "<tr class=\"iris\">\n",
       "    <td class=\"iris-word-cell iris-subheading-cell\">\theight</td>\n",
       "    <td class=\"iris-word-cell\" colspan=\"3\">10.0 m</td>\n",
       "</tr>\n",
       "<tr class=\"iris\">\n",
       "    <td class=\"iris-title iris-word-cell\">Attributes</td>\n",
       "    <td class=\"iris-title\"></td>\n",
       "    <td class=\"iris-title\"></td>\n",
       "    <td class=\"iris-title\"></td>\n",
       "</tr>\n",
       "<tr class=\"iris\">\n",
       "    <td class=\"iris-word-cell iris-subheading-cell\">\tSTASH</td>\n",
       "    <td class=\"iris-word-cell\" colspan=\"3\">[1, 16, 222]</td>\n",
       "</tr>\n",
       "<tr class=\"iris\">\n",
       "    <td class=\"iris-word-cell iris-subheading-cell\">\tsource</td>\n",
       "    <td class=\"iris-word-cell\" colspan=\"3\">Data from Met Office Unified Model</td>\n",
       "</tr>\n",
       "<tr class=\"iris\">\n",
       "    <td class=\"iris-title iris-word-cell\">Cell methods</td>\n",
       "    <td class=\"iris-title\"></td>\n",
       "    <td class=\"iris-title\"></td>\n",
       "    <td class=\"iris-title\"></td>\n",
       "</tr>\n",
       "<tr class=\"iris\">\n",
       "    <td class=\"iris-word-cell iris-subheading-cell\">\tmean</td>\n",
       "    <td class=\"iris-word-cell\" colspan=\"3\">time (1 hour)</td>\n",
       "</tr>\n",
       "</table>\n",
       "        "
      ],
      "text/plain": [
       "<iris 'Cube' of air_pressure_at_sea_level / (Pa) (time: 3244; grid_latitude: 219; grid_longitude: 286)>"
      ]
     },
     "execution_count": 8,
     "metadata": {},
     "output_type": "execute_result"
    }
   ],
   "source": [
    "cubez = dsz1.air_pressure_at_sea_level.to_iris()\n",
    "cubez"
   ]
  },
  {
   "cell_type": "code",
   "execution_count": 9,
   "metadata": {},
   "outputs": [
    {
     "data": {
      "text/plain": [
       "array([24, 24, 24, ..., 24, 24, 24])"
      ]
     },
     "execution_count": 9,
     "metadata": {},
     "output_type": "execute_result"
    }
   ],
   "source": [
    "deltas = cubez.coord('time').points[1:]-cubez.coord('time').points[0:-1]\n",
    "deltas"
   ]
  },
  {
   "cell_type": "code",
   "execution_count": 10,
   "metadata": {},
   "outputs": [],
   "source": [
    "import matplotlib.pyplot as plt\n",
    "def plot_td_hist(td, **kwargs):\n",
    "    plt.hist(td, log=True, **kwargs)\n",
    "    plt.gcf().set_size_inches(15, 5)\n",
    "#     plt.xticks(np.arange(1, 31))\n",
    "    plt.xlabel('Days')\n",
    "    plt.ylabel('Number of timedeltas')\n",
    "    plt.title(f'Timedeltas for daily data')\n",
    "    plt.show()"
   ]
  },
  {
   "cell_type": "code",
   "execution_count": 12,
   "metadata": {},
   "outputs": [
    {
     "data": {
      "image/png": "[encoded data removed]",
      "text/plain": [
       "<Figure size 1080x360 with 1 Axes>"
      ]
     },
     "metadata": {
      "needs_background": "light"
     },
     "output_type": "display_data"
    }
   ],
   "source": [
    "plot_td_hist(deltas, bins=np.arange(0, 250, 1))"
   ]
  }
 ],
 "metadata": {
  "kernelspec": {
   "display_name": "Python (pangolin)",
   "language": "python",
   "name": "pangolin"
  },
  "language_info": {
   "codemirror_mode": {
    "name": "ipython",
    "version": 3
   },
   "file_extension": ".py",
   "mimetype": "text/x-python",
   "name": "python",
   "nbconvert_exporter": "python",
   "pygments_lexer": "ipython3",
   "version": "3.6.7"
  }
 },
 "nbformat": 4,
 "nbformat_minor": 4
}
