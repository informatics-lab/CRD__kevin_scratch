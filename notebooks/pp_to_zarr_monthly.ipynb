{
 "cells": [
  {
   "cell_type": "markdown",
   "metadata": {},
   "source": [
    "# Create Zarr of 9 years of monthly CSSP China data [1851-1889]"
   ]
  },
  {
   "cell_type": "code",
   "execution_count": 1,
   "metadata": {},
   "outputs": [],
   "source": [
    "import iris\n",
    "import os\n",
    "import sys\n",
    "import logging\n",
    "import xarray as xr\n",
    "import numpy as np\n",
    "\n",
    "import crd_utils as crd\n",
    "import umdates_utils as um\n",
    "\n",
    "from datetime import datetime, timedelta"
   ]
  },
  {
   "cell_type": "markdown",
   "metadata": {},
   "source": [
    "## Create a list of all the files we want to process"
   ]
  },
  {
   "cell_type": "code",
   "execution_count": 2,
   "metadata": {},
   "outputs": [
    {
     "name": "stdout",
     "output_type": "stream",
     "text": [
      "1920\n"
     ]
    }
   ],
   "source": [
    "# monthly data filenames\n",
    "filepath = '/data/cssp-china/mini-dataset-24-01-19/20CR/monthly'\n",
    "files = sorted(os.listdir(filepath))\n",
    "print(len(files))"
   ]
  },
  {
   "cell_type": "code",
   "execution_count": 8,
   "metadata": {},
   "outputs": [
    {
     "name": "stdout",
     "output_type": "stream",
     "text": [
      "469\n"
     ]
    }
   ],
   "source": [
    "# generate all possible filenames for the time period\n",
    "runid = 'apepd'\n",
    "startd = datetime(1851, 1, 1)   # 00Z on Jan 01 1851\n",
    "endd = datetime(1890, 1, 1)     # 00Z on Jan 01 1860\n",
    "freq = 'pm'\n",
    "\n",
    "decade_filenames = um.UMFileList(runid, startd, endd, freq)\n",
    "print(len(decade_filenames))"
   ]
  },
  {
   "cell_type": "code",
   "execution_count": 9,
   "metadata": {},
   "outputs": [
    {
     "name": "stdout",
     "output_type": "stream",
     "text": [
      "469\n"
     ]
    }
   ],
   "source": [
    "# find the overlap of actual filenames with all possible filenames in that decade\n",
    "filenames = list(set(files).intersection(set(decade_filenames)))\n",
    "filenames.sort()\n",
    "print(len(filenames))"
   ]
  },
  {
   "cell_type": "code",
   "execution_count": 10,
   "metadata": {},
   "outputs": [
    {
     "name": "stdout",
     "output_type": "stream",
     "text": [
      "469\n"
     ]
    }
   ],
   "source": [
    "filepaths = [os.path.join(filepath, filename) for filename in filenames]\n",
    "print(len(filepaths))"
   ]
  },
  {
   "cell_type": "markdown",
   "metadata": {},
   "source": [
    "## Set all the Cube, Dataset and Zarr variables we need to process the cubes"
   ]
  },
  {
   "cell_type": "code",
   "execution_count": 11,
   "metadata": {},
   "outputs": [
    {
     "name": "stdout",
     "output_type": "stream",
     "text": [
      "CPU times: user 505 ms, sys: 49.4 ms, total: 554 ms\n",
      "Wall time: 591 ms\n"
     ]
    },
    {
     "data": {
      "text/html": [
       "\n",
       "<style>\n",
       "  a.iris {\n",
       "      text-decoration: none !important;\n",
       "  }\n",
       "  table.iris {\n",
       "      white-space: pre;\n",
       "      border: 1px solid;\n",
       "      border-color: #9c9c9c;\n",
       "      font-family: monaco, monospace;\n",
       "  }\n",
       "  th.iris {\n",
       "      background: #303f3f;\n",
       "      color: #e0e0e0;\n",
       "      border-left: 1px solid;\n",
       "      border-color: #9c9c9c;\n",
       "      font-size: 1.05em;\n",
       "      min-width: 50px;\n",
       "      max-width: 125px;\n",
       "  }\n",
       "  tr.iris :first-child {\n",
       "      border-right: 1px solid #9c9c9c !important;\n",
       "  }\n",
       "  td.iris-title {\n",
       "      background: #d5dcdf;\n",
       "      border-top: 1px solid #9c9c9c;\n",
       "      font-weight: bold;\n",
       "  }\n",
       "  .iris-word-cell {\n",
       "      text-align: left !important;\n",
       "      white-space: pre;\n",
       "  }\n",
       "  .iris-subheading-cell {\n",
       "      padding-left: 2em !important;\n",
       "  }\n",
       "  .iris-inclusion-cell {\n",
       "      padding-right: 1em !important;\n",
       "  }\n",
       "  .iris-panel-body {\n",
       "      padding-top: 0px;\n",
       "  }\n",
       "  .iris-panel-title {\n",
       "      padding-left: 3em;\n",
       "  }\n",
       "  .iris-panel-title {\n",
       "      margin-top: 7px;\n",
       "  }\n",
       "</style>\n",
       "<table class=\"iris\" id=\"140654109522632\">\n",
       "    <tr class=\"iris\">\n",
       "<th class=\"iris iris-word-cell\">Air Pressure At Sea Level (Pa)</th>\n",
       "<th class=\"iris iris-word-cell\">grid_latitude</th>\n",
       "<th class=\"iris iris-word-cell\">grid_longitude</th>\n",
       "</tr>\n",
       "    <tr class=\"iris\">\n",
       "<td class=\"iris-word-cell iris-subheading-cell\">Shape</td>\n",
       "<td class=\"iris iris-inclusion-cell\">219</td>\n",
       "<td class=\"iris iris-inclusion-cell\">286</td>\n",
       "</tr>\n",
       "    <tr class=\"iris\">\n",
       "    <td class=\"iris-title iris-word-cell\">Dimension coordinates</td>\n",
       "    <td class=\"iris-title\"></td>\n",
       "    <td class=\"iris-title\"></td>\n",
       "</tr>\n",
       "<tr class=\"iris\">\n",
       "    <td class=\"iris-word-cell iris-subheading-cell\">\tgrid_latitude</td>\n",
       "    <td class=\"iris-inclusion-cell\">x</td>\n",
       "    <td class=\"iris-inclusion-cell\">-</td>\n",
       "</tr>\n",
       "<tr class=\"iris\">\n",
       "    <td class=\"iris-word-cell iris-subheading-cell\">\tgrid_longitude</td>\n",
       "    <td class=\"iris-inclusion-cell\">-</td>\n",
       "    <td class=\"iris-inclusion-cell\">x</td>\n",
       "</tr>\n",
       "<tr class=\"iris\">\n",
       "    <td class=\"iris-title iris-word-cell\">Scalar coordinates</td>\n",
       "    <td class=\"iris-title\"></td>\n",
       "    <td class=\"iris-title\"></td>\n",
       "</tr>\n",
       "<tr class=\"iris\">\n",
       "    <td class=\"iris-word-cell iris-subheading-cell\">\tforecast_period</td>\n",
       "    <td class=\"iris-word-cell\" colspan=\"2\">12020.0 hours, bound=(11660.0, 12380.0) hours</td>\n",
       "</tr>\n",
       "<tr class=\"iris\">\n",
       "    <td class=\"iris-word-cell iris-subheading-cell\">\tforecast_reference_time</td>\n",
       "    <td class=\"iris-word-cell\" colspan=\"2\">1849-12-01 04:00:00</td>\n",
       "</tr>\n",
       "<tr class=\"iris\">\n",
       "    <td class=\"iris-word-cell iris-subheading-cell\">\ttime</td>\n",
       "    <td class=\"iris-word-cell\" colspan=\"2\">1851-04-16 00:00:00, bound=(1851-04-01 00:00:00, 1851-05-01 00:00:00)</td>\n",
       "</tr>\n",
       "<tr class=\"iris\">\n",
       "    <td class=\"iris-title iris-word-cell\">Attributes</td>\n",
       "    <td class=\"iris-title\"></td>\n",
       "    <td class=\"iris-title\"></td>\n",
       "</tr>\n",
       "<tr class=\"iris\">\n",
       "    <td class=\"iris-word-cell iris-subheading-cell\">\tSTASH</td>\n",
       "    <td class=\"iris-word-cell\" colspan=\"2\">m01s16i222</td>\n",
       "</tr>\n",
       "<tr class=\"iris\">\n",
       "    <td class=\"iris-word-cell iris-subheading-cell\">\tsource</td>\n",
       "    <td class=\"iris-word-cell\" colspan=\"2\">Data from Met Office Unified Model</td>\n",
       "</tr>\n",
       "<tr class=\"iris\">\n",
       "    <td class=\"iris-title iris-word-cell\">Cell methods</td>\n",
       "    <td class=\"iris-title\"></td>\n",
       "    <td class=\"iris-title\"></td>\n",
       "</tr>\n",
       "<tr class=\"iris\">\n",
       "    <td class=\"iris-word-cell iris-subheading-cell\">\tmean</td>\n",
       "    <td class=\"iris-word-cell\" colspan=\"2\">time (4 hour)</td>\n",
       "</tr>\n",
       "</table>\n",
       "        "
      ],
      "text/plain": [
       "<iris 'Cube' of air_pressure_at_sea_level / (Pa) (grid_latitude: 219; grid_longitude: 286)>"
      ]
     },
     "execution_count": 11,
     "metadata": {},
     "output_type": "execute_result"
    }
   ],
   "source": [
    "%%time\n",
    "cubelist = iris.load(filepaths[0:1])\n",
    "cubelist[0]"
   ]
  },
  {
   "cell_type": "code",
   "execution_count": 12,
   "metadata": {},
   "outputs": [
    {
     "name": "stdout",
     "output_type": "stream",
     "text": [
      "0: air_pressure_at_sea_level / (Pa)    (grid_latitude: 219; grid_longitude: 286)\n",
      "1: air_temperature / (K)               (grid_latitude: 219; grid_longitude: 286)\n",
      "2: air_temperature / (K)               (grid_latitude: 219; grid_longitude: 286)\n",
      "3: air_temperature / (K)               (grid_latitude: 219; grid_longitude: 286)\n",
      "4: air_temperature / (K)               (pressure: 17; grid_latitude: 219; grid_longitude: 286)\n",
      "5: cloud_area_fraction / (1)           (grid_latitude: 219; grid_longitude: 286)\n",
      "6: geopotential_height / (m)           (pressure: 17; grid_latitude: 219; grid_longitude: 286)\n",
      "7: lagrangian_tendency_of_air_pressure / (Pa s-1) (pressure: 17; grid_latitude: 218; grid_longitude: 286)\n",
      "8: precipitation_flux / (kg m-2 s-1)   (grid_latitude: 219; grid_longitude: 286)\n",
      "9: relative_humidity / (%)             (grid_latitude: 219; grid_longitude: 286)\n",
      "10: relative_humidity / (%)             (pressure: 17; grid_latitude: 219; grid_longitude: 286)\n",
      "11: specific_humidity / (1)             (grid_latitude: 219; grid_longitude: 286)\n",
      "12: surface_air_pressure / (Pa)         (grid_latitude: 219; grid_longitude: 286)\n",
      "13: surface_downwelling_longwave_flux_in_air / (W m-2) (grid_latitude: 219; grid_longitude: 286)\n",
      "14: surface_downwelling_shortwave_flux_in_air / (W m-2) (grid_latitude: 219; grid_longitude: 286)\n",
      "15: surface_temperature / (K)           (grid_latitude: 219; grid_longitude: 286)\n",
      "16: x_wind / (m s-1)                    (grid_latitude: 218; grid_longitude: 286)\n",
      "17: x_wind / (m s-1)                    (pressure: 17; grid_latitude: 218; grid_longitude: 286)\n",
      "18: y_wind / (m s-1)                    (grid_latitude: 218; grid_longitude: 286)\n",
      "19: y_wind / (m s-1)                    (pressure: 17; grid_latitude: 218; grid_longitude: 286)\n"
     ]
    }
   ],
   "source": [
    "print(cubelist)"
   ]
  },
  {
   "cell_type": "code",
   "execution_count": 13,
   "metadata": {},
   "outputs": [],
   "source": [
    "CUBENAMES = [cube.name() for cube in cubelist]\n",
    "UNIQUE_COORDS = crd.unique_coords_list(cubelist)\n",
    "COORD_NAME_MAPPING = crd.get_new_coord_names(UNIQUE_COORDS)"
   ]
  },
  {
   "cell_type": "code",
   "execution_count": 14,
   "metadata": {},
   "outputs": [
    {
     "name": "stdout",
     "output_type": "stream",
     "text": [
      "['grid_latitude', 'grid_longitude', 'forecast_period', 'forecast_reference_time', 'time', 'forecast_period', 'forecast_reference_time', 'height', 'pressure', 'forecast_period', 'forecast_reference_time', 'grid_latitude', 'grid_longitude', 'height']\n"
     ]
    }
   ],
   "source": [
    "print([coord.name() for coord in UNIQUE_COORDS])"
   ]
  },
  {
   "cell_type": "code",
   "execution_count": 15,
   "metadata": {},
   "outputs": [
    {
     "data": {
      "text/plain": [
       "('forecast_period_1',\n",
       " 'forecast_reference_time_1',\n",
       " 'forecast_period_2',\n",
       " 'forecast_reference_time_2',\n",
       " 'grid_latitude_1',\n",
       " 'grid_longitude_1',\n",
       " 'height_1')"
      ]
     },
     "execution_count": 15,
     "metadata": {},
     "output_type": "execute_result"
    }
   ],
   "source": [
    "COORD_NAME_MAPPING[1]"
   ]
  },
  {
   "cell_type": "code",
   "execution_count": 16,
   "metadata": {},
   "outputs": [],
   "source": [
    "ZARR = '/data/cssp-china/zarr_monthly_1851-1889'\n",
    "CHUNKS = {'time': 200, 'grid_latitude': 219, 'grid_longitude': 286, 'grid_latitude_1': 218, 'grid_longitude_1': 286}"
   ]
  },
  {
   "cell_type": "markdown",
   "metadata": {},
   "source": [
    "## Initialise logging"
   ]
  },
  {
   "cell_type": "code",
   "execution_count": 17,
   "metadata": {},
   "outputs": [],
   "source": [
    "LOGFILE = '/data/cssp-china/zarr_append_monthly.log'\n",
    "logging.basicConfig(filename=LOGFILE,\n",
    "                    level=logging.DEBUG,\n",
    "                    format='%(asctime)s %(message)s',\n",
    "                    datefmt='%d/%m/%Y %H:%M:%S')"
   ]
  },
  {
   "cell_type": "code",
   "execution_count": 18,
   "metadata": {},
   "outputs": [
    {
     "name": "stdout",
     "output_type": "stream",
     "text": [
      "Log initiated at /data/cssp-china/zarr_append_monthly.log\n"
     ]
    }
   ],
   "source": [
    "if not os.path.isfile(LOGFILE):\n",
    "    os.mknod(LOGFILE)\n",
    "\n",
    "if os.stat(LOGFILE).st_size == 0:\n",
    "    logging.info('Initiate log')\n",
    "    print(f'Log initiated at {LOGFILE}')"
   ]
  },
  {
   "cell_type": "markdown",
   "metadata": {},
   "source": [
    "## Create a Zarr with 3 cubes, which definitely amounts to 577 time steps (~25 days)"
   ]
  },
  {
   "cell_type": "code",
   "execution_count": 19,
   "metadata": {},
   "outputs": [
    {
     "name": "stdout",
     "output_type": "stream",
     "text": [
      "CPU times: user 1.46 s, sys: 119 ms, total: 1.58 s\n",
      "Wall time: 2.34 s\n"
     ]
    },
    {
     "data": {
      "text/html": [
       "\n",
       "<style>\n",
       "  a.iris {\n",
       "      text-decoration: none !important;\n",
       "  }\n",
       "  table.iris {\n",
       "      white-space: pre;\n",
       "      border: 1px solid;\n",
       "      border-color: #9c9c9c;\n",
       "      font-family: monaco, monospace;\n",
       "  }\n",
       "  th.iris {\n",
       "      background: #303f3f;\n",
       "      color: #e0e0e0;\n",
       "      border-left: 1px solid;\n",
       "      border-color: #9c9c9c;\n",
       "      font-size: 1.05em;\n",
       "      min-width: 50px;\n",
       "      max-width: 125px;\n",
       "  }\n",
       "  tr.iris :first-child {\n",
       "      border-right: 1px solid #9c9c9c !important;\n",
       "  }\n",
       "  td.iris-title {\n",
       "      background: #d5dcdf;\n",
       "      border-top: 1px solid #9c9c9c;\n",
       "      font-weight: bold;\n",
       "  }\n",
       "  .iris-word-cell {\n",
       "      text-align: left !important;\n",
       "      white-space: pre;\n",
       "  }\n",
       "  .iris-subheading-cell {\n",
       "      padding-left: 2em !important;\n",
       "  }\n",
       "  .iris-inclusion-cell {\n",
       "      padding-right: 1em !important;\n",
       "  }\n",
       "  .iris-panel-body {\n",
       "      padding-top: 0px;\n",
       "  }\n",
       "  .iris-panel-title {\n",
       "      padding-left: 3em;\n",
       "  }\n",
       "  .iris-panel-title {\n",
       "      margin-top: 7px;\n",
       "  }\n",
       "</style>\n",
       "<table class=\"iris\" id=\"140654106413488\">\n",
       "    <tr class=\"iris\">\n",
       "<th class=\"iris iris-word-cell\">Air Temperature (K)</th>\n",
       "<th class=\"iris iris-word-cell\">time</th>\n",
       "<th class=\"iris iris-word-cell\">grid_latitude</th>\n",
       "<th class=\"iris iris-word-cell\">grid_longitude</th>\n",
       "</tr>\n",
       "    <tr class=\"iris\">\n",
       "<td class=\"iris-word-cell iris-subheading-cell\">Shape</td>\n",
       "<td class=\"iris iris-inclusion-cell\">3</td>\n",
       "<td class=\"iris iris-inclusion-cell\">219</td>\n",
       "<td class=\"iris iris-inclusion-cell\">286</td>\n",
       "</tr>\n",
       "    <tr class=\"iris\">\n",
       "    <td class=\"iris-title iris-word-cell\">Dimension coordinates</td>\n",
       "    <td class=\"iris-title\"></td>\n",
       "    <td class=\"iris-title\"></td>\n",
       "    <td class=\"iris-title\"></td>\n",
       "</tr>\n",
       "<tr class=\"iris\">\n",
       "    <td class=\"iris-word-cell iris-subheading-cell\">\ttime</td>\n",
       "    <td class=\"iris-inclusion-cell\">x</td>\n",
       "    <td class=\"iris-inclusion-cell\">-</td>\n",
       "    <td class=\"iris-inclusion-cell\">-</td>\n",
       "</tr>\n",
       "<tr class=\"iris\">\n",
       "    <td class=\"iris-word-cell iris-subheading-cell\">\tgrid_latitude</td>\n",
       "    <td class=\"iris-inclusion-cell\">-</td>\n",
       "    <td class=\"iris-inclusion-cell\">x</td>\n",
       "    <td class=\"iris-inclusion-cell\">-</td>\n",
       "</tr>\n",
       "<tr class=\"iris\">\n",
       "    <td class=\"iris-word-cell iris-subheading-cell\">\tgrid_longitude</td>\n",
       "    <td class=\"iris-inclusion-cell\">-</td>\n",
       "    <td class=\"iris-inclusion-cell\">-</td>\n",
       "    <td class=\"iris-inclusion-cell\">x</td>\n",
       "</tr>\n",
       "<tr class=\"iris\">\n",
       "    <td class=\"iris-title iris-word-cell\">Auxiliary coordinates</td>\n",
       "    <td class=\"iris-title\"></td>\n",
       "    <td class=\"iris-title\"></td>\n",
       "    <td class=\"iris-title\"></td>\n",
       "</tr>\n",
       "<tr class=\"iris\">\n",
       "    <td class=\"iris-word-cell iris-subheading-cell\">\tforecast_period</td>\n",
       "    <td class=\"iris-inclusion-cell\">x</td>\n",
       "    <td class=\"iris-inclusion-cell\">-</td>\n",
       "    <td class=\"iris-inclusion-cell\">-</td>\n",
       "</tr>\n",
       "<tr class=\"iris\">\n",
       "    <td class=\"iris-title iris-word-cell\">Scalar coordinates</td>\n",
       "    <td class=\"iris-title\"></td>\n",
       "    <td class=\"iris-title\"></td>\n",
       "    <td class=\"iris-title\"></td>\n",
       "</tr>\n",
       "<tr class=\"iris\">\n",
       "    <td class=\"iris-word-cell iris-subheading-cell\">\tforecast_reference_time</td>\n",
       "    <td class=\"iris-word-cell\" colspan=\"3\">1849-12-01 00:00:00</td>\n",
       "</tr>\n",
       "<tr class=\"iris\">\n",
       "    <td class=\"iris-word-cell iris-subheading-cell\">\theight</td>\n",
       "    <td class=\"iris-word-cell\" colspan=\"3\">1.5 m</td>\n",
       "</tr>\n",
       "<tr class=\"iris\">\n",
       "    <td class=\"iris-title iris-word-cell\">Attributes</td>\n",
       "    <td class=\"iris-title\"></td>\n",
       "    <td class=\"iris-title\"></td>\n",
       "    <td class=\"iris-title\"></td>\n",
       "</tr>\n",
       "<tr class=\"iris\">\n",
       "    <td class=\"iris-word-cell iris-subheading-cell\">\tSTASH</td>\n",
       "    <td class=\"iris-word-cell\" colspan=\"3\">m01s03i236</td>\n",
       "</tr>\n",
       "<tr class=\"iris\">\n",
       "    <td class=\"iris-word-cell iris-subheading-cell\">\tsource</td>\n",
       "    <td class=\"iris-word-cell\" colspan=\"3\">Data from Met Office Unified Model</td>\n",
       "</tr>\n",
       "<tr class=\"iris\">\n",
       "    <td class=\"iris-title iris-word-cell\">Cell methods</td>\n",
       "    <td class=\"iris-title\"></td>\n",
       "    <td class=\"iris-title\"></td>\n",
       "    <td class=\"iris-title\"></td>\n",
       "</tr>\n",
       "<tr class=\"iris\">\n",
       "    <td class=\"iris-word-cell iris-subheading-cell\">\tmean</td>\n",
       "    <td class=\"iris-word-cell\" colspan=\"3\">time (1 hour)</td>\n",
       "</tr>\n",
       "</table>\n",
       "        "
      ],
      "text/plain": [
       "<iris 'Cube' of air_temperature / (K) (time: 3; grid_latitude: 219; grid_longitude: 286)>"
      ]
     },
     "execution_count": 19,
     "metadata": {},
     "output_type": "execute_result"
    }
   ],
   "source": [
    "%%time\n",
    "cubelist0 = iris.load(filepaths[0:3])\n",
    "cubelist0[1]"
   ]
  },
  {
   "cell_type": "code",
   "execution_count": 20,
   "metadata": {},
   "outputs": [
    {
     "name": "stdout",
     "output_type": "stream",
     "text": [
      "0: air_pressure_at_sea_level / (Pa)    (time: 3; grid_latitude: 219; grid_longitude: 286)\n",
      "1: air_temperature / (K)               (time: 3; grid_latitude: 219; grid_longitude: 286)\n",
      "2: air_temperature / (K)               (time: 3; grid_latitude: 219; grid_longitude: 286)\n",
      "3: air_temperature / (K)               (time: 3; grid_latitude: 219; grid_longitude: 286)\n",
      "4: air_temperature / (K)               (time: 3; pressure: 17; grid_latitude: 219; grid_longitude: 286)\n",
      "5: cloud_area_fraction / (1)           (time: 3; grid_latitude: 219; grid_longitude: 286)\n",
      "6: geopotential_height / (m)           (time: 3; pressure: 17; grid_latitude: 219; grid_longitude: 286)\n",
      "7: lagrangian_tendency_of_air_pressure / (Pa s-1) (time: 3; pressure: 17; grid_latitude: 218; grid_longitude: 286)\n",
      "8: precipitation_flux / (kg m-2 s-1)   (time: 3; grid_latitude: 219; grid_longitude: 286)\n",
      "9: relative_humidity / (%)             (time: 3; grid_latitude: 219; grid_longitude: 286)\n",
      "10: relative_humidity / (%)             (time: 3; pressure: 17; grid_latitude: 219; grid_longitude: 286)\n",
      "11: specific_humidity / (1)             (time: 3; grid_latitude: 219; grid_longitude: 286)\n",
      "12: surface_air_pressure / (Pa)         (time: 3; grid_latitude: 219; grid_longitude: 286)\n",
      "13: surface_downwelling_longwave_flux_in_air / (W m-2) (time: 3; grid_latitude: 219; grid_longitude: 286)\n",
      "14: surface_downwelling_shortwave_flux_in_air / (W m-2) (time: 3; grid_latitude: 219; grid_longitude: 286)\n",
      "15: surface_temperature / (K)           (time: 3; grid_latitude: 219; grid_longitude: 286)\n",
      "16: x_wind / (m s-1)                    (time: 3; grid_latitude: 218; grid_longitude: 286)\n",
      "17: x_wind / (m s-1)                    (time: 3; pressure: 17; grid_latitude: 218; grid_longitude: 286)\n",
      "18: y_wind / (m s-1)                    (time: 3; grid_latitude: 218; grid_longitude: 286)\n",
      "19: y_wind / (m s-1)                    (time: 3; pressure: 17; grid_latitude: 218; grid_longitude: 286)\n"
     ]
    }
   ],
   "source": [
    "print(cubelist0)"
   ]
  },
  {
   "cell_type": "code",
   "execution_count": 21,
   "metadata": {},
   "outputs": [
    {
     "name": "stdout",
     "output_type": "stream",
     "text": [
      "air_pressure_at_sea_level\n",
      "  x time\n",
      "  x grid_latitude\n",
      "  x grid_longitude\n",
      "  x forecast_reference_time\n",
      "  x forecast_period\n",
      "air_temperature -> air_temperature_at_2m_mean\n",
      "  x time\n",
      "  x grid_latitude\n",
      "  x grid_longitude\n",
      "    forecast_reference_time_1\n",
      "  x height\n",
      "  x forecast_period\n",
      "air_temperature -> air_temperature_at_2m\n",
      "  x time\n",
      "  x grid_latitude\n",
      "  x grid_longitude\n",
      "    forecast_reference_time_1\n",
      "  x height\n",
      "  x forecast_period\n",
      "air_temperature -> air_temperature_at_2m\n",
      "  x time\n",
      "  x grid_latitude\n",
      "  x grid_longitude\n",
      "    forecast_reference_time_1\n",
      "  x height\n",
      "  x forecast_period\n",
      "air_temperature -> air_temperature_at_pressure_mean\n",
      "  x time\n",
      "  x pressure\n",
      "  x grid_latitude\n",
      "  x grid_longitude\n",
      "  x forecast_reference_time\n",
      "  x forecast_period\n",
      "cloud_area_fraction\n",
      "  x time\n",
      "  x grid_latitude\n",
      "  x grid_longitude\n",
      "    forecast_reference_time_2\n",
      "  x forecast_period\n",
      "geopotential_height\n",
      "  x time\n",
      "  x pressure\n",
      "  x grid_latitude\n",
      "  x grid_longitude\n",
      "  x forecast_reference_time\n",
      "  x forecast_period\n",
      "lagrangian_tendency_of_air_pressure\n",
      "  x time\n",
      "  x pressure\n",
      "    grid_latitude_1\n",
      "    grid_longitude_1\n",
      "    forecast_reference_time_1\n",
      "  x forecast_period\n",
      "precipitation_flux\n",
      "  x time\n",
      "  x grid_latitude\n",
      "  x grid_longitude\n",
      "    forecast_reference_time_1\n",
      "  x forecast_period\n",
      "relative_humidity -> relative_humidity_at_2m_mean\n",
      "  x time\n",
      "  x grid_latitude\n",
      "  x grid_longitude\n",
      "    forecast_reference_time_1\n",
      "  x height\n",
      "  x forecast_period\n",
      "relative_humidity -> relative_humidity_at_pressure_mean\n",
      "  x time\n",
      "  x pressure\n",
      "  x grid_latitude\n",
      "  x grid_longitude\n",
      "  x forecast_reference_time\n",
      "  x forecast_period\n",
      "specific_humidity\n",
      "  x time\n",
      "  x grid_latitude\n",
      "  x grid_longitude\n",
      "    forecast_reference_time_1\n",
      "  x height\n",
      "  x forecast_period\n",
      "surface_air_pressure\n",
      "  x time\n",
      "  x grid_latitude\n",
      "  x grid_longitude\n",
      "    forecast_reference_time_1\n",
      "  x forecast_period\n",
      "surface_downwelling_longwave_flux_in_air\n",
      "  x time\n",
      "  x grid_latitude\n",
      "  x grid_longitude\n",
      "    forecast_reference_time_2\n",
      "  x forecast_period\n",
      "surface_downwelling_shortwave_flux_in_air\n",
      "  x time\n",
      "  x grid_latitude\n",
      "  x grid_longitude\n",
      "    forecast_reference_time_2\n",
      "  x forecast_period\n",
      "surface_temperature\n",
      "  x time\n",
      "  x grid_latitude\n",
      "  x grid_longitude\n",
      "    forecast_reference_time_1\n",
      "  x forecast_period\n",
      "x_wind -> x_wind_at_10m_mean\n",
      "  x time\n",
      "    grid_latitude_1\n",
      "    grid_longitude_1\n",
      "    forecast_reference_time_1\n",
      "    height_1\n",
      "  x forecast_period\n",
      "x_wind -> x_wind_at_pressure_mean\n",
      "  x time\n",
      "  x pressure\n",
      "    grid_latitude_1\n",
      "    grid_longitude_1\n",
      "    forecast_reference_time_1\n",
      "  x forecast_period\n",
      "y_wind -> y_wind_at_10m_mean\n",
      "  x time\n",
      "    grid_latitude_1\n",
      "    grid_longitude_1\n",
      "    forecast_reference_time_1\n",
      "    height_1\n",
      "  x forecast_period\n",
      "y_wind -> y_wind_at_pressure_mean\n",
      "  x time\n",
      "  x pressure\n",
      "    grid_latitude_1\n",
      "    grid_longitude_1\n",
      "    forecast_reference_time_1\n",
      "  x forecast_period\n",
      "CPU times: user 16.7 ms, sys: 704 µs, total: 17.4 ms\n",
      "Wall time: 12.3 ms\n"
     ]
    }
   ],
   "source": [
    "%%time\n",
    "crd.rename_cubes(cubelist0, CUBENAMES, COORD_NAME_MAPPING, dryrun=False)"
   ]
  },
  {
   "cell_type": "code",
   "execution_count": 22,
   "metadata": {},
   "outputs": [
    {
     "ename": "MergeError",
     "evalue": "conflicting values for variable 'forecast_period' on objects to be combined. You can skip this check by specifying compat='override'.",
     "output_type": "error",
     "traceback": [
      "\u001b[0;31m---------------------------------------------------------------------------\u001b[0m",
      "\u001b[0;31mMergeError\u001b[0m                                Traceback (most recent call last)",
      "\u001b[0;32m<timed exec>\u001b[0m in \u001b[0;36m<module>\u001b[0;34m\u001b[0m\n",
      "\u001b[0;32m~/my-conda-envs/pangolin/lib/python3.6/site-packages/xarray/core/merge.py\u001b[0m in \u001b[0;36mmerge\u001b[0;34m(objects, compat, join, fill_value)\u001b[0m\n\u001b[1;32m    791\u001b[0m         \u001b[0mdict_like_objects\u001b[0m\u001b[0;34m.\u001b[0m\u001b[0mappend\u001b[0m\u001b[0;34m(\u001b[0m\u001b[0mobj\u001b[0m\u001b[0;34m)\u001b[0m\u001b[0;34m\u001b[0m\u001b[0;34m\u001b[0m\u001b[0m\n\u001b[1;32m    792\u001b[0m \u001b[0;34m\u001b[0m\u001b[0m\n\u001b[0;32m--> 793\u001b[0;31m     \u001b[0mmerge_result\u001b[0m \u001b[0;34m=\u001b[0m \u001b[0mmerge_core\u001b[0m\u001b[0;34m(\u001b[0m\u001b[0mdict_like_objects\u001b[0m\u001b[0;34m,\u001b[0m \u001b[0mcompat\u001b[0m\u001b[0;34m,\u001b[0m \u001b[0mjoin\u001b[0m\u001b[0;34m,\u001b[0m \u001b[0mfill_value\u001b[0m\u001b[0;34m=\u001b[0m\u001b[0mfill_value\u001b[0m\u001b[0;34m)\u001b[0m\u001b[0;34m\u001b[0m\u001b[0;34m\u001b[0m\u001b[0m\n\u001b[0m\u001b[1;32m    794\u001b[0m     \u001b[0mmerged\u001b[0m \u001b[0;34m=\u001b[0m \u001b[0mDataset\u001b[0m\u001b[0;34m.\u001b[0m\u001b[0m_construct_direct\u001b[0m\u001b[0;34m(\u001b[0m\u001b[0;34m**\u001b[0m\u001b[0mmerge_result\u001b[0m\u001b[0;34m.\u001b[0m\u001b[0m_asdict\u001b[0m\u001b[0;34m(\u001b[0m\u001b[0;34m)\u001b[0m\u001b[0;34m)\u001b[0m\u001b[0;34m\u001b[0m\u001b[0;34m\u001b[0m\u001b[0m\n\u001b[1;32m    795\u001b[0m     \u001b[0;32mreturn\u001b[0m \u001b[0mmerged\u001b[0m\u001b[0;34m\u001b[0m\u001b[0;34m\u001b[0m\u001b[0m\n",
      "\u001b[0;32m~/my-conda-envs/pangolin/lib/python3.6/site-packages/xarray/core/merge.py\u001b[0m in \u001b[0;36mmerge_core\u001b[0;34m(objects, compat, join, priority_arg, explicit_coords, indexes, fill_value)\u001b[0m\n\u001b[1;32m    553\u001b[0m \u001b[0;34m\u001b[0m\u001b[0m\n\u001b[1;32m    554\u001b[0m     \u001b[0mprioritized\u001b[0m \u001b[0;34m=\u001b[0m \u001b[0m_get_priority_vars_and_indexes\u001b[0m\u001b[0;34m(\u001b[0m\u001b[0maligned\u001b[0m\u001b[0;34m,\u001b[0m \u001b[0mpriority_arg\u001b[0m\u001b[0;34m,\u001b[0m \u001b[0mcompat\u001b[0m\u001b[0;34m=\u001b[0m\u001b[0mcompat\u001b[0m\u001b[0;34m)\u001b[0m\u001b[0;34m\u001b[0m\u001b[0;34m\u001b[0m\u001b[0m\n\u001b[0;32m--> 555\u001b[0;31m     \u001b[0mvariables\u001b[0m\u001b[0;34m,\u001b[0m \u001b[0mout_indexes\u001b[0m \u001b[0;34m=\u001b[0m \u001b[0mmerge_collected\u001b[0m\u001b[0;34m(\u001b[0m\u001b[0mcollected\u001b[0m\u001b[0;34m,\u001b[0m \u001b[0mprioritized\u001b[0m\u001b[0;34m,\u001b[0m \u001b[0mcompat\u001b[0m\u001b[0;34m=\u001b[0m\u001b[0mcompat\u001b[0m\u001b[0;34m)\u001b[0m\u001b[0;34m\u001b[0m\u001b[0;34m\u001b[0m\u001b[0m\n\u001b[0m\u001b[1;32m    556\u001b[0m     \u001b[0massert_unique_multiindex_level_names\u001b[0m\u001b[0;34m(\u001b[0m\u001b[0mvariables\u001b[0m\u001b[0;34m)\u001b[0m\u001b[0;34m\u001b[0m\u001b[0;34m\u001b[0m\u001b[0m\n\u001b[1;32m    557\u001b[0m \u001b[0;34m\u001b[0m\u001b[0m\n",
      "\u001b[0;32m~/my-conda-envs/pangolin/lib/python3.6/site-packages/xarray/core/merge.py\u001b[0m in \u001b[0;36mmerge_collected\u001b[0;34m(grouped, prioritized, compat)\u001b[0m\n\u001b[1;32m    226\u001b[0m                 \u001b[0mvariables\u001b[0m \u001b[0;34m=\u001b[0m \u001b[0;34m[\u001b[0m\u001b[0mvariable\u001b[0m \u001b[0;32mfor\u001b[0m \u001b[0mvariable\u001b[0m\u001b[0;34m,\u001b[0m \u001b[0m_\u001b[0m \u001b[0;32min\u001b[0m \u001b[0melements_list\u001b[0m\u001b[0;34m]\u001b[0m\u001b[0;34m\u001b[0m\u001b[0;34m\u001b[0m\u001b[0m\n\u001b[1;32m    227\u001b[0m                 \u001b[0;32mtry\u001b[0m\u001b[0;34m:\u001b[0m\u001b[0;34m\u001b[0m\u001b[0;34m\u001b[0m\u001b[0m\n\u001b[0;32m--> 228\u001b[0;31m                     \u001b[0mmerged_vars\u001b[0m\u001b[0;34m[\u001b[0m\u001b[0mname\u001b[0m\u001b[0;34m]\u001b[0m \u001b[0;34m=\u001b[0m \u001b[0munique_variable\u001b[0m\u001b[0;34m(\u001b[0m\u001b[0mname\u001b[0m\u001b[0;34m,\u001b[0m \u001b[0mvariables\u001b[0m\u001b[0;34m,\u001b[0m \u001b[0mcompat\u001b[0m\u001b[0;34m)\u001b[0m\u001b[0;34m\u001b[0m\u001b[0;34m\u001b[0m\u001b[0m\n\u001b[0m\u001b[1;32m    229\u001b[0m                 \u001b[0;32mexcept\u001b[0m \u001b[0mMergeError\u001b[0m\u001b[0;34m:\u001b[0m\u001b[0;34m\u001b[0m\u001b[0;34m\u001b[0m\u001b[0m\n\u001b[1;32m    230\u001b[0m                     \u001b[0;32mif\u001b[0m \u001b[0mcompat\u001b[0m \u001b[0;34m!=\u001b[0m \u001b[0;34m\"minimal\"\u001b[0m\u001b[0;34m:\u001b[0m\u001b[0;34m\u001b[0m\u001b[0;34m\u001b[0m\u001b[0m\n",
      "\u001b[0;32m~/my-conda-envs/pangolin/lib/python3.6/site-packages/xarray/core/merge.py\u001b[0m in \u001b[0;36munique_variable\u001b[0;34m(name, variables, compat, equals)\u001b[0m\n\u001b[1;32m    141\u001b[0m     \u001b[0;32mif\u001b[0m \u001b[0;32mnot\u001b[0m \u001b[0mequals\u001b[0m\u001b[0;34m:\u001b[0m\u001b[0;34m\u001b[0m\u001b[0;34m\u001b[0m\u001b[0m\n\u001b[1;32m    142\u001b[0m         raise MergeError(\n\u001b[0;32m--> 143\u001b[0;31m             \u001b[0;34mf\"conflicting values for variable {name!r} on objects to be combined. \"\u001b[0m\u001b[0;34m\u001b[0m\u001b[0;34m\u001b[0m\u001b[0m\n\u001b[0m\u001b[1;32m    144\u001b[0m             \u001b[0;34m\"You can skip this check by specifying compat='override'.\"\u001b[0m\u001b[0;34m\u001b[0m\u001b[0;34m\u001b[0m\u001b[0m\n\u001b[1;32m    145\u001b[0m         )\n",
      "\u001b[0;31mMergeError\u001b[0m: conflicting values for variable 'forecast_period' on objects to be combined. You can skip this check by specifying compat='override'."
     ]
    }
   ],
   "source": [
    "%%time\n",
    "dalist0 = crd.cubelist_to_dalist(cubelist0)\n",
    "ds0 = xr.merge(dalist0)"
   ]
  },
  {
   "cell_type": "markdown",
   "metadata": {},
   "source": [
    "## BREAK: Conflicts with merging into a Dataset"
   ]
  },
  {
   "cell_type": "markdown",
   "metadata": {},
   "source": [
    "--------"
   ]
  },
  {
   "cell_type": "code",
   "execution_count": null,
   "metadata": {},
   "outputs": [],
   "source": [
    "ds0"
   ]
  },
  {
   "cell_type": "code",
   "execution_count": null,
   "metadata": {},
   "outputs": [],
   "source": [
    "%%time\n",
    "logging.info(f'Creating {ZARR}')\n",
    "crd.ds_to_zarr(ds0, ZARR, chunks=CHUNKS)"
   ]
  },
  {
   "cell_type": "code",
   "execution_count": null,
   "metadata": {},
   "outputs": [],
   "source": [
    "dsz0 = xr.open_zarr(ZARR)\n",
    "dsz0"
   ]
  },
  {
   "cell_type": "code",
   "execution_count": null,
   "metadata": {},
   "outputs": [],
   "source": [
    "# Size of Dataset in GB\n",
    "dsz0.nbytes / 1e9"
   ]
  },
  {
   "cell_type": "code",
   "execution_count": null,
   "metadata": {},
   "outputs": [],
   "source": [
    "logging.info(f'  Successfull creation of {ZARR}')\n",
    "logging.info(f'  Processed filenames 0:{filenames[0]} - 3:{filenames[3]}')\n",
    "logging.info(f'  Chunking {CHUNKS}')"
   ]
  },
  {
   "cell_type": "markdown",
   "metadata": {},
   "source": [
    "## Now loop through the remaining cubes and append to the Zarr we created"
   ]
  },
  {
   "cell_type": "code",
   "execution_count": null,
   "metadata": {},
   "outputs": [],
   "source": [
    "def logprint(message):\n",
    "    logging.info(message)\n",
    "    print(message)"
   ]
  },
  {
   "cell_type": "code",
   "execution_count": null,
   "metadata": {},
   "outputs": [],
   "source": [
    "%%time\n",
    "# Loop through in bunches of 2 cubes, so as to not use to much memory at one time\n",
    "start = 7\n",
    "step = 2\n",
    "stop = len(filepaths)\n",
    "# stop = start+(2*step)\n",
    "\n",
    "logprint(f'Appending data to {ZARR}')\n",
    "\n",
    "for i in range(start, stop, step):\n",
    "    fnames = filenames[i:i+step]\n",
    "    logprint(f'  Processing filenames {i}:{fnames[0]} - {min([i+step, stop])}:{fnames[-1]}')\n",
    "    try:\n",
    "        cubelist = iris.load(filepaths[i:i+step])\n",
    "        logprint(f'  | Loaded files successfully')\n",
    "        \n",
    "        crd.rename_cubes(cubelist, CUBENAMES, COORD_NAME_MAPPING, dryrun=False, verbose=False)\n",
    "        logprint(f'  | Renamed files successfully')\n",
    "        \n",
    "        dalist = crd.cubelist_to_dalist(cubelist)\n",
    "        ds = xr.merge(dalist)\n",
    "        logprint(f'  | Created dataset successfully')\n",
    "        \n",
    "        crd.ds_to_zarr(ds, ZARR, chunks=CHUNKS)\n",
    "        logprint(f'  | Appended to Zarr {ZARR} successfully')\n",
    "        \n",
    "    except Exception as e:\n",
    "        logprint(f'  X ERROR: {e}')\n",
    "        raise e\n",
    "\n",
    "logprint(f'  Appending data complete')"
   ]
  },
  {
   "cell_type": "code",
   "execution_count": null,
   "metadata": {},
   "outputs": [],
   "source": [
    "dsz1 = xr.open_zarr(ZARR)\n",
    "dsz1"
   ]
  },
  {
   "cell_type": "code",
   "execution_count": null,
   "metadata": {},
   "outputs": [],
   "source": [
    "cubez = dsz1.surface_air_pressure.to_iris()\n",
    "cubez"
   ]
  },
  {
   "cell_type": "code",
   "execution_count": null,
   "metadata": {},
   "outputs": [],
   "source": [
    "deltas = cubez.coord('time').points[1:]-cubez.coord('time').points[0:-1]\n",
    "deltas"
   ]
  },
  {
   "cell_type": "code",
   "execution_count": null,
   "metadata": {},
   "outputs": [],
   "source": [
    "list(deltas).index(240)"
   ]
  },
  {
   "cell_type": "code",
   "execution_count": null,
   "metadata": {},
   "outputs": [],
   "source": []
  }
 ],
 "metadata": {
  "kernelspec": {
   "display_name": "Python (pangolin)",
   "language": "python",
   "name": "pangolin"
  },
  "language_info": {
   "codemirror_mode": {
    "name": "ipython",
    "version": 3
   },
   "file_extension": ".py",
   "mimetype": "text/x-python",
   "name": "python",
   "nbconvert_exporter": "python",
   "pygments_lexer": "ipython3",
   "version": "3.6.7"
  }
 },
 "nbformat": 4,
 "nbformat_minor": 4
}
