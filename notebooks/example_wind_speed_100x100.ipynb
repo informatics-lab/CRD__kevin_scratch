{
 "cells": [
  {
   "cell_type": "markdown",
   "metadata": {},
   "source": [
    "# EXAMPLE NOTEBOOK: Timeseries plot of windspeed at LOCATION[100,100]\n",
    "### Purpose of this notebook is to demonstrate plotting a timeseries of wind speed at a specific lat-lon location"
   ]
  },
  {
   "cell_type": "code",
   "execution_count": 1,
   "metadata": {},
   "outputs": [],
   "source": [
    "import os\n",
    "import iris\n",
    "import copy\n",
    "import zarr\n",
    "import xarray as xr\n",
    "import numpy as np\n",
    "import matplotlib.pyplot as plt\n",
    "\n",
    "import crd_utils as crd"
   ]
  },
  {
   "cell_type": "code",
   "execution_count": 4,
   "metadata": {},
   "outputs": [
    {
     "name": "stdin",
     "output_type": "stream",
     "text": [
      " ························································································\n"
     ]
    }
   ],
   "source": [
    "import getpass\n",
    "account_key = getpass.getpass()"
   ]
  },
  {
   "cell_type": "code",
   "execution_count": 5,
   "metadata": {},
   "outputs": [
    {
     "name": "stdout",
     "output_type": "stream",
     "text": [
      "/data/cssp-china/zarr_hourly_1851-1859\n"
     ]
    }
   ],
   "source": [
    "# zarr = '/data/cssp-china/zarr_daily_1851-1859/'\n",
    "# zarr.storage.ABSStore(container, prefix='', account_name=None, account_key=None, blob_service_kwargs=None)\n",
    "\n",
    "prefix_read ='zarr_hourly_1851-1859'\n",
    "zarr_read = zarr.storage.ABSStore('cssp-china', prefix=prefix_read, account_name='awsearth', account_key=account_key, blob_service_kwargs=None)\n",
    "print(f'/data/cssp-china/{prefix_read}')"
   ]
  },
  {
   "cell_type": "code",
   "execution_count": 6,
   "metadata": {},
   "outputs": [
    {
     "name": "stdout",
     "output_type": "stream",
     "text": [
      "CPU times: user 991 ms, sys: 0 ns, total: 991 ms\n",
      "Wall time: 2.6 s\n"
     ]
    },
    {
     "data": {
      "text/html": [
       "<pre>&lt;xarray.Dataset&gt;\n",
       "Dimensions:                  (grid_latitude: 219, grid_latitude_1: 218, grid_longitude: 286, grid_longitude_1: 286, time: 77329)\n",
       "Coordinates:\n",
       "    forecast_period          (time) timedelta64[ns] dask.array&lt;chunksize=(577,), meta=np.ndarray&gt;\n",
       "    forecast_reference_time  datetime64[ns] ...\n",
       "  * grid_latitude            (grid_latitude) float32 22.88 22.66 ... -25.08\n",
       "  * grid_latitude_1          (grid_latitude_1) float32 22.77 ... -24.969997\n",
       "  * grid_longitude           (grid_longitude) float32 323.48 323.7 ... 386.18002\n",
       "  * grid_longitude_1         (grid_longitude_1) float32 323.59003 ... 386.29004\n",
       "    height                   float64 ...\n",
       "  * time                     (time) datetime64[ns] 1851-01-01 ... 1859-12-29\n",
       "Data variables:\n",
       "    surface_air_pressure     (time, grid_latitude, grid_longitude) float32 dask.array&lt;chunksize=(200, 219, 286), meta=np.ndarray&gt;\n",
       "    x_wind                   (time, grid_latitude_1, grid_longitude_1) float32 dask.array&lt;chunksize=(200, 218, 286), meta=np.ndarray&gt;\n",
       "    y_wind                   (time, grid_latitude_1, grid_longitude_1) float32 dask.array&lt;chunksize=(200, 218, 286), meta=np.ndarray&gt;</pre>"
      ],
      "text/plain": [
       "<xarray.Dataset>\n",
       "Dimensions:                  (grid_latitude: 219, grid_latitude_1: 218, grid_longitude: 286, grid_longitude_1: 286, time: 77329)\n",
       "Coordinates:\n",
       "    forecast_period          (time) timedelta64[ns] dask.array<chunksize=(577,), meta=np.ndarray>\n",
       "    forecast_reference_time  datetime64[ns] ...\n",
       "  * grid_latitude            (grid_latitude) float32 22.88 22.66 ... -25.08\n",
       "  * grid_latitude_1          (grid_latitude_1) float32 22.77 ... -24.969997\n",
       "  * grid_longitude           (grid_longitude) float32 323.48 323.7 ... 386.18002\n",
       "  * grid_longitude_1         (grid_longitude_1) float32 323.59003 ... 386.29004\n",
       "    height                   float64 ...\n",
       "  * time                     (time) datetime64[ns] 1851-01-01 ... 1859-12-29\n",
       "Data variables:\n",
       "    surface_air_pressure     (time, grid_latitude, grid_longitude) float32 dask.array<chunksize=(200, 219, 286), meta=np.ndarray>\n",
       "    x_wind                   (time, grid_latitude_1, grid_longitude_1) float32 dask.array<chunksize=(200, 218, 286), meta=np.ndarray>\n",
       "    y_wind                   (time, grid_latitude_1, grid_longitude_1) float32 dask.array<chunksize=(200, 218, 286), meta=np.ndarray>"
      ]
     },
     "execution_count": 6,
     "metadata": {},
     "output_type": "execute_result"
    }
   ],
   "source": [
    "%%time\n",
    "ds = xr.open_zarr(zarr_read)\n",
    "ds"
   ]
  },
  {
   "cell_type": "code",
   "execution_count": 7,
   "metadata": {},
   "outputs": [
    {
     "data": {
      "text/plain": [
       "57.945407596"
      ]
     },
     "execution_count": 7,
     "metadata": {},
     "output_type": "execute_result"
    }
   ],
   "source": [
    "# What is the size in GBs?\n",
    "ds.nbytes / 1e9"
   ]
  },
  {
   "cell_type": "markdown",
   "metadata": {},
   "source": [
    "### Using dask_distributed, let's compute the rolling mean"
   ]
  },
  {
   "cell_type": "code",
   "execution_count": 8,
   "metadata": {},
   "outputs": [],
   "source": [
    "import os\n",
    "import distributed\n",
    "import dask\n",
    "from dask_kubernetes import KubeCluster\n",
    "from dask import array as da"
   ]
  },
  {
   "cell_type": "code",
   "execution_count": null,
   "metadata": {},
   "outputs": [],
   "source": [
    "cluster = KubeCluster()\n",
    "# cluster.adapt(minimum=1)\n",
    "cluster.scale(n=20)\n",
    "cluster"
   ]
  },
  {
   "cell_type": "code",
   "execution_count": null,
   "metadata": {},
   "outputs": [],
   "source": [
    "client = distributed.Client(cluster)\n",
    "client"
   ]
  },
  {
   "cell_type": "code",
   "execution_count": 9,
   "metadata": {},
   "outputs": [
    {
     "data": {
      "text/html": [
       "<table style=\"border: 2px solid white;\">\n",
       "<tr>\n",
       "<td style=\"vertical-align: top; border: 0px solid white\">\n",
       "<h3 style=\"text-align: left;\">Client</h3>\n",
       "<ul style=\"text-align: left; list-style: none; margin: 0; padding: 0;\">\n",
       "  <li><b>Scheduler: </b>tcp://10.244.0.246:41175</li>\n",
       "  <li><b>Dashboard: </b><a href='/user/kaedonkers/proxy/8787/status' target='_blank'>/user/kaedonkers/proxy/8787/status</a>\n",
       "</ul>\n",
       "</td>\n",
       "<td style=\"vertical-align: top; border: 0px solid white\">\n",
       "<h3 style=\"text-align: left;\">Cluster</h3>\n",
       "<ul style=\"text-align: left; list-style:none; margin: 0; padding: 0;\">\n",
       "  <li><b>Workers: </b>20</li>\n",
       "  <li><b>Cores: </b>20</li>\n",
       "  <li><b>Memory: </b>160.00 GB</li>\n",
       "</ul>\n",
       "</td>\n",
       "</tr>\n",
       "</table>"
      ],
      "text/plain": [
       "<Client: 'tcp://10.244.0.246:41175' processes=20 threads=20, memory=160.00 GB>"
      ]
     },
     "execution_count": 9,
     "metadata": {},
     "output_type": "execute_result"
    }
   ],
   "source": [
    "client = distributed.Client('tcp://10.244.0.246:41175')\n",
    "client\n"
   ]
  },
  {
   "cell_type": "markdown",
   "metadata": {},
   "source": [
    "## Calculate wind speed from `x/y_wind`"
   ]
  },
  {
   "cell_type": "code",
   "execution_count": 15,
   "metadata": {},
   "outputs": [
    {
     "name": "stdout",
     "output_type": "stream",
     "text": [
      "CPU times: user 71.2 ms, sys: 482 µs, total: 71.7 ms\n",
      "Wall time: 157 ms\n"
     ]
    },
    {
     "data": {
      "text/html": [
       "<pre>&lt;xarray.DataArray (time: 77329)&gt;\n",
       "dask.array&lt;pow, shape=(77329,), dtype=float32, chunksize=(200,), chunktype=numpy.ndarray&gt;\n",
       "Coordinates:\n",
       "    forecast_period          (time) timedelta64[ns] dask.array&lt;chunksize=(577,), meta=np.ndarray&gt;\n",
       "    forecast_reference_time  datetime64[ns] 1849-12-01\n",
       "    grid_latitude_1          float32 0.77000046\n",
       "    grid_longitude_1         float32 345.59003\n",
       "    height                   float64 10.0\n",
       "  * time                     (time) datetime64[ns] 1851-01-01 ... 1859-12-29</pre>"
      ],
      "text/plain": [
       "<xarray.DataArray (time: 77329)>\n",
       "dask.array<pow, shape=(77329,), dtype=float32, chunksize=(200,), chunktype=numpy.ndarray>\n",
       "Coordinates:\n",
       "    forecast_period          (time) timedelta64[ns] dask.array<chunksize=(577,), meta=np.ndarray>\n",
       "    forecast_reference_time  datetime64[ns] 1849-12-01\n",
       "    grid_latitude_1          float32 0.77000046\n",
       "    grid_longitude_1         float32 345.59003\n",
       "    height                   float64 10.0\n",
       "  * time                     (time) datetime64[ns] 1851-01-01 ... 1859-12-29"
      ]
     },
     "execution_count": 15,
     "metadata": {},
     "output_type": "execute_result"
    }
   ],
   "source": [
    "%%time\n",
    "x_100 = ds.x_wind[:, 100, 100]\n",
    "y_100 = ds.y_wind[:, 100, 100]\n",
    "wind_speed_100 = (x_100**2 + y_100**2)**0.5\n",
    "wind_speed_100.rename('wind_speed_100')\n",
    "wind_speed_100"
   ]
  },
  {
   "cell_type": "code",
   "execution_count": 14,
   "metadata": {},
   "outputs": [
    {
     "name": "stdout",
     "output_type": "stream",
     "text": [
      "CPU times: user 68.9 ms, sys: 0 ns, total: 68.9 ms\n",
      "Wall time: 146 ms\n"
     ]
    },
    {
     "data": {
      "text/html": [
       "<pre>&lt;xarray.DataArray (time: 77329)&gt;\n",
       "dask.array&lt;getitem, shape=(77329,), dtype=float32, chunksize=(200,), chunktype=numpy.ndarray&gt;\n",
       "Coordinates:\n",
       "    forecast_period          (time) timedelta64[ns] dask.array&lt;chunksize=(577,), meta=np.ndarray&gt;\n",
       "    forecast_reference_time  datetime64[ns] 1849-12-01\n",
       "    grid_latitude_1          float32 0.77000046\n",
       "    grid_longitude_1         float32 345.59003\n",
       "    height                   float64 10.0\n",
       "  * time                     (time) datetime64[ns] 1851-01-01 ... 1859-12-29</pre>"
      ],
      "text/plain": [
       "<xarray.DataArray (time: 77329)>\n",
       "dask.array<getitem, shape=(77329,), dtype=float32, chunksize=(200,), chunktype=numpy.ndarray>\n",
       "Coordinates:\n",
       "    forecast_period          (time) timedelta64[ns] dask.array<chunksize=(577,), meta=np.ndarray>\n",
       "    forecast_reference_time  datetime64[ns] 1849-12-01\n",
       "    grid_latitude_1          float32 0.77000046\n",
       "    grid_longitude_1         float32 345.59003\n",
       "    height                   float64 10.0\n",
       "  * time                     (time) datetime64[ns] 1851-01-01 ... 1859-12-29"
      ]
     },
     "execution_count": 14,
     "metadata": {},
     "output_type": "execute_result"
    }
   ],
   "source": [
    "%%time\n",
    "x_wind = ds.x_wind\n",
    "y_wind = ds.y_wind\n",
    "wind_speed = (x_wind**2 + y_wind**2)**0.5\n",
    "wind_speed.rename('wind_speed')\n",
    "wind_speed[:, 100, 100]"
   ]
  },
  {
   "cell_type": "markdown",
   "metadata": {},
   "source": [
    "## Plot timeseries for location [100,100]"
   ]
  },
  {
   "cell_type": "code",
   "execution_count": 16,
   "metadata": {},
   "outputs": [
    {
     "name": "stdout",
     "output_type": "stream",
     "text": [
      "CPU times: user 657 ms, sys: 28.4 ms, total: 685 ms\n",
      "Wall time: 41.3 s\n"
     ]
    },
    {
     "data": {
      "text/plain": [
       "[<matplotlib.lines.Line2D at 0x7f0f6b01a6d8>]"
      ]
     },
     "execution_count": 16,
     "metadata": {},
     "output_type": "execute_result"
    },
    {
     "data": {
      "image/png": "[encoded data removed]",
      "text/plain": [
       "<Figure size 432x288 with 1 Axes>"
      ]
     },
     "metadata": {
      "needs_background": "light"
     },
     "output_type": "display_data"
    }
   ],
   "source": [
    "%%time\n",
    "wind_speed_100.plot()"
   ]
  },
  {
   "cell_type": "code",
   "execution_count": 17,
   "metadata": {},
   "outputs": [
    {
     "name": "stdout",
     "output_type": "stream",
     "text": [
      "CPU times: user 517 ms, sys: 23.9 ms, total: 541 ms\n",
      "Wall time: 40.1 s\n"
     ]
    },
    {
     "data": {
      "text/plain": [
       "[<matplotlib.lines.Line2D at 0x7f0f7817f320>]"
      ]
     },
     "execution_count": 17,
     "metadata": {},
     "output_type": "execute_result"
    },
    {
     "data": {
      "image/png": "[encoded data removed]",
      "text/plain": [
       "<Figure size 432x288 with 1 Axes>"
      ]
     },
     "metadata": {
      "needs_background": "light"
     },
     "output_type": "display_data"
    }
   ],
   "source": [
    "%%time\n",
    "wind_speed_100.plot()"
   ]
  },
  {
   "cell_type": "code",
   "execution_count": null,
   "metadata": {},
   "outputs": [],
   "source": []
  }
 ],
 "metadata": {
  "kernelspec": {
   "display_name": "Python (cloudreadydata)",
   "language": "python",
   "name": "cloudreadydata"
  },
  "language_info": {
   "codemirror_mode": {
    "name": "ipython",
    "version": 3
   },
   "file_extension": ".py",
   "mimetype": "text/x-python",
   "name": "python",
   "nbconvert_exporter": "python",
   "pygments_lexer": "ipython3",
   "version": "3.6.10"
  }
 },
 "nbformat": 4,
 "nbformat_minor": 4
}
