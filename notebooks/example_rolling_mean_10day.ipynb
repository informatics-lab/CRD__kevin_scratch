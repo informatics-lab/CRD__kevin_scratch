{
 "cells": [
  {
   "cell_type": "markdown",
   "metadata": {},
   "source": [
    "# EXAMPLE NOTEBOOK: 10 day rolling mean\n",
    "### Purpose of this notebook is to demonstrate doing a 10-day rolling mean with the data that has been saved to Zarr"
   ]
  },
  {
   "cell_type": "code",
   "execution_count": 1,
   "metadata": {},
   "outputs": [],
   "source": [
    "import iris\n",
    "import copy\n",
    "import xarray as xr\n",
    "import numpy as np\n",
    "import matplotlib.pyplot as plt\n",
    "\n",
    "import crd_utils as crd"
   ]
  },
  {
   "cell_type": "code",
   "execution_count": 2,
   "metadata": {},
   "outputs": [
    {
     "name": "stdin",
     "output_type": "stream",
     "text": [
      " ························································································\n"
     ]
    }
   ],
   "source": [
    "# zarr = '/data/cssp-china/zarr_daily_1851-1859/'\n",
    "# zarr.storage.ABSStore(container, prefix='', account_name=None, account_key=None, blob_service_kwargs=None)\n",
    "import zarr\n",
    "import getpass\n",
    "account_key = getpass.getpass()\n",
    "\n",
    "\n",
    "zarr_read = zarr.storage.ABSStore('cssp-china', prefix='zarr_daily_1851-1859', account_name='awsearth', account_key=account_key, blob_service_kwargs=None)"
   ]
  },
  {
   "cell_type": "code",
   "execution_count": 3,
   "metadata": {},
   "outputs": [
    {
     "name": "stdout",
     "output_type": "stream",
     "text": [
      "CPU times: user 1.39 s, sys: 58.2 ms, total: 1.45 s\n",
      "Wall time: 3.79 s\n"
     ]
    },
    {
     "data": {
      "text/html": [
       "<pre>&lt;xarray.Dataset&gt;\n",
       "Dimensions:                                    (grid_latitude: 219, grid_latitude_1: 218, grid_longitude: 286, grid_longitude_1: 286, pressure: 14, time: 3244)\n",
       "Coordinates:\n",
       "    forecast_period                            (time) timedelta64[ns] dask.array&lt;chunksize=(204,), meta=np.ndarray&gt;\n",
       "    forecast_reference_time                    datetime64[ns] ...\n",
       "  * grid_latitude                              (grid_latitude) float32 22.88 ... -25.08\n",
       "  * grid_latitude_1                            (grid_latitude_1) float32 22.77 ... -24.969997\n",
       "  * grid_longitude                             (grid_longitude) float32 323.48 ... 386.18002\n",
       "  * grid_longitude_1                           (grid_longitude_1) float32 323.59003 ... 386.29004\n",
       "    height                                     float64 ...\n",
       "    height_1                                   float64 ...\n",
       "  * pressure                                   (pressure) float32 10.0 ... 1000.0\n",
       "  * time                                       (time) datetime64[ns] 1851-01-01T12:00:00 ... 1859-12-28T12:00:00\n",
       "Data variables:\n",
       "    air_pressure_at_sea_level                  (time, grid_latitude, grid_longitude) float32 dask.array&lt;chunksize=(200, 219, 286), meta=np.ndarray&gt;\n",
       "    air_temperature_at_2m_max                  (time, grid_latitude, grid_longitude) float32 dask.array&lt;chunksize=(200, 219, 286), meta=np.ndarray&gt;\n",
       "    air_temperature_at_2m_mean                 (time, grid_latitude, grid_longitude) float32 dask.array&lt;chunksize=(200, 219, 286), meta=np.ndarray&gt;\n",
       "    air_temperature_at_2m_min                  (time, grid_latitude, grid_longitude) float32 dask.array&lt;chunksize=(200, 219, 286), meta=np.ndarray&gt;\n",
       "    air_temperature_at_pressure_mean           (time, pressure, grid_latitude, grid_longitude) float32 dask.array&lt;chunksize=(200, 1, 219, 286), meta=np.ndarray&gt;\n",
       "    cloud_area_fraction                        (time, grid_latitude, grid_longitude) float32 dask.array&lt;chunksize=(200, 219, 286), meta=np.ndarray&gt;\n",
       "    geopotential_height                        (time, pressure, grid_latitude, grid_longitude) float32 dask.array&lt;chunksize=(200, 1, 219, 286), meta=np.ndarray&gt;\n",
       "    m01s05i217_max                             (time, grid_latitude, grid_longitude) float32 dask.array&lt;chunksize=(200, 219, 286), meta=np.ndarray&gt;\n",
       "    precipitation_flux                         (time, grid_latitude, grid_longitude) float32 dask.array&lt;chunksize=(200, 219, 286), meta=np.ndarray&gt;\n",
       "    relative_humidity_at_2m_max                (time, grid_latitude, grid_longitude) float32 dask.array&lt;chunksize=(200, 219, 286), meta=np.ndarray&gt;\n",
       "    relative_humidity_at_2m_mean               (time, grid_latitude, grid_longitude) float32 dask.array&lt;chunksize=(200, 219, 286), meta=np.ndarray&gt;\n",
       "    relative_humidity_at_2m_min                (time, grid_latitude, grid_longitude) float32 dask.array&lt;chunksize=(200, 219, 286), meta=np.ndarray&gt;\n",
       "    relative_humidity_at_pressure_mean         (time, pressure, grid_latitude, grid_longitude) float32 dask.array&lt;chunksize=(200, 1, 219, 286), meta=np.ndarray&gt;\n",
       "    specific_humidity                          (time, grid_latitude, grid_longitude) float32 dask.array&lt;chunksize=(200, 219, 286), meta=np.ndarray&gt;\n",
       "    surface_air_pressure                       (time, grid_latitude, grid_longitude) float32 dask.array&lt;chunksize=(200, 219, 286), meta=np.ndarray&gt;\n",
       "    surface_downwelling_longwave_flux_in_air   (time, grid_latitude, grid_longitude) float32 dask.array&lt;chunksize=(200, 219, 286), meta=np.ndarray&gt;\n",
       "    surface_downwelling_shortwave_flux_in_air  (time, grid_latitude, grid_longitude) float32 dask.array&lt;chunksize=(200, 219, 286), meta=np.ndarray&gt;\n",
       "    surface_temperature_max                    (time, grid_latitude, grid_longitude) float32 dask.array&lt;chunksize=(200, 219, 286), meta=np.ndarray&gt;\n",
       "    surface_temperature_mean                   (time, grid_latitude, grid_longitude) float32 dask.array&lt;chunksize=(200, 219, 286), meta=np.ndarray&gt;\n",
       "    surface_temperature_min                    (time, grid_latitude, grid_longitude) float32 dask.array&lt;chunksize=(200, 219, 286), meta=np.ndarray&gt;\n",
       "    x_wind_at_10m_mean                         (time, grid_latitude_1, grid_longitude_1) float32 dask.array&lt;chunksize=(200, 218, 286), meta=np.ndarray&gt;\n",
       "    x_wind_at_pressure_mean                    (time, pressure, grid_latitude_1, grid_longitude_1) float32 dask.array&lt;chunksize=(200, 1, 218, 286), meta=np.ndarray&gt;\n",
       "    y_wind_at_10m_mean                         (time, grid_latitude_1, grid_longitude_1) float32 dask.array&lt;chunksize=(200, 218, 286), meta=np.ndarray&gt;\n",
       "    y_wind_at_pressure_mean                    (time, pressure, grid_latitude_1, grid_longitude_1) float32 dask.array&lt;chunksize=(200, 1, 218, 286), meta=np.ndarray&gt;</pre>"
      ],
      "text/plain": [
       "<xarray.Dataset>\n",
       "Dimensions:                                    (grid_latitude: 219, grid_latitude_1: 218, grid_longitude: 286, grid_longitude_1: 286, pressure: 14, time: 3244)\n",
       "Coordinates:\n",
       "    forecast_period                            (time) timedelta64[ns] dask.array<chunksize=(204,), meta=np.ndarray>\n",
       "    forecast_reference_time                    datetime64[ns] ...\n",
       "  * grid_latitude                              (grid_latitude) float32 22.88 ... -25.08\n",
       "  * grid_latitude_1                            (grid_latitude_1) float32 22.77 ... -24.969997\n",
       "  * grid_longitude                             (grid_longitude) float32 323.48 ... 386.18002\n",
       "  * grid_longitude_1                           (grid_longitude_1) float32 323.59003 ... 386.29004\n",
       "    height                                     float64 ...\n",
       "    height_1                                   float64 ...\n",
       "  * pressure                                   (pressure) float32 10.0 ... 1000.0\n",
       "  * time                                       (time) datetime64[ns] 1851-01-01T12:00:00 ... 1859-12-28T12:00:00\n",
       "Data variables:\n",
       "    air_pressure_at_sea_level                  (time, grid_latitude, grid_longitude) float32 dask.array<chunksize=(200, 219, 286), meta=np.ndarray>\n",
       "    air_temperature_at_2m_max                  (time, grid_latitude, grid_longitude) float32 dask.array<chunksize=(200, 219, 286), meta=np.ndarray>\n",
       "    air_temperature_at_2m_mean                 (time, grid_latitude, grid_longitude) float32 dask.array<chunksize=(200, 219, 286), meta=np.ndarray>\n",
       "    air_temperature_at_2m_min                  (time, grid_latitude, grid_longitude) float32 dask.array<chunksize=(200, 219, 286), meta=np.ndarray>\n",
       "    air_temperature_at_pressure_mean           (time, pressure, grid_latitude, grid_longitude) float32 dask.array<chunksize=(200, 1, 219, 286), meta=np.ndarray>\n",
       "    cloud_area_fraction                        (time, grid_latitude, grid_longitude) float32 dask.array<chunksize=(200, 219, 286), meta=np.ndarray>\n",
       "    geopotential_height                        (time, pressure, grid_latitude, grid_longitude) float32 dask.array<chunksize=(200, 1, 219, 286), meta=np.ndarray>\n",
       "    m01s05i217_max                             (time, grid_latitude, grid_longitude) float32 dask.array<chunksize=(200, 219, 286), meta=np.ndarray>\n",
       "    precipitation_flux                         (time, grid_latitude, grid_longitude) float32 dask.array<chunksize=(200, 219, 286), meta=np.ndarray>\n",
       "    relative_humidity_at_2m_max                (time, grid_latitude, grid_longitude) float32 dask.array<chunksize=(200, 219, 286), meta=np.ndarray>\n",
       "    relative_humidity_at_2m_mean               (time, grid_latitude, grid_longitude) float32 dask.array<chunksize=(200, 219, 286), meta=np.ndarray>\n",
       "    relative_humidity_at_2m_min                (time, grid_latitude, grid_longitude) float32 dask.array<chunksize=(200, 219, 286), meta=np.ndarray>\n",
       "    relative_humidity_at_pressure_mean         (time, pressure, grid_latitude, grid_longitude) float32 dask.array<chunksize=(200, 1, 219, 286), meta=np.ndarray>\n",
       "    specific_humidity                          (time, grid_latitude, grid_longitude) float32 dask.array<chunksize=(200, 219, 286), meta=np.ndarray>\n",
       "    surface_air_pressure                       (time, grid_latitude, grid_longitude) float32 dask.array<chunksize=(200, 219, 286), meta=np.ndarray>\n",
       "    surface_downwelling_longwave_flux_in_air   (time, grid_latitude, grid_longitude) float32 dask.array<chunksize=(200, 219, 286), meta=np.ndarray>\n",
       "    surface_downwelling_shortwave_flux_in_air  (time, grid_latitude, grid_longitude) float32 dask.array<chunksize=(200, 219, 286), meta=np.ndarray>\n",
       "    surface_temperature_max                    (time, grid_latitude, grid_longitude) float32 dask.array<chunksize=(200, 219, 286), meta=np.ndarray>\n",
       "    surface_temperature_mean                   (time, grid_latitude, grid_longitude) float32 dask.array<chunksize=(200, 219, 286), meta=np.ndarray>\n",
       "    surface_temperature_min                    (time, grid_latitude, grid_longitude) float32 dask.array<chunksize=(200, 219, 286), meta=np.ndarray>\n",
       "    x_wind_at_10m_mean                         (time, grid_latitude_1, grid_longitude_1) float32 dask.array<chunksize=(200, 218, 286), meta=np.ndarray>\n",
       "    x_wind_at_pressure_mean                    (time, pressure, grid_latitude_1, grid_longitude_1) float32 dask.array<chunksize=(200, 1, 218, 286), meta=np.ndarray>\n",
       "    y_wind_at_10m_mean                         (time, grid_latitude_1, grid_longitude_1) float32 dask.array<chunksize=(200, 218, 286), meta=np.ndarray>\n",
       "    y_wind_at_pressure_mean                    (time, pressure, grid_latitude_1, grid_longitude_1) float32 dask.array<chunksize=(200, 1, 218, 286), meta=np.ndarray>"
      ]
     },
     "execution_count": 3,
     "metadata": {},
     "output_type": "execute_result"
    }
   ],
   "source": [
    "%%time\n",
    "ds = xr.open_zarr(zarr_read)\n",
    "ds"
   ]
  },
  {
   "cell_type": "code",
   "execution_count": 4,
   "metadata": {},
   "outputs": [
    {
     "data": {
      "text/plain": [
       "72.222473716"
      ]
     },
     "execution_count": 4,
     "metadata": {},
     "output_type": "execute_result"
    }
   ],
   "source": [
    "# What is the size in GBs?\n",
    "ds.nbytes / 1e9"
   ]
  },
  {
   "cell_type": "markdown",
   "metadata": {},
   "source": [
    "### Using dask_distributed, let's compute the rolling mean"
   ]
  },
  {
   "cell_type": "code",
   "execution_count": 5,
   "metadata": {},
   "outputs": [],
   "source": [
    "import os\n",
    "import distributed\n",
    "import dask\n",
    "from dask_kubernetes import KubeCluster\n",
    "from dask import array as da"
   ]
  },
  {
   "cell_type": "code",
   "execution_count": 6,
   "metadata": {},
   "outputs": [
    {
     "name": "stderr",
     "output_type": "stream",
     "text": [
      "distributed.dashboard.proxy - INFO - To route to workers diagnostics web server please install jupyter-server-proxy: pip install jupyter-server-proxy\n",
      "distributed.scheduler - INFO - Clear task state\n",
      "distributed.scheduler - INFO -   Scheduler at:   tcp://10.244.0.18:40653\n",
      "distributed.scheduler - INFO -   dashboard at:                     :8787\n"
     ]
    },
    {
     "data": {
      "application/vnd.jupyter.widget-view+json": {
       "model_id": "fd4a46150e3e4aac822a1da568c67969",
       "version_major": 2,
       "version_minor": 0
      },
      "text/plain": [
       "VBox(children=(HTML(value='<h2>KubeCluster</h2>'), HBox(children=(HTML(value='\\n<div>\\n  <style scoped>\\n    .…"
      ]
     },
     "metadata": {},
     "output_type": "display_data"
    }
   ],
   "source": [
    "cluster = KubeCluster()\n",
    "# cluster.adapt(minimum=1)\n",
    "cluster.scale(n=10)\n",
    "cluster"
   ]
  },
  {
   "cell_type": "code",
   "execution_count": 7,
   "metadata": {},
   "outputs": [
    {
     "name": "stderr",
     "output_type": "stream",
     "text": [
      "distributed.scheduler - INFO - Receive client connection: Client-240ea6a6-597f-11ea-a9ab-7ab1af4de61a\n",
      "distributed.core - INFO - Starting established connection\n"
     ]
    },
    {
     "data": {
      "text/html": [
       "<table style=\"border: 2px solid white;\">\n",
       "<tr>\n",
       "<td style=\"vertical-align: top; border: 0px solid white\">\n",
       "<h3 style=\"text-align: left;\">Client</h3>\n",
       "<ul style=\"text-align: left; list-style: none; margin: 0; padding: 0;\">\n",
       "  <li><b>Scheduler: </b>tcp://10.244.0.18:40653</li>\n",
       "  <li><b>Dashboard: </b><a href='/user/kaedonkers/proxy/8787/status' target='_blank'>/user/kaedonkers/proxy/8787/status</a>\n",
       "</ul>\n",
       "</td>\n",
       "<td style=\"vertical-align: top; border: 0px solid white\">\n",
       "<h3 style=\"text-align: left;\">Cluster</h3>\n",
       "<ul style=\"text-align: left; list-style:none; margin: 0; padding: 0;\">\n",
       "  <li><b>Workers: </b>0</li>\n",
       "  <li><b>Cores: </b>0</li>\n",
       "  <li><b>Memory: </b>0 B</li>\n",
       "</ul>\n",
       "</td>\n",
       "</tr>\n",
       "</table>"
      ],
      "text/plain": [
       "<Client: 'tcp://10.244.0.18:40653' processes=0 threads=0, memory=0 B>"
      ]
     },
     "execution_count": 7,
     "metadata": {},
     "output_type": "execute_result"
    }
   ],
   "source": [
    "client = distributed.Client(cluster)\n",
    "client"
   ]
  },
  {
   "cell_type": "markdown",
   "metadata": {},
   "source": [
    "## Create a rolling window for a Dataset using Xarray"
   ]
  },
  {
   "cell_type": "code",
   "execution_count": 8,
   "metadata": {},
   "outputs": [
    {
     "data": {
      "text/plain": [
       "['air_temperature_at_2m_max',\n",
       " 'air_temperature_at_2m_mean',\n",
       " 'air_temperature_at_2m_min',\n",
       " 'cloud_area_fraction',\n",
       " 'geopotential_height',\n",
       " 'm01s05i217_max',\n",
       " 'precipitation_flux',\n",
       " 'relative_humidity_at_2m_max',\n",
       " 'relative_humidity_at_2m_mean',\n",
       " 'relative_humidity_at_2m_min',\n",
       " 'specific_humidity',\n",
       " 'surface_downwelling_longwave_flux_in_air',\n",
       " 'surface_downwelling_shortwave_flux_in_air',\n",
       " 'surface_temperature_max',\n",
       " 'surface_temperature_mean',\n",
       " 'surface_temperature_min',\n",
       " 'x_wind_at_10m_mean',\n",
       " 'y_wind_at_10m_mean']"
      ]
     },
     "execution_count": 8,
     "metadata": {},
     "output_type": "execute_result"
    }
   ],
   "source": [
    "vars_3d = copy.deepcopy([name for name in ds.data_vars if not 'pressure' in name])\n",
    "vars_3d"
   ]
  },
  {
   "cell_type": "code",
   "execution_count": 9,
   "metadata": {},
   "outputs": [
    {
     "data": {
      "text/plain": [
       "['air_temperature_at_2m_max',\n",
       " 'air_temperature_at_2m_mean',\n",
       " 'air_temperature_at_2m_min',\n",
       " 'cloud_area_fraction',\n",
       " 'm01s05i217_max',\n",
       " 'precipitation_flux',\n",
       " 'relative_humidity_at_2m_max',\n",
       " 'relative_humidity_at_2m_mean',\n",
       " 'relative_humidity_at_2m_min',\n",
       " 'specific_humidity',\n",
       " 'surface_downwelling_longwave_flux_in_air',\n",
       " 'surface_downwelling_shortwave_flux_in_air',\n",
       " 'surface_temperature_max',\n",
       " 'surface_temperature_mean',\n",
       " 'surface_temperature_min',\n",
       " 'x_wind_at_10m_mean',\n",
       " 'y_wind_at_10m_mean']"
      ]
     },
     "execution_count": 9,
     "metadata": {},
     "output_type": "execute_result"
    }
   ],
   "source": [
    "vars_3d.pop(4)\n",
    "vars_3d"
   ]
  },
  {
   "cell_type": "code",
   "execution_count": 53,
   "metadata": {},
   "outputs": [
    {
     "data": {
      "text/html": [
       "<pre>&lt;xarray.Dataset&gt;\n",
       "Dimensions:                     (grid_latitude: 219, grid_longitude: 286, time: 3244)\n",
       "Coordinates:\n",
       "    forecast_reference_time     datetime64[ns] ...\n",
       "  * time                        (time) datetime64[ns] 1851-01-01T12:00:00 ... 1859-12-28T12:00:00\n",
       "    height                      float64 ...\n",
       "    forecast_period             (time) timedelta64[ns] dask.array&lt;chunksize=(204,), meta=np.ndarray&gt;\n",
       "  * grid_longitude              (grid_longitude) float32 323.48 ... 386.18002\n",
       "  * grid_latitude               (grid_latitude) float32 22.88 22.66 ... -25.08\n",
       "    height_1                    float64 ...\n",
       "Data variables:\n",
       "    air_temperature_at_2m_max   (time, grid_latitude, grid_longitude) float32 dask.array&lt;chunksize=(200, 219, 286), meta=np.ndarray&gt;\n",
       "    air_temperature_at_2m_mean  (time, grid_latitude, grid_longitude) float32 dask.array&lt;chunksize=(200, 219, 286), meta=np.ndarray&gt;</pre>"
      ],
      "text/plain": [
       "<xarray.Dataset>\n",
       "Dimensions:                     (grid_latitude: 219, grid_longitude: 286, time: 3244)\n",
       "Coordinates:\n",
       "    forecast_reference_time     datetime64[ns] ...\n",
       "  * time                        (time) datetime64[ns] 1851-01-01T12:00:00 ... 1859-12-28T12:00:00\n",
       "    height                      float64 ...\n",
       "    forecast_period             (time) timedelta64[ns] dask.array<chunksize=(204,), meta=np.ndarray>\n",
       "  * grid_longitude              (grid_longitude) float32 323.48 ... 386.18002\n",
       "  * grid_latitude               (grid_latitude) float32 22.88 22.66 ... -25.08\n",
       "    height_1                    float64 ...\n",
       "Data variables:\n",
       "    air_temperature_at_2m_max   (time, grid_latitude, grid_longitude) float32 dask.array<chunksize=(200, 219, 286), meta=np.ndarray>\n",
       "    air_temperature_at_2m_mean  (time, grid_latitude, grid_longitude) float32 dask.array<chunksize=(200, 219, 286), meta=np.ndarray>"
      ]
     },
     "execution_count": 53,
     "metadata": {},
     "output_type": "execute_result"
    }
   ],
   "source": [
    "ds_3d = ds[vars_3d[0:2]]\n",
    "ds_3d"
   ]
  },
  {
   "cell_type": "code",
   "execution_count": 54,
   "metadata": {},
   "outputs": [
    {
     "data": {
      "text/plain": [
       "1.625531516"
      ]
     },
     "execution_count": 54,
     "metadata": {},
     "output_type": "execute_result"
    }
   ],
   "source": [
    "# What is the size in GBs?\n",
    "ds_3d.nbytes / 1e9"
   ]
  },
  {
   "cell_type": "code",
   "execution_count": 55,
   "metadata": {},
   "outputs": [
    {
     "data": {
      "text/plain": [
       "DatasetRolling [window->10,center->False,dim->time]"
      ]
     },
     "execution_count": 55,
     "metadata": {},
     "output_type": "execute_result"
    }
   ],
   "source": [
    "# ds_roll = ds.rolling(time=10, center=False)\n",
    "ds_roll = ds_3d.rolling(time=10, center=False)\n",
    "ds_roll"
   ]
  },
  {
   "cell_type": "code",
   "execution_count": 56,
   "metadata": {},
   "outputs": [
    {
     "name": "stdout",
     "output_type": "stream",
     "text": [
      "CPU times: user 456 ms, sys: 35.9 ms, total: 492 ms\n",
      "Wall time: 1.07 s\n"
     ]
    }
   ],
   "source": [
    "%%time\n",
    "ds_rmean = ds_roll.mean()"
   ]
  },
  {
   "cell_type": "code",
   "execution_count": 14,
   "metadata": {},
   "outputs": [],
   "source": [
    "# ds_mean_c = ds_rmean.compute()\n",
    "# ds_mean_c"
   ]
  },
  {
   "cell_type": "markdown",
   "metadata": {},
   "source": [
    "## Write to a zarr"
   ]
  },
  {
   "cell_type": "code",
   "execution_count": 57,
   "metadata": {},
   "outputs": [],
   "source": [
    "prefix = 'zarr_rolling_daily_mean_dask'\n",
    "zarr_path = f'/data/cssp-china/{prefix}'\n",
    "zarr_write = zarr.storage.ABSStore('cssp-china', prefix=prefix, account_name='awsearth', account_key=account_key, blob_service_kwargs=None)"
   ]
  },
  {
   "cell_type": "code",
   "execution_count": 58,
   "metadata": {},
   "outputs": [
    {
     "name": "stdout",
     "output_type": "stream",
     "text": [
      "/data/cssp-china/zarr_rolling_daily_mean_dask\n"
     ]
    },
    {
     "data": {
      "text/plain": [
       "True"
      ]
     },
     "execution_count": 58,
     "metadata": {},
     "output_type": "execute_result"
    }
   ],
   "source": [
    "print(zarr_path)\n",
    "os.path.isdir(zarr_path)"
   ]
  },
  {
   "cell_type": "code",
   "execution_count": 59,
   "metadata": {},
   "outputs": [],
   "source": [
    "!rm -rdf {zarr_path}"
   ]
  },
  {
   "cell_type": "code",
   "execution_count": 60,
   "metadata": {},
   "outputs": [
    {
     "data": {
      "text/plain": [
       "False"
      ]
     },
     "execution_count": 60,
     "metadata": {},
     "output_type": "execute_result"
    }
   ],
   "source": [
    "os.path.isdir(f'/data/cssp-china/{prefix}')"
   ]
  },
  {
   "cell_type": "code",
   "execution_count": 61,
   "metadata": {},
   "outputs": [
    {
     "data": {
      "text/plain": [
       "{'grid_latitude': 219, 'grid_longitude': 286, 'time': 200}"
      ]
     },
     "execution_count": 61,
     "metadata": {},
     "output_type": "execute_result"
    }
   ],
   "source": [
    "chunks = dict(ds_rmean.dims, time=200)\n",
    "chunks"
   ]
  },
  {
   "cell_type": "code",
   "execution_count": 62,
   "metadata": {},
   "outputs": [
    {
     "name": "stderr",
     "output_type": "stream",
     "text": [
      "Client-Request-ID=8e3476ec-5980-11ea-83a7-7ab1af4de61a Retry policy did not allow for a retry: Server-Timestamp=Thu, 27 Feb 2020 16:45:25 GMT, Server-Request-ID=2fb6ab21-401e-0002-328d-ed1657000000, HTTP status code=404, Exception=The specified blob does not exist. ErrorCode: BlobNotFound<?xml version=\"1.0\" encoding=\"utf-8\"?><Error><Code>BlobNotFound</Code><Message>The specified blob does not exist.RequestId:2fb6ab21-401e-0002-328d-ed1657000000Time:2020-02-27T16:45:26.4762012Z</Message></Error>.\n",
      "Client-Request-ID=8e687262-5980-11ea-83a7-7ab1af4de61a Retry policy did not allow for a retry: Server-Timestamp=Thu, 27 Feb 2020 16:45:26 GMT, Server-Request-ID=2fb6ac6e-401e-0002-578d-ed1657000000, HTTP status code=404, Exception=The specified blob does not exist. ErrorCode: BlobNotFound<?xml version=\"1.0\" encoding=\"utf-8\"?><Error><Code>BlobNotFound</Code><Message>The specified blob does not exist.RequestId:2fb6ac6e-401e-0002-578d-ed1657000000Time:2020-02-27T16:45:26.8194431Z</Message></Error>.\n",
      "Client-Request-ID=8e79ec9a-5980-11ea-83a7-7ab1af4de61a Retry policy did not allow for a retry: Server-Timestamp=Thu, 27 Feb 2020 16:45:26 GMT, Server-Request-ID=2fb6acd7-401e-0002-3a8d-ed1657000000, HTTP status code=404, Exception=The specified blob does not exist. ErrorCode: BlobNotFound<?xml version=\"1.0\" encoding=\"utf-8\"?><Error><Code>BlobNotFound</Code><Message>The specified blob does not exist.RequestId:2fb6acd7-401e-0002-3a8d-ed1657000000Time:2020-02-27T16:45:26.9315222Z</Message></Error>.\n",
      "Client-Request-ID=8ead69ee-5980-11ea-83a7-7ab1af4de61a Retry policy did not allow for a retry: Server-Timestamp=Thu, 27 Feb 2020 16:45:26 GMT, Server-Request-ID=2fb6ae43-401e-0002-078d-ed1657000000, HTTP status code=404, Exception=The specified blob does not exist. ErrorCode: BlobNotFound<?xml version=\"1.0\" encoding=\"utf-8\"?><Error><Code>BlobNotFound</Code><Message>The specified blob does not exist.RequestId:2fb6ae43-401e-0002-078d-ed1657000000Time:2020-02-27T16:45:27.2687599Z</Message></Error>.\n",
      "Client-Request-ID=8ee86774-5980-11ea-83a7-7ab1af4de61a Retry policy did not allow for a retry: Server-Timestamp=Thu, 27 Feb 2020 16:45:27 GMT, Server-Request-ID=2fb6afd2-401e-0002-6d8d-ed1657000000, HTTP status code=404, Exception=The specified blob does not exist. ErrorCode: BlobNotFound<?xml version=\"1.0\" encoding=\"utf-8\"?><Error><Code>BlobNotFound</Code><Message>The specified blob does not exist.RequestId:2fb6afd2-401e-0002-6d8d-ed1657000000Time:2020-02-27T16:45:27.6550319Z</Message></Error>.\n"
     ]
    },
    {
     "name": "stdout",
     "output_type": "stream",
     "text": [
      "CPU times: user 3.88 s, sys: 350 ms, total: 4.23 s\n",
      "Wall time: 26 s\n"
     ]
    },
    {
     "data": {
      "text/plain": [
       "<xarray.backends.zarr.ZarrStore at 0x7fac8d471d58>"
      ]
     },
     "execution_count": 62,
     "metadata": {},
     "output_type": "execute_result"
    }
   ],
   "source": [
    "%%time\n",
    "ds_rmean = ds_rmean.chunk(chunks=chunks)\n",
    "ds_rmean.to_zarr(zarr_write, consolidated=True, mode='w')"
   ]
  },
  {
   "cell_type": "code",
   "execution_count": 63,
   "metadata": {},
   "outputs": [
    {
     "data": {
      "text/html": [
       "<pre>&lt;xarray.Dataset&gt;\n",
       "Dimensions:                     (grid_latitude: 219, grid_longitude: 286, time: 3244)\n",
       "Coordinates:\n",
       "    forecast_period             (time) timedelta64[ns] dask.array&lt;chunksize=(204,), meta=np.ndarray&gt;\n",
       "    forecast_reference_time     datetime64[ns] ...\n",
       "  * grid_latitude               (grid_latitude) float32 22.88 22.66 ... -25.08\n",
       "  * grid_longitude              (grid_longitude) float32 323.48 ... 386.18002\n",
       "    height                      float64 ...\n",
       "    height_1                    float64 ...\n",
       "  * time                        (time) datetime64[ns] 1851-01-01T12:00:00 ... 1859-12-28T12:00:00\n",
       "Data variables:\n",
       "    air_temperature_at_2m_max   (time, grid_latitude, grid_longitude) float32 dask.array&lt;chunksize=(200, 219, 286), meta=np.ndarray&gt;\n",
       "    air_temperature_at_2m_mean  (time, grid_latitude, grid_longitude) float32 dask.array&lt;chunksize=(200, 219, 286), meta=np.ndarray&gt;</pre>"
      ],
      "text/plain": [
       "<xarray.Dataset>\n",
       "Dimensions:                     (grid_latitude: 219, grid_longitude: 286, time: 3244)\n",
       "Coordinates:\n",
       "    forecast_period             (time) timedelta64[ns] dask.array<chunksize=(204,), meta=np.ndarray>\n",
       "    forecast_reference_time     datetime64[ns] ...\n",
       "  * grid_latitude               (grid_latitude) float32 22.88 22.66 ... -25.08\n",
       "  * grid_longitude              (grid_longitude) float32 323.48 ... 386.18002\n",
       "    height                      float64 ...\n",
       "    height_1                    float64 ...\n",
       "  * time                        (time) datetime64[ns] 1851-01-01T12:00:00 ... 1859-12-28T12:00:00\n",
       "Data variables:\n",
       "    air_temperature_at_2m_max   (time, grid_latitude, grid_longitude) float32 dask.array<chunksize=(200, 219, 286), meta=np.ndarray>\n",
       "    air_temperature_at_2m_mean  (time, grid_latitude, grid_longitude) float32 dask.array<chunksize=(200, 219, 286), meta=np.ndarray>"
      ]
     },
     "execution_count": 63,
     "metadata": {},
     "output_type": "execute_result"
    }
   ],
   "source": [
    "ds_z = xr.open_zarr(zarr_write)\n",
    "ds_z"
   ]
  },
  {
   "cell_type": "code",
   "execution_count": null,
   "metadata": {},
   "outputs": [],
   "source": []
  }
 ],
 "metadata": {
  "kernelspec": {
   "display_name": "Python (pangolin)",
   "language": "python",
   "name": "pangolin"
  },
  "language_info": {
   "codemirror_mode": {
    "name": "ipython",
    "version": 3
   },
   "file_extension": ".py",
   "mimetype": "text/x-python",
   "name": "python",
   "nbconvert_exporter": "python",
   "pygments_lexer": "ipython3",
   "version": "3.6.7"
  }
 },
 "nbformat": 4,
 "nbformat_minor": 4
}
