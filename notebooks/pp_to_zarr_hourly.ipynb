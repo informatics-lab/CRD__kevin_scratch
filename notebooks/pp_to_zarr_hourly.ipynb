{
 "cells": [
  {
   "cell_type": "markdown",
   "metadata": {},
   "source": [
    "# Create Zarr of 9 years of hourly CSSP China data [1851-1859]"
   ]
  },
  {
   "cell_type": "code",
   "execution_count": 1,
   "metadata": {},
   "outputs": [],
   "source": [
    "import iris\n",
    "import os\n",
    "import sys\n",
    "import logging\n",
    "import xarray as xr\n",
    "import numpy as np\n",
    "\n",
    "import crd_utils as crd\n",
    "import umdates_utils as um\n",
    "\n",
    "from datetime import datetime, timedelta"
   ]
  },
  {
   "cell_type": "markdown",
   "metadata": {},
   "source": [
    "## Create a list of all the files we want to process"
   ]
  },
  {
   "cell_type": "code",
   "execution_count": 2,
   "metadata": {},
   "outputs": [
    {
     "name": "stdout",
     "output_type": "stream",
     "text": [
      "5850\n"
     ]
    }
   ],
   "source": [
    "# hourly data filenames\n",
    "filepath = '/data/cssp-china/mini-dataset-24-01-19/20CR/hourly'\n",
    "files = sorted(os.listdir(filepath))\n",
    "print(len(files))"
   ]
  },
  {
   "cell_type": "code",
   "execution_count": 3,
   "metadata": {},
   "outputs": [
    {
     "name": "stdout",
     "output_type": "stream",
     "text": [
      "3288\n"
     ]
    }
   ],
   "source": [
    "# generate all possible filenames for the time period\n",
    "runid = 'apepd'\n",
    "startd = datetime(1851, 1, 1)   # 00Z on Jan 01 1851\n",
    "endd = datetime(1860, 1, 1)     # 00Z on Jan 01 1860\n",
    "freq = 'pj'\n",
    "\n",
    "decade_filenames = um.UMFileList(runid, startd, endd, freq)\n",
    "print(len(decade_filenames))"
   ]
  },
  {
   "cell_type": "code",
   "execution_count": 4,
   "metadata": {},
   "outputs": [
    {
     "name": "stdout",
     "output_type": "stream",
     "text": [
      "329\n"
     ]
    }
   ],
   "source": [
    "# find the overlap of actual filenames with all possible filenames in that decade\n",
    "filenames = list(set(files).intersection(set(decade_filenames)))\n",
    "filenames.sort()\n",
    "print(len(filenames))"
   ]
  },
  {
   "cell_type": "code",
   "execution_count": 5,
   "metadata": {},
   "outputs": [
    {
     "name": "stdout",
     "output_type": "stream",
     "text": [
      "329\n"
     ]
    }
   ],
   "source": [
    "filepaths = [os.path.join(filepath, filename) for filename in filenames]\n",
    "print(len(filepaths))"
   ]
  },
  {
   "cell_type": "markdown",
   "metadata": {},
   "source": [
    "## Set all the Cube, Dataset and Zarr variables we need to process the cubes"
   ]
  },
  {
   "cell_type": "code",
   "execution_count": 6,
   "metadata": {},
   "outputs": [
    {
     "name": "stdout",
     "output_type": "stream",
     "text": [
      "CPU times: user 1.19 s, sys: 79.6 ms, total: 1.27 s\n",
      "Wall time: 2.13 s\n"
     ]
    },
    {
     "data": {
      "text/html": [
       "\n",
       "<style>\n",
       "  a.iris {\n",
       "      text-decoration: none !important;\n",
       "  }\n",
       "  table.iris {\n",
       "      white-space: pre;\n",
       "      border: 1px solid;\n",
       "      border-color: #9c9c9c;\n",
       "      font-family: monaco, monospace;\n",
       "  }\n",
       "  th.iris {\n",
       "      background: #303f3f;\n",
       "      color: #e0e0e0;\n",
       "      border-left: 1px solid;\n",
       "      border-color: #9c9c9c;\n",
       "      font-size: 1.05em;\n",
       "      min-width: 50px;\n",
       "      max-width: 125px;\n",
       "  }\n",
       "  tr.iris :first-child {\n",
       "      border-right: 1px solid #9c9c9c !important;\n",
       "  }\n",
       "  td.iris-title {\n",
       "      background: #d5dcdf;\n",
       "      border-top: 1px solid #9c9c9c;\n",
       "      font-weight: bold;\n",
       "  }\n",
       "  .iris-word-cell {\n",
       "      text-align: left !important;\n",
       "      white-space: pre;\n",
       "  }\n",
       "  .iris-subheading-cell {\n",
       "      padding-left: 2em !important;\n",
       "  }\n",
       "  .iris-inclusion-cell {\n",
       "      padding-right: 1em !important;\n",
       "  }\n",
       "  .iris-panel-body {\n",
       "      padding-top: 0px;\n",
       "  }\n",
       "  .iris-panel-title {\n",
       "      padding-left: 3em;\n",
       "  }\n",
       "  .iris-panel-title {\n",
       "      margin-top: 7px;\n",
       "  }\n",
       "</style>\n",
       "<table class=\"iris\" id=\"140704819325192\">\n",
       "    <tr class=\"iris\">\n",
       "<th class=\"iris iris-word-cell\">Surface Air Pressure (Pa)</th>\n",
       "<th class=\"iris iris-word-cell\">time</th>\n",
       "<th class=\"iris iris-word-cell\">grid_latitude</th>\n",
       "<th class=\"iris iris-word-cell\">grid_longitude</th>\n",
       "</tr>\n",
       "    <tr class=\"iris\">\n",
       "<td class=\"iris-word-cell iris-subheading-cell\">Shape</td>\n",
       "<td class=\"iris iris-inclusion-cell\">97</td>\n",
       "<td class=\"iris iris-inclusion-cell\">219</td>\n",
       "<td class=\"iris iris-inclusion-cell\">286</td>\n",
       "</tr>\n",
       "    <tr class=\"iris\">\n",
       "    <td class=\"iris-title iris-word-cell\">Dimension coordinates</td>\n",
       "    <td class=\"iris-title\"></td>\n",
       "    <td class=\"iris-title\"></td>\n",
       "    <td class=\"iris-title\"></td>\n",
       "</tr>\n",
       "<tr class=\"iris\">\n",
       "    <td class=\"iris-word-cell iris-subheading-cell\">\ttime</td>\n",
       "    <td class=\"iris-inclusion-cell\">x</td>\n",
       "    <td class=\"iris-inclusion-cell\">-</td>\n",
       "    <td class=\"iris-inclusion-cell\">-</td>\n",
       "</tr>\n",
       "<tr class=\"iris\">\n",
       "    <td class=\"iris-word-cell iris-subheading-cell\">\tgrid_latitude</td>\n",
       "    <td class=\"iris-inclusion-cell\">-</td>\n",
       "    <td class=\"iris-inclusion-cell\">x</td>\n",
       "    <td class=\"iris-inclusion-cell\">-</td>\n",
       "</tr>\n",
       "<tr class=\"iris\">\n",
       "    <td class=\"iris-word-cell iris-subheading-cell\">\tgrid_longitude</td>\n",
       "    <td class=\"iris-inclusion-cell\">-</td>\n",
       "    <td class=\"iris-inclusion-cell\">-</td>\n",
       "    <td class=\"iris-inclusion-cell\">x</td>\n",
       "</tr>\n",
       "<tr class=\"iris\">\n",
       "    <td class=\"iris-title iris-word-cell\">Auxiliary coordinates</td>\n",
       "    <td class=\"iris-title\"></td>\n",
       "    <td class=\"iris-title\"></td>\n",
       "    <td class=\"iris-title\"></td>\n",
       "</tr>\n",
       "<tr class=\"iris\">\n",
       "    <td class=\"iris-word-cell iris-subheading-cell\">\tforecast_period</td>\n",
       "    <td class=\"iris-inclusion-cell\">x</td>\n",
       "    <td class=\"iris-inclusion-cell\">-</td>\n",
       "    <td class=\"iris-inclusion-cell\">-</td>\n",
       "</tr>\n",
       "<tr class=\"iris\">\n",
       "    <td class=\"iris-title iris-word-cell\">Scalar coordinates</td>\n",
       "    <td class=\"iris-title\"></td>\n",
       "    <td class=\"iris-title\"></td>\n",
       "    <td class=\"iris-title\"></td>\n",
       "</tr>\n",
       "<tr class=\"iris\">\n",
       "    <td class=\"iris-word-cell iris-subheading-cell\">\tforecast_reference_time</td>\n",
       "    <td class=\"iris-word-cell\" colspan=\"3\">1849-12-01 00:00:00</td>\n",
       "</tr>\n",
       "<tr class=\"iris\">\n",
       "    <td class=\"iris-title iris-word-cell\">Attributes</td>\n",
       "    <td class=\"iris-title\"></td>\n",
       "    <td class=\"iris-title\"></td>\n",
       "    <td class=\"iris-title\"></td>\n",
       "</tr>\n",
       "<tr class=\"iris\">\n",
       "    <td class=\"iris-word-cell iris-subheading-cell\">\tSTASH</td>\n",
       "    <td class=\"iris-word-cell\" colspan=\"3\">m01s00i001</td>\n",
       "</tr>\n",
       "<tr class=\"iris\">\n",
       "    <td class=\"iris-word-cell iris-subheading-cell\">\tsource</td>\n",
       "    <td class=\"iris-word-cell\" colspan=\"3\">Data from Met Office Unified Model</td>\n",
       "</tr>\n",
       "</table>\n",
       "        "
      ],
      "text/plain": [
       "<iris 'Cube' of surface_air_pressure / (Pa) (time: 97; grid_latitude: 219; grid_longitude: 286)>"
      ]
     },
     "execution_count": 6,
     "metadata": {},
     "output_type": "execute_result"
    }
   ],
   "source": [
    "%%time\n",
    "cubelist = iris.load(filepaths[0:1])\n",
    "cubelist[0]"
   ]
  },
  {
   "cell_type": "code",
   "execution_count": 7,
   "metadata": {},
   "outputs": [
    {
     "name": "stdout",
     "output_type": "stream",
     "text": [
      "0: surface_air_pressure / (Pa)         (time: 97; grid_latitude: 219; grid_longitude: 286)\n",
      "1: x_wind / (m s-1)                    (time: 97; grid_latitude: 218; grid_longitude: 286)\n",
      "2: y_wind / (m s-1)                    (time: 97; grid_latitude: 218; grid_longitude: 286)\n"
     ]
    }
   ],
   "source": [
    "print(cubelist)"
   ]
  },
  {
   "cell_type": "code",
   "execution_count": 8,
   "metadata": {},
   "outputs": [],
   "source": [
    "CUBENAMES = [cube.name() for cube in cubelist]\n",
    "UNIQUE_COORDS = crd.unique_coords_list(cubelist)\n",
    "COORD_NAME_MAPPING = crd.get_new_coord_names(UNIQUE_COORDS)"
   ]
  },
  {
   "cell_type": "code",
   "execution_count": 9,
   "metadata": {},
   "outputs": [
    {
     "name": "stdout",
     "output_type": "stream",
     "text": [
      "['time', 'grid_latitude', 'grid_longitude', 'forecast_reference_time', 'forecast_period', 'grid_latitude', 'grid_longitude', 'height']\n"
     ]
    }
   ],
   "source": [
    "print([coord.name() for coord in UNIQUE_COORDS])"
   ]
  },
  {
   "cell_type": "code",
   "execution_count": 10,
   "metadata": {},
   "outputs": [
    {
     "data": {
      "text/plain": [
       "('grid_latitude_1', 'grid_longitude_1')"
      ]
     },
     "execution_count": 10,
     "metadata": {},
     "output_type": "execute_result"
    }
   ],
   "source": [
    "COORD_NAME_MAPPING[1]"
   ]
  },
  {
   "cell_type": "code",
   "execution_count": 11,
   "metadata": {},
   "outputs": [],
   "source": [
    "ZARR = '/data/cssp-china/zarr_hourly_1851-1859'\n",
    "CHUNKS = {'time': 200, 'grid_latitude': 219, 'grid_longitude': 286, 'grid_latitude_1': 218, 'grid_longitude_1': 286}"
   ]
  },
  {
   "cell_type": "markdown",
   "metadata": {},
   "source": [
    "## Initialise logging"
   ]
  },
  {
   "cell_type": "code",
   "execution_count": 12,
   "metadata": {},
   "outputs": [],
   "source": [
    "LOGFILE = '/data/cssp-china/zarr_append_hourly.log'\n",
    "logging.basicConfig(filename=LOGFILE,\n",
    "                    level=logging.DEBUG,\n",
    "                    format='%(asctime)s %(message)s',\n",
    "                    datefmt='%d/%m/%Y %H:%M:%S')"
   ]
  },
  {
   "cell_type": "code",
   "execution_count": 13,
   "metadata": {},
   "outputs": [],
   "source": [
    "if not os.path.isfile(LOGFILE):\n",
    "    os.mknod(LOGFILE)\n",
    "\n",
    "if os.stat(LOGFILE).st_size == 0:\n",
    "    logging.info('Initiate log')\n",
    "    print(f'Log initiated at {LOGFILE}')"
   ]
  },
  {
   "cell_type": "markdown",
   "metadata": {},
   "source": [
    "## Create a Zarr with 3 cubes, which definitely amounts to 577 time steps (~25 days)"
   ]
  },
  {
   "cell_type": "code",
   "execution_count": 22,
   "metadata": {},
   "outputs": [
    {
     "name": "stdout",
     "output_type": "stream",
     "text": [
      "CPU times: user 6.92 s, sys: 376 ms, total: 7.3 s\n",
      "Wall time: 8.42 s\n"
     ]
    },
    {
     "data": {
      "text/html": [
       "\n",
       "<style>\n",
       "  a.iris {\n",
       "      text-decoration: none !important;\n",
       "  }\n",
       "  table.iris {\n",
       "      white-space: pre;\n",
       "      border: 1px solid;\n",
       "      border-color: #9c9c9c;\n",
       "      font-family: monaco, monospace;\n",
       "  }\n",
       "  th.iris {\n",
       "      background: #303f3f;\n",
       "      color: #e0e0e0;\n",
       "      border-left: 1px solid;\n",
       "      border-color: #9c9c9c;\n",
       "      font-size: 1.05em;\n",
       "      min-width: 50px;\n",
       "      max-width: 125px;\n",
       "  }\n",
       "  tr.iris :first-child {\n",
       "      border-right: 1px solid #9c9c9c !important;\n",
       "  }\n",
       "  td.iris-title {\n",
       "      background: #d5dcdf;\n",
       "      border-top: 1px solid #9c9c9c;\n",
       "      font-weight: bold;\n",
       "  }\n",
       "  .iris-word-cell {\n",
       "      text-align: left !important;\n",
       "      white-space: pre;\n",
       "  }\n",
       "  .iris-subheading-cell {\n",
       "      padding-left: 2em !important;\n",
       "  }\n",
       "  .iris-inclusion-cell {\n",
       "      padding-right: 1em !important;\n",
       "  }\n",
       "  .iris-panel-body {\n",
       "      padding-top: 0px;\n",
       "  }\n",
       "  .iris-panel-title {\n",
       "      padding-left: 3em;\n",
       "  }\n",
       "  .iris-panel-title {\n",
       "      margin-top: 7px;\n",
       "  }\n",
       "</style>\n",
       "<table class=\"iris\" id=\"139637513800504\">\n",
       "    <tr class=\"iris\">\n",
       "<th class=\"iris iris-word-cell\">X Wind (m s-1)</th>\n",
       "<th class=\"iris iris-word-cell\">time</th>\n",
       "<th class=\"iris iris-word-cell\">grid_latitude</th>\n",
       "<th class=\"iris iris-word-cell\">grid_longitude</th>\n",
       "</tr>\n",
       "    <tr class=\"iris\">\n",
       "<td class=\"iris-word-cell iris-subheading-cell\">Shape</td>\n",
       "<td class=\"iris iris-inclusion-cell\">577</td>\n",
       "<td class=\"iris iris-inclusion-cell\">218</td>\n",
       "<td class=\"iris iris-inclusion-cell\">286</td>\n",
       "</tr>\n",
       "    <tr class=\"iris\">\n",
       "    <td class=\"iris-title iris-word-cell\">Dimension coordinates</td>\n",
       "    <td class=\"iris-title\"></td>\n",
       "    <td class=\"iris-title\"></td>\n",
       "    <td class=\"iris-title\"></td>\n",
       "</tr>\n",
       "<tr class=\"iris\">\n",
       "    <td class=\"iris-word-cell iris-subheading-cell\">\ttime</td>\n",
       "    <td class=\"iris-inclusion-cell\">x</td>\n",
       "    <td class=\"iris-inclusion-cell\">-</td>\n",
       "    <td class=\"iris-inclusion-cell\">-</td>\n",
       "</tr>\n",
       "<tr class=\"iris\">\n",
       "    <td class=\"iris-word-cell iris-subheading-cell\">\tgrid_latitude</td>\n",
       "    <td class=\"iris-inclusion-cell\">-</td>\n",
       "    <td class=\"iris-inclusion-cell\">x</td>\n",
       "    <td class=\"iris-inclusion-cell\">-</td>\n",
       "</tr>\n",
       "<tr class=\"iris\">\n",
       "    <td class=\"iris-word-cell iris-subheading-cell\">\tgrid_longitude</td>\n",
       "    <td class=\"iris-inclusion-cell\">-</td>\n",
       "    <td class=\"iris-inclusion-cell\">-</td>\n",
       "    <td class=\"iris-inclusion-cell\">x</td>\n",
       "</tr>\n",
       "<tr class=\"iris\">\n",
       "    <td class=\"iris-title iris-word-cell\">Auxiliary coordinates</td>\n",
       "    <td class=\"iris-title\"></td>\n",
       "    <td class=\"iris-title\"></td>\n",
       "    <td class=\"iris-title\"></td>\n",
       "</tr>\n",
       "<tr class=\"iris\">\n",
       "    <td class=\"iris-word-cell iris-subheading-cell\">\tforecast_period</td>\n",
       "    <td class=\"iris-inclusion-cell\">x</td>\n",
       "    <td class=\"iris-inclusion-cell\">-</td>\n",
       "    <td class=\"iris-inclusion-cell\">-</td>\n",
       "</tr>\n",
       "<tr class=\"iris\">\n",
       "    <td class=\"iris-title iris-word-cell\">Scalar coordinates</td>\n",
       "    <td class=\"iris-title\"></td>\n",
       "    <td class=\"iris-title\"></td>\n",
       "    <td class=\"iris-title\"></td>\n",
       "</tr>\n",
       "<tr class=\"iris\">\n",
       "    <td class=\"iris-word-cell iris-subheading-cell\">\tforecast_reference_time</td>\n",
       "    <td class=\"iris-word-cell\" colspan=\"3\">1849-12-01 00:00:00</td>\n",
       "</tr>\n",
       "<tr class=\"iris\">\n",
       "    <td class=\"iris-word-cell iris-subheading-cell\">\theight</td>\n",
       "    <td class=\"iris-word-cell\" colspan=\"3\">10.0 m</td>\n",
       "</tr>\n",
       "<tr class=\"iris\">\n",
       "    <td class=\"iris-title iris-word-cell\">Attributes</td>\n",
       "    <td class=\"iris-title\"></td>\n",
       "    <td class=\"iris-title\"></td>\n",
       "    <td class=\"iris-title\"></td>\n",
       "</tr>\n",
       "<tr class=\"iris\">\n",
       "    <td class=\"iris-word-cell iris-subheading-cell\">\tSTASH</td>\n",
       "    <td class=\"iris-word-cell\" colspan=\"3\">m01s03i225</td>\n",
       "</tr>\n",
       "<tr class=\"iris\">\n",
       "    <td class=\"iris-word-cell iris-subheading-cell\">\tsource</td>\n",
       "    <td class=\"iris-word-cell\" colspan=\"3\">Data from Met Office Unified Model</td>\n",
       "</tr>\n",
       "</table>\n",
       "        "
      ],
      "text/plain": [
       "<iris 'Cube' of x_wind / (m s-1) (time: 577; grid_latitude: 218; grid_longitude: 286)>"
      ]
     },
     "execution_count": 22,
     "metadata": {},
     "output_type": "execute_result"
    }
   ],
   "source": [
    "%%time\n",
    "cubelist0 = iris.load(filepaths[0:3])\n",
    "cubelist0[1]"
   ]
  },
  {
   "cell_type": "code",
   "execution_count": 23,
   "metadata": {},
   "outputs": [
    {
     "name": "stdout",
     "output_type": "stream",
     "text": [
      "surface_air_pressure\n",
      "  x time\n",
      "  x grid_latitude\n",
      "  x grid_longitude\n",
      "  x forecast_reference_time\n",
      "  x forecast_period\n",
      "x_wind\n",
      "  x time\n",
      "    grid_latitude_1\n",
      "    grid_longitude_1\n",
      "  x forecast_reference_time\n",
      "  x height\n",
      "  x forecast_period\n",
      "y_wind\n",
      "  x time\n",
      "    grid_latitude_1\n",
      "    grid_longitude_1\n",
      "  x forecast_reference_time\n",
      "  x height\n",
      "  x forecast_period\n",
      "CPU times: user 3.67 ms, sys: 0 ns, total: 3.67 ms\n",
      "Wall time: 2.02 ms\n"
     ]
    }
   ],
   "source": [
    "%%time\n",
    "crd.rename_cubes(cubelist0, CUBENAMES, COORD_NAME_MAPPING, dryrun=False)"
   ]
  },
  {
   "cell_type": "code",
   "execution_count": 24,
   "metadata": {},
   "outputs": [
    {
     "name": "stdout",
     "output_type": "stream",
     "text": [
      "CPU times: user 35.5 ms, sys: 3.96 ms, total: 39.5 ms\n",
      "Wall time: 52.2 ms\n"
     ]
    }
   ],
   "source": [
    "%%time\n",
    "dalist0 = crd.cubelist_to_dalist(cubelist0)\n",
    "ds0 = xr.merge(dalist0)"
   ]
  },
  {
   "cell_type": "code",
   "execution_count": 25,
   "metadata": {},
   "outputs": [
    {
     "data": {
      "text/html": [
       "<pre>&lt;xarray.Dataset&gt;\n",
       "Dimensions:                  (grid_latitude: 219, grid_latitude_1: 218, grid_longitude: 286, grid_longitude_1: 286, time: 577)\n",
       "Coordinates:\n",
       "  * time                     (time) datetime64[ns] 1851-01-01 ... 1851-01-25\n",
       "  * grid_latitude            (grid_latitude) float32 22.88 22.66 ... -25.08\n",
       "  * grid_longitude           (grid_longitude) float32 323.48 323.7 ... 386.18002\n",
       "    forecast_reference_time  datetime64[ns] 1849-12-01\n",
       "    forecast_period          (time) timedelta64[ns] 396 days 00:00:00 ... 420 days 00:00:00\n",
       "  * grid_latitude_1          (grid_latitude_1) float32 22.77 ... -24.969997\n",
       "  * grid_longitude_1         (grid_longitude_1) float32 323.59003 ... 386.29004\n",
       "    height                   float64 10.0\n",
       "Data variables:\n",
       "    surface_air_pressure     (time, grid_latitude, grid_longitude) float32 dask.array&lt;chunksize=(1, 219, 286), meta=np.ndarray&gt;\n",
       "    x_wind                   (time, grid_latitude_1, grid_longitude_1) float32 dask.array&lt;chunksize=(1, 218, 286), meta=np.ndarray&gt;\n",
       "    y_wind                   (time, grid_latitude_1, grid_longitude_1) float32 dask.array&lt;chunksize=(1, 218, 286), meta=np.ndarray&gt;</pre>"
      ],
      "text/plain": [
       "<xarray.Dataset>\n",
       "Dimensions:                  (grid_latitude: 219, grid_latitude_1: 218, grid_longitude: 286, grid_longitude_1: 286, time: 577)\n",
       "Coordinates:\n",
       "  * time                     (time) datetime64[ns] 1851-01-01 ... 1851-01-25\n",
       "  * grid_latitude            (grid_latitude) float32 22.88 22.66 ... -25.08\n",
       "  * grid_longitude           (grid_longitude) float32 323.48 323.7 ... 386.18002\n",
       "    forecast_reference_time  datetime64[ns] 1849-12-01\n",
       "    forecast_period          (time) timedelta64[ns] 396 days 00:00:00 ... 420 days 00:00:00\n",
       "  * grid_latitude_1          (grid_latitude_1) float32 22.77 ... -24.969997\n",
       "  * grid_longitude_1         (grid_longitude_1) float32 323.59003 ... 386.29004\n",
       "    height                   float64 10.0\n",
       "Data variables:\n",
       "    surface_air_pressure     (time, grid_latitude, grid_longitude) float32 dask.array<chunksize=(1, 219, 286), meta=np.ndarray>\n",
       "    x_wind                   (time, grid_latitude_1, grid_longitude_1) float32 dask.array<chunksize=(1, 218, 286), meta=np.ndarray>\n",
       "    y_wind                   (time, grid_latitude_1, grid_longitude_1) float32 dask.array<chunksize=(1, 218, 286), meta=np.ndarray>"
      ]
     },
     "execution_count": 25,
     "metadata": {},
     "output_type": "execute_result"
    }
   ],
   "source": [
    "ds0"
   ]
  },
  {
   "cell_type": "code",
   "execution_count": 26,
   "metadata": {},
   "outputs": [
    {
     "name": "stdout",
     "output_type": "stream",
     "text": [
      "CPU times: user 4.49 s, sys: 1.27 s, total: 5.77 s\n",
      "Wall time: 17.6 s\n"
     ]
    }
   ],
   "source": [
    "%%time\n",
    "logging.info(f'Creating {ZARR}')\n",
    "crd.ds_to_zarr(ds0, ZARR, chunks=CHUNKS)"
   ]
  },
  {
   "cell_type": "code",
   "execution_count": 27,
   "metadata": {},
   "outputs": [
    {
     "data": {
      "text/html": [
       "<pre>&lt;xarray.Dataset&gt;\n",
       "Dimensions:                  (grid_latitude: 219, grid_latitude_1: 218, grid_longitude: 286, grid_longitude_1: 286, time: 577)\n",
       "Coordinates:\n",
       "    forecast_period          (time) timedelta64[ns] dask.array&lt;chunksize=(577,), meta=np.ndarray&gt;\n",
       "    forecast_reference_time  datetime64[ns] ...\n",
       "  * grid_latitude            (grid_latitude) float32 22.88 22.66 ... -25.08\n",
       "  * grid_latitude_1          (grid_latitude_1) float32 22.77 ... -24.969997\n",
       "  * grid_longitude           (grid_longitude) float32 323.48 323.7 ... 386.18002\n",
       "  * grid_longitude_1         (grid_longitude_1) float32 323.59003 ... 386.29004\n",
       "    height                   float64 ...\n",
       "  * time                     (time) datetime64[ns] 1851-01-01 ... 1851-01-25\n",
       "Data variables:\n",
       "    surface_air_pressure     (time, grid_latitude, grid_longitude) float32 dask.array&lt;chunksize=(200, 219, 286), meta=np.ndarray&gt;\n",
       "    x_wind                   (time, grid_latitude_1, grid_longitude_1) float32 dask.array&lt;chunksize=(200, 218, 286), meta=np.ndarray&gt;\n",
       "    y_wind                   (time, grid_latitude_1, grid_longitude_1) float32 dask.array&lt;chunksize=(200, 218, 286), meta=np.ndarray&gt;</pre>"
      ],
      "text/plain": [
       "<xarray.Dataset>\n",
       "Dimensions:                  (grid_latitude: 219, grid_latitude_1: 218, grid_longitude: 286, grid_longitude_1: 286, time: 577)\n",
       "Coordinates:\n",
       "    forecast_period          (time) timedelta64[ns] dask.array<chunksize=(577,), meta=np.ndarray>\n",
       "    forecast_reference_time  datetime64[ns] ...\n",
       "  * grid_latitude            (grid_latitude) float32 22.88 22.66 ... -25.08\n",
       "  * grid_latitude_1          (grid_latitude_1) float32 22.77 ... -24.969997\n",
       "  * grid_longitude           (grid_longitude) float32 323.48 323.7 ... 386.18002\n",
       "  * grid_longitude_1         (grid_longitude_1) float32 323.59003 ... 386.29004\n",
       "    height                   float64 ...\n",
       "  * time                     (time) datetime64[ns] 1851-01-01 ... 1851-01-25\n",
       "Data variables:\n",
       "    surface_air_pressure     (time, grid_latitude, grid_longitude) float32 dask.array<chunksize=(200, 219, 286), meta=np.ndarray>\n",
       "    x_wind                   (time, grid_latitude_1, grid_longitude_1) float32 dask.array<chunksize=(200, 218, 286), meta=np.ndarray>\n",
       "    y_wind                   (time, grid_latitude_1, grid_longitude_1) float32 dask.array<chunksize=(200, 218, 286), meta=np.ndarray>"
      ]
     },
     "execution_count": 27,
     "metadata": {},
     "output_type": "execute_result"
    }
   ],
   "source": [
    "dsz0 = xr.open_zarr(ZARR)\n",
    "dsz0"
   ]
  },
  {
   "cell_type": "code",
   "execution_count": 28,
   "metadata": {},
   "outputs": [
    {
     "data": {
      "text/plain": [
       "0.432370924"
      ]
     },
     "execution_count": 28,
     "metadata": {},
     "output_type": "execute_result"
    }
   ],
   "source": [
    "# Size of Dataset in GB\n",
    "dsz0.nbytes / 1e9"
   ]
  },
  {
   "cell_type": "code",
   "execution_count": 31,
   "metadata": {},
   "outputs": [],
   "source": [
    "logging.info(f'  Successfull creation of {ZARR}')\n",
    "logging.info(f'  Processed filenames 0:{filenames[0]} - 3:{filenames[3]}')\n",
    "logging.info(f'  Chunking {CHUNKS}')"
   ]
  },
  {
   "cell_type": "markdown",
   "metadata": {},
   "source": [
    "## Now loop through the remaining cubes and append to the Zarr we created"
   ]
  },
  {
   "cell_type": "code",
   "execution_count": 14,
   "metadata": {},
   "outputs": [],
   "source": [
    "def logprint(message):\n",
    "    logging.info(message)\n",
    "    print(message)"
   ]
  },
  {
   "cell_type": "code",
   "execution_count": 15,
   "metadata": {},
   "outputs": [
    {
     "name": "stdout",
     "output_type": "stream",
     "text": [
      "Appending data to /data/cssp-china/zarr_hourly_1851-1859\n",
      "  Processing filenames 207:apepda.pj56950.pp - 209:apepda.pj569f0.pp\n",
      "  | Loaded files successfully\n",
      "  | Renamed files successfully\n",
      "  | Created dataset successfully\n",
      "  | Appended to Zarr /data/cssp-china/zarr_hourly_1851-1859 successfully\n",
      "  Processing filenames 209:apepda.pj569p0.pp - 211:apepda.pj56a50.pp\n",
      "  | Loaded files successfully\n",
      "  | Renamed files successfully\n",
      "  | Created dataset successfully\n",
      "  | Appended to Zarr /data/cssp-china/zarr_hourly_1851-1859 successfully\n",
      "  Processing filenames 211:apepda.pj56af0.pp - 213:apepda.pj56ap0.pp\n",
      "  | Loaded files successfully\n",
      "  | Renamed files successfully\n",
      "  | Created dataset successfully\n",
      "  | Appended to Zarr /data/cssp-china/zarr_hourly_1851-1859 successfully\n",
      "  Processing filenames 213:apepda.pj56b40.pp - 215:apepda.pj56be0.pp\n",
      "  | Loaded files successfully\n",
      "  | Renamed files successfully\n",
      "  | Created dataset successfully\n",
      "  | Appended to Zarr /data/cssp-china/zarr_hourly_1851-1859 successfully\n",
      "  Processing filenames 215:apepda.pj56bo0.pp - 217:apepda.pj56c40.pp\n",
      "  | Loaded files successfully\n",
      "  | Renamed files successfully\n",
      "  | Created dataset successfully\n",
      "  | Appended to Zarr /data/cssp-china/zarr_hourly_1851-1859 successfully\n",
      "  Processing filenames 217:apepda.pj56ce0.pp - 219:apepda.pj56co0.pp\n",
      "  | Loaded files successfully\n",
      "  | Renamed files successfully\n",
      "  | Created dataset successfully\n",
      "  | Appended to Zarr /data/cssp-china/zarr_hourly_1851-1859 successfully\n",
      "  Processing filenames 219:apepda.pj57130.pp - 221:apepda.pj571d0.pp\n"
     ]
    },
    {
     "name": "stderr",
     "output_type": "stream",
     "text": [
      "/root/my-conda-envs/pangolin/lib/python3.6/site-packages/iris/fileformats/pp.py:1804: UserWarning: Unable to interpret field 147. Unsupported header release number: 277631283. Skipping the remainder of the file.\n",
      "  warnings.warn(msg)\n"
     ]
    },
    {
     "name": "stdout",
     "output_type": "stream",
     "text": [
      "  | Loaded files successfully\n",
      "  | Renamed files successfully\n",
      "  | Created dataset successfully\n",
      "  | Appended to Zarr /data/cssp-china/zarr_hourly_1851-1859 successfully\n",
      "  Processing filenames 221:apepda.pj571n0.pp - 223:apepda.pj57220.pp\n",
      "  | Loaded files successfully\n",
      "  | Renamed files successfully\n",
      "  | Created dataset successfully\n",
      "  | Appended to Zarr /data/cssp-china/zarr_hourly_1851-1859 successfully\n",
      "  Processing filenames 223:apepda.pj572c0.pp - 225:apepda.pj572m0.pp\n",
      "  | Loaded files successfully\n",
      "  | Renamed files successfully\n",
      "  | Created dataset successfully\n",
      "  | Appended to Zarr /data/cssp-china/zarr_hourly_1851-1859 successfully\n",
      "  Processing filenames 225:apepda.pj57340.pp - 227:apepda.pj573e0.pp\n",
      "  | Loaded files successfully\n",
      "  | Renamed files successfully\n",
      "  | Created dataset successfully\n",
      "  | Appended to Zarr /data/cssp-china/zarr_hourly_1851-1859 successfully\n",
      "  Processing filenames 227:apepda.pj573o0.pp - 229:apepda.pj57430.pp\n",
      "  | Loaded files successfully\n",
      "  | Renamed files successfully\n",
      "  | Created dataset successfully\n",
      "  | Appended to Zarr /data/cssp-china/zarr_hourly_1851-1859 successfully\n",
      "  Processing filenames 229:apepda.pj574d0.pp - 231:apepda.pj574n0.pp\n",
      "  | Loaded files successfully\n",
      "  | Renamed files successfully\n",
      "  | Created dataset successfully\n",
      "  | Appended to Zarr /data/cssp-china/zarr_hourly_1851-1859 successfully\n",
      "  Processing filenames 231:apepda.pj57530.pp - 233:apepda.pj575d0.pp\n",
      "  | Loaded files successfully\n",
      "  | Renamed files successfully\n",
      "  | Created dataset successfully\n",
      "  | Appended to Zarr /data/cssp-china/zarr_hourly_1851-1859 successfully\n",
      "  Processing filenames 233:apepda.pj575n0.pp - 235:apepda.pj57620.pp\n",
      "  | Loaded files successfully\n",
      "  | Renamed files successfully\n",
      "  | Created dataset successfully\n",
      "  | Appended to Zarr /data/cssp-china/zarr_hourly_1851-1859 successfully\n",
      "  Processing filenames 235:apepda.pj576c0.pp - 237:apepda.pj576m0.pp\n",
      "  | Loaded files successfully\n",
      "  | Renamed files successfully\n",
      "  | Created dataset successfully\n",
      "  | Appended to Zarr /data/cssp-china/zarr_hourly_1851-1859 successfully\n",
      "  Processing filenames 237:apepda.pj57720.pp - 239:apepda.pj577c0.pp\n",
      "  | Loaded files successfully\n",
      "  | Renamed files successfully\n",
      "  | Created dataset successfully\n",
      "  | Appended to Zarr /data/cssp-china/zarr_hourly_1851-1859 successfully\n",
      "  Processing filenames 239:apepda.pj577m0.pp - 241:apepda.pj57810.pp\n",
      "  | Loaded files successfully\n",
      "  | Renamed files successfully\n",
      "  | Created dataset successfully\n",
      "  | Appended to Zarr /data/cssp-china/zarr_hourly_1851-1859 successfully\n",
      "  Processing filenames 241:apepda.pj578b0.pp - 243:apepda.pj578l0.pp\n",
      "  | Loaded files successfully\n",
      "  | Renamed files successfully\n",
      "  | Created dataset successfully\n",
      "  | Appended to Zarr /data/cssp-china/zarr_hourly_1851-1859 successfully\n",
      "  Processing filenames 243:apepda.pj578v0.pp - 245:apepda.pj579a0.pp\n",
      "  | Loaded files successfully\n",
      "  | Renamed files successfully\n",
      "  | Created dataset successfully\n",
      "  | Appended to Zarr /data/cssp-china/zarr_hourly_1851-1859 successfully\n",
      "  Processing filenames 245:apepda.pj579k0.pp - 247:apepda.pj579u0.pp\n",
      "  | Loaded files successfully\n",
      "  | Renamed files successfully\n",
      "  | Created dataset successfully\n",
      "  | Appended to Zarr /data/cssp-china/zarr_hourly_1851-1859 successfully\n",
      "  Processing filenames 247:apepda.pj57aa0.pp - 249:apepda.pj57ak0.pp\n",
      "  | Loaded files successfully\n",
      "  | Renamed files successfully\n",
      "  | Created dataset successfully\n",
      "  | Appended to Zarr /data/cssp-china/zarr_hourly_1851-1859 successfully\n",
      "  Processing filenames 249:apepda.pj57au0.pp - 251:apepda.pj57b90.pp\n",
      "  | Loaded files successfully\n",
      "  | Renamed files successfully\n",
      "  | Created dataset successfully\n",
      "  | Appended to Zarr /data/cssp-china/zarr_hourly_1851-1859 successfully\n",
      "  Processing filenames 251:apepda.pj57bj0.pp - 253:apepda.pj57bt0.pp\n",
      "  | Loaded files successfully\n",
      "  | Renamed files successfully\n",
      "  | Created dataset successfully\n",
      "  | Appended to Zarr /data/cssp-china/zarr_hourly_1851-1859 successfully\n",
      "  Processing filenames 253:apepda.pj57c90.pp - 255:apepda.pj57cj0.pp\n",
      "  | Loaded files successfully\n",
      "  | Renamed files successfully\n",
      "  | Created dataset successfully\n",
      "  | Appended to Zarr /data/cssp-china/zarr_hourly_1851-1859 successfully\n",
      "  Processing filenames 255:apepda.pj57ct0.pp - 257:apepda.pj58180.pp\n",
      "  | Loaded files successfully\n",
      "  | Renamed files successfully\n",
      "  | Created dataset successfully\n",
      "  | Appended to Zarr /data/cssp-china/zarr_hourly_1851-1859 successfully\n",
      "  Processing filenames 257:apepda.pj581i0.pp - 259:apepda.pj581s0.pp\n",
      "  | Loaded files successfully\n",
      "  | Renamed files successfully\n",
      "  | Created dataset successfully\n",
      "  | Appended to Zarr /data/cssp-china/zarr_hourly_1851-1859 successfully\n",
      "  Processing filenames 259:apepda.pj58270.pp - 261:apepda.pj582h0.pp\n",
      "  | Loaded files successfully\n",
      "  | Renamed files successfully\n",
      "  | Created dataset successfully\n",
      "  | Appended to Zarr /data/cssp-china/zarr_hourly_1851-1859 successfully\n",
      "  Processing filenames 261:apepda.pj582r0.pp - 263:apepda.pj58390.pp\n",
      "  | Loaded files successfully\n",
      "  | Renamed files successfully\n",
      "  | Created dataset successfully\n",
      "  | Appended to Zarr /data/cssp-china/zarr_hourly_1851-1859 successfully\n",
      "  Processing filenames 263:apepda.pj583j0.pp - 265:apepda.pj583t0.pp\n",
      "  | Loaded files successfully\n",
      "  | Renamed files successfully\n",
      "  | Created dataset successfully\n",
      "  | Appended to Zarr /data/cssp-china/zarr_hourly_1851-1859 successfully\n",
      "  Processing filenames 265:apepda.pj58480.pp - 267:apepda.pj584i0.pp\n",
      "  | Loaded files successfully\n",
      "  | Renamed files successfully\n",
      "  | Created dataset successfully\n",
      "  | Appended to Zarr /data/cssp-china/zarr_hourly_1851-1859 successfully\n",
      "  Processing filenames 267:apepda.pj584s0.pp - 269:apepda.pj58580.pp\n",
      "  | Loaded files successfully\n",
      "  | Renamed files successfully\n",
      "  | Created dataset successfully\n",
      "  | Appended to Zarr /data/cssp-china/zarr_hourly_1851-1859 successfully\n",
      "  Processing filenames 269:apepda.pj585i0.pp - 271:apepda.pj585s0.pp\n",
      "  | Loaded files successfully\n",
      "  | Renamed files successfully\n",
      "  | Created dataset successfully\n",
      "  | Appended to Zarr /data/cssp-china/zarr_hourly_1851-1859 successfully\n",
      "  Processing filenames 271:apepda.pj58670.pp - 273:apepda.pj586h0.pp\n",
      "  | Loaded files successfully\n",
      "  | Renamed files successfully\n",
      "  | Created dataset successfully\n",
      "  | Appended to Zarr /data/cssp-china/zarr_hourly_1851-1859 successfully\n",
      "  Processing filenames 273:apepda.pj586r0.pp - 275:apepda.pj58770.pp\n",
      "  | Loaded files successfully\n",
      "  | Renamed files successfully\n",
      "  | Created dataset successfully\n",
      "  | Appended to Zarr /data/cssp-china/zarr_hourly_1851-1859 successfully\n",
      "  Processing filenames 275:apepda.pj587h0.pp - 277:apepda.pj587r0.pp\n",
      "  | Loaded files successfully\n",
      "  | Renamed files successfully\n",
      "  | Created dataset successfully\n",
      "  | Appended to Zarr /data/cssp-china/zarr_hourly_1851-1859 successfully\n",
      "  Processing filenames 277:apepda.pj58860.pp - 279:apepda.pj588g0.pp\n",
      "  | Loaded files successfully\n",
      "  | Renamed files successfully\n",
      "  | Created dataset successfully\n",
      "  | Appended to Zarr /data/cssp-china/zarr_hourly_1851-1859 successfully\n",
      "  Processing filenames 279:apepda.pj588q0.pp - 281:apepda.pj58950.pp\n",
      "  | Loaded files successfully\n",
      "  | Renamed files successfully\n",
      "  | Created dataset successfully\n",
      "  | Appended to Zarr /data/cssp-china/zarr_hourly_1851-1859 successfully\n",
      "  Processing filenames 281:apepda.pj589f0.pp - 283:apepda.pj589p0.pp\n",
      "  | Loaded files successfully\n",
      "  | Renamed files successfully\n",
      "  | Created dataset successfully\n",
      "  | Appended to Zarr /data/cssp-china/zarr_hourly_1851-1859 successfully\n",
      "  Processing filenames 283:apepda.pj58a50.pp - 285:apepda.pj58af0.pp\n",
      "  | Loaded files successfully\n",
      "  | Renamed files successfully\n",
      "  | Created dataset successfully\n",
      "  | Appended to Zarr /data/cssp-china/zarr_hourly_1851-1859 successfully\n",
      "  Processing filenames 285:apepda.pj58ap0.pp - 287:apepda.pj58b40.pp\n",
      "  | Loaded files successfully\n",
      "  | Renamed files successfully\n",
      "  | Created dataset successfully\n",
      "  | Appended to Zarr /data/cssp-china/zarr_hourly_1851-1859 successfully\n",
      "  Processing filenames 287:apepda.pj58be0.pp - 289:apepda.pj58bo0.pp\n",
      "  | Loaded files successfully\n",
      "  | Renamed files successfully\n",
      "  | Created dataset successfully\n",
      "  | Appended to Zarr /data/cssp-china/zarr_hourly_1851-1859 successfully\n",
      "  Processing filenames 289:apepda.pj58c40.pp - 291:apepda.pj58ce0.pp\n",
      "  | Loaded files successfully\n",
      "  | Renamed files successfully\n",
      "  | Created dataset successfully\n",
      "  | Appended to Zarr /data/cssp-china/zarr_hourly_1851-1859 successfully\n",
      "  Processing filenames 291:apepda.pj58co0.pp - 293:apepda.pj59130.pp\n",
      "  | Loaded files successfully\n",
      "  | Renamed files successfully\n",
      "  | Created dataset successfully\n",
      "  | Appended to Zarr /data/cssp-china/zarr_hourly_1851-1859 successfully\n",
      "  Processing filenames 293:apepda.pj591d0.pp - 295:apepda.pj591n0.pp\n",
      "  | Loaded files successfully\n",
      "  | Renamed files successfully\n",
      "  | Created dataset successfully\n",
      "  | Appended to Zarr /data/cssp-china/zarr_hourly_1851-1859 successfully\n",
      "  Processing filenames 295:apepda.pj59220.pp - 297:apepda.pj592c0.pp\n",
      "  | Loaded files successfully\n",
      "  | Renamed files successfully\n",
      "  | Created dataset successfully\n",
      "  | Appended to Zarr /data/cssp-china/zarr_hourly_1851-1859 successfully\n",
      "  Processing filenames 297:apepda.pj592m0.pp - 299:apepda.pj59340.pp\n",
      "  | Loaded files successfully\n",
      "  | Renamed files successfully\n",
      "  | Created dataset successfully\n",
      "  | Appended to Zarr /data/cssp-china/zarr_hourly_1851-1859 successfully\n",
      "  Processing filenames 299:apepda.pj593e0.pp - 301:apepda.pj593o0.pp\n",
      "  | Loaded files successfully\n",
      "  | Renamed files successfully\n",
      "  | Created dataset successfully\n",
      "  | Appended to Zarr /data/cssp-china/zarr_hourly_1851-1859 successfully\n",
      "  Processing filenames 301:apepda.pj59430.pp - 303:apepda.pj594d0.pp\n",
      "  | Loaded files successfully\n",
      "  | Renamed files successfully\n",
      "  | Created dataset successfully\n",
      "  | Appended to Zarr /data/cssp-china/zarr_hourly_1851-1859 successfully\n",
      "  Processing filenames 303:apepda.pj594n0.pp - 305:apepda.pj59530.pp\n",
      "  | Loaded files successfully\n",
      "  | Renamed files successfully\n",
      "  | Created dataset successfully\n",
      "  | Appended to Zarr /data/cssp-china/zarr_hourly_1851-1859 successfully\n",
      "  Processing filenames 305:apepda.pj595d0.pp - 307:apepda.pj595n0.pp\n",
      "  | Loaded files successfully\n",
      "  | Renamed files successfully\n",
      "  | Created dataset successfully\n",
      "  | Appended to Zarr /data/cssp-china/zarr_hourly_1851-1859 successfully\n",
      "  Processing filenames 307:apepda.pj59620.pp - 309:apepda.pj596c0.pp\n",
      "  | Loaded files successfully\n",
      "  | Renamed files successfully\n",
      "  | Created dataset successfully\n",
      "  | Appended to Zarr /data/cssp-china/zarr_hourly_1851-1859 successfully\n",
      "  Processing filenames 309:apepda.pj596m0.pp - 311:apepda.pj59720.pp\n",
      "  | Loaded files successfully\n",
      "  | Renamed files successfully\n",
      "  | Created dataset successfully\n",
      "  | Appended to Zarr /data/cssp-china/zarr_hourly_1851-1859 successfully\n",
      "  Processing filenames 311:apepda.pj597c0.pp - 313:apepda.pj597m0.pp\n",
      "  | Loaded files successfully\n",
      "  | Renamed files successfully\n",
      "  | Created dataset successfully\n",
      "  | Appended to Zarr /data/cssp-china/zarr_hourly_1851-1859 successfully\n",
      "  Processing filenames 313:apepda.pj59810.pp - 315:apepda.pj598b0.pp\n",
      "  | Loaded files successfully\n",
      "  | Renamed files successfully\n",
      "  | Created dataset successfully\n",
      "  | Appended to Zarr /data/cssp-china/zarr_hourly_1851-1859 successfully\n",
      "  Processing filenames 315:apepda.pj598l0.pp - 317:apepda.pj598v0.pp\n",
      "  | Loaded files successfully\n",
      "  | Renamed files successfully\n",
      "  | Created dataset successfully\n",
      "  | Appended to Zarr /data/cssp-china/zarr_hourly_1851-1859 successfully\n",
      "  Processing filenames 317:apepda.pj599a0.pp - 319:apepda.pj599k0.pp\n",
      "  | Loaded files successfully\n",
      "  | Renamed files successfully\n",
      "  | Created dataset successfully\n",
      "  | Appended to Zarr /data/cssp-china/zarr_hourly_1851-1859 successfully\n",
      "  Processing filenames 319:apepda.pj599u0.pp - 321:apepda.pj59aa0.pp\n",
      "  | Loaded files successfully\n",
      "  | Renamed files successfully\n",
      "  | Created dataset successfully\n",
      "  | Appended to Zarr /data/cssp-china/zarr_hourly_1851-1859 successfully\n",
      "  Processing filenames 321:apepda.pj59ak0.pp - 323:apepda.pj59au0.pp\n",
      "  | Loaded files successfully\n",
      "  | Renamed files successfully\n",
      "  | Created dataset successfully\n",
      "  | Appended to Zarr /data/cssp-china/zarr_hourly_1851-1859 successfully\n",
      "  Processing filenames 323:apepda.pj59b90.pp - 325:apepda.pj59bj0.pp\n",
      "  | Loaded files successfully\n",
      "  | Renamed files successfully\n",
      "  | Created dataset successfully\n",
      "  | Appended to Zarr /data/cssp-china/zarr_hourly_1851-1859 successfully\n",
      "  Processing filenames 325:apepda.pj59bt0.pp - 327:apepda.pj59c90.pp\n",
      "  | Loaded files successfully\n",
      "  | Renamed files successfully\n",
      "  | Created dataset successfully\n",
      "  | Appended to Zarr /data/cssp-china/zarr_hourly_1851-1859 successfully\n",
      "  Processing filenames 327:apepda.pj59cj0.pp - 329:apepda.pj59ct0.pp\n",
      "  | Loaded files successfully\n",
      "  | Renamed files successfully\n",
      "  | Created dataset successfully\n",
      "  | Appended to Zarr /data/cssp-china/zarr_hourly_1851-1859 successfully\n",
      "  Appending data complete\n",
      "CPU times: user 10min 5s, sys: 1min 25s, total: 11min 30s\n",
      "Wall time: 21min 47s\n"
     ]
    }
   ],
   "source": [
    "%%time\n",
    "# Loop through in bunches of 2 cubes, so as to not use to much memory at one time\n",
    "start = 207\n",
    "step = 2\n",
    "stop = len(filepaths)\n",
    "# stop = start+(2*step)\n",
    "\n",
    "logprint(f'Appending data to {ZARR}')\n",
    "\n",
    "for i in range(start, stop, step):\n",
    "    fnames = filenames[i:i+step]\n",
    "    logprint(f'  Processing filenames {i}:{fnames[0]} - {min([i+step, stop])}:{fnames[-1]}')\n",
    "    try:\n",
    "        cubelist = iris.load(filepaths[i:i+step])\n",
    "        logprint(f'  | Loaded files successfully')\n",
    "        \n",
    "        crd.rename_cubes(cubelist, CUBENAMES, COORD_NAME_MAPPING, dryrun=False, verbose=False)\n",
    "        logprint(f'  | Renamed files successfully')\n",
    "        \n",
    "        dalist = crd.cubelist_to_dalist(cubelist)\n",
    "        ds = xr.merge(dalist)\n",
    "        logprint(f'  | Created dataset successfully')\n",
    "        \n",
    "        crd.ds_to_zarr(ds, ZARR, chunks=CHUNKS)\n",
    "        logprint(f'  | Appended to Zarr {ZARR} successfully')\n",
    "        \n",
    "    except Exception as e:\n",
    "        logprint(f'  X ERROR: {e}')\n",
    "        raise e\n",
    "\n",
    "logprint(f'  Appending data complete')"
   ]
  },
  {
   "cell_type": "code",
   "execution_count": 16,
   "metadata": {},
   "outputs": [
    {
     "data": {
      "text/html": [
       "<pre>&lt;xarray.Dataset&gt;\n",
       "Dimensions:                  (grid_latitude: 219, grid_latitude_1: 218, grid_longitude: 286, grid_longitude_1: 286, time: 77329)\n",
       "Coordinates:\n",
       "    forecast_period          (time) timedelta64[ns] dask.array&lt;chunksize=(577,), meta=np.ndarray&gt;\n",
       "    forecast_reference_time  datetime64[ns] ...\n",
       "  * grid_latitude            (grid_latitude) float32 22.88 22.66 ... -25.08\n",
       "  * grid_latitude_1          (grid_latitude_1) float32 22.77 ... -24.969997\n",
       "  * grid_longitude           (grid_longitude) float32 323.48 323.7 ... 386.18002\n",
       "  * grid_longitude_1         (grid_longitude_1) float32 323.59003 ... 386.29004\n",
       "    height                   float64 ...\n",
       "  * time                     (time) datetime64[ns] 1851-01-01 ... 1859-12-29\n",
       "Data variables:\n",
       "    surface_air_pressure     (time, grid_latitude, grid_longitude) float32 dask.array&lt;chunksize=(200, 219, 286), meta=np.ndarray&gt;\n",
       "    x_wind                   (time, grid_latitude_1, grid_longitude_1) float32 dask.array&lt;chunksize=(200, 218, 286), meta=np.ndarray&gt;\n",
       "    y_wind                   (time, grid_latitude_1, grid_longitude_1) float32 dask.array&lt;chunksize=(200, 218, 286), meta=np.ndarray&gt;</pre>"
      ],
      "text/plain": [
       "<xarray.Dataset>\n",
       "Dimensions:                  (grid_latitude: 219, grid_latitude_1: 218, grid_longitude: 286, grid_longitude_1: 286, time: 77329)\n",
       "Coordinates:\n",
       "    forecast_period          (time) timedelta64[ns] dask.array<chunksize=(577,), meta=np.ndarray>\n",
       "    forecast_reference_time  datetime64[ns] ...\n",
       "  * grid_latitude            (grid_latitude) float32 22.88 22.66 ... -25.08\n",
       "  * grid_latitude_1          (grid_latitude_1) float32 22.77 ... -24.969997\n",
       "  * grid_longitude           (grid_longitude) float32 323.48 323.7 ... 386.18002\n",
       "  * grid_longitude_1         (grid_longitude_1) float32 323.59003 ... 386.29004\n",
       "    height                   float64 ...\n",
       "  * time                     (time) datetime64[ns] 1851-01-01 ... 1859-12-29\n",
       "Data variables:\n",
       "    surface_air_pressure     (time, grid_latitude, grid_longitude) float32 dask.array<chunksize=(200, 219, 286), meta=np.ndarray>\n",
       "    x_wind                   (time, grid_latitude_1, grid_longitude_1) float32 dask.array<chunksize=(200, 218, 286), meta=np.ndarray>\n",
       "    y_wind                   (time, grid_latitude_1, grid_longitude_1) float32 dask.array<chunksize=(200, 218, 286), meta=np.ndarray>"
      ]
     },
     "execution_count": 16,
     "metadata": {},
     "output_type": "execute_result"
    }
   ],
   "source": [
    "dsz1 = xr.open_zarr(ZARR)\n",
    "dsz1"
   ]
  },
  {
   "cell_type": "code",
   "execution_count": 17,
   "metadata": {},
   "outputs": [
    {
     "data": {
      "text/html": [
       "\n",
       "<style>\n",
       "  a.iris {\n",
       "      text-decoration: none !important;\n",
       "  }\n",
       "  table.iris {\n",
       "      white-space: pre;\n",
       "      border: 1px solid;\n",
       "      border-color: #9c9c9c;\n",
       "      font-family: monaco, monospace;\n",
       "  }\n",
       "  th.iris {\n",
       "      background: #303f3f;\n",
       "      color: #e0e0e0;\n",
       "      border-left: 1px solid;\n",
       "      border-color: #9c9c9c;\n",
       "      font-size: 1.05em;\n",
       "      min-width: 50px;\n",
       "      max-width: 125px;\n",
       "  }\n",
       "  tr.iris :first-child {\n",
       "      border-right: 1px solid #9c9c9c !important;\n",
       "  }\n",
       "  td.iris-title {\n",
       "      background: #d5dcdf;\n",
       "      border-top: 1px solid #9c9c9c;\n",
       "      font-weight: bold;\n",
       "  }\n",
       "  .iris-word-cell {\n",
       "      text-align: left !important;\n",
       "      white-space: pre;\n",
       "  }\n",
       "  .iris-subheading-cell {\n",
       "      padding-left: 2em !important;\n",
       "  }\n",
       "  .iris-inclusion-cell {\n",
       "      padding-right: 1em !important;\n",
       "  }\n",
       "  .iris-panel-body {\n",
       "      padding-top: 0px;\n",
       "  }\n",
       "  .iris-panel-title {\n",
       "      padding-left: 3em;\n",
       "  }\n",
       "  .iris-panel-title {\n",
       "      margin-top: 7px;\n",
       "  }\n",
       "</style>\n",
       "<table class=\"iris\" id=\"140704808257912\">\n",
       "    <tr class=\"iris\">\n",
       "<th class=\"iris iris-word-cell\">Surface Air Pressure (Pa)</th>\n",
       "<th class=\"iris iris-word-cell\">time</th>\n",
       "<th class=\"iris iris-word-cell\">grid_latitude</th>\n",
       "<th class=\"iris iris-word-cell\">grid_longitude</th>\n",
       "</tr>\n",
       "    <tr class=\"iris\">\n",
       "<td class=\"iris-word-cell iris-subheading-cell\">Shape</td>\n",
       "<td class=\"iris iris-inclusion-cell\">77329</td>\n",
       "<td class=\"iris iris-inclusion-cell\">219</td>\n",
       "<td class=\"iris iris-inclusion-cell\">286</td>\n",
       "</tr>\n",
       "    <tr class=\"iris\">\n",
       "    <td class=\"iris-title iris-word-cell\">Dimension coordinates</td>\n",
       "    <td class=\"iris-title\"></td>\n",
       "    <td class=\"iris-title\"></td>\n",
       "    <td class=\"iris-title\"></td>\n",
       "</tr>\n",
       "<tr class=\"iris\">\n",
       "    <td class=\"iris-word-cell iris-subheading-cell\">\ttime</td>\n",
       "    <td class=\"iris-inclusion-cell\">x</td>\n",
       "    <td class=\"iris-inclusion-cell\">-</td>\n",
       "    <td class=\"iris-inclusion-cell\">-</td>\n",
       "</tr>\n",
       "<tr class=\"iris\">\n",
       "    <td class=\"iris-word-cell iris-subheading-cell\">\tgrid_latitude</td>\n",
       "    <td class=\"iris-inclusion-cell\">-</td>\n",
       "    <td class=\"iris-inclusion-cell\">x</td>\n",
       "    <td class=\"iris-inclusion-cell\">-</td>\n",
       "</tr>\n",
       "<tr class=\"iris\">\n",
       "    <td class=\"iris-word-cell iris-subheading-cell\">\tgrid_longitude</td>\n",
       "    <td class=\"iris-inclusion-cell\">-</td>\n",
       "    <td class=\"iris-inclusion-cell\">-</td>\n",
       "    <td class=\"iris-inclusion-cell\">x</td>\n",
       "</tr>\n",
       "<tr class=\"iris\">\n",
       "    <td class=\"iris-title iris-word-cell\">Auxiliary coordinates</td>\n",
       "    <td class=\"iris-title\"></td>\n",
       "    <td class=\"iris-title\"></td>\n",
       "    <td class=\"iris-title\"></td>\n",
       "</tr>\n",
       "<tr class=\"iris\">\n",
       "    <td class=\"iris-word-cell iris-subheading-cell\">\tforecast_period</td>\n",
       "    <td class=\"iris-inclusion-cell\">x</td>\n",
       "    <td class=\"iris-inclusion-cell\">-</td>\n",
       "    <td class=\"iris-inclusion-cell\">-</td>\n",
       "</tr>\n",
       "<tr class=\"iris\">\n",
       "    <td class=\"iris-title iris-word-cell\">Scalar coordinates</td>\n",
       "    <td class=\"iris-title\"></td>\n",
       "    <td class=\"iris-title\"></td>\n",
       "    <td class=\"iris-title\"></td>\n",
       "</tr>\n",
       "<tr class=\"iris\">\n",
       "    <td class=\"iris-word-cell iris-subheading-cell\">\tforecast_reference_time</td>\n",
       "    <td class=\"iris-word-cell\" colspan=\"3\">1849-12-01 00:00:00</td>\n",
       "</tr>\n",
       "<tr class=\"iris\">\n",
       "    <td class=\"iris-word-cell iris-subheading-cell\">\theight</td>\n",
       "    <td class=\"iris-word-cell\" colspan=\"3\">10.0 m</td>\n",
       "</tr>\n",
       "<tr class=\"iris\">\n",
       "    <td class=\"iris-title iris-word-cell\">Attributes</td>\n",
       "    <td class=\"iris-title\"></td>\n",
       "    <td class=\"iris-title\"></td>\n",
       "    <td class=\"iris-title\"></td>\n",
       "</tr>\n",
       "<tr class=\"iris\">\n",
       "    <td class=\"iris-word-cell iris-subheading-cell\">\tSTASH</td>\n",
       "    <td class=\"iris-word-cell\" colspan=\"3\">[1, 0, 1]</td>\n",
       "</tr>\n",
       "<tr class=\"iris\">\n",
       "    <td class=\"iris-word-cell iris-subheading-cell\">\tsource</td>\n",
       "    <td class=\"iris-word-cell\" colspan=\"3\">Data from Met Office Unified Model</td>\n",
       "</tr>\n",
       "</table>\n",
       "        "
      ],
      "text/plain": [
       "<iris 'Cube' of surface_air_pressure / (Pa) (time: 77329; grid_latitude: 219; grid_longitude: 286)>"
      ]
     },
     "execution_count": 17,
     "metadata": {},
     "output_type": "execute_result"
    }
   ],
   "source": [
    "cubez = dsz1.surface_air_pressure.to_iris()\n",
    "cubez"
   ]
  },
  {
   "cell_type": "code",
   "execution_count": 18,
   "metadata": {},
   "outputs": [
    {
     "data": {
      "text/plain": [
       "array([1, 1, 1, ..., 1, 1, 1])"
      ]
     },
     "execution_count": 18,
     "metadata": {},
     "output_type": "execute_result"
    }
   ],
   "source": [
    "deltas = cubez.coord('time').points[1:]-cubez.coord('time').points[0:-1]\n",
    "deltas"
   ]
  },
  {
   "cell_type": "code",
   "execution_count": 22,
   "metadata": {},
   "outputs": [],
   "source": [
    "import matplotlib.pyplot as plt\n",
    "def plot_td_hist(td, **kwargs):\n",
    "    plt.hist(td, log=True, **kwargs)\n",
    "    plt.gcf().set_size_inches(15, 5)\n",
    "#     plt.xticks(np.arange(1, 31))\n",
    "    plt.xlabel('Hours')\n",
    "    plt.ylabel('Number of timedeltas')\n",
    "    plt.title(f'Timedeltas for hourly data')\n",
    "    plt.show()"
   ]
  },
  {
   "cell_type": "code",
   "execution_count": 25,
   "metadata": {},
   "outputs": [
    {
     "data": {
      "image/png": "[encoded data removed]",
      "text/plain": [
       "<Figure size 1080x360 with 1 Axes>"
      ]
     },
     "metadata": {
      "needs_background": "light"
     },
     "output_type": "display_data"
    }
   ],
   "source": [
    "plot_td_hist(deltas, bins=np.arange(0, 250, 1))"
   ]
  }
 ],
 "metadata": {
  "kernelspec": {
   "display_name": "Python (pangolin)",
   "language": "python",
   "name": "pangolin"
  },
  "language_info": {
   "codemirror_mode": {
    "name": "ipython",
    "version": 3
   },
   "file_extension": ".py",
   "mimetype": "text/x-python",
   "name": "python",
   "nbconvert_exporter": "python",
   "pygments_lexer": "ipython3",
   "version": "3.6.7"
  }
 },
 "nbformat": 4,
 "nbformat_minor": 4
}
