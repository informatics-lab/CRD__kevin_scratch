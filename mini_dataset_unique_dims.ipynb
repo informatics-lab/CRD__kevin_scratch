{
 "cells": [
  {
   "cell_type": "markdown",
   "metadata": {},
   "source": [
    "# How many unique dims are in the \"mini\" dataset?\n",
    "### Where the \"mini\" dataset represents 10% of the total CSSP China dataset (~3.5TB) utilised by 90% of users.\n",
    "\n",
    "Strategy:\n",
    "1. For each of the time frequencies of the data\n",
    "2. Run through all the cubes loaded from .pp\n",
    "3. Comparing each dim to a list of unique_dims\n",
    "4. Add any more unique dims found\n",
    "5. At the end, eye-ball the unique dim list to determine how many 'domains' exist in the data\n",
    "\n",
    "Hypothesis: Only two dims exist, which are based on two spatial grids (because vector grids are different from scalar grids)."
   ]
  },
  {
   "cell_type": "code",
   "execution_count": 1,
   "metadata": {},
   "outputs": [],
   "source": [
    "import iris\n",
    "import os\n",
    "import xarray as xr\n",
    "import numpy as np\n",
    "\n",
    "import crd_utils as crd"
   ]
  },
  {
   "cell_type": "markdown",
   "metadata": {},
   "source": [
    "### Let's start with daily data to develop the approach"
   ]
  },
  {
   "cell_type": "code",
   "execution_count": 2,
   "metadata": {},
   "outputs": [],
   "source": [
    "# Variables for loading data\n",
    "filepath = '/data/cssp-china/mini-dataset-24-01-19/20CR/daily'\n",
    "files = sorted(os.listdir(filepath))"
   ]
  },
  {
   "cell_type": "code",
   "execution_count": null,
   "metadata": {},
   "outputs": [],
   "source": [
    "STASH_TEMP = 'm01s16i203'\n",
    "STASH_PRECIP = 'm01s05i216'\n",
    "STASH_UWIND = 'm01s03i225'\n",
    "STASH_VWIND = 'm01s03i226'"
   ]
  },
  {
   "cell_type": "code",
   "execution_count": 4,
   "metadata": {},
   "outputs": [
    {
     "name": "stdout",
     "output_type": "stream",
     "text": [
      "Cubelist loaded from apepda.pa511f0.pp\n"
     ]
    },
    {
     "data": {
      "text/plain": [
       "[<iris 'Cube' of m01s05i217 / (unknown) (time: 10; grid_latitude: 219; grid_longitude: 286)>,\n",
       "<iris 'Cube' of air_pressure_at_sea_level / (Pa) (time: 10; grid_latitude: 219; grid_longitude: 286)>,\n",
       "<iris 'Cube' of air_temperature / (K) (time: 10; grid_latitude: 219; grid_longitude: 286)>,\n",
       "<iris 'Cube' of air_temperature / (K) (time: 10; grid_latitude: 219; grid_longitude: 286)>,\n",
       "<iris 'Cube' of air_temperature / (K) (time: 10; grid_latitude: 219; grid_longitude: 286)>,\n",
       "<iris 'Cube' of air_temperature / (K) (time: 10; pressure: 14; grid_latitude: 219; grid_longitude: 286)>,\n",
       "<iris 'Cube' of cloud_area_fraction / (1) (time: 10; grid_latitude: 219; grid_longitude: 286)>,\n",
       "<iris 'Cube' of geopotential_height / (m) (time: 10; pressure: 14; grid_latitude: 219; grid_longitude: 286)>,\n",
       "<iris 'Cube' of precipitation_flux / (kg m-2 s-1) (time: 10; grid_latitude: 219; grid_longitude: 286)>,\n",
       "<iris 'Cube' of relative_humidity / (%) (time: 10; grid_latitude: 219; grid_longitude: 286)>,\n",
       "<iris 'Cube' of relative_humidity / (%) (time: 10; grid_latitude: 219; grid_longitude: 286)>,\n",
       "<iris 'Cube' of relative_humidity / (%) (time: 10; grid_latitude: 219; grid_longitude: 286)>,\n",
       "<iris 'Cube' of relative_humidity / (%) (time: 10; pressure: 14; grid_latitude: 219; grid_longitude: 286)>,\n",
       "<iris 'Cube' of specific_humidity / (1) (time: 10; grid_latitude: 219; grid_longitude: 286)>,\n",
       "<iris 'Cube' of surface_air_pressure / (Pa) (time: 10; grid_latitude: 219; grid_longitude: 286)>,\n",
       "<iris 'Cube' of surface_downwelling_longwave_flux_in_air / (W m-2) (time: 10; grid_latitude: 219; grid_longitude: 286)>,\n",
       "<iris 'Cube' of surface_downwelling_shortwave_flux_in_air / (W m-2) (time: 10; grid_latitude: 219; grid_longitude: 286)>,\n",
       "<iris 'Cube' of surface_temperature / (K) (time: 10; grid_latitude: 219; grid_longitude: 286)>,\n",
       "<iris 'Cube' of surface_temperature / (K) (time: 10; grid_latitude: 219; grid_longitude: 286)>,\n",
       "<iris 'Cube' of surface_temperature / (K) (time: 10; grid_latitude: 219; grid_longitude: 286)>,\n",
       "<iris 'Cube' of x_wind / (m s-1) (time: 10; grid_latitude: 218; grid_longitude: 286)>,\n",
       "<iris 'Cube' of x_wind / (m s-1) (time: 10; pressure: 14; grid_latitude: 218; grid_longitude: 286)>,\n",
       "<iris 'Cube' of y_wind / (m s-1) (time: 10; grid_latitude: 218; grid_longitude: 286)>,\n",
       "<iris 'Cube' of y_wind / (m s-1) (time: 10; pressure: 14; grid_latitude: 218; grid_longitude: 286)>]"
      ]
     },
     "execution_count": 4,
     "metadata": {},
     "output_type": "execute_result"
    }
   ],
   "source": [
    "cubelist = crd.file_to_cubelist(files[1], filepath)\n",
    "cubelist"
   ]
  },
  {
   "cell_type": "code",
   "execution_count": 32,
   "metadata": {
    "collapsed": true,
    "jupyter": {
     "outputs_hidden": true
    }
   },
   "outputs": [
    {
     "name": "stdout",
     "output_type": "stream",
     "text": [
      "m01s05i217\n",
      "    time\n",
      "    grid_latitude\n",
      "    grid_longitude\n",
      "air_pressure_at_sea_level\n",
      "    time\n",
      "    grid_latitude\n",
      "    grid_longitude\n",
      "air_temperature\n",
      "    time\n",
      "    grid_latitude\n",
      "    grid_longitude\n",
      "air_temperature\n",
      "    time\n",
      "    grid_latitude\n",
      "    grid_longitude\n",
      "air_temperature\n",
      "    time\n",
      "    grid_latitude\n",
      "    grid_longitude\n",
      "air_temperature\n",
      "    time\n",
      "    pressure\n",
      "    grid_latitude\n",
      "    grid_longitude\n",
      "cloud_area_fraction\n",
      "    time\n",
      "    grid_latitude\n",
      "    grid_longitude\n",
      "geopotential_height\n",
      "    time\n",
      "    pressure\n",
      "    grid_latitude\n",
      "    grid_longitude\n",
      "precipitation_flux\n",
      "    time\n",
      "    grid_latitude\n",
      "    grid_longitude\n",
      "relative_humidity\n",
      "    time\n",
      "    grid_latitude\n",
      "    grid_longitude\n",
      "relative_humidity\n",
      "    time\n",
      "    grid_latitude\n",
      "    grid_longitude\n",
      "relative_humidity\n",
      "    time\n",
      "    grid_latitude\n",
      "    grid_longitude\n",
      "relative_humidity\n",
      "    time\n",
      "    pressure\n",
      "    grid_latitude\n",
      "    grid_longitude\n",
      "specific_humidity\n",
      "    time\n",
      "    grid_latitude\n",
      "    grid_longitude\n",
      "surface_air_pressure\n",
      "    time\n",
      "    grid_latitude\n",
      "    grid_longitude\n",
      "surface_downwelling_longwave_flux_in_air\n",
      "    time\n",
      "    grid_latitude\n",
      "    grid_longitude\n",
      "surface_downwelling_shortwave_flux_in_air\n",
      "    time\n",
      "    grid_latitude\n",
      "    grid_longitude\n",
      "surface_temperature\n",
      "    time\n",
      "    grid_latitude\n",
      "    grid_longitude\n",
      "surface_temperature\n",
      "    time\n",
      "    grid_latitude\n",
      "    grid_longitude\n",
      "surface_temperature\n",
      "    time\n",
      "    grid_latitude\n",
      "    grid_longitude\n",
      "x_wind\n",
      "    time\n",
      "    grid_latitude\n",
      "    grid_longitude\n",
      "x_wind\n",
      "    time\n",
      "    pressure\n",
      "    grid_latitude\n",
      "    grid_longitude\n",
      "y_wind\n",
      "    time\n",
      "    grid_latitude\n",
      "    grid_longitude\n",
      "y_wind\n",
      "    time\n",
      "    pressure\n",
      "    grid_latitude\n",
      "    grid_longitude\n"
     ]
    }
   ],
   "source": [
    "for cube in cubelist:\n",
    "    print(cube.name())\n",
    "    for dim in cube.dim_coords:\n",
    "        print(f'    {dim.name()}')"
   ]
  },
  {
   "cell_type": "code",
   "execution_count": 26,
   "metadata": {},
   "outputs": [
    {
     "data": {
      "text/plain": [
       "3"
      ]
     },
     "execution_count": 26,
     "metadata": {},
     "output_type": "execute_result"
    }
   ],
   "source": [
    "unique_dims_daily = []\n",
    "for cube in cubelist[0:4]:\n",
    "    for dim in cube.dim_coords:\n",
    "        if not dim in unique_dims_daily:\n",
    "            unique_dims_daily.append(dim)\n",
    "\n",
    "len(unique_dims_daily)"
   ]
  },
  {
   "cell_type": "code",
   "execution_count": 33,
   "metadata": {},
   "outputs": [
    {
     "data": {
      "text/plain": [
       "6"
      ]
     },
     "execution_count": 33,
     "metadata": {},
     "output_type": "execute_result"
    }
   ],
   "source": [
    "unique_dims_daily = []\n",
    "for cube in cubelist:\n",
    "    for dim in cube.dim_coords:\n",
    "        if not dim in unique_dims_daily:\n",
    "            unique_dims_daily.append(dim)\n",
    "\n",
    "len(unique_dims_daily)"
   ]
  },
  {
   "cell_type": "code",
   "execution_count": 34,
   "metadata": {},
   "outputs": [
    {
     "name": "stdout",
     "output_type": "stream",
     "text": [
      "time\n",
      "grid_latitude\n",
      "grid_longitude\n",
      "pressure\n",
      "grid_latitude\n",
      "grid_longitude\n"
     ]
    }
   ],
   "source": [
    "for dim in unique_dims_daily:\n",
    "    print(dim.name())"
   ]
  },
  {
   "cell_type": "markdown",
   "metadata": {},
   "source": [
    "### As suspected, there are only two grid systems for daily data\n",
    "That was for daily data, now we can check it for all the other time frequencies"
   ]
  },
  {
   "cell_type": "code",
   "execution_count": 3,
   "metadata": {},
   "outputs": [],
   "source": [
    "def unique_dims(cubelist):\n",
    "    unique = []\n",
    "    for cube in cubelist:\n",
    "        for dim in cube.dim_coords:\n",
    "            if not dim in unique:\n",
    "                unique.append(dim)\n",
    "    return unique\n",
    "\n",
    "def unique_coords(cubelist):\n",
    "    unique = []\n",
    "    for cube in cubelist:\n",
    "        for coord in cube.coords():\n",
    "            if not coord in unique:\n",
    "                unique.append(coord)\n",
    "    return unique"
   ]
  },
  {
   "cell_type": "code",
   "execution_count": 4,
   "metadata": {},
   "outputs": [
    {
     "data": {
      "text/plain": [
       "['variableslist.pdf',\n",
       " '.ipynb_checkpoints',\n",
       " '3hrly',\n",
       " '6hrly',\n",
       " 'daily',\n",
       " 'hourly',\n",
       " 'monthly']"
      ]
     },
     "execution_count": 4,
     "metadata": {},
     "output_type": "execute_result"
    }
   ],
   "source": [
    "os.listdir('/data/cssp-china/mini-dataset-24-01-19/20CR/')"
   ]
  },
  {
   "cell_type": "code",
   "execution_count": 5,
   "metadata": {},
   "outputs": [
    {
     "name": "stdout",
     "output_type": "stream",
     "text": [
      "Cubelist loaded from apepda.pj511f0.pp\n",
      "Number of cubes: 3\n"
     ]
    }
   ],
   "source": [
    "# 1 hourly data\n",
    "filepath_1h = '/data/cssp-china/mini-dataset-24-01-19/20CR/hourly'\n",
    "files_1h = sorted(os.listdir(filepath_1h))\n",
    "cubelist_1h = crd.file_to_cubelist(files_1h[1], filepath_1h)\n",
    "print(f'Number of cubes: {len(cubelist_1h)}')"
   ]
  },
  {
   "cell_type": "code",
   "execution_count": 6,
   "metadata": {},
   "outputs": [
    {
     "name": "stdout",
     "output_type": "stream",
     "text": [
      "Number of unique coords in 1 hourly data: 8\n",
      "    time\n",
      "    grid_latitude\n",
      "    grid_longitude\n",
      "    forecast_reference_time\n",
      "    forecast_period\n",
      "    grid_latitude\n",
      "    grid_longitude\n",
      "    height\n"
     ]
    }
   ],
   "source": [
    "unique_coords_1h = unique_coords(cubelist_1h)\n",
    "print(f'Number of unique coords in 1 hourly data: {len(unique_coords_1h)}')\n",
    "for coord in unique_coords_1h:\n",
    "    print(f'    {coord.name()}')"
   ]
  },
  {
   "cell_type": "code",
   "execution_count": 7,
   "metadata": {},
   "outputs": [
    {
     "name": "stdout",
     "output_type": "stream",
     "text": [
      "Cubelist loaded from apepda.pc511f0.pp\n",
      "Number of cubes: 8\n"
     ]
    }
   ],
   "source": [
    "# 3 hourly data\n",
    "filepath_3h = '/data/cssp-china/mini-dataset-24-01-19/20CR/3hrly'\n",
    "files_3h = sorted(os.listdir(filepath_3h))\n",
    "cubelist_3h = crd.file_to_cubelist(files_3h[1], filepath_3h)\n",
    "print(f'Number of cubes: {len(cubelist_3h)}')"
   ]
  },
  {
   "cell_type": "code",
   "execution_count": 8,
   "metadata": {},
   "outputs": [
    {
     "name": "stdout",
     "output_type": "stream",
     "text": [
      "Number of unique coords in 3 hourly data: 8\n",
      "    time\n",
      "    grid_latitude\n",
      "    grid_longitude\n",
      "    forecast_reference_time\n",
      "    forecast_period\n",
      "    height\n",
      "    time\n",
      "    forecast_period\n"
     ]
    }
   ],
   "source": [
    "unique_coords_3h = unique_coords(cubelist_3h)\n",
    "print(f'Number of unique coords in 3 hourly data: {len(unique_coords_3h)}')\n",
    "for coord in unique_coords_3h:\n",
    "    print(f'    {coord.name()}')"
   ]
  },
  {
   "cell_type": "code",
   "execution_count": 9,
   "metadata": {},
   "outputs": [
    {
     "name": "stdout",
     "output_type": "stream",
     "text": [
      "Cubelist loaded from apepda.pb511f0.pp\n",
      "Number of cubes: 12\n"
     ]
    }
   ],
   "source": [
    "# 6 hourly data\n",
    "filepath_6h = '/data/cssp-china/mini-dataset-24-01-19/20CR/6hrly'\n",
    "files_6h = sorted(os.listdir(filepath_6h))\n",
    "cubelist_6h = crd.file_to_cubelist(files_6h[1], filepath_6h)\n",
    "print(f'Number of cubes: {len(cubelist_6h)}')"
   ]
  },
  {
   "cell_type": "code",
   "execution_count": 10,
   "metadata": {},
   "outputs": [
    {
     "name": "stdout",
     "output_type": "stream",
     "text": [
      "Number of unique coords in 6 hourly data: 12\n",
      "    time\n",
      "    grid_latitude\n",
      "    grid_longitude\n",
      "    forecast_reference_time\n",
      "    forecast_period\n",
      "    time\n",
      "    pressure\n",
      "    forecast_period\n",
      "    grid_latitude\n",
      "    grid_longitude\n",
      "    height\n",
      "    height\n"
     ]
    }
   ],
   "source": [
    "unique_coords_6h = unique_coords(cubelist_6h)\n",
    "print(f'Number of unique coords in 6 hourly data: {len(unique_coords_6h)}')\n",
    "for coord in unique_coords_6h:\n",
    "    print(f'    {coord.name()}')"
   ]
  },
  {
   "cell_type": "code",
   "execution_count": 11,
   "metadata": {},
   "outputs": [
    {
     "name": "stdout",
     "output_type": "stream",
     "text": [
      "Cubelist loaded from apepda.pa511f0.pp\n",
      "Number of cubes: 24\n"
     ]
    }
   ],
   "source": [
    "# daily data\n",
    "filepath_d = '/data/cssp-china/mini-dataset-24-01-19/20CR/daily'\n",
    "files_d = sorted(os.listdir(filepath_d))\n",
    "cubelist_d = crd.file_to_cubelist(files_d[1], filepath_d)\n",
    "print(f'Number of cubes: {len(cubelist_d)}')"
   ]
  },
  {
   "cell_type": "code",
   "execution_count": 12,
   "metadata": {},
   "outputs": [
    {
     "name": "stdout",
     "output_type": "stream",
     "text": [
      "Number of unique coords in daily data: 10\n",
      "    time\n",
      "    grid_latitude\n",
      "    grid_longitude\n",
      "    forecast_reference_time\n",
      "    forecast_period\n",
      "    height\n",
      "    pressure\n",
      "    grid_latitude\n",
      "    grid_longitude\n",
      "    height\n"
     ]
    }
   ],
   "source": [
    "unique_coords_d = unique_coords(cubelist_d)\n",
    "print(f'Number of unique coords in daily data: {len(unique_coords_d)}')\n",
    "for coord in unique_coords_d:\n",
    "    print(f'    {coord.name()}')"
   ]
  },
  {
   "cell_type": "code",
   "execution_count": 13,
   "metadata": {},
   "outputs": [
    {
     "name": "stdout",
     "output_type": "stream",
     "text": [
      "Cubelist loaded from apepda.pm51aug.pp\n",
      "Number of cubes: 20\n"
     ]
    }
   ],
   "source": [
    "# monthly data\n",
    "filepath_m = '/data/cssp-china/mini-dataset-24-01-19/20CR/monthly'\n",
    "files_m = sorted(os.listdir(filepath_m))\n",
    "cubelist_m = crd.file_to_cubelist(files_m[1], filepath_m)\n",
    "print(f'Number of cubes: {len(cubelist_m)}')"
   ]
  },
  {
   "cell_type": "code",
   "execution_count": 14,
   "metadata": {},
   "outputs": [
    {
     "name": "stdout",
     "output_type": "stream",
     "text": [
      "Number of unique coords in monthly data: 14\n",
      "    grid_latitude\n",
      "    grid_longitude\n",
      "    forecast_period\n",
      "    forecast_reference_time\n",
      "    time\n",
      "    forecast_period\n",
      "    forecast_reference_time\n",
      "    height\n",
      "    pressure\n",
      "    forecast_period\n",
      "    forecast_reference_time\n",
      "    grid_latitude\n",
      "    grid_longitude\n",
      "    height\n"
     ]
    }
   ],
   "source": [
    "unique_coords_m = unique_coords(cubelist_m)\n",
    "print(f'Number of unique coords in monthly data: {len(unique_coords_m)}')\n",
    "for coord in unique_coords_m:\n",
    "    print(f'    {coord.name()}')"
   ]
  },
  {
   "cell_type": "markdown",
   "metadata": {},
   "source": [
    "### Now we have lists of all the unique coords in each dataset, we can filter cubes based on their unique domains"
   ]
  },
  {
   "cell_type": "code",
   "execution_count": 15,
   "metadata": {},
   "outputs": [
    {
     "name": "stdout",
     "output_type": "stream",
     "text": [
      "Total number of cubes: 67\n"
     ]
    }
   ],
   "source": [
    "cubelist_all = cubelist_1h + cubelist_3h + cubelist_6h + cubelist_d + cubelist_m\n",
    "print(f'Total number of cubes: {len(cubelist_all)}')"
   ]
  },
  {
   "cell_type": "code",
   "execution_count": 16,
   "metadata": {},
   "outputs": [
    {
     "name": "stdout",
     "output_type": "stream",
     "text": [
      "Number of unique coords in all data: 27\n",
      "    time\n",
      "    grid_latitude\n",
      "    grid_longitude\n",
      "    forecast_reference_time\n",
      "    forecast_period\n",
      "    grid_latitude\n",
      "    grid_longitude\n",
      "    height\n",
      "    time\n",
      "    forecast_period\n",
      "    height\n",
      "    time\n",
      "    forecast_period\n",
      "    time\n",
      "    forecast_period\n",
      "    time\n",
      "    pressure\n",
      "    forecast_period\n",
      "    time\n",
      "    forecast_period\n",
      "    forecast_period\n",
      "    forecast_reference_time\n",
      "    time\n",
      "    forecast_period\n",
      "    pressure\n",
      "    forecast_period\n",
      "    forecast_reference_time\n"
     ]
    }
   ],
   "source": [
    "unique_coords_all = unique_coords(cubelist_all)\n",
    "print(f'Number of unique coords in all data: {len(unique_coords_all)}')\n",
    "for coord in unique_coords_all:\n",
    "    print(f'    {coord.name()}')"
   ]
  },
  {
   "cell_type": "markdown",
   "metadata": {},
   "source": [
    "## Q: If I rename a Dataset then load it into Iris, how does Iris deal with that?"
   ]
  },
  {
   "cell_type": "code",
   "execution_count": 17,
   "metadata": {},
   "outputs": [
    {
     "data": {
      "text/html": [
       "\n",
       "<style>\n",
       "  a.iris {\n",
       "      text-decoration: none !important;\n",
       "  }\n",
       "  table.iris {\n",
       "      white-space: pre;\n",
       "      border: 1px solid;\n",
       "      border-color: #9c9c9c;\n",
       "      font-family: monaco, monospace;\n",
       "  }\n",
       "  th.iris {\n",
       "      background: #303f3f;\n",
       "      color: #e0e0e0;\n",
       "      border-left: 1px solid;\n",
       "      border-color: #9c9c9c;\n",
       "      font-size: 1.05em;\n",
       "      min-width: 50px;\n",
       "      max-width: 125px;\n",
       "  }\n",
       "  tr.iris :first-child {\n",
       "      border-right: 1px solid #9c9c9c !important;\n",
       "  }\n",
       "  td.iris-title {\n",
       "      background: #d5dcdf;\n",
       "      border-top: 1px solid #9c9c9c;\n",
       "      font-weight: bold;\n",
       "  }\n",
       "  .iris-word-cell {\n",
       "      text-align: left !important;\n",
       "      white-space: pre;\n",
       "  }\n",
       "  .iris-subheading-cell {\n",
       "      padding-left: 2em !important;\n",
       "  }\n",
       "  .iris-inclusion-cell {\n",
       "      padding-right: 1em !important;\n",
       "  }\n",
       "  .iris-panel-body {\n",
       "      padding-top: 0px;\n",
       "  }\n",
       "  .iris-panel-title {\n",
       "      padding-left: 3em;\n",
       "  }\n",
       "  .iris-panel-title {\n",
       "      margin-top: 7px;\n",
       "  }\n",
       "</style>\n",
       "<table class=\"iris\" id=\"140593145839968\">\n",
       "    <tr class=\"iris\">\n",
       "<th class=\"iris iris-word-cell\">Air Temperature (K)</th>\n",
       "<th class=\"iris iris-word-cell\">time</th>\n",
       "<th class=\"iris iris-word-cell\">grid_latitude</th>\n",
       "<th class=\"iris iris-word-cell\">grid_longitude</th>\n",
       "</tr>\n",
       "    <tr class=\"iris\">\n",
       "<td class=\"iris-word-cell iris-subheading-cell\">Shape</td>\n",
       "<td class=\"iris iris-inclusion-cell\">10</td>\n",
       "<td class=\"iris iris-inclusion-cell\">219</td>\n",
       "<td class=\"iris iris-inclusion-cell\">286</td>\n",
       "</td>\n",
       "    <tr class=\"iris\">\n",
       "    <td class=\"iris-title iris-word-cell\">Dimension coordinates</td>\n",
       "    <td class=\"iris-title\"></td>\n",
       "    <td class=\"iris-title\"></td>\n",
       "    <td class=\"iris-title\"></td>\n",
       "</tr>\n",
       "<tr class=\"iris\">\n",
       "    <td class=\"iris-word-cell iris-subheading-cell\">\ttime</td>\n",
       "    <td class=\"iris-inclusion-cell\">x</td>\n",
       "    <td class=\"iris-inclusion-cell\">-</td>\n",
       "    <td class=\"iris-inclusion-cell\">-</td>\n",
       "</tr>\n",
       "<tr class=\"iris\">\n",
       "    <td class=\"iris-word-cell iris-subheading-cell\">\tgrid_latitude</td>\n",
       "    <td class=\"iris-inclusion-cell\">-</td>\n",
       "    <td class=\"iris-inclusion-cell\">x</td>\n",
       "    <td class=\"iris-inclusion-cell\">-</td>\n",
       "</tr>\n",
       "<tr class=\"iris\">\n",
       "    <td class=\"iris-word-cell iris-subheading-cell\">\tgrid_longitude</td>\n",
       "    <td class=\"iris-inclusion-cell\">-</td>\n",
       "    <td class=\"iris-inclusion-cell\">-</td>\n",
       "    <td class=\"iris-inclusion-cell\">x</td>\n",
       "</tr>\n",
       "<tr class=\"iris\">\n",
       "    <td class=\"iris-title iris-word-cell\">Auxiliary coordinates</td>\n",
       "    <td class=\"iris-title\"></td>\n",
       "    <td class=\"iris-title\"></td>\n",
       "    <td class=\"iris-title\"></td>\n",
       "</tr>\n",
       "<tr class=\"iris\">\n",
       "    <td class=\"iris-word-cell iris-subheading-cell\">\tforecast_period</td>\n",
       "    <td class=\"iris-inclusion-cell\">x</td>\n",
       "    <td class=\"iris-inclusion-cell\">-</td>\n",
       "    <td class=\"iris-inclusion-cell\">-</td>\n",
       "</tr>\n",
       "<tr class=\"iris\">\n",
       "    <td class=\"iris-title iris-word-cell\">Scalar coordinates</td>\n",
       "    <td class=\"iris-title\"></td>\n",
       "    <td class=\"iris-title\"></td>\n",
       "    <td class=\"iris-title\"></td>\n",
       "</tr>\n",
       "<tr class=\"iris\">\n",
       "    <td class=\"iris-word-cell iris-subheading-cell\">\tforecast_reference_time</td>\n",
       "    <td class=\"iris-word-cell\" colspan=\"3\">1849-12-01 00:00:00</td>\n",
       "</tr>\n",
       "<tr class=\"iris\">\n",
       "    <td class=\"iris-word-cell iris-subheading-cell\">\theight</td>\n",
       "    <td class=\"iris-word-cell\" colspan=\"3\">1.5 m</td>\n",
       "</tr>\n",
       "<tr class=\"iris\">\n",
       "    <td class=\"iris-title iris-word-cell\">Attributes</td>\n",
       "    <td class=\"iris-title\"></td>\n",
       "    <td class=\"iris-title\"></td>\n",
       "    <td class=\"iris-title\"></td>\n",
       "</tr>\n",
       "<tr class=\"iris\">\n",
       "    <td class=\"iris-word-cell iris-subheading-cell\">\tSTASH</td>\n",
       "    <td class=\"iris-word-cell\" colspan=\"3\">m01s03i236</td>\n",
       "</tr>\n",
       "<tr class=\"iris\">\n",
       "    <td class=\"iris-word-cell iris-subheading-cell\">\tsource</td>\n",
       "    <td class=\"iris-word-cell\" colspan=\"3\">Data from Met Office Unified Model</td>\n",
       "</tr>\n",
       "<tr class=\"iris\">\n",
       "    <td class=\"iris-title iris-word-cell\">Cell methods</td>\n",
       "    <td class=\"iris-title\"></td>\n",
       "    <td class=\"iris-title\"></td>\n",
       "    <td class=\"iris-title\"></td>\n",
       "</tr>\n",
       "<tr class=\"iris\">\n",
       "    <td class=\"iris-word-cell iris-subheading-cell\">\tmean</td>\n",
       "    <td class=\"iris-word-cell\" colspan=\"3\">time (1 hour)</td>\n",
       "</tr>\n",
       "</table>\n",
       "        "
      ],
      "text/plain": [
       "<iris 'Cube' of air_temperature / (K) (time: 10; grid_latitude: 219; grid_longitude: 286)>"
      ]
     },
     "execution_count": 17,
     "metadata": {},
     "output_type": "execute_result"
    }
   ],
   "source": [
    "cube = cubelist_d[2]\n",
    "cube"
   ]
  },
  {
   "cell_type": "code",
   "execution_count": 18,
   "metadata": {},
   "outputs": [
    {
     "data": {
      "text/plain": [
       "<xarray.DataArray 'air_temperature' (time: 10, grid_latitude: 219, grid_longitude: 286)>\n",
       "dask.array<filled, shape=(10, 219, 286), dtype=float32, chunksize=(1, 219, 286), chunktype=numpy.ndarray>\n",
       "Coordinates:\n",
       "  * time                     (time) datetime64[ns] 1851-01-05T12:00:00 ... 1851-01-14T12:00:00\n",
       "  * grid_latitude            (grid_latitude) float32 22.88 22.66 ... -25.08\n",
       "  * grid_longitude           (grid_longitude) float32 323.48 323.7 ... 386.18002\n",
       "    forecast_reference_time  datetime64[ns] ...\n",
       "    height                   float64 ...\n",
       "    forecast_period          (time) timedelta64[ns] ...\n",
       "Attributes:\n",
       "    standard_name:  air_temperature\n",
       "    units:          K\n",
       "    source:         Data from Met Office Unified Model\n",
       "    STASH:          m01s03i236\n",
       "    cell_methods:   time: mean (interval: 1 hour)"
      ]
     },
     "execution_count": 18,
     "metadata": {},
     "output_type": "execute_result"
    }
   ],
   "source": [
    "da = crd.cube_to_da(cube)\n",
    "da"
   ]
  },
  {
   "cell_type": "code",
   "execution_count": 21,
   "metadata": {},
   "outputs": [
    {
     "data": {
      "text/plain": [
       "<xarray.DataArray 'air_temperature_daily' (time: 10, grid_latitude: 219, grid_longitude: 286)>\n",
       "dask.array<filled, shape=(10, 219, 286), dtype=float32, chunksize=(1, 219, 286), chunktype=numpy.ndarray>\n",
       "Coordinates:\n",
       "  * time                     (time) datetime64[ns] 1851-01-05T12:00:00 ... 1851-01-14T12:00:00\n",
       "  * grid_latitude            (grid_latitude) float32 22.88 22.66 ... -25.08\n",
       "  * grid_longitude           (grid_longitude) float32 323.48 323.7 ... 386.18002\n",
       "    forecast_reference_time  datetime64[ns] ...\n",
       "    height                   float64 ...\n",
       "    forecast_period          (time) timedelta64[ns] ...\n",
       "Attributes:\n",
       "    standard_name:  air_temperature\n",
       "    units:          K\n",
       "    source:         Data from Met Office Unified Model\n",
       "    STASH:          m01s03i236\n",
       "    cell_methods:   time: mean (interval: 1 hour)"
      ]
     },
     "execution_count": 21,
     "metadata": {},
     "output_type": "execute_result"
    }
   ],
   "source": [
    "da = da.rename('air_temperature_daily')\n",
    "da"
   ]
  },
  {
   "cell_type": "code",
   "execution_count": 24,
   "metadata": {},
   "outputs": [
    {
     "data": {
      "text/html": [
       "\n",
       "<style>\n",
       "  a.iris {\n",
       "      text-decoration: none !important;\n",
       "  }\n",
       "  table.iris {\n",
       "      white-space: pre;\n",
       "      border: 1px solid;\n",
       "      border-color: #9c9c9c;\n",
       "      font-family: monaco, monospace;\n",
       "  }\n",
       "  th.iris {\n",
       "      background: #303f3f;\n",
       "      color: #e0e0e0;\n",
       "      border-left: 1px solid;\n",
       "      border-color: #9c9c9c;\n",
       "      font-size: 1.05em;\n",
       "      min-width: 50px;\n",
       "      max-width: 125px;\n",
       "  }\n",
       "  tr.iris :first-child {\n",
       "      border-right: 1px solid #9c9c9c !important;\n",
       "  }\n",
       "  td.iris-title {\n",
       "      background: #d5dcdf;\n",
       "      border-top: 1px solid #9c9c9c;\n",
       "      font-weight: bold;\n",
       "  }\n",
       "  .iris-word-cell {\n",
       "      text-align: left !important;\n",
       "      white-space: pre;\n",
       "  }\n",
       "  .iris-subheading-cell {\n",
       "      padding-left: 2em !important;\n",
       "  }\n",
       "  .iris-inclusion-cell {\n",
       "      padding-right: 1em !important;\n",
       "  }\n",
       "  .iris-panel-body {\n",
       "      padding-top: 0px;\n",
       "  }\n",
       "  .iris-panel-title {\n",
       "      padding-left: 3em;\n",
       "  }\n",
       "  .iris-panel-title {\n",
       "      margin-top: 7px;\n",
       "  }\n",
       "</style>\n",
       "<table class=\"iris\" id=\"140593134691048\">\n",
       "    <tr class=\"iris\">\n",
       "<th class=\"iris iris-word-cell\">Air Temperature (K)</th>\n",
       "<th class=\"iris iris-word-cell\">time</th>\n",
       "<th class=\"iris iris-word-cell\">grid_latitude</th>\n",
       "<th class=\"iris iris-word-cell\">grid_longitude</th>\n",
       "</tr>\n",
       "    <tr class=\"iris\">\n",
       "<td class=\"iris-word-cell iris-subheading-cell\">Shape</td>\n",
       "<td class=\"iris iris-inclusion-cell\">10</td>\n",
       "<td class=\"iris iris-inclusion-cell\">219</td>\n",
       "<td class=\"iris iris-inclusion-cell\">286</td>\n",
       "</td>\n",
       "    <tr class=\"iris\">\n",
       "    <td class=\"iris-title iris-word-cell\">Dimension coordinates</td>\n",
       "    <td class=\"iris-title\"></td>\n",
       "    <td class=\"iris-title\"></td>\n",
       "    <td class=\"iris-title\"></td>\n",
       "</tr>\n",
       "<tr class=\"iris\">\n",
       "    <td class=\"iris-word-cell iris-subheading-cell\">\ttime</td>\n",
       "    <td class=\"iris-inclusion-cell\">x</td>\n",
       "    <td class=\"iris-inclusion-cell\">-</td>\n",
       "    <td class=\"iris-inclusion-cell\">-</td>\n",
       "</tr>\n",
       "<tr class=\"iris\">\n",
       "    <td class=\"iris-word-cell iris-subheading-cell\">\tgrid_latitude</td>\n",
       "    <td class=\"iris-inclusion-cell\">-</td>\n",
       "    <td class=\"iris-inclusion-cell\">x</td>\n",
       "    <td class=\"iris-inclusion-cell\">-</td>\n",
       "</tr>\n",
       "<tr class=\"iris\">\n",
       "    <td class=\"iris-word-cell iris-subheading-cell\">\tgrid_longitude</td>\n",
       "    <td class=\"iris-inclusion-cell\">-</td>\n",
       "    <td class=\"iris-inclusion-cell\">-</td>\n",
       "    <td class=\"iris-inclusion-cell\">x</td>\n",
       "</tr>\n",
       "<tr class=\"iris\">\n",
       "    <td class=\"iris-title iris-word-cell\">Auxiliary coordinates</td>\n",
       "    <td class=\"iris-title\"></td>\n",
       "    <td class=\"iris-title\"></td>\n",
       "    <td class=\"iris-title\"></td>\n",
       "</tr>\n",
       "<tr class=\"iris\">\n",
       "    <td class=\"iris-word-cell iris-subheading-cell\">\tforecast_period</td>\n",
       "    <td class=\"iris-inclusion-cell\">x</td>\n",
       "    <td class=\"iris-inclusion-cell\">-</td>\n",
       "    <td class=\"iris-inclusion-cell\">-</td>\n",
       "</tr>\n",
       "<tr class=\"iris\">\n",
       "    <td class=\"iris-title iris-word-cell\">Scalar coordinates</td>\n",
       "    <td class=\"iris-title\"></td>\n",
       "    <td class=\"iris-title\"></td>\n",
       "    <td class=\"iris-title\"></td>\n",
       "</tr>\n",
       "<tr class=\"iris\">\n",
       "    <td class=\"iris-word-cell iris-subheading-cell\">\tforecast_reference_time</td>\n",
       "    <td class=\"iris-word-cell\" colspan=\"3\">1849-12-01 00:00:00</td>\n",
       "</tr>\n",
       "<tr class=\"iris\">\n",
       "    <td class=\"iris-word-cell iris-subheading-cell\">\theight</td>\n",
       "    <td class=\"iris-word-cell\" colspan=\"3\">1.5 m</td>\n",
       "</tr>\n",
       "<tr class=\"iris\">\n",
       "    <td class=\"iris-title iris-word-cell\">Attributes</td>\n",
       "    <td class=\"iris-title\"></td>\n",
       "    <td class=\"iris-title\"></td>\n",
       "    <td class=\"iris-title\"></td>\n",
       "</tr>\n",
       "<tr class=\"iris\">\n",
       "    <td class=\"iris-word-cell iris-subheading-cell\">\tSTASH</td>\n",
       "    <td class=\"iris-word-cell\" colspan=\"3\">m01s03i236</td>\n",
       "</tr>\n",
       "<tr class=\"iris\">\n",
       "    <td class=\"iris-word-cell iris-subheading-cell\">\tsource</td>\n",
       "    <td class=\"iris-word-cell\" colspan=\"3\">Data from Met Office Unified Model</td>\n",
       "</tr>\n",
       "<tr class=\"iris\">\n",
       "    <td class=\"iris-title iris-word-cell\">Cell methods</td>\n",
       "    <td class=\"iris-title\"></td>\n",
       "    <td class=\"iris-title\"></td>\n",
       "    <td class=\"iris-title\"></td>\n",
       "</tr>\n",
       "<tr class=\"iris\">\n",
       "    <td class=\"iris-word-cell iris-subheading-cell\">\tmean</td>\n",
       "    <td class=\"iris-word-cell\" colspan=\"3\">time (1 hour)</td>\n",
       "</tr>\n",
       "</table>\n",
       "        "
      ],
      "text/plain": [
       "<iris 'Cube' of air_temperature / (K) (time: 10; grid_latitude: 219; grid_longitude: 286)>"
      ]
     },
     "execution_count": 24,
     "metadata": {},
     "output_type": "execute_result"
    }
   ],
   "source": [
    "cube_ = da.to_iris()\n",
    "cube_"
   ]
  },
  {
   "cell_type": "code",
   "execution_count": 30,
   "metadata": {},
   "outputs": [
    {
     "name": "stdout",
     "output_type": "stream",
     "text": [
      "air_temperature\n",
      "None\n",
      "None\n"
     ]
    }
   ],
   "source": [
    "print(cube.standard_name)\n",
    "print(cube.var_name)\n",
    "print(cube.long_name)"
   ]
  },
  {
   "cell_type": "markdown",
   "metadata": {},
   "source": [
    "## OK, then what happens if I write a renamed xr.DataArray to zarr?"
   ]
  },
  {
   "cell_type": "code",
   "execution_count": 31,
   "metadata": {},
   "outputs": [
    {
     "data": {
      "text/plain": [
       "<xarray.DataArray 'air_temperature_daily' (time: 10, grid_latitude: 219, grid_longitude: 286)>\n",
       "dask.array<filled, shape=(10, 219, 286), dtype=float32, chunksize=(1, 219, 286), chunktype=numpy.ndarray>\n",
       "Coordinates:\n",
       "  * time                     (time) datetime64[ns] 1851-01-05T12:00:00 ... 1851-01-14T12:00:00\n",
       "  * grid_latitude            (grid_latitude) float32 22.88 22.66 ... -25.08\n",
       "  * grid_longitude           (grid_longitude) float32 323.48 323.7 ... 386.18002\n",
       "    forecast_reference_time  datetime64[ns] ...\n",
       "    height                   float64 ...\n",
       "    forecast_period          (time) timedelta64[ns] ...\n",
       "Attributes:\n",
       "    standard_name:  air_temperature\n",
       "    units:          K\n",
       "    source:         Data from Met Office Unified Model\n",
       "    STASH:          m01s03i236\n",
       "    cell_methods:   time: mean (interval: 1 hour)"
      ]
     },
     "execution_count": 31,
     "metadata": {},
     "output_type": "execute_result"
    }
   ],
   "source": [
    "da"
   ]
  },
  {
   "cell_type": "code",
   "execution_count": 32,
   "metadata": {},
   "outputs": [
    {
     "data": {
      "text/plain": [
       "<xarray.Dataset>\n",
       "Dimensions:                  (grid_latitude: 219, grid_longitude: 286, time: 10)\n",
       "Coordinates:\n",
       "  * time                     (time) datetime64[ns] 1851-01-05T12:00:00 ... 1851-01-14T12:00:00\n",
       "  * grid_latitude            (grid_latitude) float32 22.88 22.66 ... -25.08\n",
       "  * grid_longitude           (grid_longitude) float32 323.48 323.7 ... 386.18002\n",
       "    forecast_reference_time  datetime64[ns] ...\n",
       "    height                   float64 ...\n",
       "    forecast_period          (time) timedelta64[ns] ...\n",
       "Data variables:\n",
       "    air_temperature_daily    (time, grid_latitude, grid_longitude) float32 dask.array<chunksize=(1, 219, 286), meta=np.ndarray>"
      ]
     },
     "execution_count": 32,
     "metadata": {},
     "output_type": "execute_result"
    }
   ],
   "source": [
    "ds = da.to_dataset()\n",
    "ds"
   ]
  },
  {
   "cell_type": "code",
   "execution_count": 34,
   "metadata": {},
   "outputs": [
    {
     "name": "stdout",
     "output_type": "stream",
     "text": [
      "Written dataset to ../zarr_rename\n"
     ]
    }
   ],
   "source": [
    "zarr_store = '../zarr_rename'\n",
    "crd.ds_to_zarr(ds, zarr_store)"
   ]
  },
  {
   "cell_type": "code",
   "execution_count": 36,
   "metadata": {},
   "outputs": [
    {
     "data": {
      "text/plain": [
       "<xarray.Dataset>\n",
       "Dimensions:                  (grid_latitude: 219, grid_longitude: 286, time: 10)\n",
       "Coordinates:\n",
       "    forecast_period          (time) timedelta64[ns] dask.array<chunksize=(10,), meta=np.ndarray>\n",
       "    forecast_reference_time  datetime64[ns] ...\n",
       "  * grid_latitude            (grid_latitude) float32 22.88 22.66 ... -25.08\n",
       "  * grid_longitude           (grid_longitude) float32 323.48 323.7 ... 386.18002\n",
       "    height                   float64 ...\n",
       "  * time                     (time) datetime64[ns] 1851-01-05T12:00:00 ... 1851-01-14T12:00:00\n",
       "Data variables:\n",
       "    air_temperature_daily    (time, grid_latitude, grid_longitude) float32 dask.array<chunksize=(10, 219, 286), meta=np.ndarray>"
      ]
     },
     "execution_count": 36,
     "metadata": {},
     "output_type": "execute_result"
    }
   ],
   "source": [
    "ds_z = xr.open_zarr(zarr_store)\n",
    "ds_z"
   ]
  },
  {
   "cell_type": "code",
   "execution_count": 39,
   "metadata": {},
   "outputs": [
    {
     "name": "stdout",
     "output_type": "stream",
     "text": [
      "air_temperature\n",
      "air_temperature_daily\n",
      "None\n",
      "air_temperature\n"
     ]
    },
    {
     "data": {
      "text/html": [
       "\n",
       "<style>\n",
       "  a.iris {\n",
       "      text-decoration: none !important;\n",
       "  }\n",
       "  table.iris {\n",
       "      white-space: pre;\n",
       "      border: 1px solid;\n",
       "      border-color: #9c9c9c;\n",
       "      font-family: monaco, monospace;\n",
       "  }\n",
       "  th.iris {\n",
       "      background: #303f3f;\n",
       "      color: #e0e0e0;\n",
       "      border-left: 1px solid;\n",
       "      border-color: #9c9c9c;\n",
       "      font-size: 1.05em;\n",
       "      min-width: 50px;\n",
       "      max-width: 125px;\n",
       "  }\n",
       "  tr.iris :first-child {\n",
       "      border-right: 1px solid #9c9c9c !important;\n",
       "  }\n",
       "  td.iris-title {\n",
       "      background: #d5dcdf;\n",
       "      border-top: 1px solid #9c9c9c;\n",
       "      font-weight: bold;\n",
       "  }\n",
       "  .iris-word-cell {\n",
       "      text-align: left !important;\n",
       "      white-space: pre;\n",
       "  }\n",
       "  .iris-subheading-cell {\n",
       "      padding-left: 2em !important;\n",
       "  }\n",
       "  .iris-inclusion-cell {\n",
       "      padding-right: 1em !important;\n",
       "  }\n",
       "  .iris-panel-body {\n",
       "      padding-top: 0px;\n",
       "  }\n",
       "  .iris-panel-title {\n",
       "      padding-left: 3em;\n",
       "  }\n",
       "  .iris-panel-title {\n",
       "      margin-top: 7px;\n",
       "  }\n",
       "</style>\n",
       "<table class=\"iris\" id=\"140592675573432\">\n",
       "    <tr class=\"iris\">\n",
       "<th class=\"iris iris-word-cell\">Air Temperature (K)</th>\n",
       "<th class=\"iris iris-word-cell\">time</th>\n",
       "<th class=\"iris iris-word-cell\">grid_latitude</th>\n",
       "<th class=\"iris iris-word-cell\">grid_longitude</th>\n",
       "</tr>\n",
       "    <tr class=\"iris\">\n",
       "<td class=\"iris-word-cell iris-subheading-cell\">Shape</td>\n",
       "<td class=\"iris iris-inclusion-cell\">10</td>\n",
       "<td class=\"iris iris-inclusion-cell\">219</td>\n",
       "<td class=\"iris iris-inclusion-cell\">286</td>\n",
       "</td>\n",
       "    <tr class=\"iris\">\n",
       "    <td class=\"iris-title iris-word-cell\">Dimension coordinates</td>\n",
       "    <td class=\"iris-title\"></td>\n",
       "    <td class=\"iris-title\"></td>\n",
       "    <td class=\"iris-title\"></td>\n",
       "</tr>\n",
       "<tr class=\"iris\">\n",
       "    <td class=\"iris-word-cell iris-subheading-cell\">\ttime</td>\n",
       "    <td class=\"iris-inclusion-cell\">x</td>\n",
       "    <td class=\"iris-inclusion-cell\">-</td>\n",
       "    <td class=\"iris-inclusion-cell\">-</td>\n",
       "</tr>\n",
       "<tr class=\"iris\">\n",
       "    <td class=\"iris-word-cell iris-subheading-cell\">\tgrid_latitude</td>\n",
       "    <td class=\"iris-inclusion-cell\">-</td>\n",
       "    <td class=\"iris-inclusion-cell\">x</td>\n",
       "    <td class=\"iris-inclusion-cell\">-</td>\n",
       "</tr>\n",
       "<tr class=\"iris\">\n",
       "    <td class=\"iris-word-cell iris-subheading-cell\">\tgrid_longitude</td>\n",
       "    <td class=\"iris-inclusion-cell\">-</td>\n",
       "    <td class=\"iris-inclusion-cell\">-</td>\n",
       "    <td class=\"iris-inclusion-cell\">x</td>\n",
       "</tr>\n",
       "<tr class=\"iris\">\n",
       "    <td class=\"iris-title iris-word-cell\">Auxiliary coordinates</td>\n",
       "    <td class=\"iris-title\"></td>\n",
       "    <td class=\"iris-title\"></td>\n",
       "    <td class=\"iris-title\"></td>\n",
       "</tr>\n",
       "<tr class=\"iris\">\n",
       "    <td class=\"iris-word-cell iris-subheading-cell\">\tforecast_period</td>\n",
       "    <td class=\"iris-inclusion-cell\">x</td>\n",
       "    <td class=\"iris-inclusion-cell\">-</td>\n",
       "    <td class=\"iris-inclusion-cell\">-</td>\n",
       "</tr>\n",
       "<tr class=\"iris\">\n",
       "    <td class=\"iris-title iris-word-cell\">Scalar coordinates</td>\n",
       "    <td class=\"iris-title\"></td>\n",
       "    <td class=\"iris-title\"></td>\n",
       "    <td class=\"iris-title\"></td>\n",
       "</tr>\n",
       "<tr class=\"iris\">\n",
       "    <td class=\"iris-word-cell iris-subheading-cell\">\tforecast_reference_time</td>\n",
       "    <td class=\"iris-word-cell\" colspan=\"3\">1849-12-01 00:00:00</td>\n",
       "</tr>\n",
       "<tr class=\"iris\">\n",
       "    <td class=\"iris-word-cell iris-subheading-cell\">\theight</td>\n",
       "    <td class=\"iris-word-cell\" colspan=\"3\">1.5 m</td>\n",
       "</tr>\n",
       "<tr class=\"iris\">\n",
       "    <td class=\"iris-title iris-word-cell\">Attributes</td>\n",
       "    <td class=\"iris-title\"></td>\n",
       "    <td class=\"iris-title\"></td>\n",
       "    <td class=\"iris-title\"></td>\n",
       "</tr>\n",
       "<tr class=\"iris\">\n",
       "    <td class=\"iris-word-cell iris-subheading-cell\">\tSTASH</td>\n",
       "    <td class=\"iris-word-cell\" colspan=\"3\">[1, 3, 236]</td>\n",
       "</tr>\n",
       "<tr class=\"iris\">\n",
       "    <td class=\"iris-word-cell iris-subheading-cell\">\tsource</td>\n",
       "    <td class=\"iris-word-cell\" colspan=\"3\">Data from Met Office Unified Model</td>\n",
       "</tr>\n",
       "<tr class=\"iris\">\n",
       "    <td class=\"iris-title iris-word-cell\">Cell methods</td>\n",
       "    <td class=\"iris-title\"></td>\n",
       "    <td class=\"iris-title\"></td>\n",
       "    <td class=\"iris-title\"></td>\n",
       "</tr>\n",
       "<tr class=\"iris\">\n",
       "    <td class=\"iris-word-cell iris-subheading-cell\">\tmean</td>\n",
       "    <td class=\"iris-word-cell\" colspan=\"3\">time (1 hour)</td>\n",
       "</tr>\n",
       "</table>\n",
       "        "
      ],
      "text/plain": [
       "<iris 'Cube' of air_temperature / (K) (time: 10; grid_latitude: 219; grid_longitude: 286)>"
      ]
     },
     "metadata": {},
     "output_type": "display_data"
    }
   ],
   "source": [
    "cube_z = ds_z.air_temperature_daily.to_iris()\n",
    "print(cube_z.standard_name)\n",
    "print(cube_z.var_name)\n",
    "print(cube_z.long_name)\n",
    "print(cube_z.name())\n",
    "display(cube_z)"
   ]
  },
  {
   "cell_type": "code",
   "execution_count": 38,
   "metadata": {},
   "outputs": [
    {
     "data": {
      "text/plain": [
       "'air_temperature'"
      ]
     },
     "execution_count": 38,
     "metadata": {},
     "output_type": "execute_result"
    }
   ],
   "source": [
    "cube_z.name()"
   ]
  },
  {
   "cell_type": "markdown",
   "metadata": {},
   "source": [
    "### Renaming in Xarray, saving to Zarr, then loading back into Xarray then Iris works without losing metadata or CF names\n",
    "Therefore a strategy of renaming the dims and cubes before saving to zarr using xarray looks like it'll work"
   ]
  },
  {
   "cell_type": "code",
   "execution_count": null,
   "metadata": {},
   "outputs": [],
   "source": []
  }
 ],
 "metadata": {
  "kernelspec": {
   "display_name": "Python (datasci)",
   "language": "python",
   "name": "datasci"
  },
  "language_info": {
   "codemirror_mode": {
    "name": "ipython",
    "version": 3
   },
   "file_extension": ".py",
   "mimetype": "text/x-python",
   "name": "python",
   "nbconvert_exporter": "python",
   "pygments_lexer": "ipython3",
   "version": "3.6.9"
  }
 },
 "nbformat": 4,
 "nbformat_minor": 4
}
