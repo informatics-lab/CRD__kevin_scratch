{
 "cells": [
  {
   "cell_type": "markdown",
   "metadata": {},
   "source": [
    "# Demo of loading the data from Zarr"
   ]
  },
  {
   "cell_type": "code",
   "execution_count": 1,
   "metadata": {},
   "outputs": [],
   "source": [
    "import iris\n",
    "import os\n",
    "import sys\n",
    "import logging\n",
    "import xarray as xr\n",
    "import numpy as np\n",
    "\n",
    "import crd_utils as crd\n",
    "import umdates_utils as um\n",
    "\n",
    "from datetime import datetime, timedelta"
   ]
  },
  {
   "cell_type": "code",
   "execution_count": 2,
   "metadata": {},
   "outputs": [],
   "source": [
    "ZARR = '/data/cssp-china/zarr_daily_1851-1859'"
   ]
  },
  {
   "cell_type": "markdown",
   "metadata": {},
   "source": [
    "## Loading data to Xarray take milliseconds"
   ]
  },
  {
   "cell_type": "code",
   "execution_count": 3,
   "metadata": {},
   "outputs": [
    {
     "name": "stdout",
     "output_type": "stream",
     "text": [
      "CPU times: user 104 ms, sys: 42.9 ms, total: 147 ms\n",
      "Wall time: 6.15 s\n"
     ]
    },
    {
     "data": {
      "text/html": [
       "<pre>&lt;xarray.Dataset&gt;\n",
       "Dimensions:                                    (grid_latitude: 219, grid_latitude_1: 218, grid_longitude: 286, grid_longitude_1: 286, pressure: 14, time: 3244)\n",
       "Coordinates:\n",
       "    forecast_period                            (time) timedelta64[ns] dask.array&lt;chunksize=(204,), meta=np.ndarray&gt;\n",
       "    forecast_reference_time                    datetime64[ns] ...\n",
       "  * grid_latitude                              (grid_latitude) float32 22.88 ... -25.08\n",
       "  * grid_latitude_1                            (grid_latitude_1) float32 22.77 ... -24.969997\n",
       "  * grid_longitude                             (grid_longitude) float32 323.48 ... 386.18002\n",
       "  * grid_longitude_1                           (grid_longitude_1) float32 323.59003 ... 386.29004\n",
       "    height                                     float64 ...\n",
       "    height_1                                   float64 ...\n",
       "  * pressure                                   (pressure) float32 10.0 ... 1000.0\n",
       "  * time                                       (time) datetime64[ns] 1851-01-01T12:00:00 ... 1859-12-28T12:00:00\n",
       "Data variables:\n",
       "    air_pressure_at_sea_level                  (time, grid_latitude, grid_longitude) float32 dask.array&lt;chunksize=(200, 219, 286), meta=np.ndarray&gt;\n",
       "    air_temperature_at_2m_max                  (time, grid_latitude, grid_longitude) float32 dask.array&lt;chunksize=(200, 219, 286), meta=np.ndarray&gt;\n",
       "    air_temperature_at_2m_mean                 (time, grid_latitude, grid_longitude) float32 dask.array&lt;chunksize=(200, 219, 286), meta=np.ndarray&gt;\n",
       "    air_temperature_at_2m_min                  (time, grid_latitude, grid_longitude) float32 dask.array&lt;chunksize=(200, 219, 286), meta=np.ndarray&gt;\n",
       "    air_temperature_at_pressure_mean           (time, pressure, grid_latitude, grid_longitude) float32 dask.array&lt;chunksize=(200, 1, 219, 286), meta=np.ndarray&gt;\n",
       "    cloud_area_fraction                        (time, grid_latitude, grid_longitude) float32 dask.array&lt;chunksize=(200, 219, 286), meta=np.ndarray&gt;\n",
       "    geopotential_height                        (time, pressure, grid_latitude, grid_longitude) float32 dask.array&lt;chunksize=(200, 1, 219, 286), meta=np.ndarray&gt;\n",
       "    m01s05i217_max                             (time, grid_latitude, grid_longitude) float32 dask.array&lt;chunksize=(200, 219, 286), meta=np.ndarray&gt;\n",
       "    precipitation_flux                         (time, grid_latitude, grid_longitude) float32 dask.array&lt;chunksize=(200, 219, 286), meta=np.ndarray&gt;\n",
       "    relative_humidity_at_2m_max                (time, grid_latitude, grid_longitude) float32 dask.array&lt;chunksize=(200, 219, 286), meta=np.ndarray&gt;\n",
       "    relative_humidity_at_2m_mean               (time, grid_latitude, grid_longitude) float32 dask.array&lt;chunksize=(200, 219, 286), meta=np.ndarray&gt;\n",
       "    relative_humidity_at_2m_min                (time, grid_latitude, grid_longitude) float32 dask.array&lt;chunksize=(200, 219, 286), meta=np.ndarray&gt;\n",
       "    relative_humidity_at_pressure_mean         (time, pressure, grid_latitude, grid_longitude) float32 dask.array&lt;chunksize=(200, 1, 219, 286), meta=np.ndarray&gt;\n",
       "    specific_humidity                          (time, grid_latitude, grid_longitude) float32 dask.array&lt;chunksize=(200, 219, 286), meta=np.ndarray&gt;\n",
       "    surface_air_pressure                       (time, grid_latitude, grid_longitude) float32 dask.array&lt;chunksize=(200, 219, 286), meta=np.ndarray&gt;\n",
       "    surface_downwelling_longwave_flux_in_air   (time, grid_latitude, grid_longitude) float32 dask.array&lt;chunksize=(200, 219, 286), meta=np.ndarray&gt;\n",
       "    surface_downwelling_shortwave_flux_in_air  (time, grid_latitude, grid_longitude) float32 dask.array&lt;chunksize=(200, 219, 286), meta=np.ndarray&gt;\n",
       "    surface_temperature_max                    (time, grid_latitude, grid_longitude) float32 dask.array&lt;chunksize=(200, 219, 286), meta=np.ndarray&gt;\n",
       "    surface_temperature_mean                   (time, grid_latitude, grid_longitude) float32 dask.array&lt;chunksize=(200, 219, 286), meta=np.ndarray&gt;\n",
       "    surface_temperature_min                    (time, grid_latitude, grid_longitude) float32 dask.array&lt;chunksize=(200, 219, 286), meta=np.ndarray&gt;\n",
       "    x_wind_at_10m_mean                         (time, grid_latitude_1, grid_longitude_1) float32 dask.array&lt;chunksize=(200, 218, 286), meta=np.ndarray&gt;\n",
       "    x_wind_at_pressure_mean                    (time, pressure, grid_latitude_1, grid_longitude_1) float32 dask.array&lt;chunksize=(200, 1, 218, 286), meta=np.ndarray&gt;\n",
       "    y_wind_at_10m_mean                         (time, grid_latitude_1, grid_longitude_1) float32 dask.array&lt;chunksize=(200, 218, 286), meta=np.ndarray&gt;\n",
       "    y_wind_at_pressure_mean                    (time, pressure, grid_latitude_1, grid_longitude_1) float32 dask.array&lt;chunksize=(200, 1, 218, 286), meta=np.ndarray&gt;</pre>"
      ],
      "text/plain": [
       "<xarray.Dataset>\n",
       "Dimensions:                                    (grid_latitude: 219, grid_latitude_1: 218, grid_longitude: 286, grid_longitude_1: 286, pressure: 14, time: 3244)\n",
       "Coordinates:\n",
       "    forecast_period                            (time) timedelta64[ns] dask.array<chunksize=(204,), meta=np.ndarray>\n",
       "    forecast_reference_time                    datetime64[ns] ...\n",
       "  * grid_latitude                              (grid_latitude) float32 22.88 ... -25.08\n",
       "  * grid_latitude_1                            (grid_latitude_1) float32 22.77 ... -24.969997\n",
       "  * grid_longitude                             (grid_longitude) float32 323.48 ... 386.18002\n",
       "  * grid_longitude_1                           (grid_longitude_1) float32 323.59003 ... 386.29004\n",
       "    height                                     float64 ...\n",
       "    height_1                                   float64 ...\n",
       "  * pressure                                   (pressure) float32 10.0 ... 1000.0\n",
       "  * time                                       (time) datetime64[ns] 1851-01-01T12:00:00 ... 1859-12-28T12:00:00\n",
       "Data variables:\n",
       "    air_pressure_at_sea_level                  (time, grid_latitude, grid_longitude) float32 dask.array<chunksize=(200, 219, 286), meta=np.ndarray>\n",
       "    air_temperature_at_2m_max                  (time, grid_latitude, grid_longitude) float32 dask.array<chunksize=(200, 219, 286), meta=np.ndarray>\n",
       "    air_temperature_at_2m_mean                 (time, grid_latitude, grid_longitude) float32 dask.array<chunksize=(200, 219, 286), meta=np.ndarray>\n",
       "    air_temperature_at_2m_min                  (time, grid_latitude, grid_longitude) float32 dask.array<chunksize=(200, 219, 286), meta=np.ndarray>\n",
       "    air_temperature_at_pressure_mean           (time, pressure, grid_latitude, grid_longitude) float32 dask.array<chunksize=(200, 1, 219, 286), meta=np.ndarray>\n",
       "    cloud_area_fraction                        (time, grid_latitude, grid_longitude) float32 dask.array<chunksize=(200, 219, 286), meta=np.ndarray>\n",
       "    geopotential_height                        (time, pressure, grid_latitude, grid_longitude) float32 dask.array<chunksize=(200, 1, 219, 286), meta=np.ndarray>\n",
       "    m01s05i217_max                             (time, grid_latitude, grid_longitude) float32 dask.array<chunksize=(200, 219, 286), meta=np.ndarray>\n",
       "    precipitation_flux                         (time, grid_latitude, grid_longitude) float32 dask.array<chunksize=(200, 219, 286), meta=np.ndarray>\n",
       "    relative_humidity_at_2m_max                (time, grid_latitude, grid_longitude) float32 dask.array<chunksize=(200, 219, 286), meta=np.ndarray>\n",
       "    relative_humidity_at_2m_mean               (time, grid_latitude, grid_longitude) float32 dask.array<chunksize=(200, 219, 286), meta=np.ndarray>\n",
       "    relative_humidity_at_2m_min                (time, grid_latitude, grid_longitude) float32 dask.array<chunksize=(200, 219, 286), meta=np.ndarray>\n",
       "    relative_humidity_at_pressure_mean         (time, pressure, grid_latitude, grid_longitude) float32 dask.array<chunksize=(200, 1, 219, 286), meta=np.ndarray>\n",
       "    specific_humidity                          (time, grid_latitude, grid_longitude) float32 dask.array<chunksize=(200, 219, 286), meta=np.ndarray>\n",
       "    surface_air_pressure                       (time, grid_latitude, grid_longitude) float32 dask.array<chunksize=(200, 219, 286), meta=np.ndarray>\n",
       "    surface_downwelling_longwave_flux_in_air   (time, grid_latitude, grid_longitude) float32 dask.array<chunksize=(200, 219, 286), meta=np.ndarray>\n",
       "    surface_downwelling_shortwave_flux_in_air  (time, grid_latitude, grid_longitude) float32 dask.array<chunksize=(200, 219, 286), meta=np.ndarray>\n",
       "    surface_temperature_max                    (time, grid_latitude, grid_longitude) float32 dask.array<chunksize=(200, 219, 286), meta=np.ndarray>\n",
       "    surface_temperature_mean                   (time, grid_latitude, grid_longitude) float32 dask.array<chunksize=(200, 219, 286), meta=np.ndarray>\n",
       "    surface_temperature_min                    (time, grid_latitude, grid_longitude) float32 dask.array<chunksize=(200, 219, 286), meta=np.ndarray>\n",
       "    x_wind_at_10m_mean                         (time, grid_latitude_1, grid_longitude_1) float32 dask.array<chunksize=(200, 218, 286), meta=np.ndarray>\n",
       "    x_wind_at_pressure_mean                    (time, pressure, grid_latitude_1, grid_longitude_1) float32 dask.array<chunksize=(200, 1, 218, 286), meta=np.ndarray>\n",
       "    y_wind_at_10m_mean                         (time, grid_latitude_1, grid_longitude_1) float32 dask.array<chunksize=(200, 218, 286), meta=np.ndarray>\n",
       "    y_wind_at_pressure_mean                    (time, pressure, grid_latitude_1, grid_longitude_1) float32 dask.array<chunksize=(200, 1, 218, 286), meta=np.ndarray>"
      ]
     },
     "execution_count": 3,
     "metadata": {},
     "output_type": "execute_result"
    }
   ],
   "source": [
    "%%time\n",
    "ds_z = xr.open_zarr(ZARR)\n",
    "ds_z"
   ]
  },
  {
   "cell_type": "markdown",
   "metadata": {},
   "source": [
    "## Converting one of the data variables to an Iris cube also takes milliseconds"
   ]
  },
  {
   "cell_type": "code",
   "execution_count": 4,
   "metadata": {},
   "outputs": [
    {
     "name": "stdout",
     "output_type": "stream",
     "text": [
      "CPU times: user 180 ms, sys: 34.3 ms, total: 214 ms\n",
      "Wall time: 414 ms\n"
     ]
    },
    {
     "data": {
      "text/html": [
       "\n",
       "<style>\n",
       "  a.iris {\n",
       "      text-decoration: none !important;\n",
       "  }\n",
       "  table.iris {\n",
       "      white-space: pre;\n",
       "      border: 1px solid;\n",
       "      border-color: #9c9c9c;\n",
       "      font-family: monaco, monospace;\n",
       "  }\n",
       "  th.iris {\n",
       "      background: #303f3f;\n",
       "      color: #e0e0e0;\n",
       "      border-left: 1px solid;\n",
       "      border-color: #9c9c9c;\n",
       "      font-size: 1.05em;\n",
       "      min-width: 50px;\n",
       "      max-width: 125px;\n",
       "  }\n",
       "  tr.iris :first-child {\n",
       "      border-right: 1px solid #9c9c9c !important;\n",
       "  }\n",
       "  td.iris-title {\n",
       "      background: #d5dcdf;\n",
       "      border-top: 1px solid #9c9c9c;\n",
       "      font-weight: bold;\n",
       "  }\n",
       "  .iris-word-cell {\n",
       "      text-align: left !important;\n",
       "      white-space: pre;\n",
       "  }\n",
       "  .iris-subheading-cell {\n",
       "      padding-left: 2em !important;\n",
       "  }\n",
       "  .iris-inclusion-cell {\n",
       "      padding-right: 1em !important;\n",
       "  }\n",
       "  .iris-panel-body {\n",
       "      padding-top: 0px;\n",
       "  }\n",
       "  .iris-panel-title {\n",
       "      padding-left: 3em;\n",
       "  }\n",
       "  .iris-panel-title {\n",
       "      margin-top: 7px;\n",
       "  }\n",
       "</style>\n",
       "<table class=\"iris\" id=\"139696798424536\">\n",
       "    <tr class=\"iris\">\n",
       "<th class=\"iris iris-word-cell\">Relative Humidity (%)</th>\n",
       "<th class=\"iris iris-word-cell\">time</th>\n",
       "<th class=\"iris iris-word-cell\">pressure</th>\n",
       "<th class=\"iris iris-word-cell\">grid_latitude</th>\n",
       "<th class=\"iris iris-word-cell\">grid_longitude</th>\n",
       "</tr>\n",
       "    <tr class=\"iris\">\n",
       "<td class=\"iris-word-cell iris-subheading-cell\">Shape</td>\n",
       "<td class=\"iris iris-inclusion-cell\">3244</td>\n",
       "<td class=\"iris iris-inclusion-cell\">14</td>\n",
       "<td class=\"iris iris-inclusion-cell\">219</td>\n",
       "<td class=\"iris iris-inclusion-cell\">286</td>\n",
       "</tr>\n",
       "    <tr class=\"iris\">\n",
       "    <td class=\"iris-title iris-word-cell\">Dimension coordinates</td>\n",
       "    <td class=\"iris-title\"></td>\n",
       "    <td class=\"iris-title\"></td>\n",
       "    <td class=\"iris-title\"></td>\n",
       "    <td class=\"iris-title\"></td>\n",
       "</tr>\n",
       "<tr class=\"iris\">\n",
       "    <td class=\"iris-word-cell iris-subheading-cell\">\ttime</td>\n",
       "    <td class=\"iris-inclusion-cell\">x</td>\n",
       "    <td class=\"iris-inclusion-cell\">-</td>\n",
       "    <td class=\"iris-inclusion-cell\">-</td>\n",
       "    <td class=\"iris-inclusion-cell\">-</td>\n",
       "</tr>\n",
       "<tr class=\"iris\">\n",
       "    <td class=\"iris-word-cell iris-subheading-cell\">\tpressure</td>\n",
       "    <td class=\"iris-inclusion-cell\">-</td>\n",
       "    <td class=\"iris-inclusion-cell\">x</td>\n",
       "    <td class=\"iris-inclusion-cell\">-</td>\n",
       "    <td class=\"iris-inclusion-cell\">-</td>\n",
       "</tr>\n",
       "<tr class=\"iris\">\n",
       "    <td class=\"iris-word-cell iris-subheading-cell\">\tgrid_latitude</td>\n",
       "    <td class=\"iris-inclusion-cell\">-</td>\n",
       "    <td class=\"iris-inclusion-cell\">-</td>\n",
       "    <td class=\"iris-inclusion-cell\">x</td>\n",
       "    <td class=\"iris-inclusion-cell\">-</td>\n",
       "</tr>\n",
       "<tr class=\"iris\">\n",
       "    <td class=\"iris-word-cell iris-subheading-cell\">\tgrid_longitude</td>\n",
       "    <td class=\"iris-inclusion-cell\">-</td>\n",
       "    <td class=\"iris-inclusion-cell\">-</td>\n",
       "    <td class=\"iris-inclusion-cell\">-</td>\n",
       "    <td class=\"iris-inclusion-cell\">x</td>\n",
       "</tr>\n",
       "<tr class=\"iris\">\n",
       "    <td class=\"iris-title iris-word-cell\">Auxiliary coordinates</td>\n",
       "    <td class=\"iris-title\"></td>\n",
       "    <td class=\"iris-title\"></td>\n",
       "    <td class=\"iris-title\"></td>\n",
       "    <td class=\"iris-title\"></td>\n",
       "</tr>\n",
       "<tr class=\"iris\">\n",
       "    <td class=\"iris-word-cell iris-subheading-cell\">\tforecast_period</td>\n",
       "    <td class=\"iris-inclusion-cell\">x</td>\n",
       "    <td class=\"iris-inclusion-cell\">-</td>\n",
       "    <td class=\"iris-inclusion-cell\">-</td>\n",
       "    <td class=\"iris-inclusion-cell\">-</td>\n",
       "</tr>\n",
       "<tr class=\"iris\">\n",
       "    <td class=\"iris-title iris-word-cell\">Scalar coordinates</td>\n",
       "    <td class=\"iris-title\"></td>\n",
       "    <td class=\"iris-title\"></td>\n",
       "    <td class=\"iris-title\"></td>\n",
       "    <td class=\"iris-title\"></td>\n",
       "</tr>\n",
       "<tr class=\"iris\">\n",
       "    <td class=\"iris-word-cell iris-subheading-cell\">\tforecast_reference_time</td>\n",
       "    <td class=\"iris-word-cell\" colspan=\"4\">1849-12-01 00:00:00</td>\n",
       "</tr>\n",
       "<tr class=\"iris\">\n",
       "    <td class=\"iris-word-cell iris-subheading-cell\">\theight</td>\n",
       "    <td class=\"iris-word-cell\" colspan=\"4\">1.5 m</td>\n",
       "</tr>\n",
       "<tr class=\"iris\">\n",
       "    <td class=\"iris-word-cell iris-subheading-cell\">\theight</td>\n",
       "    <td class=\"iris-word-cell\" colspan=\"4\">10.0 m</td>\n",
       "</tr>\n",
       "<tr class=\"iris\">\n",
       "    <td class=\"iris-title iris-word-cell\">Attributes</td>\n",
       "    <td class=\"iris-title\"></td>\n",
       "    <td class=\"iris-title\"></td>\n",
       "    <td class=\"iris-title\"></td>\n",
       "    <td class=\"iris-title\"></td>\n",
       "</tr>\n",
       "<tr class=\"iris\">\n",
       "    <td class=\"iris-word-cell iris-subheading-cell\">\tSTASH</td>\n",
       "    <td class=\"iris-word-cell\" colspan=\"4\">[1, 16, 204]</td>\n",
       "</tr>\n",
       "<tr class=\"iris\">\n",
       "    <td class=\"iris-word-cell iris-subheading-cell\">\tsource</td>\n",
       "    <td class=\"iris-word-cell\" colspan=\"4\">Data from Met Office Unified Model</td>\n",
       "</tr>\n",
       "<tr class=\"iris\">\n",
       "    <td class=\"iris-title iris-word-cell\">Cell methods</td>\n",
       "    <td class=\"iris-title\"></td>\n",
       "    <td class=\"iris-title\"></td>\n",
       "    <td class=\"iris-title\"></td>\n",
       "    <td class=\"iris-title\"></td>\n",
       "</tr>\n",
       "<tr class=\"iris\">\n",
       "    <td class=\"iris-word-cell iris-subheading-cell\">\tmean</td>\n",
       "    <td class=\"iris-word-cell\" colspan=\"4\">time (1 hour)</td>\n",
       "</tr>\n",
       "</table>\n",
       "        "
      ],
      "text/plain": [
       "<iris 'Cube' of relative_humidity / (%) (time: 3244; pressure: 14; grid_latitude: 219; grid_longitude: 286)>"
      ]
     },
     "execution_count": 4,
     "metadata": {},
     "output_type": "execute_result"
    }
   ],
   "source": [
    "%%time\n",
    "cube = ds_z.relative_humidity_at_pressure_mean.to_iris()\n",
    "cube"
   ]
  },
  {
   "cell_type": "markdown",
   "metadata": {},
   "source": [
    "## Accessing the actual data and plotting takes only a couple seconds "
   ]
  },
  {
   "cell_type": "code",
   "execution_count": 5,
   "metadata": {},
   "outputs": [
    {
     "data": {
      "text/html": [
       "<pre>&lt;xarray.DataArray &#x27;relative_humidity_at_pressure_mean&#x27; (time: 3244)&gt;\n",
       "dask.array&lt;getitem, shape=(3244,), dtype=float32, chunksize=(200,), chunktype=numpy.ndarray&gt;\n",
       "Coordinates:\n",
       "    forecast_period          (time) timedelta64[ns] dask.array&lt;chunksize=(204,), meta=np.ndarray&gt;\n",
       "    forecast_reference_time  datetime64[ns] ...\n",
       "    grid_latitude            float32 0.87999916\n",
       "    grid_longitude           float32 345.48\n",
       "    height                   float64 ...\n",
       "    height_1                 float64 ...\n",
       "    pressure                 float32 50.0\n",
       "  * time                     (time) datetime64[ns] 1851-01-01T12:00:00 ... 1859-12-28T12:00:00\n",
       "Attributes:\n",
       "    STASH:          [1, 16, 204]\n",
       "    cell_methods:   time: mean (interval: 1 hour)\n",
       "    source:         Data from Met Office Unified Model\n",
       "    standard_name:  relative_humidity\n",
       "    units:          %</pre>"
      ],
      "text/plain": [
       "<xarray.DataArray 'relative_humidity_at_pressure_mean' (time: 3244)>\n",
       "dask.array<getitem, shape=(3244,), dtype=float32, chunksize=(200,), chunktype=numpy.ndarray>\n",
       "Coordinates:\n",
       "    forecast_period          (time) timedelta64[ns] dask.array<chunksize=(204,), meta=np.ndarray>\n",
       "    forecast_reference_time  datetime64[ns] ...\n",
       "    grid_latitude            float32 0.87999916\n",
       "    grid_longitude           float32 345.48\n",
       "    height                   float64 ...\n",
       "    height_1                 float64 ...\n",
       "    pressure                 float32 50.0\n",
       "  * time                     (time) datetime64[ns] 1851-01-01T12:00:00 ... 1859-12-28T12:00:00\n",
       "Attributes:\n",
       "    STASH:          [1, 16, 204]\n",
       "    cell_methods:   time: mean (interval: 1 hour)\n",
       "    source:         Data from Met Office Unified Model\n",
       "    standard_name:  relative_humidity\n",
       "    units:          %"
      ]
     },
     "execution_count": 5,
     "metadata": {},
     "output_type": "execute_result"
    }
   ],
   "source": [
    "ds_z.relative_humidity_at_pressure_mean[:, 1, 100, 100]"
   ]
  },
  {
   "cell_type": "code",
   "execution_count": 6,
   "metadata": {},
   "outputs": [],
   "source": [
    "%matplotlib inline"
   ]
  },
  {
   "cell_type": "code",
   "execution_count": 7,
   "metadata": {},
   "outputs": [
    {
     "name": "stdout",
     "output_type": "stream",
     "text": [
      "CPU times: user 583 ms, sys: 315 ms, total: 898 ms\n",
      "Wall time: 2.92 s\n"
     ]
    },
    {
     "data": {
      "text/plain": [
       "[<matplotlib.lines.Line2D at 0x7f0da28f9470>]"
      ]
     },
     "execution_count": 7,
     "metadata": {},
     "output_type": "execute_result"
    },
    {
     "data": {
      "image/png": "[encoded data removed]",
      "text/plain": [
       "<Figure size 432x288 with 1 Axes>"
      ]
     },
     "metadata": {
      "needs_background": "light"
     },
     "output_type": "display_data"
    }
   ],
   "source": [
    "%%time\n",
    "ds_z.geopotential_height[:, 1, 100, 100].plot()"
   ]
  }
 ],
 "metadata": {
  "kernelspec": {
   "display_name": "Python (pangolin)",
   "language": "python",
   "name": "pangolin"
  },
  "language_info": {
   "codemirror_mode": {
    "name": "ipython",
    "version": 3
   },
   "file_extension": ".py",
   "mimetype": "text/x-python",
   "name": "python",
   "nbconvert_exporter": "python",
   "pygments_lexer": "ipython3",
   "version": "3.6.7"
  }
 },
 "nbformat": 4,
 "nbformat_minor": 4
}
