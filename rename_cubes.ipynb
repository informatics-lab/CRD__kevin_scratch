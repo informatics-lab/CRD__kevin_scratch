{
 "cells": [
  {
   "cell_type": "markdown",
   "metadata": {},
   "source": [
    "# Rename cubes in cubelist with same `standard_name` such that they can easily be merged into a `xr.Dataset`\n",
    "This is done by appending the vertical coord names then the cell methods"
   ]
  },
  {
   "cell_type": "code",
   "execution_count": 1,
   "metadata": {},
   "outputs": [],
   "source": [
    "import iris\n",
    "import os\n",
    "import xarray as xr\n",
    "import numpy as np\n",
    "\n",
    "import crd_utils as crd"
   ]
  },
  {
   "cell_type": "code",
   "execution_count": 2,
   "metadata": {},
   "outputs": [
    {
     "name": "stdout",
     "output_type": "stream",
     "text": [
      "Cubelist loaded from apepda.pa511f0.pp\n",
      "Number of cubes: 24\n"
     ]
    }
   ],
   "source": [
    "# daily data\n",
    "filepath_d = '/data/cssp-china/mini-dataset-24-01-19/20CR/daily'\n",
    "files_d = sorted(os.listdir(filepath_d))\n",
    "cubelist_d = crd.file_to_cubelist(files_d[1], filepath_d)\n",
    "print(f'Number of cubes: {len(cubelist_d)}')"
   ]
  },
  {
   "cell_type": "code",
   "execution_count": 34,
   "metadata": {},
   "outputs": [
    {
     "data": {
      "text/plain": [
       "['m01s05i217',\n",
       " 'air_pressure_at_sea_level',\n",
       " 'air_temperature',\n",
       " 'air_temperature',\n",
       " 'air_temperature',\n",
       " 'air_temperature',\n",
       " 'cloud_area_fraction',\n",
       " 'geopotential_height',\n",
       " 'precipitation_flux',\n",
       " 'relative_humidity',\n",
       " 'relative_humidity',\n",
       " 'relative_humidity',\n",
       " 'relative_humidity',\n",
       " 'specific_humidity',\n",
       " 'surface_air_pressure',\n",
       " 'surface_downwelling_longwave_flux_in_air',\n",
       " 'surface_downwelling_shortwave_flux_in_air',\n",
       " 'surface_temperature',\n",
       " 'surface_temperature',\n",
       " 'surface_temperature',\n",
       " 'x_wind',\n",
       " 'x_wind',\n",
       " 'y_wind',\n",
       " 'y_wind']"
      ]
     },
     "execution_count": 34,
     "metadata": {},
     "output_type": "execute_result"
    }
   ],
   "source": [
    "cubenames = [cube.name() for cube in cubelist_d]\n",
    "cubenames"
   ]
  },
  {
   "cell_type": "code",
   "execution_count": 36,
   "metadata": {},
   "outputs": [
    {
     "name": "stdout",
     "output_type": "stream",
     "text": [
      "air_temperature\n",
      "air_temperature\n",
      "air_temperature\n",
      "air_temperature\n",
      "relative_humidity\n",
      "relative_humidity\n",
      "relative_humidity\n",
      "relative_humidity\n",
      "surface_temperature\n",
      "surface_temperature\n",
      "surface_temperature\n",
      "x_wind\n",
      "x_wind\n",
      "y_wind\n",
      "y_wind\n"
     ]
    }
   ],
   "source": [
    "for cube in cubelist_d:\n",
    "    if cubenames.count(cube.name()) > 1:\n",
    "        print(cube.name())"
   ]
  },
  {
   "cell_type": "code",
   "execution_count": 114,
   "metadata": {},
   "outputs": [],
   "source": [
    "def get_new_cubename(cube):\n",
    "    suffixes = [cube.name()]\n",
    "    coord_names = [coord.name() for coord in cube.coords()]\n",
    "    \n",
    "    if 'pressure' in coord_names:\n",
    "        suffixes.append('at_pressure')\n",
    "    \n",
    "    if 'height' in coord_names:\n",
    "        heights = cube.coord('height')\n",
    "        if len(heights.points) > 1:\n",
    "            suffixes.append('at_height')\n",
    "        else:\n",
    "            height = str(int(heights.points[0].round()))\n",
    "            units = str(heights.units)\n",
    "            suffixes.append(f'at_{height}{units}')\n",
    "    \n",
    "    for cell_method in cube.cell_methods:\n",
    "        method = cell_method.method.replace('imum', '')\n",
    "        suffixes.append(method)\n",
    "    \n",
    "    return '_'.join(suffixes)"
   ]
  },
  {
   "cell_type": "code",
   "execution_count": 115,
   "metadata": {},
   "outputs": [
    {
     "data": {
      "text/plain": [
       "'m01s05i217_max'"
      ]
     },
     "metadata": {},
     "output_type": "display_data"
    },
    {
     "data": {
      "text/plain": [
       "'air_pressure_at_sea_level_mean'"
      ]
     },
     "metadata": {},
     "output_type": "display_data"
    },
    {
     "data": {
      "text/plain": [
       "'air_temperature_at_2m_mean'"
      ]
     },
     "metadata": {},
     "output_type": "display_data"
    },
    {
     "data": {
      "text/plain": [
       "'air_temperature_at_2m_max'"
      ]
     },
     "metadata": {},
     "output_type": "display_data"
    },
    {
     "data": {
      "text/plain": [
       "'air_temperature_at_2m_min'"
      ]
     },
     "metadata": {},
     "output_type": "display_data"
    },
    {
     "data": {
      "text/plain": [
       "'air_temperature_at_pressure_mean'"
      ]
     },
     "metadata": {},
     "output_type": "display_data"
    },
    {
     "data": {
      "text/plain": [
       "'cloud_area_fraction_mean'"
      ]
     },
     "metadata": {},
     "output_type": "display_data"
    },
    {
     "data": {
      "text/plain": [
       "'geopotential_height_at_pressure_mean'"
      ]
     },
     "metadata": {},
     "output_type": "display_data"
    },
    {
     "data": {
      "text/plain": [
       "'precipitation_flux_mean'"
      ]
     },
     "metadata": {},
     "output_type": "display_data"
    },
    {
     "data": {
      "text/plain": [
       "'relative_humidity_at_2m_mean'"
      ]
     },
     "metadata": {},
     "output_type": "display_data"
    },
    {
     "data": {
      "text/plain": [
       "'relative_humidity_at_2m_max'"
      ]
     },
     "metadata": {},
     "output_type": "display_data"
    },
    {
     "data": {
      "text/plain": [
       "'relative_humidity_at_2m_min'"
      ]
     },
     "metadata": {},
     "output_type": "display_data"
    },
    {
     "data": {
      "text/plain": [
       "'relative_humidity_at_pressure_mean'"
      ]
     },
     "metadata": {},
     "output_type": "display_data"
    },
    {
     "data": {
      "text/plain": [
       "'specific_humidity_at_2m_mean'"
      ]
     },
     "metadata": {},
     "output_type": "display_data"
    },
    {
     "data": {
      "text/plain": [
       "'surface_air_pressure_mean'"
      ]
     },
     "metadata": {},
     "output_type": "display_data"
    },
    {
     "data": {
      "text/plain": [
       "'surface_downwelling_longwave_flux_in_air_mean'"
      ]
     },
     "metadata": {},
     "output_type": "display_data"
    },
    {
     "data": {
      "text/plain": [
       "'surface_downwelling_shortwave_flux_in_air_mean'"
      ]
     },
     "metadata": {},
     "output_type": "display_data"
    },
    {
     "data": {
      "text/plain": [
       "'surface_temperature_mean'"
      ]
     },
     "metadata": {},
     "output_type": "display_data"
    },
    {
     "data": {
      "text/plain": [
       "'surface_temperature_max'"
      ]
     },
     "metadata": {},
     "output_type": "display_data"
    },
    {
     "data": {
      "text/plain": [
       "'surface_temperature_min'"
      ]
     },
     "metadata": {},
     "output_type": "display_data"
    },
    {
     "data": {
      "text/plain": [
       "'x_wind_at_10m_mean'"
      ]
     },
     "metadata": {},
     "output_type": "display_data"
    },
    {
     "data": {
      "text/plain": [
       "'x_wind_at_pressure_mean'"
      ]
     },
     "metadata": {},
     "output_type": "display_data"
    },
    {
     "data": {
      "text/plain": [
       "'y_wind_at_10m_mean'"
      ]
     },
     "metadata": {},
     "output_type": "display_data"
    },
    {
     "data": {
      "text/plain": [
       "'y_wind_at_pressure_mean'"
      ]
     },
     "metadata": {},
     "output_type": "display_data"
    }
   ],
   "source": [
    "for cube in cubelist_d:\n",
    "    display(get_new_cubename(cube))"
   ]
  },
  {
   "cell_type": "code",
   "execution_count": 122,
   "metadata": {},
   "outputs": [
    {
     "data": {
      "text/plain": [
       "'m01s05i217_max'"
      ]
     },
     "metadata": {},
     "output_type": "display_data"
    },
    {
     "data": {
      "text/plain": [
       "'air_temperature_at_2m_mean'"
      ]
     },
     "metadata": {},
     "output_type": "display_data"
    },
    {
     "data": {
      "text/plain": [
       "'air_temperature_at_2m_max'"
      ]
     },
     "metadata": {},
     "output_type": "display_data"
    },
    {
     "data": {
      "text/plain": [
       "'air_temperature_at_2m_min'"
      ]
     },
     "metadata": {},
     "output_type": "display_data"
    },
    {
     "data": {
      "text/plain": [
       "'air_temperature_at_pressure_mean'"
      ]
     },
     "metadata": {},
     "output_type": "display_data"
    },
    {
     "data": {
      "text/plain": [
       "'relative_humidity_at_2m_mean'"
      ]
     },
     "metadata": {},
     "output_type": "display_data"
    },
    {
     "data": {
      "text/plain": [
       "'relative_humidity_at_2m_max'"
      ]
     },
     "metadata": {},
     "output_type": "display_data"
    },
    {
     "data": {
      "text/plain": [
       "'relative_humidity_at_2m_min'"
      ]
     },
     "metadata": {},
     "output_type": "display_data"
    },
    {
     "data": {
      "text/plain": [
       "'relative_humidity_at_pressure_mean'"
      ]
     },
     "metadata": {},
     "output_type": "display_data"
    },
    {
     "data": {
      "text/plain": [
       "'surface_temperature_mean'"
      ]
     },
     "metadata": {},
     "output_type": "display_data"
    },
    {
     "data": {
      "text/plain": [
       "'surface_temperature_max'"
      ]
     },
     "metadata": {},
     "output_type": "display_data"
    },
    {
     "data": {
      "text/plain": [
       "'surface_temperature_min'"
      ]
     },
     "metadata": {},
     "output_type": "display_data"
    },
    {
     "data": {
      "text/plain": [
       "'x_wind_at_10m_mean'"
      ]
     },
     "metadata": {},
     "output_type": "display_data"
    },
    {
     "data": {
      "text/plain": [
       "'x_wind_at_pressure_mean'"
      ]
     },
     "metadata": {},
     "output_type": "display_data"
    },
    {
     "data": {
      "text/plain": [
       "'y_wind_at_10m_mean'"
      ]
     },
     "metadata": {},
     "output_type": "display_data"
    },
    {
     "data": {
      "text/plain": [
       "'y_wind_at_pressure_mean'"
      ]
     },
     "metadata": {},
     "output_type": "display_data"
    }
   ],
   "source": [
    "for cube in cubelist_d:\n",
    "    if cube.standard_name == None or cubenames.count(cube.name()) > 1:\n",
    "        new_name = get_new_cubename(cube)\n",
    "        cube.var_name = new_name\n",
    "        display(new_name)"
   ]
  },
  {
   "cell_type": "code",
   "execution_count": 123,
   "metadata": {},
   "outputs": [
    {
     "name": "stdout",
     "output_type": "stream",
     "text": [
      "m01s05i217_max\n",
      "    None\n",
      "    m01s05i217_max\n",
      "    None\n",
      "air_pressure_at_sea_level\n",
      "    air_pressure_at_sea_level\n",
      "    None\n",
      "    None\n",
      "air_temperature\n",
      "    air_temperature\n",
      "    air_temperature_at_2m_mean\n",
      "    None\n",
      "air_temperature\n",
      "    air_temperature\n",
      "    air_temperature_at_2m_max\n",
      "    None\n",
      "air_temperature\n",
      "    air_temperature\n",
      "    air_temperature_at_2m_min\n",
      "    None\n",
      "air_temperature\n",
      "    air_temperature\n",
      "    air_temperature_at_pressure_mean\n",
      "    None\n",
      "cloud_area_fraction\n",
      "    cloud_area_fraction\n",
      "    None\n",
      "    None\n",
      "geopotential_height\n",
      "    geopotential_height\n",
      "    None\n",
      "    None\n",
      "precipitation_flux\n",
      "    precipitation_flux\n",
      "    None\n",
      "    None\n",
      "relative_humidity\n",
      "    relative_humidity\n",
      "    relative_humidity_at_2m_mean\n",
      "    None\n",
      "relative_humidity\n",
      "    relative_humidity\n",
      "    relative_humidity_at_2m_max\n",
      "    None\n",
      "relative_humidity\n",
      "    relative_humidity\n",
      "    relative_humidity_at_2m_min\n",
      "    None\n",
      "relative_humidity\n",
      "    relative_humidity\n",
      "    relative_humidity_at_pressure_mean\n",
      "    None\n",
      "specific_humidity\n",
      "    specific_humidity\n",
      "    None\n",
      "    None\n",
      "surface_air_pressure\n",
      "    surface_air_pressure\n",
      "    None\n",
      "    None\n",
      "surface_downwelling_longwave_flux_in_air\n",
      "    surface_downwelling_longwave_flux_in_air\n",
      "    None\n",
      "    None\n",
      "surface_downwelling_shortwave_flux_in_air\n",
      "    surface_downwelling_shortwave_flux_in_air\n",
      "    None\n",
      "    None\n",
      "surface_temperature\n",
      "    surface_temperature\n",
      "    surface_temperature_mean\n",
      "    None\n",
      "surface_temperature\n",
      "    surface_temperature\n",
      "    surface_temperature_max\n",
      "    None\n",
      "surface_temperature\n",
      "    surface_temperature\n",
      "    surface_temperature_min\n",
      "    None\n",
      "x_wind\n",
      "    x_wind\n",
      "    x_wind_at_10m_mean\n",
      "    None\n",
      "x_wind\n",
      "    x_wind\n",
      "    x_wind_at_pressure_mean\n",
      "    None\n",
      "y_wind\n",
      "    y_wind\n",
      "    y_wind_at_10m_mean\n",
      "    None\n",
      "y_wind\n",
      "    y_wind\n",
      "    y_wind_at_pressure_mean\n",
      "    None\n"
     ]
    }
   ],
   "source": [
    "for cube in cubelist_d:\n",
    "    print(cube.name())\n",
    "    print(f'    {cube.standard_name}')\n",
    "    print(f'    {cube.var_name}')\n",
    "    print(f'    {cube.long_name}')"
   ]
  },
  {
   "cell_type": "markdown",
   "metadata": {},
   "source": [
    "### Let's try with 6 hourly data (to be sure it's not a fluke)"
   ]
  },
  {
   "cell_type": "code",
   "execution_count": 103,
   "metadata": {},
   "outputs": [
    {
     "name": "stdout",
     "output_type": "stream",
     "text": [
      "Cubelist loaded from apepda.pb511f0.pp\n",
      "Number of cubes: 12\n"
     ]
    }
   ],
   "source": [
    "# 6 hourly data\n",
    "filepath_6h = '/data/cssp-china/mini-dataset-24-01-19/20CR/6hrly'\n",
    "files_6h = sorted(os.listdir(filepath_6h))\n",
    "cubelist_6h = crd.file_to_cubelist(files_6h[1], filepath_6h)\n",
    "print(f'Number of cubes: {len(cubelist_6h)}')"
   ]
  },
  {
   "cell_type": "code",
   "execution_count": 127,
   "metadata": {},
   "outputs": [
    {
     "data": {
      "text/plain": [
       "'m01s05i217_max'"
      ]
     },
     "metadata": {},
     "output_type": "display_data"
    },
    {
     "data": {
      "text/plain": [
       "'m01s05i217_mean'"
      ]
     },
     "metadata": {},
     "output_type": "display_data"
    },
    {
     "data": {
      "text/plain": [
       "'air_temperature_at_pressure'"
      ]
     },
     "metadata": {},
     "output_type": "display_data"
    },
    {
     "data": {
      "text/plain": [
       "'geopotential_height_at_pressure'"
      ]
     },
     "metadata": {},
     "output_type": "display_data"
    },
    {
     "data": {
      "text/plain": [
       "'lagrangian_tendency_of_air_pressure_at_pressure'"
      ]
     },
     "metadata": {},
     "output_type": "display_data"
    },
    {
     "data": {
      "text/plain": [
       "'relative_humidity_at_2m_mean'"
      ]
     },
     "metadata": {},
     "output_type": "display_data"
    },
    {
     "data": {
      "text/plain": [
       "'specific_humidity_at_2m_mean'"
      ]
     },
     "metadata": {},
     "output_type": "display_data"
    },
    {
     "data": {
      "text/plain": [
       "'surface_temperature'"
      ]
     },
     "metadata": {},
     "output_type": "display_data"
    },
    {
     "data": {
      "text/plain": [
       "'x_wind_at_10m'"
      ]
     },
     "metadata": {},
     "output_type": "display_data"
    },
    {
     "data": {
      "text/plain": [
       "'x_wind_at_pressure'"
      ]
     },
     "metadata": {},
     "output_type": "display_data"
    },
    {
     "data": {
      "text/plain": [
       "'y_wind_at_10m'"
      ]
     },
     "metadata": {},
     "output_type": "display_data"
    },
    {
     "data": {
      "text/plain": [
       "'y_wind_at_pressure'"
      ]
     },
     "metadata": {},
     "output_type": "display_data"
    }
   ],
   "source": [
    "for cube in cubelist_6h:\n",
    "    display(get_new_cubename(cube))"
   ]
  },
  {
   "cell_type": "code",
   "execution_count": 130,
   "metadata": {},
   "outputs": [
    {
     "data": {
      "text/plain": [
       "'m01s05i217_max'"
      ]
     },
     "metadata": {},
     "output_type": "display_data"
    },
    {
     "data": {
      "text/plain": [
       "'m01s05i217_mean'"
      ]
     },
     "metadata": {},
     "output_type": "display_data"
    },
    {
     "data": {
      "text/plain": [
       "'x_wind_at_10m'"
      ]
     },
     "metadata": {},
     "output_type": "display_data"
    },
    {
     "data": {
      "text/plain": [
       "'x_wind_at_pressure'"
      ]
     },
     "metadata": {},
     "output_type": "display_data"
    },
    {
     "data": {
      "text/plain": [
       "'y_wind_at_10m'"
      ]
     },
     "metadata": {},
     "output_type": "display_data"
    },
    {
     "data": {
      "text/plain": [
       "'y_wind_at_pressure'"
      ]
     },
     "metadata": {},
     "output_type": "display_data"
    }
   ],
   "source": [
    "cubenames_6h = [cube.name() for cube in cubelist_6h]\n",
    "\n",
    "for cube in cubelist_6h:\n",
    "    if cube.standard_name == None or cubenames_6h.count(cube.name()) > 1:\n",
    "        new_name = get_new_cubename(cube)\n",
    "        cube.var_name = new_name\n",
    "        display(new_name)"
   ]
  },
  {
   "cell_type": "markdown",
   "metadata": {},
   "source": [
    "## Now we have renamed our cubes, let's see how Xarray behaves"
   ]
  },
  {
   "cell_type": "code",
   "execution_count": 119,
   "metadata": {},
   "outputs": [],
   "source": [
    "def cubelist_to_dalist(cubelist):\n",
    "    dalist = []\n",
    "    for cube in cubelist:\n",
    "        dalist.append(xr.DataArray.from_iris(cube))\n",
    "    return dalist"
   ]
  },
  {
   "cell_type": "code",
   "execution_count": 129,
   "metadata": {},
   "outputs": [
    {
     "name": "stdout",
     "output_type": "stream",
     "text": [
      "m01s05i217_max\n",
      "air_pressure_at_sea_level\n",
      "air_temperature_at_2m_mean\n",
      "air_temperature_at_2m_max\n",
      "air_temperature_at_2m_min\n",
      "air_temperature_at_pressure_mean\n",
      "cloud_area_fraction\n",
      "geopotential_height\n",
      "precipitation_flux\n",
      "relative_humidity_at_2m_mean\n",
      "relative_humidity_at_2m_max\n",
      "relative_humidity_at_2m_min\n",
      "relative_humidity_at_pressure_mean\n",
      "specific_humidity\n",
      "surface_air_pressure\n",
      "surface_downwelling_longwave_flux_in_air\n",
      "surface_downwelling_shortwave_flux_in_air\n",
      "surface_temperature_mean\n",
      "surface_temperature_max\n",
      "surface_temperature_min\n",
      "x_wind_at_10m_mean\n",
      "x_wind_at_pressure_mean\n",
      "y_wind_at_10m_mean\n",
      "y_wind_at_pressure_mean\n"
     ]
    }
   ],
   "source": [
    "dalist = cubelist_to_dalist(cubelist_d)\n",
    "for da in dalist:\n",
    "    print(da.name)"
   ]
  },
  {
   "cell_type": "code",
   "execution_count": 131,
   "metadata": {},
   "outputs": [
    {
     "name": "stdout",
     "output_type": "stream",
     "text": [
      "m01s05i217_max\n",
      "m01s05i217_mean\n",
      "air_temperature\n",
      "geopotential_height\n",
      "lagrangian_tendency_of_air_pressure\n",
      "relative_humidity\n",
      "specific_humidity\n",
      "surface_temperature\n",
      "x_wind_at_10m\n",
      "x_wind_at_pressure\n",
      "y_wind_at_10m\n",
      "y_wind_at_pressure\n"
     ]
    }
   ],
   "source": [
    "for da in cubelist_to_dalist(cubelist_6h):\n",
    "    print(da.name)"
   ]
  },
  {
   "cell_type": "code",
   "execution_count": null,
   "metadata": {},
   "outputs": [],
   "source": []
  }
 ],
 "metadata": {
  "kernelspec": {
   "display_name": "Python (datasci)",
   "language": "python",
   "name": "datasci"
  },
  "language_info": {
   "codemirror_mode": {
    "name": "ipython",
    "version": 3
   },
   "file_extension": ".py",
   "mimetype": "text/x-python",
   "name": "python",
   "nbconvert_exporter": "python",
   "pygments_lexer": "ipython3",
   "version": "3.6.9"
  }
 },
 "nbformat": 4,
 "nbformat_minor": 4
}
