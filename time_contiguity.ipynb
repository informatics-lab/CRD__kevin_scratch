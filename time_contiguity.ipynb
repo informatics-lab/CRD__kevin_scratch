{
 "cells": [
  {
   "cell_type": "markdown",
   "metadata": {},
   "source": [
    "# Explore time series contiguity of mini dataset"
   ]
  },
  {
   "cell_type": "code",
   "execution_count": 1,
   "metadata": {},
   "outputs": [],
   "source": [
    "import os\n",
    "import iris\n",
    "import xarray as xr"
   ]
  },
  {
   "cell_type": "code",
   "execution_count": 2,
   "metadata": {},
   "outputs": [],
   "source": [
    "filepath = '/data/cssp-china/mini-dataset-24-01-19/20CR/daily'\n",
    "PRECIP_STASH = 'm01s05i216'"
   ]
  },
  {
   "cell_type": "code",
   "execution_count": 4,
   "metadata": {},
   "outputs": [],
   "source": [
    "files = sorted(os.listdir(filepath))"
   ]
  },
  {
   "cell_type": "code",
   "execution_count": 7,
   "metadata": {},
   "outputs": [
    {
     "data": {
      "text/plain": [
       "[Cell(point=real_datetime(1851, 1, 1, 12, 0), bound=(real_datetime(1851, 1, 1, 0, 0), real_datetime(1851, 1, 2, 0, 0))),\n",
       " Cell(point=real_datetime(1851, 1, 2, 12, 0), bound=(real_datetime(1851, 1, 2, 0, 0), real_datetime(1851, 1, 3, 0, 0))),\n",
       " Cell(point=real_datetime(1851, 1, 3, 12, 0), bound=(real_datetime(1851, 1, 3, 0, 0), real_datetime(1851, 1, 4, 0, 0))),\n",
       " Cell(point=real_datetime(1851, 1, 4, 12, 0), bound=(real_datetime(1851, 1, 4, 0, 0), real_datetime(1851, 1, 5, 0, 0)))]"
      ]
     },
     "metadata": {},
     "output_type": "display_data"
    },
    {
     "name": "stdout",
     "output_type": "stream",
     "text": [
      "\n"
     ]
    },
    {
     "data": {
      "text/plain": [
       "[Cell(point=real_datetime(1851, 1, 5, 12, 0), bound=(real_datetime(1851, 1, 5, 0, 0), real_datetime(1851, 1, 6, 0, 0))),\n",
       " Cell(point=real_datetime(1851, 1, 6, 12, 0), bound=(real_datetime(1851, 1, 6, 0, 0), real_datetime(1851, 1, 7, 0, 0))),\n",
       " Cell(point=real_datetime(1851, 1, 7, 12, 0), bound=(real_datetime(1851, 1, 7, 0, 0), real_datetime(1851, 1, 8, 0, 0))),\n",
       " Cell(point=real_datetime(1851, 1, 8, 12, 0), bound=(real_datetime(1851, 1, 8, 0, 0), real_datetime(1851, 1, 9, 0, 0))),\n",
       " Cell(point=real_datetime(1851, 1, 9, 12, 0), bound=(real_datetime(1851, 1, 9, 0, 0), real_datetime(1851, 1, 10, 0, 0))),\n",
       " Cell(point=real_datetime(1851, 1, 10, 12, 0), bound=(real_datetime(1851, 1, 10, 0, 0), real_datetime(1851, 1, 11, 0, 0))),\n",
       " Cell(point=real_datetime(1851, 1, 11, 12, 0), bound=(real_datetime(1851, 1, 11, 0, 0), real_datetime(1851, 1, 12, 0, 0))),\n",
       " Cell(point=real_datetime(1851, 1, 12, 12, 0), bound=(real_datetime(1851, 1, 12, 0, 0), real_datetime(1851, 1, 13, 0, 0))),\n",
       " Cell(point=real_datetime(1851, 1, 13, 12, 0), bound=(real_datetime(1851, 1, 13, 0, 0), real_datetime(1851, 1, 14, 0, 0))),\n",
       " Cell(point=real_datetime(1851, 1, 14, 12, 0), bound=(real_datetime(1851, 1, 14, 0, 0), real_datetime(1851, 1, 15, 0, 0)))]"
      ]
     },
     "metadata": {},
     "output_type": "display_data"
    },
    {
     "name": "stdout",
     "output_type": "stream",
     "text": [
      "\n"
     ]
    },
    {
     "data": {
      "text/plain": [
       "[Cell(point=real_datetime(2010, 12, 16, 12, 0), bound=(real_datetime(2010, 12, 16, 0, 0), real_datetime(2010, 12, 17, 0, 0))),\n",
       " Cell(point=real_datetime(2010, 12, 17, 12, 0), bound=(real_datetime(2010, 12, 17, 0, 0), real_datetime(2010, 12, 18, 0, 0))),\n",
       " Cell(point=real_datetime(2010, 12, 18, 12, 0), bound=(real_datetime(2010, 12, 18, 0, 0), real_datetime(2010, 12, 19, 0, 0))),\n",
       " Cell(point=real_datetime(2010, 12, 19, 12, 0), bound=(real_datetime(2010, 12, 19, 0, 0), real_datetime(2010, 12, 20, 0, 0))),\n",
       " Cell(point=real_datetime(2010, 12, 20, 12, 0), bound=(real_datetime(2010, 12, 20, 0, 0), real_datetime(2010, 12, 21, 0, 0))),\n",
       " Cell(point=real_datetime(2010, 12, 21, 12, 0), bound=(real_datetime(2010, 12, 21, 0, 0), real_datetime(2010, 12, 22, 0, 0))),\n",
       " Cell(point=real_datetime(2010, 12, 22, 12, 0), bound=(real_datetime(2010, 12, 22, 0, 0), real_datetime(2010, 12, 23, 0, 0))),\n",
       " Cell(point=real_datetime(2010, 12, 23, 12, 0), bound=(real_datetime(2010, 12, 23, 0, 0), real_datetime(2010, 12, 24, 0, 0))),\n",
       " Cell(point=real_datetime(2010, 12, 24, 12, 0), bound=(real_datetime(2010, 12, 24, 0, 0), real_datetime(2010, 12, 25, 0, 0))),\n",
       " Cell(point=real_datetime(2010, 12, 25, 12, 0), bound=(real_datetime(2010, 12, 25, 0, 0), real_datetime(2010, 12, 26, 0, 0)))]"
      ]
     },
     "metadata": {},
     "output_type": "display_data"
    },
    {
     "name": "stdout",
     "output_type": "stream",
     "text": [
      "\n"
     ]
    },
    {
     "data": {
      "text/plain": [
       "[Cell(point=real_datetime(2010, 12, 26, 12, 0), bound=(real_datetime(2010, 12, 26, 0, 0), real_datetime(2010, 12, 27, 0, 0))),\n",
       " Cell(point=real_datetime(2010, 12, 27, 12, 0), bound=(real_datetime(2010, 12, 27, 0, 0), real_datetime(2010, 12, 28, 0, 0))),\n",
       " Cell(point=real_datetime(2010, 12, 28, 12, 0), bound=(real_datetime(2010, 12, 28, 0, 0), real_datetime(2010, 12, 29, 0, 0))),\n",
       " Cell(point=real_datetime(2010, 12, 29, 12, 0), bound=(real_datetime(2010, 12, 29, 0, 0), real_datetime(2010, 12, 30, 0, 0))),\n",
       " Cell(point=real_datetime(2010, 12, 30, 12, 0), bound=(real_datetime(2010, 12, 30, 0, 0), real_datetime(2010, 12, 31, 0, 0))),\n",
       " Cell(point=real_datetime(2010, 12, 31, 12, 0), bound=(real_datetime(2010, 12, 31, 0, 0), real_datetime(2011, 1, 1, 0, 0)))]"
      ]
     },
     "metadata": {},
     "output_type": "display_data"
    },
    {
     "name": "stdout",
     "output_type": "stream",
     "text": [
      "\n"
     ]
    }
   ],
   "source": [
    "for file in [files[0], files[1], files[-2], files[-1]]:\n",
    "    cube, = iris.load(os.path.join(filepath, file), iris.AttributeConstraint(STASH=PRECIP_STASH))\n",
    "    \n",
    "    display([c for c in cube.coord('time').cells()])\n",
    "    print()"
   ]
  },
  {
   "cell_type": "markdown",
   "metadata": {},
   "source": [
    "## So, time is contiguous (for daily data)\n",
    "But the block sizes at the start and end of the series are not 10 days in length, which makes an issue for starting the zarray (unless I drop first 4 days of 1851)"
   ]
  }
 ],
 "metadata": {
  "kernelspec": {
   "display_name": "Python (datasci)",
   "language": "python",
   "name": "datasci"
  },
  "language_info": {
   "codemirror_mode": {
    "name": "ipython",
    "version": 3
   },
   "file_extension": ".py",
   "mimetype": "text/x-python",
   "name": "python",
   "nbconvert_exporter": "python",
   "pygments_lexer": "ipython3",
   "version": "3.6.9"
  }
 },
 "nbformat": 4,
 "nbformat_minor": 4
}
