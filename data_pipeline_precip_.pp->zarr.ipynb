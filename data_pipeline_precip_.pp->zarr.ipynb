{
 "cells": [
  {
   "cell_type": "markdown",
   "metadata": {},
   "source": [
    "# Data pipeline for converting precipitation data `.pp` -> `Zarr`"
   ]
  },
  {
   "cell_type": "code",
   "execution_count": 6,
   "metadata": {},
   "outputs": [],
   "source": [
    "import iris\n",
    "import os\n",
    "import xarray as xr\n",
    "import numpy as np"
   ]
  },
  {
   "cell_type": "code",
   "execution_count": 7,
   "metadata": {},
   "outputs": [],
   "source": [
    "def pp_to_cube(filename, filepath, constraints={}):\n",
    "    # Load a cube from a .pp file\n",
    "    cube, = iris.load(os.path.join(filepath, filename), iris.AttributeConstraint(**constraints))\n",
    "    print(f'Cube loaded from {filename}')\n",
    "    return cube"
   ]
  },
  {
   "cell_type": "code",
   "execution_count": 8,
   "metadata": {},
   "outputs": [],
   "source": [
    "def cube_to_xr(cube):\n",
    "    # Convert Iris cube to Xarray Dataset\n",
    "    return xr.DataArray.from_iris(cube).to_dataset()"
   ]
  },
  {
   "cell_type": "code",
   "execution_count": 9,
   "metadata": {},
   "outputs": [],
   "source": [
    "def xr_to_zarr(dataset, zarr_store, chunks={'time':10, 'grid_latitude':219, 'grid_longitude':286}, append_dim='time'):\n",
    "    # Write dataset to new zarr store\n",
    "    # OR append dataset to an existing zarr store\n",
    "    dataset = dataset.chunk(chunks=chunks)\n",
    "    if os.path.isdir(zarr_store):\n",
    "        dataset.to_zarr(zarr_store, consolidated=True, append_dim=append_dim)\n",
    "        print(f'Appended cube to {zarr_store}')\n",
    "    else:\n",
    "        dataset.to_zarr(zarr_store, mode='w', consolidated=True)\n",
    "        print(f'Written cube to {zarr_store}')"
   ]
  },
  {
   "cell_type": "code",
   "execution_count": null,
   "metadata": {},
   "outputs": [],
   "source": []
  },
  {
   "cell_type": "code",
   "execution_count": 10,
   "metadata": {},
   "outputs": [],
   "source": [
    "def datetimes_from_cube(cube):\n",
    "    return xr.DataArray.from_iris(cube).time.data\n",
    "\n",
    "def datetimes_from_zarr(zarr_store):\n",
    "    return xr.open_zarr(zarr_store).time.data"
   ]
  },
  {
   "cell_type": "code",
   "execution_count": 15,
   "metadata": {},
   "outputs": [
    {
     "name": "stdout",
     "output_type": "stream",
     "text": [
      "Filename = apepda.pa511f0.pp\n",
      "Cube loaded from apepda.pa511f0.pp\n",
      "apepda.pa511f0.pp already written to /data/cssp-china/zarr_for_theo\n",
      "Filename = apepda.pa511p0.pp\n",
      "Cube loaded from apepda.pa511p0.pp\n",
      "Appended cube to /data/cssp-china/zarr_for_theo\n",
      "Filename = apepda.pa51240.pp\n",
      "Cube loaded from apepda.pa51240.pp\n",
      "Appended cube to /data/cssp-china/zarr_for_theo\n",
      "Filename = apepda.pa512e0.pp\n",
      "Cube loaded from apepda.pa512e0.pp\n",
      "Appended cube to /data/cssp-china/zarr_for_theo\n",
      "Filename = apepda.pa512o0.pp\n",
      "Cube loaded from apepda.pa512o0.pp\n",
      "Appended cube to /data/cssp-china/zarr_for_theo\n",
      "Filename = apepda.pa51360.pp\n",
      "Cube loaded from apepda.pa51360.pp\n",
      "Appended cube to /data/cssp-china/zarr_for_theo\n",
      "Filename = apepda.pa513g0.pp\n",
      "Cube loaded from apepda.pa513g0.pp\n",
      "Appended cube to /data/cssp-china/zarr_for_theo\n",
      "Filename = apepda.pa513q0.pp\n",
      "Cube loaded from apepda.pa513q0.pp\n",
      "Appended cube to /data/cssp-china/zarr_for_theo\n",
      "Filename = apepda.pa51450.pp\n",
      "Cube loaded from apepda.pa51450.pp\n",
      "Appended cube to /data/cssp-china/zarr_for_theo\n",
      "Finish\n"
     ]
    },
    {
     "data": {
      "text/plain": [
       "array(['1851-01-05T12:00:00.000000000', '1851-01-06T12:00:00.000000000',\n",
       "       '1851-01-07T12:00:00.000000000', '1851-01-08T12:00:00.000000000',\n",
       "       '1851-01-09T12:00:00.000000000', '1851-01-10T12:00:00.000000000',\n",
       "       '1851-01-11T12:00:00.000000000', '1851-01-12T12:00:00.000000000',\n",
       "       '1851-01-13T12:00:00.000000000', '1851-01-14T12:00:00.000000000',\n",
       "       '1851-01-15T12:00:00.000000000', '1851-01-16T12:00:00.000000000',\n",
       "       '1851-01-17T12:00:00.000000000', '1851-01-18T12:00:00.000000000',\n",
       "       '1851-01-19T12:00:00.000000000', '1851-01-20T12:00:00.000000000',\n",
       "       '1851-01-21T12:00:00.000000000', '1851-01-22T12:00:00.000000000',\n",
       "       '1851-01-23T12:00:00.000000000', '1851-01-24T12:00:00.000000000',\n",
       "       '1851-01-25T12:00:00.000000000', '1851-01-26T12:00:00.000000000',\n",
       "       '1851-01-27T12:00:00.000000000', '1851-01-28T12:00:00.000000000',\n",
       "       '1851-01-29T12:00:00.000000000', '1851-01-30T12:00:00.000000000',\n",
       "       '1851-01-31T12:00:00.000000000', '1851-02-01T12:00:00.000000000',\n",
       "       '1851-02-02T12:00:00.000000000', '1851-02-03T12:00:00.000000000',\n",
       "       '1851-02-04T12:00:00.000000000', '1851-02-05T12:00:00.000000000',\n",
       "       '1851-02-06T12:00:00.000000000', '1851-02-07T12:00:00.000000000',\n",
       "       '1851-02-08T12:00:00.000000000', '1851-02-09T12:00:00.000000000',\n",
       "       '1851-02-10T12:00:00.000000000', '1851-02-11T12:00:00.000000000',\n",
       "       '1851-02-12T12:00:00.000000000', '1851-02-13T12:00:00.000000000',\n",
       "       '1851-02-14T12:00:00.000000000', '1851-02-15T12:00:00.000000000',\n",
       "       '1851-02-16T12:00:00.000000000', '1851-02-17T12:00:00.000000000',\n",
       "       '1851-02-18T12:00:00.000000000', '1851-02-19T12:00:00.000000000',\n",
       "       '1851-02-20T12:00:00.000000000', '1851-02-21T12:00:00.000000000',\n",
       "       '1851-02-22T12:00:00.000000000', '1851-02-23T12:00:00.000000000',\n",
       "       '1851-02-24T12:00:00.000000000', '1851-02-25T12:00:00.000000000',\n",
       "       '1851-02-26T12:00:00.000000000', '1851-02-27T12:00:00.000000000',\n",
       "       '1851-02-28T12:00:00.000000000', '1851-03-01T12:00:00.000000000',\n",
       "       '1851-03-02T12:00:00.000000000', '1851-03-03T12:00:00.000000000',\n",
       "       '1851-03-04T12:00:00.000000000', '1851-03-05T12:00:00.000000000',\n",
       "       '1851-03-06T12:00:00.000000000', '1851-03-07T12:00:00.000000000',\n",
       "       '1851-03-08T12:00:00.000000000', '1851-03-09T12:00:00.000000000',\n",
       "       '1851-03-10T12:00:00.000000000', '1851-03-11T12:00:00.000000000',\n",
       "       '1851-03-12T12:00:00.000000000', '1851-03-13T12:00:00.000000000',\n",
       "       '1851-03-14T12:00:00.000000000', '1851-03-15T12:00:00.000000000',\n",
       "       '1851-03-16T12:00:00.000000000', '1851-03-17T12:00:00.000000000',\n",
       "       '1851-03-18T12:00:00.000000000', '1851-03-19T12:00:00.000000000',\n",
       "       '1851-03-20T12:00:00.000000000', '1851-03-21T12:00:00.000000000',\n",
       "       '1851-03-22T12:00:00.000000000', '1851-03-23T12:00:00.000000000',\n",
       "       '1851-03-24T12:00:00.000000000', '1851-03-25T12:00:00.000000000',\n",
       "       '1851-03-26T12:00:00.000000000', '1851-03-27T12:00:00.000000000',\n",
       "       '1851-03-28T12:00:00.000000000', '1851-03-29T12:00:00.000000000',\n",
       "       '1851-03-30T12:00:00.000000000', '1851-03-31T12:00:00.000000000',\n",
       "       '1851-04-01T12:00:00.000000000', '1851-04-02T12:00:00.000000000',\n",
       "       '1851-04-03T12:00:00.000000000', '1851-04-04T12:00:00.000000000'],\n",
       "      dtype='datetime64[ns]')"
      ]
     },
     "metadata": {},
     "output_type": "display_data"
    },
    {
     "name": "stdout",
     "output_type": "stream",
     "text": [
      "CPU times: user 13 s, sys: 1.54 s, total: 14.5 s\n",
      "Wall time: 34.9 s\n"
     ]
    }
   ],
   "source": [
    "%%time\n",
    "# Pipeline with time checking\n",
    "STASH = 'm01s05i216'\n",
    "filepath = '/data/cssp-china/mini-dataset-24-01-19/20CR/daily'\n",
    "files = sorted(os.listdir(filepath))\n",
    "zarr_store = '/data/cssp-china/zarr_for_theo'\n",
    "times_written = datetimes_from_zarr(zarr_store)\n",
    "# times_written = np.ndarray([])\n",
    "\n",
    "for file in files[1:10]:\n",
    "    print(f'Filename = {file}')\n",
    "    cube = pp_to_cube(file, filepath, constraints={'STASH': STASH})\n",
    "    times = datetimes_from_cube(cube)\n",
    "    if not set(times).issubset(times_written):\n",
    "        xr_to_zarr(cube_to_xr(cube), zarr_store)\n",
    "        times_written = np.append(times_written, times)\n",
    "    else:\n",
    "        print(f'{file} already written to {zarr_store}')\n",
    "\n",
    "print(f'Finish')\n",
    "display(times_written)"
   ]
  },
  {
   "cell_type": "code",
   "execution_count": 16,
   "metadata": {},
   "outputs": [
    {
     "data": {
      "text/plain": [
       "'/data/cssp-china/zarr_for_theo'"
      ]
     },
     "execution_count": 16,
     "metadata": {},
     "output_type": "execute_result"
    }
   ],
   "source": [
    "zarr_store"
   ]
  },
  {
   "cell_type": "code",
   "execution_count": 17,
   "metadata": {},
   "outputs": [
    {
     "data": {
      "text/plain": [
       "<xarray.Dataset>\n",
       "Dimensions:                  (grid_latitude: 219, grid_longitude: 286, time: 90)\n",
       "Coordinates:\n",
       "    forecast_period          (time) timedelta64[ns] dask.array<chunksize=(10,), meta=np.ndarray>\n",
       "    forecast_reference_time  datetime64[ns] ...\n",
       "  * grid_latitude            (grid_latitude) float32 22.88 22.66 ... -25.08\n",
       "  * grid_longitude           (grid_longitude) float32 323.48 323.7 ... 386.18002\n",
       "  * time                     (time) datetime64[ns] 1851-01-05T12:00:00 ... 1851-04-04T12:00:00\n",
       "Data variables:\n",
       "    precipitation_flux       (time, grid_latitude, grid_longitude) float32 dask.array<chunksize=(10, 219, 286), meta=np.ndarray>"
      ]
     },
     "execution_count": 17,
     "metadata": {},
     "output_type": "execute_result"
    }
   ],
   "source": [
    "ds = xr.open_zarr(zarr_store)\n",
    "ds"
   ]
  },
  {
   "cell_type": "code",
   "execution_count": 18,
   "metadata": {},
   "outputs": [
    {
     "data": {
      "text/plain": [
       "<xarray.DataArray 'precipitation_flux' (time: 90, grid_latitude: 219, grid_longitude: 286)>\n",
       "dask.array<zarr, shape=(90, 219, 286), dtype=float32, chunksize=(10, 219, 286), chunktype=numpy.ndarray>\n",
       "Coordinates:\n",
       "    forecast_period          (time) timedelta64[ns] dask.array<chunksize=(10,), meta=np.ndarray>\n",
       "    forecast_reference_time  datetime64[ns] ...\n",
       "  * grid_latitude            (grid_latitude) float32 22.88 22.66 ... -25.08\n",
       "  * grid_longitude           (grid_longitude) float32 323.48 323.7 ... 386.18002\n",
       "  * time                     (time) datetime64[ns] 1851-01-05T12:00:00 ... 1851-04-04T12:00:00\n",
       "Attributes:\n",
       "    STASH:          [1, 5, 216]\n",
       "    cell_methods:   time: mean (interval: 1 hour)\n",
       "    source:         Data from Met Office Unified Model\n",
       "    standard_name:  precipitation_flux\n",
       "    units:          kg m-2 s-1"
      ]
     },
     "execution_count": 18,
     "metadata": {},
     "output_type": "execute_result"
    }
   ],
   "source": [
    "ds.precipitation_flux"
   ]
  },
  {
   "cell_type": "code",
   "execution_count": 19,
   "metadata": {},
   "outputs": [
    {
     "data": {
      "text/html": [
       "<table>\n",
       "<tr>\n",
       "<td>\n",
       "<table>\n",
       "  <thead>\n",
       "    <tr><td> </td><th> Array </th><th> Chunk </th></tr>\n",
       "  </thead>\n",
       "  <tbody>\n",
       "    <tr><th> Bytes </th><td> 22.55 MB </td> <td> 2.51 MB </td></tr>\n",
       "    <tr><th> Shape </th><td> (90, 219, 286) </td> <td> (10, 219, 286) </td></tr>\n",
       "    <tr><th> Count </th><td> 10 Tasks </td><td> 9 Chunks </td></tr>\n",
       "    <tr><th> Type </th><td> float32 </td><td> numpy.ndarray </td></tr>\n",
       "  </tbody>\n",
       "</table>\n",
       "</td>\n",
       "<td>\n",
       "<svg width=\"205\" height=\"167\" style=\"stroke:rgb(0,0,0);stroke-width:1\" >\n",
       "\n",
       "  <!-- Horizontal lines -->\n",
       "  <line x1=\"10\" y1=\"0\" x2=\"35\" y2=\"25\" style=\"stroke-width:2\" />\n",
       "  <line x1=\"10\" y1=\"91\" x2=\"35\" y2=\"117\" style=\"stroke-width:2\" />\n",
       "\n",
       "  <!-- Vertical lines -->\n",
       "  <line x1=\"10\" y1=\"0\" x2=\"10\" y2=\"91\" style=\"stroke-width:2\" />\n",
       "  <line x1=\"12\" y1=\"2\" x2=\"12\" y2=\"94\" />\n",
       "  <line x1=\"15\" y1=\"5\" x2=\"15\" y2=\"97\" />\n",
       "  <line x1=\"18\" y1=\"8\" x2=\"18\" y2=\"100\" />\n",
       "  <line x1=\"21\" y1=\"11\" x2=\"21\" y2=\"103\" />\n",
       "  <line x1=\"24\" y1=\"14\" x2=\"24\" y2=\"106\" />\n",
       "  <line x1=\"27\" y1=\"17\" x2=\"27\" y2=\"109\" />\n",
       "  <line x1=\"29\" y1=\"19\" x2=\"29\" y2=\"111\" />\n",
       "  <line x1=\"32\" y1=\"22\" x2=\"32\" y2=\"114\" />\n",
       "  <line x1=\"35\" y1=\"25\" x2=\"35\" y2=\"117\" style=\"stroke-width:2\" />\n",
       "\n",
       "  <!-- Colored Rectangle -->\n",
       "  <polygon points=\"10.000000,0.000000 35.707287,25.707287 35.707287,117.595399 10.000000,91.888112\" style=\"fill:#ECB172A0;stroke-width:0\"/>\n",
       "\n",
       "  <!-- Horizontal lines -->\n",
       "  <line x1=\"10\" y1=\"0\" x2=\"130\" y2=\"0\" style=\"stroke-width:2\" />\n",
       "  <line x1=\"12\" y1=\"2\" x2=\"132\" y2=\"2\" />\n",
       "  <line x1=\"15\" y1=\"5\" x2=\"135\" y2=\"5\" />\n",
       "  <line x1=\"18\" y1=\"8\" x2=\"138\" y2=\"8\" />\n",
       "  <line x1=\"21\" y1=\"11\" x2=\"141\" y2=\"11\" />\n",
       "  <line x1=\"24\" y1=\"14\" x2=\"144\" y2=\"14\" />\n",
       "  <line x1=\"27\" y1=\"17\" x2=\"147\" y2=\"17\" />\n",
       "  <line x1=\"29\" y1=\"19\" x2=\"149\" y2=\"19\" />\n",
       "  <line x1=\"32\" y1=\"22\" x2=\"152\" y2=\"22\" />\n",
       "  <line x1=\"35\" y1=\"25\" x2=\"155\" y2=\"25\" style=\"stroke-width:2\" />\n",
       "\n",
       "  <!-- Vertical lines -->\n",
       "  <line x1=\"10\" y1=\"0\" x2=\"35\" y2=\"25\" style=\"stroke-width:2\" />\n",
       "  <line x1=\"130\" y1=\"0\" x2=\"155\" y2=\"25\" style=\"stroke-width:2\" />\n",
       "\n",
       "  <!-- Colored Rectangle -->\n",
       "  <polygon points=\"10.000000,0.000000 130.000000,0.000000 155.707287,25.707287 35.707287,25.707287\" style=\"fill:#ECB172A0;stroke-width:0\"/>\n",
       "\n",
       "  <!-- Horizontal lines -->\n",
       "  <line x1=\"35\" y1=\"25\" x2=\"155\" y2=\"25\" style=\"stroke-width:2\" />\n",
       "  <line x1=\"35\" y1=\"117\" x2=\"155\" y2=\"117\" style=\"stroke-width:2\" />\n",
       "\n",
       "  <!-- Vertical lines -->\n",
       "  <line x1=\"35\" y1=\"25\" x2=\"35\" y2=\"117\" style=\"stroke-width:2\" />\n",
       "  <line x1=\"155\" y1=\"25\" x2=\"155\" y2=\"117\" style=\"stroke-width:2\" />\n",
       "\n",
       "  <!-- Colored Rectangle -->\n",
       "  <polygon points=\"35.707287,25.707287 155.707287,25.707287 155.707287,117.595399 35.707287,117.595399\" style=\"fill:#ECB172A0;stroke-width:0\"/>\n",
       "\n",
       "  <!-- Text -->\n",
       "  <text x=\"95.707287\" y=\"137.595399\" font-size=\"1.0rem\" font-weight=\"100\" text-anchor=\"middle\" >286</text>\n",
       "  <text x=\"175.707287\" y=\"71.651343\" font-size=\"1.0rem\" font-weight=\"100\" text-anchor=\"middle\" transform=\"rotate(-90,175.707287,71.651343)\">219</text>\n",
       "  <text x=\"12.853643\" y=\"124.741755\" font-size=\"1.0rem\" font-weight=\"100\" text-anchor=\"middle\" transform=\"rotate(45,12.853643,124.741755)\">90</text>\n",
       "</svg>\n",
       "</td>\n",
       "</tr>\n",
       "</table>"
      ],
      "text/plain": [
       "dask.array<zarr, shape=(90, 219, 286), dtype=float32, chunksize=(10, 219, 286), chunktype=numpy.ndarray>"
      ]
     },
     "execution_count": 19,
     "metadata": {},
     "output_type": "execute_result"
    }
   ],
   "source": [
    "ds.precipitation_flux.data"
   ]
  },
  {
   "cell_type": "code",
   "execution_count": 20,
   "metadata": {},
   "outputs": [
    {
     "data": {
      "text/html": [
       "\n",
       "<style>\n",
       "  a.iris {\n",
       "      text-decoration: none !important;\n",
       "  }\n",
       "  table.iris {\n",
       "      white-space: pre;\n",
       "      border: 1px solid;\n",
       "      border-color: #9c9c9c;\n",
       "      font-family: monaco, monospace;\n",
       "  }\n",
       "  th.iris {\n",
       "      background: #303f3f;\n",
       "      color: #e0e0e0;\n",
       "      border-left: 1px solid;\n",
       "      border-color: #9c9c9c;\n",
       "      font-size: 1.05em;\n",
       "      min-width: 50px;\n",
       "      max-width: 125px;\n",
       "  }\n",
       "  tr.iris :first-child {\n",
       "      border-right: 1px solid #9c9c9c !important;\n",
       "  }\n",
       "  td.iris-title {\n",
       "      background: #d5dcdf;\n",
       "      border-top: 1px solid #9c9c9c;\n",
       "      font-weight: bold;\n",
       "  }\n",
       "  .iris-word-cell {\n",
       "      text-align: left !important;\n",
       "      white-space: pre;\n",
       "  }\n",
       "  .iris-subheading-cell {\n",
       "      padding-left: 2em !important;\n",
       "  }\n",
       "  .iris-inclusion-cell {\n",
       "      padding-right: 1em !important;\n",
       "  }\n",
       "  .iris-panel-body {\n",
       "      padding-top: 0px;\n",
       "  }\n",
       "  .iris-panel-title {\n",
       "      padding-left: 3em;\n",
       "  }\n",
       "  .iris-panel-title {\n",
       "      margin-top: 7px;\n",
       "  }\n",
       "</style>\n",
       "<table class=\"iris\" id=\"139746494010648\">\n",
       "    <tr class=\"iris\">\n",
       "<th class=\"iris iris-word-cell\">Precipitation Flux (kg m-2 s-1)</th>\n",
       "<th class=\"iris iris-word-cell\">time</th>\n",
       "<th class=\"iris iris-word-cell\">grid_latitude</th>\n",
       "<th class=\"iris iris-word-cell\">grid_longitude</th>\n",
       "</tr>\n",
       "    <tr class=\"iris\">\n",
       "<td class=\"iris-word-cell iris-subheading-cell\">Shape</td>\n",
       "<td class=\"iris iris-inclusion-cell\">90</td>\n",
       "<td class=\"iris iris-inclusion-cell\">219</td>\n",
       "<td class=\"iris iris-inclusion-cell\">286</td>\n",
       "</td>\n",
       "    <tr class=\"iris\">\n",
       "    <td class=\"iris-title iris-word-cell\">Dimension coordinates</td>\n",
       "    <td class=\"iris-title\"></td>\n",
       "    <td class=\"iris-title\"></td>\n",
       "    <td class=\"iris-title\"></td>\n",
       "</tr>\n",
       "<tr class=\"iris\">\n",
       "    <td class=\"iris-word-cell iris-subheading-cell\">\ttime</td>\n",
       "    <td class=\"iris-inclusion-cell\">x</td>\n",
       "    <td class=\"iris-inclusion-cell\">-</td>\n",
       "    <td class=\"iris-inclusion-cell\">-</td>\n",
       "</tr>\n",
       "<tr class=\"iris\">\n",
       "    <td class=\"iris-word-cell iris-subheading-cell\">\tgrid_latitude</td>\n",
       "    <td class=\"iris-inclusion-cell\">-</td>\n",
       "    <td class=\"iris-inclusion-cell\">x</td>\n",
       "    <td class=\"iris-inclusion-cell\">-</td>\n",
       "</tr>\n",
       "<tr class=\"iris\">\n",
       "    <td class=\"iris-word-cell iris-subheading-cell\">\tgrid_longitude</td>\n",
       "    <td class=\"iris-inclusion-cell\">-</td>\n",
       "    <td class=\"iris-inclusion-cell\">-</td>\n",
       "    <td class=\"iris-inclusion-cell\">x</td>\n",
       "</tr>\n",
       "<tr class=\"iris\">\n",
       "    <td class=\"iris-title iris-word-cell\">Auxiliary coordinates</td>\n",
       "    <td class=\"iris-title\"></td>\n",
       "    <td class=\"iris-title\"></td>\n",
       "    <td class=\"iris-title\"></td>\n",
       "</tr>\n",
       "<tr class=\"iris\">\n",
       "    <td class=\"iris-word-cell iris-subheading-cell\">\tforecast_period</td>\n",
       "    <td class=\"iris-inclusion-cell\">x</td>\n",
       "    <td class=\"iris-inclusion-cell\">-</td>\n",
       "    <td class=\"iris-inclusion-cell\">-</td>\n",
       "</tr>\n",
       "<tr class=\"iris\">\n",
       "    <td class=\"iris-title iris-word-cell\">Scalar coordinates</td>\n",
       "    <td class=\"iris-title\"></td>\n",
       "    <td class=\"iris-title\"></td>\n",
       "    <td class=\"iris-title\"></td>\n",
       "</tr>\n",
       "<tr class=\"iris\">\n",
       "    <td class=\"iris-word-cell iris-subheading-cell\">\tforecast_reference_time</td>\n",
       "    <td class=\"iris-word-cell\" colspan=\"3\">1849-12-01 00:00:00</td>\n",
       "</tr>\n",
       "<tr class=\"iris\">\n",
       "    <td class=\"iris-title iris-word-cell\">Attributes</td>\n",
       "    <td class=\"iris-title\"></td>\n",
       "    <td class=\"iris-title\"></td>\n",
       "    <td class=\"iris-title\"></td>\n",
       "</tr>\n",
       "<tr class=\"iris\">\n",
       "    <td class=\"iris-word-cell iris-subheading-cell\">\tSTASH</td>\n",
       "    <td class=\"iris-word-cell\" colspan=\"3\">[1, 5, 216]</td>\n",
       "</tr>\n",
       "<tr class=\"iris\">\n",
       "    <td class=\"iris-word-cell iris-subheading-cell\">\tsource</td>\n",
       "    <td class=\"iris-word-cell\" colspan=\"3\">Data from Met Office Unified Model</td>\n",
       "</tr>\n",
       "<tr class=\"iris\">\n",
       "    <td class=\"iris-title iris-word-cell\">Cell methods</td>\n",
       "    <td class=\"iris-title\"></td>\n",
       "    <td class=\"iris-title\"></td>\n",
       "    <td class=\"iris-title\"></td>\n",
       "</tr>\n",
       "<tr class=\"iris\">\n",
       "    <td class=\"iris-word-cell iris-subheading-cell\">\tmean</td>\n",
       "    <td class=\"iris-word-cell\" colspan=\"3\">time (1 hour)</td>\n",
       "</tr>\n",
       "</table>\n",
       "        "
      ],
      "text/plain": [
       "<iris 'Cube' of precipitation_flux / (kg m-2 s-1) (time: 90; grid_latitude: 219; grid_longitude: 286)>"
      ]
     },
     "execution_count": 20,
     "metadata": {},
     "output_type": "execute_result"
    }
   ],
   "source": [
    "cube = ds.precipitation_flux.to_iris()\n",
    "cube"
   ]
  },
  {
   "cell_type": "code",
   "execution_count": null,
   "metadata": {},
   "outputs": [],
   "source": []
  }
 ],
 "metadata": {
  "kernelspec": {
   "display_name": "Python (datasci)",
   "language": "python",
   "name": "datasci"
  },
  "language_info": {
   "codemirror_mode": {
    "name": "ipython",
    "version": 3
   },
   "file_extension": ".py",
   "mimetype": "text/x-python",
   "name": "python",
   "nbconvert_exporter": "python",
   "pygments_lexer": "ipython3",
   "version": "3.6.9"
  }
 },
 "nbformat": 4,
 "nbformat_minor": 4
}
