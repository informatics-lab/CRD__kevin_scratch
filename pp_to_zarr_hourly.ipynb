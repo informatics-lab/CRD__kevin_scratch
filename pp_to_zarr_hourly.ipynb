{
 "cells": [
  {
   "cell_type": "markdown",
   "metadata": {},
   "source": [
    "# Create Zarr of 9 years of hourly CSSP China data [1851-1859]"
   ]
  },
  {
   "cell_type": "code",
   "execution_count": 1,
   "metadata": {},
   "outputs": [],
   "source": [
    "import iris\n",
    "import os\n",
    "import sys\n",
    "import logging\n",
    "import xarray as xr\n",
    "import numpy as np\n",
    "\n",
    "import crd_utils as crd\n",
    "import umdates_utils as um\n",
    "\n",
    "from datetime import datetime, timedelta"
   ]
  },
  {
   "cell_type": "markdown",
   "metadata": {},
   "source": [
    "## Create a list of all the files we want to process"
   ]
  },
  {
   "cell_type": "code",
   "execution_count": 2,
   "metadata": {},
   "outputs": [
    {
     "name": "stdout",
     "output_type": "stream",
     "text": [
      "5850\n"
     ]
    }
   ],
   "source": [
    "# hourly data filenames\n",
    "filepath = '/data/cssp-china/mini-dataset-24-01-19/20CR/hourly'\n",
    "files = sorted(os.listdir(filepath))\n",
    "print(len(files))"
   ]
  },
  {
   "cell_type": "code",
   "execution_count": 5,
   "metadata": {},
   "outputs": [
    {
     "name": "stdout",
     "output_type": "stream",
     "text": [
      "3288\n"
     ]
    }
   ],
   "source": [
    "# generate all possible filenames for the time period\n",
    "runid = 'apepd'\n",
    "startd = datetime(1851, 1, 1)   # 00Z on Jan 01 1851\n",
    "endd = datetime(1860, 1, 1)     # 00Z on Jan 01 1860\n",
    "freq = 'pj'\n",
    "\n",
    "decade_filenames = um.UMFileList(runid, startd, endd, freq)\n",
    "print(len(decade_filenames))"
   ]
  },
  {
   "cell_type": "code",
   "execution_count": 6,
   "metadata": {},
   "outputs": [
    {
     "name": "stdout",
     "output_type": "stream",
     "text": [
      "329\n"
     ]
    }
   ],
   "source": [
    "# find the overlap of actual filenames with all possible filenames in that decade\n",
    "filenames = list(set(files).intersection(set(decade_filenames)))\n",
    "filenames.sort()\n",
    "print(len(filenames))"
   ]
  },
  {
   "cell_type": "code",
   "execution_count": 7,
   "metadata": {},
   "outputs": [
    {
     "name": "stdout",
     "output_type": "stream",
     "text": [
      "329\n"
     ]
    }
   ],
   "source": [
    "filepaths = [os.path.join(filepath, filename) for filename in filenames]\n",
    "print(len(filepaths))"
   ]
  },
  {
   "cell_type": "markdown",
   "metadata": {},
   "source": [
    "## Set all the Cube, Dataset and Zarr variables we need to process the cubes"
   ]
  },
  {
   "cell_type": "code",
   "execution_count": 8,
   "metadata": {},
   "outputs": [
    {
     "name": "stdout",
     "output_type": "stream",
     "text": [
      "CPU times: user 1.26 s, sys: 175 ms, total: 1.43 s\n",
      "Wall time: 2.14 s\n"
     ]
    },
    {
     "data": {
      "text/html": [
       "\n",
       "<style>\n",
       "  a.iris {\n",
       "      text-decoration: none !important;\n",
       "  }\n",
       "  table.iris {\n",
       "      white-space: pre;\n",
       "      border: 1px solid;\n",
       "      border-color: #9c9c9c;\n",
       "      font-family: monaco, monospace;\n",
       "  }\n",
       "  th.iris {\n",
       "      background: #303f3f;\n",
       "      color: #e0e0e0;\n",
       "      border-left: 1px solid;\n",
       "      border-color: #9c9c9c;\n",
       "      font-size: 1.05em;\n",
       "      min-width: 50px;\n",
       "      max-width: 125px;\n",
       "  }\n",
       "  tr.iris :first-child {\n",
       "      border-right: 1px solid #9c9c9c !important;\n",
       "  }\n",
       "  td.iris-title {\n",
       "      background: #d5dcdf;\n",
       "      border-top: 1px solid #9c9c9c;\n",
       "      font-weight: bold;\n",
       "  }\n",
       "  .iris-word-cell {\n",
       "      text-align: left !important;\n",
       "      white-space: pre;\n",
       "  }\n",
       "  .iris-subheading-cell {\n",
       "      padding-left: 2em !important;\n",
       "  }\n",
       "  .iris-inclusion-cell {\n",
       "      padding-right: 1em !important;\n",
       "  }\n",
       "  .iris-panel-body {\n",
       "      padding-top: 0px;\n",
       "  }\n",
       "  .iris-panel-title {\n",
       "      padding-left: 3em;\n",
       "  }\n",
       "  .iris-panel-title {\n",
       "      margin-top: 7px;\n",
       "  }\n",
       "</style>\n",
       "<table class=\"iris\" id=\"139637561426776\">\n",
       "    <tr class=\"iris\">\n",
       "<th class=\"iris iris-word-cell\">Surface Air Pressure (Pa)</th>\n",
       "<th class=\"iris iris-word-cell\">time</th>\n",
       "<th class=\"iris iris-word-cell\">grid_latitude</th>\n",
       "<th class=\"iris iris-word-cell\">grid_longitude</th>\n",
       "</tr>\n",
       "    <tr class=\"iris\">\n",
       "<td class=\"iris-word-cell iris-subheading-cell\">Shape</td>\n",
       "<td class=\"iris iris-inclusion-cell\">97</td>\n",
       "<td class=\"iris iris-inclusion-cell\">219</td>\n",
       "<td class=\"iris iris-inclusion-cell\">286</td>\n",
       "</tr>\n",
       "    <tr class=\"iris\">\n",
       "    <td class=\"iris-title iris-word-cell\">Dimension coordinates</td>\n",
       "    <td class=\"iris-title\"></td>\n",
       "    <td class=\"iris-title\"></td>\n",
       "    <td class=\"iris-title\"></td>\n",
       "</tr>\n",
       "<tr class=\"iris\">\n",
       "    <td class=\"iris-word-cell iris-subheading-cell\">\ttime</td>\n",
       "    <td class=\"iris-inclusion-cell\">x</td>\n",
       "    <td class=\"iris-inclusion-cell\">-</td>\n",
       "    <td class=\"iris-inclusion-cell\">-</td>\n",
       "</tr>\n",
       "<tr class=\"iris\">\n",
       "    <td class=\"iris-word-cell iris-subheading-cell\">\tgrid_latitude</td>\n",
       "    <td class=\"iris-inclusion-cell\">-</td>\n",
       "    <td class=\"iris-inclusion-cell\">x</td>\n",
       "    <td class=\"iris-inclusion-cell\">-</td>\n",
       "</tr>\n",
       "<tr class=\"iris\">\n",
       "    <td class=\"iris-word-cell iris-subheading-cell\">\tgrid_longitude</td>\n",
       "    <td class=\"iris-inclusion-cell\">-</td>\n",
       "    <td class=\"iris-inclusion-cell\">-</td>\n",
       "    <td class=\"iris-inclusion-cell\">x</td>\n",
       "</tr>\n",
       "<tr class=\"iris\">\n",
       "    <td class=\"iris-title iris-word-cell\">Auxiliary coordinates</td>\n",
       "    <td class=\"iris-title\"></td>\n",
       "    <td class=\"iris-title\"></td>\n",
       "    <td class=\"iris-title\"></td>\n",
       "</tr>\n",
       "<tr class=\"iris\">\n",
       "    <td class=\"iris-word-cell iris-subheading-cell\">\tforecast_period</td>\n",
       "    <td class=\"iris-inclusion-cell\">x</td>\n",
       "    <td class=\"iris-inclusion-cell\">-</td>\n",
       "    <td class=\"iris-inclusion-cell\">-</td>\n",
       "</tr>\n",
       "<tr class=\"iris\">\n",
       "    <td class=\"iris-title iris-word-cell\">Scalar coordinates</td>\n",
       "    <td class=\"iris-title\"></td>\n",
       "    <td class=\"iris-title\"></td>\n",
       "    <td class=\"iris-title\"></td>\n",
       "</tr>\n",
       "<tr class=\"iris\">\n",
       "    <td class=\"iris-word-cell iris-subheading-cell\">\tforecast_reference_time</td>\n",
       "    <td class=\"iris-word-cell\" colspan=\"3\">1849-12-01 00:00:00</td>\n",
       "</tr>\n",
       "<tr class=\"iris\">\n",
       "    <td class=\"iris-title iris-word-cell\">Attributes</td>\n",
       "    <td class=\"iris-title\"></td>\n",
       "    <td class=\"iris-title\"></td>\n",
       "    <td class=\"iris-title\"></td>\n",
       "</tr>\n",
       "<tr class=\"iris\">\n",
       "    <td class=\"iris-word-cell iris-subheading-cell\">\tSTASH</td>\n",
       "    <td class=\"iris-word-cell\" colspan=\"3\">m01s00i001</td>\n",
       "</tr>\n",
       "<tr class=\"iris\">\n",
       "    <td class=\"iris-word-cell iris-subheading-cell\">\tsource</td>\n",
       "    <td class=\"iris-word-cell\" colspan=\"3\">Data from Met Office Unified Model</td>\n",
       "</tr>\n",
       "</table>\n",
       "        "
      ],
      "text/plain": [
       "<iris 'Cube' of surface_air_pressure / (Pa) (time: 97; grid_latitude: 219; grid_longitude: 286)>"
      ]
     },
     "execution_count": 8,
     "metadata": {},
     "output_type": "execute_result"
    }
   ],
   "source": [
    "%%time\n",
    "cubelist = iris.load(filepaths[0:1])\n",
    "cubelist[0]"
   ]
  },
  {
   "cell_type": "code",
   "execution_count": 9,
   "metadata": {},
   "outputs": [
    {
     "name": "stdout",
     "output_type": "stream",
     "text": [
      "0: surface_air_pressure / (Pa)         (time: 97; grid_latitude: 219; grid_longitude: 286)\n",
      "1: x_wind / (m s-1)                    (time: 97; grid_latitude: 218; grid_longitude: 286)\n",
      "2: y_wind / (m s-1)                    (time: 97; grid_latitude: 218; grid_longitude: 286)\n"
     ]
    }
   ],
   "source": [
    "print(cubelist)"
   ]
  },
  {
   "cell_type": "code",
   "execution_count": 10,
   "metadata": {},
   "outputs": [],
   "source": [
    "CUBENAMES = [cube.name() for cube in cubelist]\n",
    "UNIQUE_COORDS = crd.unique_coords_list(cubelist)\n",
    "COORD_NAME_MAPPING = crd.get_new_coord_names(UNIQUE_COORDS)"
   ]
  },
  {
   "cell_type": "code",
   "execution_count": 11,
   "metadata": {},
   "outputs": [
    {
     "name": "stdout",
     "output_type": "stream",
     "text": [
      "['time', 'grid_latitude', 'grid_longitude', 'forecast_reference_time', 'forecast_period', 'grid_latitude', 'grid_longitude', 'height']\n"
     ]
    }
   ],
   "source": [
    "print([coord.name() for coord in UNIQUE_COORDS])"
   ]
  },
  {
   "cell_type": "code",
   "execution_count": 12,
   "metadata": {},
   "outputs": [
    {
     "data": {
      "text/plain": [
       "('grid_latitude_1', 'grid_longitude_1')"
      ]
     },
     "execution_count": 12,
     "metadata": {},
     "output_type": "execute_result"
    }
   ],
   "source": [
    "COORD_NAME_MAPPING[1]"
   ]
  },
  {
   "cell_type": "code",
   "execution_count": 13,
   "metadata": {},
   "outputs": [],
   "source": [
    "ZARR = '/data/cssp-china/zarr_hourly_1851-1859'\n",
    "CHUNKS = {'time': 200, 'grid_latitude': 219, 'grid_longitude': 286, 'grid_latitude_1': 218, 'grid_longitude_1': 286}"
   ]
  },
  {
   "cell_type": "markdown",
   "metadata": {},
   "source": [
    "## Initialise logging"
   ]
  },
  {
   "cell_type": "code",
   "execution_count": 14,
   "metadata": {},
   "outputs": [],
   "source": [
    "LOGFILE = '/data/cssp-china/zarr_append_hourly.log'\n",
    "logging.basicConfig(filename=LOGFILE,\n",
    "                    level=logging.DEBUG,\n",
    "                    format='%(asctime)s %(message)s',\n",
    "                    datefmt='%d/%m/%Y %H:%M:%S')"
   ]
  },
  {
   "cell_type": "code",
   "execution_count": 15,
   "metadata": {},
   "outputs": [
    {
     "name": "stdout",
     "output_type": "stream",
     "text": [
      "Log initiated at /data/cssp-china/zarr_append_hourly.log\n"
     ]
    }
   ],
   "source": [
    "if not os.path.isfile(LOGFILE):\n",
    "    os.mknod(LOGFILE)\n",
    "\n",
    "if os.stat(LOGFILE).st_size == 0:\n",
    "    logging.info('Initiate log')\n",
    "    print(f'Log initiated at {LOGFILE}')"
   ]
  },
  {
   "cell_type": "markdown",
   "metadata": {},
   "source": [
    "## Create a Zarr with 3 cubes, which definitely amounts to 577 time steps (~25 days)"
   ]
  },
  {
   "cell_type": "code",
   "execution_count": 22,
   "metadata": {},
   "outputs": [
    {
     "name": "stdout",
     "output_type": "stream",
     "text": [
      "CPU times: user 6.92 s, sys: 376 ms, total: 7.3 s\n",
      "Wall time: 8.42 s\n"
     ]
    },
    {
     "data": {
      "text/html": [
       "\n",
       "<style>\n",
       "  a.iris {\n",
       "      text-decoration: none !important;\n",
       "  }\n",
       "  table.iris {\n",
       "      white-space: pre;\n",
       "      border: 1px solid;\n",
       "      border-color: #9c9c9c;\n",
       "      font-family: monaco, monospace;\n",
       "  }\n",
       "  th.iris {\n",
       "      background: #303f3f;\n",
       "      color: #e0e0e0;\n",
       "      border-left: 1px solid;\n",
       "      border-color: #9c9c9c;\n",
       "      font-size: 1.05em;\n",
       "      min-width: 50px;\n",
       "      max-width: 125px;\n",
       "  }\n",
       "  tr.iris :first-child {\n",
       "      border-right: 1px solid #9c9c9c !important;\n",
       "  }\n",
       "  td.iris-title {\n",
       "      background: #d5dcdf;\n",
       "      border-top: 1px solid #9c9c9c;\n",
       "      font-weight: bold;\n",
       "  }\n",
       "  .iris-word-cell {\n",
       "      text-align: left !important;\n",
       "      white-space: pre;\n",
       "  }\n",
       "  .iris-subheading-cell {\n",
       "      padding-left: 2em !important;\n",
       "  }\n",
       "  .iris-inclusion-cell {\n",
       "      padding-right: 1em !important;\n",
       "  }\n",
       "  .iris-panel-body {\n",
       "      padding-top: 0px;\n",
       "  }\n",
       "  .iris-panel-title {\n",
       "      padding-left: 3em;\n",
       "  }\n",
       "  .iris-panel-title {\n",
       "      margin-top: 7px;\n",
       "  }\n",
       "</style>\n",
       "<table class=\"iris\" id=\"139637513800504\">\n",
       "    <tr class=\"iris\">\n",
       "<th class=\"iris iris-word-cell\">X Wind (m s-1)</th>\n",
       "<th class=\"iris iris-word-cell\">time</th>\n",
       "<th class=\"iris iris-word-cell\">grid_latitude</th>\n",
       "<th class=\"iris iris-word-cell\">grid_longitude</th>\n",
       "</tr>\n",
       "    <tr class=\"iris\">\n",
       "<td class=\"iris-word-cell iris-subheading-cell\">Shape</td>\n",
       "<td class=\"iris iris-inclusion-cell\">577</td>\n",
       "<td class=\"iris iris-inclusion-cell\">218</td>\n",
       "<td class=\"iris iris-inclusion-cell\">286</td>\n",
       "</tr>\n",
       "    <tr class=\"iris\">\n",
       "    <td class=\"iris-title iris-word-cell\">Dimension coordinates</td>\n",
       "    <td class=\"iris-title\"></td>\n",
       "    <td class=\"iris-title\"></td>\n",
       "    <td class=\"iris-title\"></td>\n",
       "</tr>\n",
       "<tr class=\"iris\">\n",
       "    <td class=\"iris-word-cell iris-subheading-cell\">\ttime</td>\n",
       "    <td class=\"iris-inclusion-cell\">x</td>\n",
       "    <td class=\"iris-inclusion-cell\">-</td>\n",
       "    <td class=\"iris-inclusion-cell\">-</td>\n",
       "</tr>\n",
       "<tr class=\"iris\">\n",
       "    <td class=\"iris-word-cell iris-subheading-cell\">\tgrid_latitude</td>\n",
       "    <td class=\"iris-inclusion-cell\">-</td>\n",
       "    <td class=\"iris-inclusion-cell\">x</td>\n",
       "    <td class=\"iris-inclusion-cell\">-</td>\n",
       "</tr>\n",
       "<tr class=\"iris\">\n",
       "    <td class=\"iris-word-cell iris-subheading-cell\">\tgrid_longitude</td>\n",
       "    <td class=\"iris-inclusion-cell\">-</td>\n",
       "    <td class=\"iris-inclusion-cell\">-</td>\n",
       "    <td class=\"iris-inclusion-cell\">x</td>\n",
       "</tr>\n",
       "<tr class=\"iris\">\n",
       "    <td class=\"iris-title iris-word-cell\">Auxiliary coordinates</td>\n",
       "    <td class=\"iris-title\"></td>\n",
       "    <td class=\"iris-title\"></td>\n",
       "    <td class=\"iris-title\"></td>\n",
       "</tr>\n",
       "<tr class=\"iris\">\n",
       "    <td class=\"iris-word-cell iris-subheading-cell\">\tforecast_period</td>\n",
       "    <td class=\"iris-inclusion-cell\">x</td>\n",
       "    <td class=\"iris-inclusion-cell\">-</td>\n",
       "    <td class=\"iris-inclusion-cell\">-</td>\n",
       "</tr>\n",
       "<tr class=\"iris\">\n",
       "    <td class=\"iris-title iris-word-cell\">Scalar coordinates</td>\n",
       "    <td class=\"iris-title\"></td>\n",
       "    <td class=\"iris-title\"></td>\n",
       "    <td class=\"iris-title\"></td>\n",
       "</tr>\n",
       "<tr class=\"iris\">\n",
       "    <td class=\"iris-word-cell iris-subheading-cell\">\tforecast_reference_time</td>\n",
       "    <td class=\"iris-word-cell\" colspan=\"3\">1849-12-01 00:00:00</td>\n",
       "</tr>\n",
       "<tr class=\"iris\">\n",
       "    <td class=\"iris-word-cell iris-subheading-cell\">\theight</td>\n",
       "    <td class=\"iris-word-cell\" colspan=\"3\">10.0 m</td>\n",
       "</tr>\n",
       "<tr class=\"iris\">\n",
       "    <td class=\"iris-title iris-word-cell\">Attributes</td>\n",
       "    <td class=\"iris-title\"></td>\n",
       "    <td class=\"iris-title\"></td>\n",
       "    <td class=\"iris-title\"></td>\n",
       "</tr>\n",
       "<tr class=\"iris\">\n",
       "    <td class=\"iris-word-cell iris-subheading-cell\">\tSTASH</td>\n",
       "    <td class=\"iris-word-cell\" colspan=\"3\">m01s03i225</td>\n",
       "</tr>\n",
       "<tr class=\"iris\">\n",
       "    <td class=\"iris-word-cell iris-subheading-cell\">\tsource</td>\n",
       "    <td class=\"iris-word-cell\" colspan=\"3\">Data from Met Office Unified Model</td>\n",
       "</tr>\n",
       "</table>\n",
       "        "
      ],
      "text/plain": [
       "<iris 'Cube' of x_wind / (m s-1) (time: 577; grid_latitude: 218; grid_longitude: 286)>"
      ]
     },
     "execution_count": 22,
     "metadata": {},
     "output_type": "execute_result"
    }
   ],
   "source": [
    "%%time\n",
    "cubelist0 = iris.load(filepaths[0:3])\n",
    "cubelist0[1]"
   ]
  },
  {
   "cell_type": "code",
   "execution_count": 23,
   "metadata": {},
   "outputs": [
    {
     "name": "stdout",
     "output_type": "stream",
     "text": [
      "surface_air_pressure\n",
      "  x time\n",
      "  x grid_latitude\n",
      "  x grid_longitude\n",
      "  x forecast_reference_time\n",
      "  x forecast_period\n",
      "x_wind\n",
      "  x time\n",
      "    grid_latitude_1\n",
      "    grid_longitude_1\n",
      "  x forecast_reference_time\n",
      "  x height\n",
      "  x forecast_period\n",
      "y_wind\n",
      "  x time\n",
      "    grid_latitude_1\n",
      "    grid_longitude_1\n",
      "  x forecast_reference_time\n",
      "  x height\n",
      "  x forecast_period\n",
      "CPU times: user 3.67 ms, sys: 0 ns, total: 3.67 ms\n",
      "Wall time: 2.02 ms\n"
     ]
    }
   ],
   "source": [
    "%%time\n",
    "crd.rename_cubes(cubelist0, CUBENAMES, COORD_NAME_MAPPING, dryrun=False)"
   ]
  },
  {
   "cell_type": "code",
   "execution_count": 24,
   "metadata": {},
   "outputs": [
    {
     "name": "stdout",
     "output_type": "stream",
     "text": [
      "CPU times: user 35.5 ms, sys: 3.96 ms, total: 39.5 ms\n",
      "Wall time: 52.2 ms\n"
     ]
    }
   ],
   "source": [
    "%%time\n",
    "dalist0 = crd.cubelist_to_dalist(cubelist0)\n",
    "ds0 = xr.merge(dalist0)"
   ]
  },
  {
   "cell_type": "code",
   "execution_count": 25,
   "metadata": {},
   "outputs": [
    {
     "data": {
      "text/html": [
       "<pre>&lt;xarray.Dataset&gt;\n",
       "Dimensions:                  (grid_latitude: 219, grid_latitude_1: 218, grid_longitude: 286, grid_longitude_1: 286, time: 577)\n",
       "Coordinates:\n",
       "  * time                     (time) datetime64[ns] 1851-01-01 ... 1851-01-25\n",
       "  * grid_latitude            (grid_latitude) float32 22.88 22.66 ... -25.08\n",
       "  * grid_longitude           (grid_longitude) float32 323.48 323.7 ... 386.18002\n",
       "    forecast_reference_time  datetime64[ns] 1849-12-01\n",
       "    forecast_period          (time) timedelta64[ns] 396 days 00:00:00 ... 420 days 00:00:00\n",
       "  * grid_latitude_1          (grid_latitude_1) float32 22.77 ... -24.969997\n",
       "  * grid_longitude_1         (grid_longitude_1) float32 323.59003 ... 386.29004\n",
       "    height                   float64 10.0\n",
       "Data variables:\n",
       "    surface_air_pressure     (time, grid_latitude, grid_longitude) float32 dask.array&lt;chunksize=(1, 219, 286), meta=np.ndarray&gt;\n",
       "    x_wind                   (time, grid_latitude_1, grid_longitude_1) float32 dask.array&lt;chunksize=(1, 218, 286), meta=np.ndarray&gt;\n",
       "    y_wind                   (time, grid_latitude_1, grid_longitude_1) float32 dask.array&lt;chunksize=(1, 218, 286), meta=np.ndarray&gt;</pre>"
      ],
      "text/plain": [
       "<xarray.Dataset>\n",
       "Dimensions:                  (grid_latitude: 219, grid_latitude_1: 218, grid_longitude: 286, grid_longitude_1: 286, time: 577)\n",
       "Coordinates:\n",
       "  * time                     (time) datetime64[ns] 1851-01-01 ... 1851-01-25\n",
       "  * grid_latitude            (grid_latitude) float32 22.88 22.66 ... -25.08\n",
       "  * grid_longitude           (grid_longitude) float32 323.48 323.7 ... 386.18002\n",
       "    forecast_reference_time  datetime64[ns] 1849-12-01\n",
       "    forecast_period          (time) timedelta64[ns] 396 days 00:00:00 ... 420 days 00:00:00\n",
       "  * grid_latitude_1          (grid_latitude_1) float32 22.77 ... -24.969997\n",
       "  * grid_longitude_1         (grid_longitude_1) float32 323.59003 ... 386.29004\n",
       "    height                   float64 10.0\n",
       "Data variables:\n",
       "    surface_air_pressure     (time, grid_latitude, grid_longitude) float32 dask.array<chunksize=(1, 219, 286), meta=np.ndarray>\n",
       "    x_wind                   (time, grid_latitude_1, grid_longitude_1) float32 dask.array<chunksize=(1, 218, 286), meta=np.ndarray>\n",
       "    y_wind                   (time, grid_latitude_1, grid_longitude_1) float32 dask.array<chunksize=(1, 218, 286), meta=np.ndarray>"
      ]
     },
     "execution_count": 25,
     "metadata": {},
     "output_type": "execute_result"
    }
   ],
   "source": [
    "ds0"
   ]
  },
  {
   "cell_type": "code",
   "execution_count": 26,
   "metadata": {},
   "outputs": [
    {
     "name": "stdout",
     "output_type": "stream",
     "text": [
      "CPU times: user 4.49 s, sys: 1.27 s, total: 5.77 s\n",
      "Wall time: 17.6 s\n"
     ]
    }
   ],
   "source": [
    "%%time\n",
    "logging.info(f'Creating {ZARR}')\n",
    "crd.ds_to_zarr(ds0, ZARR, chunks=CHUNKS)"
   ]
  },
  {
   "cell_type": "code",
   "execution_count": 27,
   "metadata": {},
   "outputs": [
    {
     "data": {
      "text/html": [
       "<pre>&lt;xarray.Dataset&gt;\n",
       "Dimensions:                  (grid_latitude: 219, grid_latitude_1: 218, grid_longitude: 286, grid_longitude_1: 286, time: 577)\n",
       "Coordinates:\n",
       "    forecast_period          (time) timedelta64[ns] dask.array&lt;chunksize=(577,), meta=np.ndarray&gt;\n",
       "    forecast_reference_time  datetime64[ns] ...\n",
       "  * grid_latitude            (grid_latitude) float32 22.88 22.66 ... -25.08\n",
       "  * grid_latitude_1          (grid_latitude_1) float32 22.77 ... -24.969997\n",
       "  * grid_longitude           (grid_longitude) float32 323.48 323.7 ... 386.18002\n",
       "  * grid_longitude_1         (grid_longitude_1) float32 323.59003 ... 386.29004\n",
       "    height                   float64 ...\n",
       "  * time                     (time) datetime64[ns] 1851-01-01 ... 1851-01-25\n",
       "Data variables:\n",
       "    surface_air_pressure     (time, grid_latitude, grid_longitude) float32 dask.array&lt;chunksize=(200, 219, 286), meta=np.ndarray&gt;\n",
       "    x_wind                   (time, grid_latitude_1, grid_longitude_1) float32 dask.array&lt;chunksize=(200, 218, 286), meta=np.ndarray&gt;\n",
       "    y_wind                   (time, grid_latitude_1, grid_longitude_1) float32 dask.array&lt;chunksize=(200, 218, 286), meta=np.ndarray&gt;</pre>"
      ],
      "text/plain": [
       "<xarray.Dataset>\n",
       "Dimensions:                  (grid_latitude: 219, grid_latitude_1: 218, grid_longitude: 286, grid_longitude_1: 286, time: 577)\n",
       "Coordinates:\n",
       "    forecast_period          (time) timedelta64[ns] dask.array<chunksize=(577,), meta=np.ndarray>\n",
       "    forecast_reference_time  datetime64[ns] ...\n",
       "  * grid_latitude            (grid_latitude) float32 22.88 22.66 ... -25.08\n",
       "  * grid_latitude_1          (grid_latitude_1) float32 22.77 ... -24.969997\n",
       "  * grid_longitude           (grid_longitude) float32 323.48 323.7 ... 386.18002\n",
       "  * grid_longitude_1         (grid_longitude_1) float32 323.59003 ... 386.29004\n",
       "    height                   float64 ...\n",
       "  * time                     (time) datetime64[ns] 1851-01-01 ... 1851-01-25\n",
       "Data variables:\n",
       "    surface_air_pressure     (time, grid_latitude, grid_longitude) float32 dask.array<chunksize=(200, 219, 286), meta=np.ndarray>\n",
       "    x_wind                   (time, grid_latitude_1, grid_longitude_1) float32 dask.array<chunksize=(200, 218, 286), meta=np.ndarray>\n",
       "    y_wind                   (time, grid_latitude_1, grid_longitude_1) float32 dask.array<chunksize=(200, 218, 286), meta=np.ndarray>"
      ]
     },
     "execution_count": 27,
     "metadata": {},
     "output_type": "execute_result"
    }
   ],
   "source": [
    "dsz0 = xr.open_zarr(ZARR)\n",
    "dsz0"
   ]
  },
  {
   "cell_type": "code",
   "execution_count": 28,
   "metadata": {},
   "outputs": [
    {
     "data": {
      "text/plain": [
       "0.432370924"
      ]
     },
     "execution_count": 28,
     "metadata": {},
     "output_type": "execute_result"
    }
   ],
   "source": [
    "# Size of Dataset in GB\n",
    "dsz0.nbytes / 1e9"
   ]
  },
  {
   "cell_type": "code",
   "execution_count": 31,
   "metadata": {},
   "outputs": [],
   "source": [
    "logging.info(f'  Successfull creation of {ZARR}')\n",
    "logging.info(f'  Processed filenames 0:{filenames[0]} - 3:{filenames[3]}')\n",
    "logging.info(f'  Chunking {CHUNKS}')"
   ]
  },
  {
   "cell_type": "markdown",
   "metadata": {},
   "source": [
    "## Now loop through the remaining cubes and append to the Zarr we created"
   ]
  },
  {
   "cell_type": "code",
   "execution_count": 30,
   "metadata": {},
   "outputs": [],
   "source": [
    "def logprint(message):\n",
    "    logging.info(message)\n",
    "    print(message)"
   ]
  },
  {
   "cell_type": "code",
   "execution_count": null,
   "metadata": {},
   "outputs": [
    {
     "name": "stdout",
     "output_type": "stream",
     "text": [
      "Appending data to /data/cssp-china/zarr_hourly_1851-1859\n",
      "  Processing filenames 7:apepda.pj513g0.pp - 9:apepda.pj513q0.pp\n",
      "  | Loaded files successfully\n",
      "  | Renamed files successfully\n",
      "  | Created dataset successfully\n",
      "  | Appended to Zarr /data/cssp-china/zarr_hourly_1851-1859 successfully\n",
      "  Processing filenames 9:apepda.pj51450.pp - 11:apepda.pj514f0.pp\n",
      "  | Loaded files successfully\n",
      "  | Renamed files successfully\n",
      "  | Created dataset successfully\n",
      "  | Appended to Zarr /data/cssp-china/zarr_hourly_1851-1859 successfully\n",
      "  Processing filenames 11:apepda.pj514p0.pp - 13:apepda.pj51550.pp\n",
      "  | Loaded files successfully\n",
      "  | Renamed files successfully\n",
      "  | Created dataset successfully\n",
      "  | Appended to Zarr /data/cssp-china/zarr_hourly_1851-1859 successfully\n",
      "  Processing filenames 13:apepda.pj515f0.pp - 15:apepda.pj515p0.pp\n",
      "  | Loaded files successfully\n",
      "  | Renamed files successfully\n",
      "  | Created dataset successfully\n",
      "  | Appended to Zarr /data/cssp-china/zarr_hourly_1851-1859 successfully\n",
      "  Processing filenames 15:apepda.pj51640.pp - 17:apepda.pj516e0.pp\n",
      "  | Loaded files successfully\n",
      "  | Renamed files successfully\n",
      "  | Created dataset successfully\n",
      "  | Appended to Zarr /data/cssp-china/zarr_hourly_1851-1859 successfully\n",
      "  Processing filenames 17:apepda.pj516o0.pp - 19:apepda.pj51740.pp\n",
      "  | Loaded files successfully\n",
      "  | Renamed files successfully\n",
      "  | Created dataset successfully\n",
      "  | Appended to Zarr /data/cssp-china/zarr_hourly_1851-1859 successfully\n",
      "  Processing filenames 19:apepda.pj517e0.pp - 21:apepda.pj517o0.pp\n",
      "  | Loaded files successfully\n",
      "  | Renamed files successfully\n",
      "  | Created dataset successfully\n",
      "  | Appended to Zarr /data/cssp-china/zarr_hourly_1851-1859 successfully\n",
      "  Processing filenames 21:apepda.pj51830.pp - 23:apepda.pj518d0.pp\n",
      "  | Loaded files successfully\n",
      "  | Renamed files successfully\n",
      "  | Created dataset successfully\n",
      "  | Appended to Zarr /data/cssp-china/zarr_hourly_1851-1859 successfully\n",
      "  Processing filenames 23:apepda.pj518n0.pp - 25:apepda.pj51920.pp\n",
      "  | Loaded files successfully\n",
      "  | Renamed files successfully\n",
      "  | Created dataset successfully\n",
      "  | Appended to Zarr /data/cssp-china/zarr_hourly_1851-1859 successfully\n",
      "  Processing filenames 25:apepda.pj519c0.pp - 27:apepda.pj519m0.pp\n",
      "  | Loaded files successfully\n",
      "  | Renamed files successfully\n",
      "  | Created dataset successfully\n",
      "  | Appended to Zarr /data/cssp-china/zarr_hourly_1851-1859 successfully\n",
      "  Processing filenames 27:apepda.pj51a20.pp - 29:apepda.pj51ac0.pp\n",
      "  | Loaded files successfully\n",
      "  | Renamed files successfully\n",
      "  | Created dataset successfully\n",
      "  | Appended to Zarr /data/cssp-china/zarr_hourly_1851-1859 successfully\n",
      "  Processing filenames 29:apepda.pj51am0.pp - 31:apepda.pj51b10.pp\n",
      "  | Loaded files successfully\n",
      "  | Renamed files successfully\n",
      "  | Created dataset successfully\n",
      "  | Appended to Zarr /data/cssp-china/zarr_hourly_1851-1859 successfully\n",
      "  Processing filenames 31:apepda.pj51bb0.pp - 33:apepda.pj51bl0.pp\n",
      "  | Loaded files successfully\n",
      "  | Renamed files successfully\n",
      "  | Created dataset successfully\n",
      "  | Appended to Zarr /data/cssp-china/zarr_hourly_1851-1859 successfully\n",
      "  Processing filenames 33:apepda.pj51c10.pp - 35:apepda.pj51cb0.pp\n",
      "  | Loaded files successfully\n",
      "  | Renamed files successfully\n",
      "  | Created dataset successfully\n",
      "  | Appended to Zarr /data/cssp-china/zarr_hourly_1851-1859 successfully\n",
      "  Processing filenames 35:apepda.pj51cl0.pp - 37:apepda.pj51cv0.pp\n",
      "  | Loaded files successfully\n",
      "  | Renamed files successfully\n",
      "  | Created dataset successfully\n",
      "  | Appended to Zarr /data/cssp-china/zarr_hourly_1851-1859 successfully\n",
      "  Processing filenames 37:apepda.pj521a0.pp - 39:apepda.pj521k0.pp\n",
      "  | Loaded files successfully\n",
      "  | Renamed files successfully\n",
      "  | Created dataset successfully\n",
      "  | Appended to Zarr /data/cssp-china/zarr_hourly_1851-1859 successfully\n",
      "  Processing filenames 39:apepda.pj521u0.pp - 41:apepda.pj52290.pp\n",
      "  | Loaded files successfully\n",
      "  | Renamed files successfully\n",
      "  | Created dataset successfully\n",
      "  | Appended to Zarr /data/cssp-china/zarr_hourly_1851-1859 successfully\n",
      "  Processing filenames 41:apepda.pj522j0.pp - 43:apepda.pj522t0.pp\n",
      "  | Loaded files successfully\n",
      "  | Renamed files successfully\n",
      "  | Created dataset successfully\n",
      "  | Appended to Zarr /data/cssp-china/zarr_hourly_1851-1859 successfully\n",
      "  Processing filenames 43:apepda.pj523a0.pp - 45:apepda.pj523k0.pp\n",
      "  | Loaded files successfully\n",
      "  | Renamed files successfully\n",
      "  | Created dataset successfully\n",
      "  | Appended to Zarr /data/cssp-china/zarr_hourly_1851-1859 successfully\n",
      "  Processing filenames 45:apepda.pj523u0.pp - 47:apepda.pj52490.pp\n",
      "  | Loaded files successfully\n",
      "  | Renamed files successfully\n",
      "  | Created dataset successfully\n",
      "  | Appended to Zarr /data/cssp-china/zarr_hourly_1851-1859 successfully\n",
      "  Processing filenames 47:apepda.pj524j0.pp - 49:apepda.pj524t0.pp\n",
      "  | Loaded files successfully\n",
      "  | Renamed files successfully\n",
      "  | Created dataset successfully\n",
      "  | Appended to Zarr /data/cssp-china/zarr_hourly_1851-1859 successfully\n",
      "  Processing filenames 49:apepda.pj52590.pp - 51:apepda.pj525j0.pp\n",
      "  | Loaded files successfully\n",
      "  | Renamed files successfully\n",
      "  | Created dataset successfully\n",
      "  | Appended to Zarr /data/cssp-china/zarr_hourly_1851-1859 successfully\n",
      "  Processing filenames 51:apepda.pj525t0.pp - 53:apepda.pj52680.pp\n",
      "  | Loaded files successfully\n",
      "  | Renamed files successfully\n",
      "  | Created dataset successfully\n",
      "  | Appended to Zarr /data/cssp-china/zarr_hourly_1851-1859 successfully\n",
      "  Processing filenames 53:apepda.pj526i0.pp - 55:apepda.pj526s0.pp\n",
      "  | Loaded files successfully\n",
      "  | Renamed files successfully\n",
      "  | Created dataset successfully\n",
      "  | Appended to Zarr /data/cssp-china/zarr_hourly_1851-1859 successfully\n",
      "  Processing filenames 55:apepda.pj52780.pp - 57:apepda.pj527i0.pp\n",
      "  | Loaded files successfully\n",
      "  | Renamed files successfully\n",
      "  | Created dataset successfully\n",
      "  | Appended to Zarr /data/cssp-china/zarr_hourly_1851-1859 successfully\n",
      "  Processing filenames 57:apepda.pj527s0.pp - 59:apepda.pj52870.pp\n",
      "  | Loaded files successfully\n",
      "  | Renamed files successfully\n",
      "  | Created dataset successfully\n",
      "  | Appended to Zarr /data/cssp-china/zarr_hourly_1851-1859 successfully\n",
      "  Processing filenames 59:apepda.pj528h0.pp - 61:apepda.pj528r0.pp\n",
      "  | Loaded files successfully\n",
      "  | Renamed files successfully\n",
      "  | Created dataset successfully\n",
      "  | Appended to Zarr /data/cssp-china/zarr_hourly_1851-1859 successfully\n",
      "  Processing filenames 61:apepda.pj52960.pp - 63:apepda.pj529g0.pp\n",
      "  | Loaded files successfully\n",
      "  | Renamed files successfully\n",
      "  | Created dataset successfully\n",
      "  | Appended to Zarr /data/cssp-china/zarr_hourly_1851-1859 successfully\n",
      "  Processing filenames 63:apepda.pj529q0.pp - 65:apepda.pj52a60.pp\n",
      "  | Loaded files successfully\n",
      "  | Renamed files successfully\n",
      "  | Created dataset successfully\n",
      "  | Appended to Zarr /data/cssp-china/zarr_hourly_1851-1859 successfully\n",
      "  Processing filenames 65:apepda.pj52ag0.pp - 67:apepda.pj52aq0.pp\n",
      "  | Loaded files successfully\n",
      "  | Renamed files successfully\n",
      "  | Created dataset successfully\n",
      "  | Appended to Zarr /data/cssp-china/zarr_hourly_1851-1859 successfully\n",
      "  Processing filenames 67:apepda.pj52b50.pp - 69:apepda.pj52bf0.pp\n",
      "  | Loaded files successfully\n",
      "  | Renamed files successfully\n",
      "  | Created dataset successfully\n",
      "  | Appended to Zarr /data/cssp-china/zarr_hourly_1851-1859 successfully\n",
      "  Processing filenames 69:apepda.pj52bp0.pp - 71:apepda.pj52c50.pp\n",
      "  | Loaded files successfully\n",
      "  | Renamed files successfully\n",
      "  | Created dataset successfully\n",
      "  | Appended to Zarr /data/cssp-china/zarr_hourly_1851-1859 successfully\n",
      "  Processing filenames 71:apepda.pj52cf0.pp - 73:apepda.pj52cp0.pp\n",
      "  | Loaded files successfully\n",
      "  | Renamed files successfully\n",
      "  | Created dataset successfully\n",
      "  | Appended to Zarr /data/cssp-china/zarr_hourly_1851-1859 successfully\n",
      "  Processing filenames 73:apepda.pj53140.pp - 75:apepda.pj531e0.pp\n",
      "  | Loaded files successfully\n",
      "  | Renamed files successfully\n",
      "  | Created dataset successfully\n",
      "  | Appended to Zarr /data/cssp-china/zarr_hourly_1851-1859 successfully\n",
      "  Processing filenames 75:apepda.pj531o0.pp - 77:apepda.pj53230.pp\n",
      "  | Loaded files successfully\n",
      "  | Renamed files successfully\n",
      "  | Created dataset successfully\n",
      "  | Appended to Zarr /data/cssp-china/zarr_hourly_1851-1859 successfully\n",
      "  Processing filenames 77:apepda.pj532d0.pp - 79:apepda.pj532n0.pp\n",
      "  | Loaded files successfully\n",
      "  | Renamed files successfully\n",
      "  | Created dataset successfully\n",
      "  | Appended to Zarr /data/cssp-china/zarr_hourly_1851-1859 successfully\n",
      "  Processing filenames 79:apepda.pj53350.pp - 81:apepda.pj533f0.pp\n",
      "  | Loaded files successfully\n",
      "  | Renamed files successfully\n",
      "  | Created dataset successfully\n",
      "  | Appended to Zarr /data/cssp-china/zarr_hourly_1851-1859 successfully\n",
      "  Processing filenames 81:apepda.pj533p0.pp - 83:apepda.pj53440.pp\n",
      "  | Loaded files successfully\n",
      "  | Renamed files successfully\n",
      "  | Created dataset successfully\n",
      "  | Appended to Zarr /data/cssp-china/zarr_hourly_1851-1859 successfully\n",
      "  Processing filenames 83:apepda.pj534e0.pp - 85:apepda.pj534o0.pp\n",
      "  | Loaded files successfully\n",
      "  | Renamed files successfully\n",
      "  | Created dataset successfully\n",
      "  | Appended to Zarr /data/cssp-china/zarr_hourly_1851-1859 successfully\n",
      "  Processing filenames 85:apepda.pj53540.pp - 87:apepda.pj535e0.pp\n",
      "  | Loaded files successfully\n",
      "  | Renamed files successfully\n",
      "  | Created dataset successfully\n",
      "  | Appended to Zarr /data/cssp-china/zarr_hourly_1851-1859 successfully\n",
      "  Processing filenames 87:apepda.pj535o0.pp - 89:apepda.pj53630.pp\n",
      "  | Loaded files successfully\n",
      "  | Renamed files successfully\n",
      "  | Created dataset successfully\n",
      "  | Appended to Zarr /data/cssp-china/zarr_hourly_1851-1859 successfully\n",
      "  Processing filenames 89:apepda.pj536d0.pp - 91:apepda.pj536n0.pp\n",
      "  | Loaded files successfully\n",
      "  | Renamed files successfully\n",
      "  | Created dataset successfully\n",
      "  | Appended to Zarr /data/cssp-china/zarr_hourly_1851-1859 successfully\n",
      "  Processing filenames 91:apepda.pj53730.pp - 93:apepda.pj537d0.pp\n",
      "  | Loaded files successfully\n",
      "  | Renamed files successfully\n",
      "  | Created dataset successfully\n",
      "  | Appended to Zarr /data/cssp-china/zarr_hourly_1851-1859 successfully\n",
      "  Processing filenames 93:apepda.pj537n0.pp - 95:apepda.pj53820.pp\n",
      "  | Loaded files successfully\n",
      "  | Renamed files successfully\n",
      "  | Created dataset successfully\n",
      "  | Appended to Zarr /data/cssp-china/zarr_hourly_1851-1859 successfully\n",
      "  Processing filenames 95:apepda.pj538c0.pp - 97:apepda.pj538m0.pp\n",
      "  | Loaded files successfully\n",
      "  | Renamed files successfully\n",
      "  | Created dataset successfully\n",
      "  | Appended to Zarr /data/cssp-china/zarr_hourly_1851-1859 successfully\n",
      "  Processing filenames 97:apepda.pj53910.pp - 99:apepda.pj539b0.pp\n",
      "  | Loaded files successfully\n",
      "  | Renamed files successfully\n",
      "  | Created dataset successfully\n",
      "  | Appended to Zarr /data/cssp-china/zarr_hourly_1851-1859 successfully\n",
      "  Processing filenames 99:apepda.pj539l0.pp - 101:apepda.pj53a10.pp\n",
      "  | Loaded files successfully\n",
      "  | Renamed files successfully\n",
      "  | Created dataset successfully\n",
      "  | Appended to Zarr /data/cssp-china/zarr_hourly_1851-1859 successfully\n",
      "  Processing filenames 101:apepda.pj53ab0.pp - 103:apepda.pj53al0.pp\n",
      "  | Loaded files successfully\n",
      "  | Renamed files successfully\n",
      "  | Created dataset successfully\n",
      "  | Appended to Zarr /data/cssp-china/zarr_hourly_1851-1859 successfully\n",
      "  Processing filenames 103:apepda.pj53av0.pp - 105:apepda.pj53ba0.pp\n",
      "  | Loaded files successfully\n",
      "  | Renamed files successfully\n",
      "  | Created dataset successfully\n",
      "  | Appended to Zarr /data/cssp-china/zarr_hourly_1851-1859 successfully\n",
      "  Processing filenames 105:apepda.pj53bk0.pp - 107:apepda.pj53bu0.pp\n",
      "  | Loaded files successfully\n",
      "  | Renamed files successfully\n",
      "  | Created dataset successfully\n",
      "  | Appended to Zarr /data/cssp-china/zarr_hourly_1851-1859 successfully\n",
      "  Processing filenames 107:apepda.pj53ca0.pp - 109:apepda.pj53ck0.pp\n",
      "  | Loaded files successfully\n",
      "  | Renamed files successfully\n",
      "  | Created dataset successfully\n",
      "  | Appended to Zarr /data/cssp-china/zarr_hourly_1851-1859 successfully\n",
      "  Processing filenames 109:apepda.pj53cu0.pp - 111:apepda.pj54190.pp\n",
      "  | Loaded files successfully\n",
      "  | Renamed files successfully\n",
      "  | Created dataset successfully\n",
      "  | Appended to Zarr /data/cssp-china/zarr_hourly_1851-1859 successfully\n",
      "  Processing filenames 111:apepda.pj541j0.pp - 113:apepda.pj541t0.pp\n",
      "  | Loaded files successfully\n",
      "  | Renamed files successfully\n",
      "  | Created dataset successfully\n",
      "  | Appended to Zarr /data/cssp-china/zarr_hourly_1851-1859 successfully\n",
      "  Processing filenames 113:apepda.pj54280.pp - 115:apepda.pj542i0.pp\n",
      "  | Loaded files successfully\n",
      "  | Renamed files successfully\n",
      "  | Created dataset successfully\n",
      "  | Appended to Zarr /data/cssp-china/zarr_hourly_1851-1859 successfully\n",
      "  Processing filenames 115:apepda.pj542s0.pp - 117:apepda.pj543a0.pp\n",
      "  | Loaded files successfully\n",
      "  | Renamed files successfully\n",
      "  | Created dataset successfully\n",
      "  | Appended to Zarr /data/cssp-china/zarr_hourly_1851-1859 successfully\n",
      "  Processing filenames 117:apepda.pj543k0.pp - 119:apepda.pj543u0.pp\n",
      "  | Loaded files successfully\n",
      "  | Renamed files successfully\n",
      "  | Created dataset successfully\n",
      "  | Appended to Zarr /data/cssp-china/zarr_hourly_1851-1859 successfully\n",
      "  Processing filenames 119:apepda.pj54490.pp - 121:apepda.pj544j0.pp\n",
      "  | Loaded files successfully\n",
      "  | Renamed files successfully\n",
      "  | Created dataset successfully\n",
      "  | Appended to Zarr /data/cssp-china/zarr_hourly_1851-1859 successfully\n",
      "  Processing filenames 121:apepda.pj544t0.pp - 123:apepda.pj54590.pp\n",
      "  | Loaded files successfully\n",
      "  | Renamed files successfully\n",
      "  | Created dataset successfully\n",
      "  | Appended to Zarr /data/cssp-china/zarr_hourly_1851-1859 successfully\n",
      "  Processing filenames 123:apepda.pj545j0.pp - 125:apepda.pj545t0.pp\n",
      "  | Loaded files successfully\n",
      "  | Renamed files successfully\n",
      "  | Created dataset successfully\n",
      "  | Appended to Zarr /data/cssp-china/zarr_hourly_1851-1859 successfully\n",
      "  Processing filenames 125:apepda.pj54680.pp - 127:apepda.pj546i0.pp\n",
      "  | Loaded files successfully\n",
      "  | Renamed files successfully\n",
      "  | Created dataset successfully\n",
      "  | Appended to Zarr /data/cssp-china/zarr_hourly_1851-1859 successfully\n",
      "  Processing filenames 127:apepda.pj546s0.pp - 129:apepda.pj54780.pp\n",
      "  | Loaded files successfully\n",
      "  | Renamed files successfully\n",
      "  | Created dataset successfully\n",
      "  | Appended to Zarr /data/cssp-china/zarr_hourly_1851-1859 successfully\n",
      "  Processing filenames 129:apepda.pj547i0.pp - 131:apepda.pj547s0.pp\n",
      "  | Loaded files successfully\n",
      "  | Renamed files successfully\n",
      "  | Created dataset successfully\n",
      "  | Appended to Zarr /data/cssp-china/zarr_hourly_1851-1859 successfully\n",
      "  Processing filenames 131:apepda.pj54870.pp - 133:apepda.pj548h0.pp\n",
      "  | Loaded files successfully\n",
      "  | Renamed files successfully\n",
      "  | Created dataset successfully\n",
      "  | Appended to Zarr /data/cssp-china/zarr_hourly_1851-1859 successfully\n",
      "  Processing filenames 133:apepda.pj548r0.pp - 135:apepda.pj54960.pp\n",
      "  | Loaded files successfully\n",
      "  | Renamed files successfully\n",
      "  | Created dataset successfully\n",
      "  | Appended to Zarr /data/cssp-china/zarr_hourly_1851-1859 successfully\n",
      "  Processing filenames 135:apepda.pj549g0.pp - 137:apepda.pj549q0.pp\n",
      "  | Loaded files successfully\n",
      "  | Renamed files successfully\n",
      "  | Created dataset successfully\n",
      "  | Appended to Zarr /data/cssp-china/zarr_hourly_1851-1859 successfully\n",
      "  Processing filenames 137:apepda.pj54a60.pp - 139:apepda.pj54ag0.pp\n",
      "  | Loaded files successfully\n",
      "  | Renamed files successfully\n",
      "  | Created dataset successfully\n",
      "  | Appended to Zarr /data/cssp-china/zarr_hourly_1851-1859 successfully\n",
      "  Processing filenames 139:apepda.pj54aq0.pp - 141:apepda.pj54b50.pp\n",
      "  | Loaded files successfully\n",
      "  | Renamed files successfully\n",
      "  | Created dataset successfully\n",
      "  | Appended to Zarr /data/cssp-china/zarr_hourly_1851-1859 successfully\n",
      "  Processing filenames 141:apepda.pj54bf0.pp - 143:apepda.pj54bp0.pp\n",
      "  | Loaded files successfully\n",
      "  | Renamed files successfully\n",
      "  | Created dataset successfully\n",
      "  | Appended to Zarr /data/cssp-china/zarr_hourly_1851-1859 successfully\n",
      "  Processing filenames 143:apepda.pj54c50.pp - 145:apepda.pj54cf0.pp\n",
      "  | Loaded files successfully\n",
      "  | Renamed files successfully\n",
      "  | Created dataset successfully\n",
      "  | Appended to Zarr /data/cssp-china/zarr_hourly_1851-1859 successfully\n",
      "  Processing filenames 145:apepda.pj54cp0.pp - 147:apepda.pj55140.pp\n",
      "  | Loaded files successfully\n",
      "  | Renamed files successfully\n",
      "  | Created dataset successfully\n",
      "  | Appended to Zarr /data/cssp-china/zarr_hourly_1851-1859 successfully\n",
      "  Processing filenames 147:apepda.pj551e0.pp - 149:apepda.pj551o0.pp\n",
      "  | Loaded files successfully\n",
      "  | Renamed files successfully\n",
      "  | Created dataset successfully\n",
      "  | Appended to Zarr /data/cssp-china/zarr_hourly_1851-1859 successfully\n",
      "  Processing filenames 149:apepda.pj55230.pp - 151:apepda.pj552d0.pp\n",
      "  | Loaded files successfully\n",
      "  | Renamed files successfully\n",
      "  | Created dataset successfully\n",
      "  | Appended to Zarr /data/cssp-china/zarr_hourly_1851-1859 successfully\n",
      "  Processing filenames 151:apepda.pj552n0.pp - 153:apepda.pj55350.pp\n",
      "  | Loaded files successfully\n",
      "  | Renamed files successfully\n",
      "  | Created dataset successfully\n",
      "  | Appended to Zarr /data/cssp-china/zarr_hourly_1851-1859 successfully\n",
      "  Processing filenames 153:apepda.pj553f0.pp - 155:apepda.pj553p0.pp\n",
      "  | Loaded files successfully\n",
      "  | Renamed files successfully\n",
      "  | Created dataset successfully\n",
      "  | Appended to Zarr /data/cssp-china/zarr_hourly_1851-1859 successfully\n",
      "  Processing filenames 155:apepda.pj55440.pp - 157:apepda.pj554e0.pp\n",
      "  | Loaded files successfully\n",
      "  | Renamed files successfully\n",
      "  | Created dataset successfully\n",
      "  | Appended to Zarr /data/cssp-china/zarr_hourly_1851-1859 successfully\n",
      "  Processing filenames 157:apepda.pj554o0.pp - 159:apepda.pj55540.pp\n",
      "  | Loaded files successfully\n",
      "  | Renamed files successfully\n",
      "  | Created dataset successfully\n",
      "  | Appended to Zarr /data/cssp-china/zarr_hourly_1851-1859 successfully\n",
      "  Processing filenames 159:apepda.pj555e0.pp - 161:apepda.pj555o0.pp\n",
      "  | Loaded files successfully\n",
      "  | Renamed files successfully\n",
      "  | Created dataset successfully\n",
      "  | Appended to Zarr /data/cssp-china/zarr_hourly_1851-1859 successfully\n",
      "  Processing filenames 161:apepda.pj55630.pp - 163:apepda.pj556d0.pp\n",
      "  | Loaded files successfully\n",
      "  | Renamed files successfully\n",
      "  | Created dataset successfully\n",
      "  | Appended to Zarr /data/cssp-china/zarr_hourly_1851-1859 successfully\n",
      "  Processing filenames 163:apepda.pj556n0.pp - 165:apepda.pj55730.pp\n",
      "  | Loaded files successfully\n",
      "  | Renamed files successfully\n",
      "  | Created dataset successfully\n",
      "  | Appended to Zarr /data/cssp-china/zarr_hourly_1851-1859 successfully\n",
      "  Processing filenames 165:apepda.pj557d0.pp - 167:apepda.pj557n0.pp\n",
      "  | Loaded files successfully\n",
      "  | Renamed files successfully\n",
      "  | Created dataset successfully\n",
      "  | Appended to Zarr /data/cssp-china/zarr_hourly_1851-1859 successfully\n",
      "  Processing filenames 167:apepda.pj55820.pp - 169:apepda.pj558c0.pp\n",
      "  | Loaded files successfully\n",
      "  | Renamed files successfully\n",
      "  | Created dataset successfully\n",
      "  | Appended to Zarr /data/cssp-china/zarr_hourly_1851-1859 successfully\n",
      "  Processing filenames 169:apepda.pj558m0.pp - 171:apepda.pj55910.pp\n",
      "  | Loaded files successfully\n",
      "  | Renamed files successfully\n",
      "  | Created dataset successfully\n",
      "  | Appended to Zarr /data/cssp-china/zarr_hourly_1851-1859 successfully\n",
      "  Processing filenames 171:apepda.pj559b0.pp - 173:apepda.pj559l0.pp\n",
      "  | Loaded files successfully\n",
      "  | Renamed files successfully\n",
      "  | Created dataset successfully\n",
      "  | Appended to Zarr /data/cssp-china/zarr_hourly_1851-1859 successfully\n",
      "  Processing filenames 173:apepda.pj55a10.pp - 175:apepda.pj55ab0.pp\n",
      "  | Loaded files successfully\n",
      "  | Renamed files successfully\n",
      "  | Created dataset successfully\n",
      "  | Appended to Zarr /data/cssp-china/zarr_hourly_1851-1859 successfully\n",
      "  Processing filenames 175:apepda.pj55al0.pp - 177:apepda.pj55av0.pp\n",
      "  | Loaded files successfully\n",
      "  | Renamed files successfully\n",
      "  | Created dataset successfully\n",
      "  | Appended to Zarr /data/cssp-china/zarr_hourly_1851-1859 successfully\n",
      "  Processing filenames 177:apepda.pj55ba0.pp - 179:apepda.pj55bk0.pp\n",
      "  | Loaded files successfully\n",
      "  | Renamed files successfully\n",
      "  | Created dataset successfully\n",
      "  | Appended to Zarr /data/cssp-china/zarr_hourly_1851-1859 successfully\n",
      "  Processing filenames 179:apepda.pj55bu0.pp - 181:apepda.pj55ca0.pp\n",
      "  | Loaded files successfully\n",
      "  | Renamed files successfully\n",
      "  | Created dataset successfully\n",
      "  | Appended to Zarr /data/cssp-china/zarr_hourly_1851-1859 successfully\n",
      "  Processing filenames 181:apepda.pj55ck0.pp - 183:apepda.pj55cu0.pp\n",
      "  | Loaded files successfully\n",
      "  | Renamed files successfully\n",
      "  | Created dataset successfully\n",
      "  | Appended to Zarr /data/cssp-china/zarr_hourly_1851-1859 successfully\n",
      "  Processing filenames 183:apepda.pj56190.pp - 185:apepda.pj561j0.pp\n",
      "  | Loaded files successfully\n",
      "  | Renamed files successfully\n",
      "  | Created dataset successfully\n",
      "  | Appended to Zarr /data/cssp-china/zarr_hourly_1851-1859 successfully\n",
      "  Processing filenames 185:apepda.pj561t0.pp - 187:apepda.pj56280.pp\n",
      "  | Loaded files successfully\n",
      "  | Renamed files successfully\n",
      "  | Created dataset successfully\n",
      "  | Appended to Zarr /data/cssp-china/zarr_hourly_1851-1859 successfully\n",
      "  Processing filenames 187:apepda.pj562i0.pp - 189:apepda.pj562s0.pp\n",
      "  | Loaded files successfully\n",
      "  | Renamed files successfully\n",
      "  | Created dataset successfully\n",
      "  | Appended to Zarr /data/cssp-china/zarr_hourly_1851-1859 successfully\n",
      "  Processing filenames 189:apepda.pj56390.pp - 191:apepda.pj563j0.pp\n",
      "  | Loaded files successfully\n",
      "  | Renamed files successfully\n",
      "  | Created dataset successfully\n",
      "  | Appended to Zarr /data/cssp-china/zarr_hourly_1851-1859 successfully\n",
      "  Processing filenames 191:apepda.pj563t0.pp - 193:apepda.pj56480.pp\n",
      "  | Loaded files successfully\n",
      "  | Renamed files successfully\n",
      "  | Created dataset successfully\n",
      "  | Appended to Zarr /data/cssp-china/zarr_hourly_1851-1859 successfully\n",
      "  Processing filenames 193:apepda.pj564i0.pp - 195:apepda.pj564s0.pp\n",
      "  | Loaded files successfully\n",
      "  | Renamed files successfully\n",
      "  | Created dataset successfully\n"
     ]
    }
   ],
   "source": [
    "%%time\n",
    "# Loop through in bunches of 2 cubes, so as to not use to much memory at one time\n",
    "start = 7\n",
    "step = 2\n",
    "stop = len(filepaths)\n",
    "# stop = start+(2*step)\n",
    "\n",
    "logprint(f'Appending data to {ZARR}')\n",
    "\n",
    "for i in range(start, stop, step):\n",
    "    fnames = filenames[i:i+step]\n",
    "    logprint(f'  Processing filenames {i}:{fnames[0]} - {min([i+step, stop])}:{fnames[-1]}')\n",
    "    try:\n",
    "        cubelist = iris.load(filepaths[i:i+step])\n",
    "        logprint(f'  | Loaded files successfully')\n",
    "        \n",
    "        crd.rename_cubes(cubelist, CUBENAMES, COORD_NAME_MAPPING, dryrun=False, verbose=False)\n",
    "        logprint(f'  | Renamed files successfully')\n",
    "        \n",
    "        dalist = crd.cubelist_to_dalist(cubelist)\n",
    "        ds = xr.merge(dalist)\n",
    "        logprint(f'  | Created dataset successfully')\n",
    "        \n",
    "        crd.ds_to_zarr(ds, ZARR, chunks=CHUNKS)\n",
    "        logprint(f'  | Appended to Zarr {ZARR} successfully')\n",
    "        \n",
    "    except Exception as e:\n",
    "        logprint(f'  X ERROR: {e}')\n",
    "        raise e\n",
    "\n",
    "logprint(f'  Appending data complete')"
   ]
  },
  {
   "cell_type": "code",
   "execution_count": 33,
   "metadata": {},
   "outputs": [
    {
     "data": {
      "text/html": [
       "<pre>&lt;xarray.Dataset&gt;\n",
       "Dimensions:                  (grid_latitude: 219, grid_latitude_1: 218, grid_longitude: 286, grid_longitude_1: 286, time: 1537)\n",
       "Coordinates:\n",
       "    forecast_period          (time) timedelta64[ns] dask.array&lt;chunksize=(577,), meta=np.ndarray&gt;\n",
       "    forecast_reference_time  datetime64[ns] ...\n",
       "  * grid_latitude            (grid_latitude) float32 22.88 22.66 ... -25.08\n",
       "  * grid_latitude_1          (grid_latitude_1) float32 22.77 ... -24.969997\n",
       "  * grid_longitude           (grid_longitude) float32 323.48 323.7 ... 386.18002\n",
       "  * grid_longitude_1         (grid_longitude_1) float32 323.59003 ... 386.29004\n",
       "    height                   float64 ...\n",
       "  * time                     (time) datetime64[ns] 1851-01-01 ... 1851-03-06\n",
       "Data variables:\n",
       "    surface_air_pressure     (time, grid_latitude, grid_longitude) float32 dask.array&lt;chunksize=(200, 219, 286), meta=np.ndarray&gt;\n",
       "    x_wind                   (time, grid_latitude_1, grid_longitude_1) float32 dask.array&lt;chunksize=(200, 218, 286), meta=np.ndarray&gt;\n",
       "    y_wind                   (time, grid_latitude_1, grid_longitude_1) float32 dask.array&lt;chunksize=(200, 218, 286), meta=np.ndarray&gt;</pre>"
      ],
      "text/plain": [
       "<xarray.Dataset>\n",
       "Dimensions:                  (grid_latitude: 219, grid_latitude_1: 218, grid_longitude: 286, grid_longitude_1: 286, time: 1537)\n",
       "Coordinates:\n",
       "    forecast_period          (time) timedelta64[ns] dask.array<chunksize=(577,), meta=np.ndarray>\n",
       "    forecast_reference_time  datetime64[ns] ...\n",
       "  * grid_latitude            (grid_latitude) float32 22.88 22.66 ... -25.08\n",
       "  * grid_latitude_1          (grid_latitude_1) float32 22.77 ... -24.969997\n",
       "  * grid_longitude           (grid_longitude) float32 323.48 323.7 ... 386.18002\n",
       "  * grid_longitude_1         (grid_longitude_1) float32 323.59003 ... 386.29004\n",
       "    height                   float64 ...\n",
       "  * time                     (time) datetime64[ns] 1851-01-01 ... 1851-03-06\n",
       "Data variables:\n",
       "    surface_air_pressure     (time, grid_latitude, grid_longitude) float32 dask.array<chunksize=(200, 219, 286), meta=np.ndarray>\n",
       "    x_wind                   (time, grid_latitude_1, grid_longitude_1) float32 dask.array<chunksize=(200, 218, 286), meta=np.ndarray>\n",
       "    y_wind                   (time, grid_latitude_1, grid_longitude_1) float32 dask.array<chunksize=(200, 218, 286), meta=np.ndarray>"
      ]
     },
     "execution_count": 33,
     "metadata": {},
     "output_type": "execute_result"
    }
   ],
   "source": [
    "dsz1 = xr.open_zarr(ZARR)\n",
    "dsz1"
   ]
  },
  {
   "cell_type": "code",
   "execution_count": null,
   "metadata": {},
   "outputs": [],
   "source": [
    "cubez = dsz1.surface_air_pressure.to_iris()\n",
    "cubez"
   ]
  },
  {
   "cell_type": "code",
   "execution_count": null,
   "metadata": {},
   "outputs": [],
   "source": [
    "deltas = cubez.coord('time').points[1:]-cubez.coord('time').points[0:-1]\n",
    "deltas"
   ]
  },
  {
   "cell_type": "code",
   "execution_count": null,
   "metadata": {},
   "outputs": [],
   "source": [
    "list(deltas).index(240)"
   ]
  },
  {
   "cell_type": "code",
   "execution_count": null,
   "metadata": {},
   "outputs": [],
   "source": []
  }
 ],
 "metadata": {
  "kernelspec": {
   "display_name": "Python (pangolin)",
   "language": "python",
   "name": "pangolin"
  },
  "language_info": {
   "codemirror_mode": {
    "name": "ipython",
    "version": 3
   },
   "file_extension": ".py",
   "mimetype": "text/x-python",
   "name": "python",
   "nbconvert_exporter": "python",
   "pygments_lexer": "ipython3",
   "version": "3.6.7"
  }
 },
 "nbformat": 4,
 "nbformat_minor": 4
}
