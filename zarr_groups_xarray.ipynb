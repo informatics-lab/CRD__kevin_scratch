{
 "cells": [
  {
   "cell_type": "markdown",
   "metadata": {},
   "source": [
    "# Can we save two different `xr.Datasets` to seperate zarr groups?"
   ]
  },
  {
   "cell_type": "code",
   "execution_count": 2,
   "metadata": {},
   "outputs": [],
   "source": [
    "import iris\n",
    "import os\n",
    "import xarray as xr\n",
    "import numpy as np\n",
    "\n",
    "import crd_utils as crd"
   ]
  },
  {
   "cell_type": "code",
   "execution_count": 3,
   "metadata": {},
   "outputs": [],
   "source": [
    "# Variables for loading data\n",
    "filepath = '/data/cssp-china/mini-dataset-24-01-19/20CR/daily'\n",
    "files = sorted(os.listdir(filepath))"
   ]
  },
  {
   "cell_type": "code",
   "execution_count": 3,
   "metadata": {},
   "outputs": [],
   "source": [
    "STASH_TEMP = 'm01s16i203'\n",
    "STASH_PRECIP = 'm01s05i216'\n",
    "STASH_UWIND = 'm01s03i225'\n",
    "STASH_VWIND = 'm01s03i226'"
   ]
  },
  {
   "cell_type": "code",
   "execution_count": 18,
   "metadata": {},
   "outputs": [],
   "source": [
    "cubes = iris.load(os.path.join(filepath, files[1]))"
   ]
  },
  {
   "cell_type": "code",
   "execution_count": 20,
   "metadata": {},
   "outputs": [
    {
     "data": {
      "text/plain": [
       "[<iris 'Cube' of air_temperature / (K) (time: 10; pressure: 14; grid_latitude: 219; grid_longitude: 286)>,\n",
       " <iris 'Cube' of precipitation_flux / (kg m-2 s-1) (time: 10; grid_latitude: 219; grid_longitude: 286)>]"
      ]
     },
     "execution_count": 20,
     "metadata": {},
     "output_type": "execute_result"
    }
   ],
   "source": [
    "grid_0_cubes = [cubes.extract(iris.AttributeConstraint(STASH=STASH_TEMP))[0], \n",
    "                cubes.extract(iris.AttributeConstraint(STASH=STASH_PRECIP))[0]]\n",
    "\n",
    "grid_0_cubes"
   ]
  },
  {
   "cell_type": "code",
   "execution_count": 21,
   "metadata": {},
   "outputs": [
    {
     "data": {
      "text/plain": [
       "[<iris 'Cube' of x_wind / (m s-1) (time: 10; grid_latitude: 218; grid_longitude: 286)>,\n",
       " <iris 'Cube' of y_wind / (m s-1) (time: 10; grid_latitude: 218; grid_longitude: 286)>]"
      ]
     },
     "execution_count": 21,
     "metadata": {},
     "output_type": "execute_result"
    }
   ],
   "source": [
    "grid_1_cubes = [cubes.extract(iris.AttributeConstraint(STASH=STASH_UWIND))[0],\n",
    "               cubes.extract(iris.AttributeConstraint(STASH=STASH_VWIND))[0]]\n",
    "\n",
    "grid_1_cubes"
   ]
  },
  {
   "cell_type": "code",
   "execution_count": 22,
   "metadata": {},
   "outputs": [
    {
     "data": {
      "text/plain": [
       "<xarray.Dataset>\n",
       "Dimensions:                  (grid_latitude: 219, grid_longitude: 286, pressure: 14, time: 10)\n",
       "Coordinates:\n",
       "  * time                     (time) datetime64[ns] 1851-01-05T12:00:00 ... 1851-01-14T12:00:00\n",
       "  * pressure                 (pressure) float32 10.0 50.0 100.0 ... 925.0 1000.0\n",
       "  * grid_latitude            (grid_latitude) float32 22.88 22.66 ... -25.08\n",
       "  * grid_longitude           (grid_longitude) float32 323.48 323.7 ... 386.18002\n",
       "    forecast_reference_time  datetime64[ns] 1849-12-01\n",
       "    forecast_period          (time) timedelta64[ns] 400 days 12:00:00 ... 409 days 12:00:00\n",
       "Data variables:\n",
       "    air_temperature          (time, pressure, grid_latitude, grid_longitude) float32 dask.array<chunksize=(1, 1, 219, 286), meta=np.ndarray>\n",
       "    precipitation_flux       (time, grid_latitude, grid_longitude) float32 dask.array<chunksize=(1, 219, 286), meta=np.ndarray>"
      ]
     },
     "metadata": {},
     "output_type": "display_data"
    },
    {
     "data": {
      "text/plain": [
       "<xarray.Dataset>\n",
       "Dimensions:                  (grid_latitude: 218, grid_longitude: 286, time: 10)\n",
       "Coordinates:\n",
       "  * time                     (time) datetime64[ns] 1851-01-05T12:00:00 ... 1851-01-14T12:00:00\n",
       "  * grid_latitude            (grid_latitude) float32 22.77 ... -24.969997\n",
       "  * grid_longitude           (grid_longitude) float32 323.59003 ... 386.29004\n",
       "    forecast_reference_time  datetime64[ns] 1849-12-01\n",
       "    height                   float64 10.0\n",
       "    forecast_period          (time) timedelta64[ns] 400 days 12:00:00 ... 409 days 12:00:00\n",
       "Data variables:\n",
       "    x_wind                   (time, grid_latitude, grid_longitude) float32 dask.array<chunksize=(1, 218, 286), meta=np.ndarray>\n",
       "    y_wind                   (time, grid_latitude, grid_longitude) float32 dask.array<chunksize=(1, 218, 286), meta=np.ndarray>"
      ]
     },
     "metadata": {},
     "output_type": "display_data"
    }
   ],
   "source": [
    "grid0_ds = xr.merge([xr.DataArray.from_iris(cube) for cube in grid_0_cubes])\n",
    "grid1_ds = xr.merge([xr.DataArray.from_iris(cube) for cube in grid_1_cubes])\n",
    "display(grid0_ds)\n",
    "display(grid1_ds)"
   ]
  },
  {
   "cell_type": "code",
   "execution_count": 25,
   "metadata": {},
   "outputs": [],
   "source": [
    "def ds_to_zarr(dataset, zarr_store, chunks={'time':10, 'grid_latitude':219, 'grid_longitude':286}, append_dim='time', **kwargs):\n",
    "    # Write dataset to new zarr store\n",
    "    # OR append dataset to an existing zarr store\n",
    "    dataset = dataset.chunk(chunks=chunks)\n",
    "    if os.path.isdir(zarr_store):\n",
    "        dataset.to_zarr(zarr_store, consolidated=True, append_dim=append_dim, **kwargs)\n",
    "        print(f'Appended cube to {zarr_store}')\n",
    "    else:\n",
    "        dataset.to_zarr(zarr_store, mode='w', consolidated=True, **kwargs)\n",
    "        print(f'Written cube to {zarr_store}')"
   ]
  },
  {
   "cell_type": "markdown",
   "metadata": {},
   "source": [
    "Having updated `ds_to_zarr` to handle `**kwargs`, let's test that it works"
   ]
  },
  {
   "cell_type": "code",
   "execution_count": 26,
   "metadata": {},
   "outputs": [
    {
     "name": "stdout",
     "output_type": "stream",
     "text": [
      "Written cube to ../zarr_groups_test\n"
     ]
    }
   ],
   "source": [
    "zarr_store = '../zarr_groups_test'\n",
    "\n",
    "ds_to_zarr(grid0_ds, zarr_store, chunks={'time': 10}, group='grid0')"
   ]
  },
  {
   "cell_type": "code",
   "execution_count": 28,
   "metadata": {},
   "outputs": [
    {
     "data": {
      "text/plain": [
       "<xarray.Dataset>\n",
       "Dimensions:                  (grid_latitude: 219, grid_longitude: 286, pressure: 14, time: 10)\n",
       "Coordinates:\n",
       "    forecast_period          (time) timedelta64[ns] dask.array<chunksize=(10,), meta=np.ndarray>\n",
       "    forecast_reference_time  datetime64[ns] ...\n",
       "  * grid_latitude            (grid_latitude) float32 22.88 22.66 ... -25.08\n",
       "  * grid_longitude           (grid_longitude) float32 323.48 323.7 ... 386.18002\n",
       "  * pressure                 (pressure) float32 10.0 50.0 100.0 ... 925.0 1000.0\n",
       "  * time                     (time) datetime64[ns] 1851-01-05T12:00:00 ... 1851-01-14T12:00:00\n",
       "Data variables:\n",
       "    air_temperature          (time, pressure, grid_latitude, grid_longitude) float32 dask.array<chunksize=(10, 1, 219, 286), meta=np.ndarray>\n",
       "    precipitation_flux       (time, grid_latitude, grid_longitude) float32 dask.array<chunksize=(10, 219, 286), meta=np.ndarray>"
      ]
     },
     "execution_count": 28,
     "metadata": {},
     "output_type": "execute_result"
    }
   ],
   "source": [
    "xr.open_zarr(zarr_store, 'grid0')"
   ]
  },
  {
   "cell_type": "markdown",
   "metadata": {},
   "source": [
    "Hooray! Then let's convert these datasets"
   ]
  },
  {
   "cell_type": "code",
   "execution_count": 29,
   "metadata": {},
   "outputs": [
    {
     "name": "stdout",
     "output_type": "stream",
     "text": [
      "Written cube to ../zarr_groups\n",
      "Appended cube to ../zarr_groups\n"
     ]
    }
   ],
   "source": [
    "zarr_store = '../zarr_groups'\n",
    "\n",
    "ds_to_zarr(grid0_ds, zarr_store, chunks={'time': 10}, group='grid0')\n",
    "ds_to_zarr(grid1_ds, zarr_store, chunks={'time': 10}, group='grid1')"
   ]
  },
  {
   "cell_type": "code",
   "execution_count": 35,
   "metadata": {},
   "outputs": [
    {
     "data": {
      "text/plain": [
       "<xarray.Dataset>\n",
       "Dimensions:                  (grid_latitude: 219, grid_longitude: 286, pressure: 14, time: 10)\n",
       "Coordinates:\n",
       "    forecast_period          (time) timedelta64[ns] dask.array<chunksize=(10,), meta=np.ndarray>\n",
       "    forecast_reference_time  datetime64[ns] ...\n",
       "  * grid_latitude            (grid_latitude) float32 22.88 22.66 ... -25.08\n",
       "  * grid_longitude           (grid_longitude) float32 323.48 323.7 ... 386.18002\n",
       "  * pressure                 (pressure) float32 10.0 50.0 100.0 ... 925.0 1000.0\n",
       "  * time                     (time) datetime64[ns] 1851-01-05T12:00:00 ... 1851-01-14T12:00:00\n",
       "Data variables:\n",
       "    air_temperature          (time, pressure, grid_latitude, grid_longitude) float32 dask.array<chunksize=(10, 1, 219, 286), meta=np.ndarray>\n",
       "    precipitation_flux       (time, grid_latitude, grid_longitude) float32 dask.array<chunksize=(10, 219, 286), meta=np.ndarray>"
      ]
     },
     "metadata": {},
     "output_type": "display_data"
    },
    {
     "data": {
      "text/plain": [
       "'\\n \\n'"
      ]
     },
     "metadata": {},
     "output_type": "display_data"
    },
    {
     "data": {
      "text/plain": [
       "<xarray.Dataset>\n",
       "Dimensions:                  (grid_latitude: 218, grid_longitude: 286, time: 10)\n",
       "Coordinates:\n",
       "    forecast_period          (time) timedelta64[ns] dask.array<chunksize=(10,), meta=np.ndarray>\n",
       "    forecast_reference_time  datetime64[ns] ...\n",
       "  * grid_latitude            (grid_latitude) float32 22.77 ... -24.969997\n",
       "  * grid_longitude           (grid_longitude) float32 323.59003 ... 386.29004\n",
       "    height                   float64 ...\n",
       "  * time                     (time) datetime64[ns] 1851-01-05T12:00:00 ... 1851-01-14T12:00:00\n",
       "Data variables:\n",
       "    x_wind                   (time, grid_latitude, grid_longitude) float32 dask.array<chunksize=(10, 218, 286), meta=np.ndarray>\n",
       "    y_wind                   (time, grid_latitude, grid_longitude) float32 dask.array<chunksize=(10, 218, 286), meta=np.ndarray>"
      ]
     },
     "metadata": {},
     "output_type": "display_data"
    }
   ],
   "source": [
    "grid0_z = xr.open_zarr(zarr_store, group='grid0')\n",
    "grid1_z = xr.open_zarr(zarr_store, group='grid1')\n",
    "\n",
    "display(grid0_z)\n",
    "display('\\n \\n')\n",
    "display(grid1_z)"
   ]
  },
  {
   "cell_type": "code",
   "execution_count": 51,
   "metadata": {},
   "outputs": [
    {
     "data": {
      "text/plain": [
       "True"
      ]
     },
     "execution_count": 51,
     "metadata": {},
     "output_type": "execute_result"
    }
   ],
   "source": [
    "np.array_equal(grid0_z.time.data, grid1_z.time.data)"
   ]
  },
  {
   "cell_type": "code",
   "execution_count": 50,
   "metadata": {},
   "outputs": [
    {
     "data": {
      "text/plain": [
       "False"
      ]
     },
     "execution_count": 50,
     "metadata": {},
     "output_type": "execute_result"
    }
   ],
   "source": [
    "np.array_equal(grid0_z.grid_longitude.data, grid1_z.grid_longitude.data)"
   ]
  },
  {
   "cell_type": "code",
   "execution_count": 53,
   "metadata": {},
   "outputs": [
    {
     "data": {
      "text/plain": [
       "True"
      ]
     },
     "execution_count": 53,
     "metadata": {},
     "output_type": "execute_result"
    }
   ],
   "source": [
    "np.array_equal(grid0_z.forecast_reference_time.data, grid1_z.forecast_reference_time.data)"
   ]
  },
  {
   "cell_type": "markdown",
   "metadata": {},
   "source": [
    "# CONCLUSION: Saving data to Zarr groups with Xarray is easy"
   ]
  }
 ],
 "metadata": {
  "kernelspec": {
   "display_name": "Python (datasci)",
   "language": "python",
   "name": "datasci"
  },
  "language_info": {
   "codemirror_mode": {
    "name": "ipython",
    "version": 3
   },
   "file_extension": ".py",
   "mimetype": "text/x-python",
   "name": "python",
   "nbconvert_exporter": "python",
   "pygments_lexer": "ipython3",
   "version": "3.6.9"
  }
 },
 "nbformat": 4,
 "nbformat_minor": 4
}
