{
 "cells": [
  {
   "cell_type": "markdown",
   "metadata": {},
   "source": [
    "# How do I translate a datetime into a filename?"
   ]
  },
  {
   "cell_type": "code",
   "execution_count": 1,
   "metadata": {},
   "outputs": [],
   "source": [
    "import iris\n",
    "import os\n",
    "import xarray as xr\n",
    "import numpy as np\n",
    "\n",
    "import copy\n",
    "\n",
    "import crd_utils as crd"
   ]
  },
  {
   "cell_type": "code",
   "execution_count": 2,
   "metadata": {},
   "outputs": [
    {
     "data": {
      "text/plain": [
       "'apepda.pj511f0.pp'"
      ]
     },
     "execution_count": 2,
     "metadata": {},
     "output_type": "execute_result"
    }
   ],
   "source": [
    "filepath_1h = '/data/cssp-china/mini-dataset-24-01-19/20CR/hourly/'\n",
    "files_1h = sorted(os.listdir(filepath_1h))\n",
    "files_1h[1]"
   ]
  },
  {
   "cell_type": "code",
   "execution_count": 3,
   "metadata": {},
   "outputs": [
    {
     "data": {
      "text/plain": [
       "'apepda.pb511f0.pp'"
      ]
     },
     "execution_count": 3,
     "metadata": {},
     "output_type": "execute_result"
    }
   ],
   "source": [
    "filepath_6h = '/data/cssp-china/mini-dataset-24-01-19/20CR/6hrly/'\n",
    "files_6h = sorted(os.listdir(filepath_6h))\n",
    "files_6h[1]"
   ]
  },
  {
   "cell_type": "code",
   "execution_count": 4,
   "metadata": {},
   "outputs": [
    {
     "data": {
      "text/plain": [
       "'apepda.pc511f0.pp'"
      ]
     },
     "execution_count": 4,
     "metadata": {},
     "output_type": "execute_result"
    }
   ],
   "source": [
    "filepath_3h = '/data/cssp-china/mini-dataset-24-01-19/20CR/3hrly/'\n",
    "files_3h = sorted(os.listdir(filepath_3h))\n",
    "files_3h[1]"
   ]
  },
  {
   "cell_type": "code",
   "execution_count": 5,
   "metadata": {},
   "outputs": [
    {
     "data": {
      "text/plain": [
       "'apepda.pa511f0.pp'"
      ]
     },
     "execution_count": 5,
     "metadata": {},
     "output_type": "execute_result"
    }
   ],
   "source": [
    "filepath_d = '/data/cssp-china/mini-dataset-24-01-19/20CR/daily'\n",
    "files_d = sorted(os.listdir(filepath_d))\n",
    "files_d[1]\n",
    "# cubelist_d = crd.file_to_cubelist(files_d[1], filepath_d)\n",
    "# print(f'Number of cubes: {len(cubelist_d)}')"
   ]
  },
  {
   "cell_type": "code",
   "execution_count": 6,
   "metadata": {},
   "outputs": [
    {
     "data": {
      "text/plain": [
       "'apepda.pm51aug.pp'"
      ]
     },
     "execution_count": 6,
     "metadata": {},
     "output_type": "execute_result"
    }
   ],
   "source": [
    "filepath_m = '/data/cssp-china/mini-dataset-24-01-19/20CR/monthly/'\n",
    "files_m = sorted(os.listdir(filepath_m))\n",
    "files_m[1]"
   ]
  },
  {
   "cell_type": "code",
   "execution_count": 7,
   "metadata": {},
   "outputs": [
    {
     "data": {
      "text/plain": [
       "['6hrly',\n",
       " '3hrly',\n",
       " 'variableslist.pdf',\n",
       " 'monthly',\n",
       " 'hourly',\n",
       " 'daily',\n",
       " '.ipynb_checkpoints']"
      ]
     },
     "execution_count": 7,
     "metadata": {},
     "output_type": "execute_result"
    }
   ],
   "source": [
    "os.listdir('/data/cssp-china/mini-dataset-24-01-19/20CR')"
   ]
  },
  {
   "cell_type": "code",
   "execution_count": 8,
   "metadata": {},
   "outputs": [],
   "source": [
    "import umdates_utils as um"
   ]
  },
  {
   "cell_type": "code",
   "execution_count": 104,
   "metadata": {},
   "outputs": [],
   "source": [
    "from datetime import datetime, timedelta"
   ]
  },
  {
   "cell_type": "code",
   "execution_count": 36,
   "metadata": {},
   "outputs": [],
   "source": [
    "runid = 'apepd'\n",
    "startd = datetime(1851, 1, 5)\n",
    "endd = datetime(2011, 1, 9)\n",
    "freq = 'pa'\n",
    "\n",
    "theory_fnames = um.UMFileList(runid, startd, endd, freq)"
   ]
  },
  {
   "cell_type": "code",
   "execution_count": 37,
   "metadata": {},
   "outputs": [
    {
     "data": {
      "text/plain": [
       "['apepda.pa51150.pp',\n",
       " 'apepda.pa511f0.pp',\n",
       " 'apepda.pa511p0.pp',\n",
       " 'apepda.pa51240.pp',\n",
       " 'apepda.pa512e0.pp',\n",
       " 'apepda.pa512o0.pp',\n",
       " 'apepda.pa51360.pp',\n",
       " 'apepda.pa513g0.pp',\n",
       " 'apepda.pa513q0.pp',\n",
       " 'apepda.pa51450.pp']"
      ]
     },
     "execution_count": 37,
     "metadata": {},
     "output_type": "execute_result"
    }
   ],
   "source": [
    "theory_fnames[0:10]"
   ]
  },
  {
   "cell_type": "code",
   "execution_count": 38,
   "metadata": {},
   "outputs": [
    {
     "data": {
      "text/plain": [
       "5845"
      ]
     },
     "execution_count": 38,
     "metadata": {},
     "output_type": "execute_result"
    }
   ],
   "source": [
    "len(theory_fnames)"
   ]
  },
  {
   "cell_type": "code",
   "execution_count": 39,
   "metadata": {},
   "outputs": [
    {
     "data": {
      "text/plain": [
       "5850"
      ]
     },
     "execution_count": 39,
     "metadata": {},
     "output_type": "execute_result"
    }
   ],
   "source": [
    "len(files_d)"
   ]
  },
  {
   "cell_type": "code",
   "execution_count": 40,
   "metadata": {},
   "outputs": [],
   "source": [
    "def umstamp_from_filename(filename):\n",
    "    parts = filename.split('.')\n",
    "    return parts[1][2:]"
   ]
  },
  {
   "cell_type": "code",
   "execution_count": 41,
   "metadata": {},
   "outputs": [
    {
     "name": "stdout",
     "output_type": "stream",
     "text": [
      "1851-01-05 00:00:00\n",
      "1851-01-05 00:00:00\n",
      "2011-01-05 00:00:00\n",
      "2011-01-06 00:00:00\n"
     ]
    }
   ],
   "source": [
    "print(um.convertFromUMStamp(umstamp_from_filename(files_d[0]), 'YYMDH'))\n",
    "print(um.convertFromUMStamp(umstamp_from_filename(theory_fnames[0]), 'YYMDH'))\n",
    "print(um.convertFromUMStamp(umstamp_from_filename(files_d[-1]), 'YYMDH'))\n",
    "print(um.convertFromUMStamp(umstamp_from_filename(theory_fnames[-1]), 'YYMDH'))"
   ]
  },
  {
   "cell_type": "code",
   "execution_count": 16,
   "metadata": {},
   "outputs": [
    {
     "name": "stdout",
     "output_type": "stream",
     "text": [
      "1851-04-01 00:00:00    apepda.pm51apr.pp\n",
      "1851-08-01 00:00:00    apepda.pm51aug.pp\n",
      "1851-12-01 00:00:00    apepda.pm51dec.pp\n",
      "1851-02-01 00:00:00    apepda.pm51feb.pp\n",
      "1851-01-01 00:00:00    apepda.pm51jan.pp\n",
      "1851-07-01 00:00:00    apepda.pm51jul.pp\n",
      "1851-06-01 00:00:00    apepda.pm51jun.pp\n",
      "1851-03-01 00:00:00    apepda.pm51mar.pp\n",
      "1851-05-01 00:00:00    apepda.pm51may.pp\n",
      "1851-11-01 00:00:00    apepda.pm51nov.pp\n"
     ]
    }
   ],
   "source": [
    "for file in files_m[0:10]:\n",
    "    dt = um.convertFromUMStamp(umstamp_from_filename(file), 'YYMMM')\n",
    "    print(f'{dt}    {file}')"
   ]
  },
  {
   "cell_type": "code",
   "execution_count": 17,
   "metadata": {},
   "outputs": [
    {
     "name": "stdout",
     "output_type": "stream",
     "text": [
      "1851-01-05 00:00:00    apepda.pa51150.pp\n",
      "1851-01-15 00:00:00    apepda.pa511f0.pp\n",
      "1851-01-25 00:00:00    apepda.pa511p0.pp\n",
      "1851-02-04 00:00:00    apepda.pa51240.pp\n",
      "1851-02-14 00:00:00    apepda.pa512e0.pp\n",
      "1851-02-24 00:00:00    apepda.pa512o0.pp\n",
      "1851-03-06 00:00:00    apepda.pa51360.pp\n",
      "1851-03-16 00:00:00    apepda.pa513g0.pp\n",
      "1851-03-26 00:00:00    apepda.pa513q0.pp\n",
      "1851-04-05 00:00:00    apepda.pa51450.pp\n"
     ]
    }
   ],
   "source": [
    "for file in files_d[0:10]:\n",
    "    dt = um.convertFromUMStamp(umstamp_from_filename(file), 'YYMDH')\n",
    "    print(f'{dt}    {file}')"
   ]
  },
  {
   "cell_type": "code",
   "execution_count": 18,
   "metadata": {},
   "outputs": [
    {
     "name": "stdout",
     "output_type": "stream",
     "text": [
      "1851-01-05 00:00:00    apepda.pb51150.pp\n",
      "1851-01-15 00:00:00    apepda.pb511f0.pp\n",
      "1851-01-25 00:00:00    apepda.pb511p0.pp\n",
      "1851-02-04 00:00:00    apepda.pb51240.pp\n",
      "1851-02-14 00:00:00    apepda.pb512e0.pp\n",
      "1851-02-24 00:00:00    apepda.pb512o0.pp\n",
      "1851-03-06 00:00:00    apepda.pb51360.pp\n",
      "1851-03-16 00:00:00    apepda.pb513g0.pp\n",
      "1851-03-26 00:00:00    apepda.pb513q0.pp\n",
      "1851-04-05 00:00:00    apepda.pb51450.pp\n"
     ]
    }
   ],
   "source": [
    "for file in files_6h[0:10]:\n",
    "    dt = um.convertFromUMStamp(umstamp_from_filename(file), 'YYMDH')\n",
    "    print(f'{dt}    {file}')"
   ]
  },
  {
   "cell_type": "code",
   "execution_count": 19,
   "metadata": {},
   "outputs": [
    {
     "name": "stdout",
     "output_type": "stream",
     "text": [
      "1851-01-05 00:00:00    apepda.pc51150.pp\n",
      "1851-01-15 00:00:00    apepda.pc511f0.pp\n",
      "1851-01-25 00:00:00    apepda.pc511p0.pp\n",
      "1851-02-04 00:00:00    apepda.pc51240.pp\n",
      "1851-02-14 00:00:00    apepda.pc512e0.pp\n",
      "1851-02-24 00:00:00    apepda.pc512o0.pp\n",
      "1851-03-06 00:00:00    apepda.pc51360.pp\n",
      "1851-03-16 00:00:00    apepda.pc513g0.pp\n",
      "1851-03-26 00:00:00    apepda.pc513q0.pp\n",
      "1851-04-05 00:00:00    apepda.pc51450.pp\n"
     ]
    }
   ],
   "source": [
    "for file in files_3h[0:10]:\n",
    "    dt = um.convertFromUMStamp(umstamp_from_filename(file), 'YYMDH')\n",
    "    print(f'{dt}    {file}')"
   ]
  },
  {
   "cell_type": "code",
   "execution_count": 20,
   "metadata": {},
   "outputs": [
    {
     "name": "stdout",
     "output_type": "stream",
     "text": [
      "1851-01-05 00:00:00    apepda.pj51150.pp\n",
      "1851-01-15 00:00:00    apepda.pj511f0.pp\n",
      "1851-01-25 00:00:00    apepda.pj511p0.pp\n",
      "1851-02-04 00:00:00    apepda.pj51240.pp\n",
      "1851-02-14 00:00:00    apepda.pj512e0.pp\n",
      "1851-02-24 00:00:00    apepda.pj512o0.pp\n",
      "1851-03-06 00:00:00    apepda.pj51360.pp\n",
      "1851-03-16 00:00:00    apepda.pj513g0.pp\n",
      "1851-03-26 00:00:00    apepda.pj513q0.pp\n",
      "1851-04-05 00:00:00    apepda.pj51450.pp\n"
     ]
    }
   ],
   "source": [
    "for file in files_1h[0:10]:\n",
    "    dt = um.convertFromUMStamp(umstamp_from_filename(file), 'YYMDH')\n",
    "    print(f'{dt}    {file}')"
   ]
  },
  {
   "cell_type": "code",
   "execution_count": 42,
   "metadata": {},
   "outputs": [
    {
     "name": "stdout",
     "output_type": "stream",
     "text": [
      "1851-01-05 00:00:00    apepda.pa51150.pp\n",
      "1851-01-15 00:00:00    apepda.pa511f0.pp\n",
      "1851-01-25 00:00:00    apepda.pa511p0.pp\n",
      "1851-02-04 00:00:00    apepda.pa51240.pp\n",
      "1851-02-14 00:00:00    apepda.pa512e0.pp\n",
      "1851-02-24 00:00:00    apepda.pa512o0.pp\n",
      "1851-03-06 00:00:00    apepda.pa51360.pp\n",
      "1851-03-16 00:00:00    apepda.pa513g0.pp\n",
      "1851-03-26 00:00:00    apepda.pa513q0.pp\n",
      "1851-04-05 00:00:00    apepda.pa51450.pp\n"
     ]
    }
   ],
   "source": [
    "for file in theory_fnames[0:10]:\n",
    "    dt = um.convertFromUMStamp(umstamp_from_filename(file), 'YYMDH')\n",
    "    print(f'{dt}    {file}')"
   ]
  },
  {
   "cell_type": "code",
   "execution_count": 43,
   "metadata": {},
   "outputs": [
    {
     "data": {
      "text/plain": [
       "5845"
      ]
     },
     "execution_count": 43,
     "metadata": {},
     "output_type": "execute_result"
    }
   ],
   "source": [
    "check = np.array(theory_fnames==)"
   ]
  },
  {
   "cell_type": "code",
   "execution_count": 66,
   "metadata": {},
   "outputs": [
    {
     "data": {
      "text/plain": [
       "array([ True,  True,  True, ..., False, False, False])"
      ]
     },
     "execution_count": 66,
     "metadata": {},
     "output_type": "execute_result"
    }
   ],
   "source": [
    "check = np.array(files_d[0:5840])==np.array(theory_fnames[0:5840])\n",
    "check"
   ]
  },
  {
   "cell_type": "code",
   "execution_count": 59,
   "metadata": {},
   "outputs": [],
   "source": [
    "%matplotlib inline\n",
    "import matplotlib.pyplot as plt"
   ]
  },
  {
   "cell_type": "code",
   "execution_count": 65,
   "metadata": {},
   "outputs": [
    {
     "data": {
      "text/plain": [
       "array([datetime.datetime(1851, 1, 5, 0, 0),\n",
       "       datetime.datetime(1851, 1, 15, 0, 0),\n",
       "       datetime.datetime(1851, 1, 25, 0, 0), ...,\n",
       "       datetime.datetime(2010, 12, 16, 0, 0),\n",
       "       datetime.datetime(2010, 12, 26, 0, 0),\n",
       "       datetime.datetime(2011, 1, 5, 0, 0)], dtype=object)"
      ]
     },
     "execution_count": 65,
     "metadata": {},
     "output_type": "execute_result"
    }
   ],
   "source": [
    "file_dates = np.array([um.convertFromUMStamp(umstamp_from_filename(file), 'YYMDH') for file in files_d])\n",
    "file_dates"
   ]
  },
  {
   "cell_type": "code",
   "execution_count": 69,
   "metadata": {},
   "outputs": [
    {
     "data": {
      "text/plain": [
       "[<matplotlib.lines.Line2D at 0x7f1511f38c50>]"
      ]
     },
     "execution_count": 69,
     "metadata": {},
     "output_type": "execute_result"
    },
    {
     "data": {
      "image/png": "[encoded data removed]",
      "text/plain": [
       "<Figure size 432x288 with 1 Axes>"
      ]
     },
     "metadata": {
      "needs_background": "light"
     },
     "output_type": "display_data"
    }
   ],
   "source": [
    "plt.plot(file_dates[:5840], check)"
   ]
  },
  {
   "cell_type": "code",
   "execution_count": 70,
   "metadata": {},
   "outputs": [
    {
     "data": {
      "text/plain": [
       "array([datetime.timedelta(10), datetime.timedelta(10),\n",
       "       datetime.timedelta(10), ..., datetime.timedelta(10),\n",
       "       datetime.timedelta(10), datetime.timedelta(10)], dtype=object)"
      ]
     },
     "execution_count": 70,
     "metadata": {},
     "output_type": "execute_result"
    }
   ],
   "source": [
    "timedeltas = file_dates[1:]-file_dates[0:-1]\n",
    "timedeltas"
   ]
  },
  {
   "cell_type": "code",
   "execution_count": 85,
   "metadata": {},
   "outputs": [
    {
     "data": {
      "text/plain": [
       "array([10, 10, 10, ..., 10, 10, 10])"
      ]
     },
     "execution_count": 85,
     "metadata": {},
     "output_type": "execute_result"
    }
   ],
   "source": [
    "td = np.array([td.days for td in timedeltas])\n",
    "td"
   ]
  },
  {
   "cell_type": "code",
   "execution_count": 120,
   "metadata": {},
   "outputs": [],
   "source": [
    "def umstamp_from_filename(filename):\n",
    "    parts = filename.split('.')\n",
    "    return parts[1][2:]\n",
    "\n",
    "def filenames_to_datetimes(filenames):\n",
    "    datetimes = [um.convertFromUMStamp(umstamp_from_filename(file), 'YYMDH') for file in filenames]\n",
    "    return np.array(datetimes)\n",
    "    \n",
    "def datetimes_to_timedeltas(datetimes):\n",
    "    return file_dates[1:]-file_dates[0:-1]\n",
    "    \n",
    "def timedeltas_to_days(timedeltas):\n",
    "    return np.array([td.days for td in timedeltas])\n",
    "\n",
    "def plot_td_hist(td, frequency='Daily'):\n",
    "    plt.hist(td, bins=np.arange(2.5, 30.5), log=True)\n",
    "    plt.gcf().set_size_inches(15, 5)\n",
    "    plt.xticks(np.arange(2, 31))\n",
    "    plt.xlabel('Days')\n",
    "    plt.ylabel('Number of timedeltas')\n",
    "    plt.title(f'Distribution of times between filenames: {frequency}')\n",
    "    plt.show()\n",
    "\n",
    "def freq_hist_plot(filenames, frequency='Daily'):\n",
    "    dtimes = filenames_to_datetimes(filenames)\n",
    "    td = timedeltas_to_days(datetimes_to_timedeltas(dtimes))\n",
    "    plot_td_hist(td, frequency=frequency)"
   ]
  },
  {
   "cell_type": "code",
   "execution_count": 121,
   "metadata": {},
   "outputs": [
    {
     "data": {
      "image/png": "[encoded data removed]",
      "text/plain": [
       "<Figure size 1080x360 with 1 Axes>"
      ]
     },
     "metadata": {
      "needs_background": "light"
     },
     "output_type": "display_data"
    }
   ],
   "source": [
    "freq_hist_plot(files_1h, 'Hourly')"
   ]
  },
  {
   "cell_type": "code",
   "execution_count": 122,
   "metadata": {},
   "outputs": [
    {
     "data": {
      "image/png": "[encoded data removed]",
      "text/plain": [
       "<Figure size 1080x360 with 1 Axes>"
      ]
     },
     "metadata": {
      "needs_background": "light"
     },
     "output_type": "display_data"
    }
   ],
   "source": [
    "freq_hist_plot(files_3h, '3 Hourly')"
   ]
  },
  {
   "cell_type": "code",
   "execution_count": 123,
   "metadata": {},
   "outputs": [
    {
     "data": {
      "image/png": "[encoded data removed]",
      "text/plain": [
       "<Figure size 1080x360 with 1 Axes>"
      ]
     },
     "metadata": {
      "needs_background": "light"
     },
     "output_type": "display_data"
    }
   ],
   "source": [
    "freq_hist_plot(files_6h, '6 Hourly')"
   ]
  },
  {
   "cell_type": "code",
   "execution_count": 124,
   "metadata": {},
   "outputs": [
    {
     "data": {
      "image/png": "[encoded data removed]",
      "text/plain": [
       "<Figure size 1080x360 with 1 Axes>"
      ]
     },
     "metadata": {
      "needs_background": "light"
     },
     "output_type": "display_data"
    }
   ],
   "source": [
    "freq_hist_plot(files_d, 'Daily')"
   ]
  },
  {
   "cell_type": "code",
   "execution_count": null,
   "metadata": {},
   "outputs": [],
   "source": [
    "# freq_hist_plot(files_m, 'Hourly')"
   ]
  }
 ],
 "metadata": {
  "kernelspec": {
   "display_name": "Python (pangolin)",
   "language": "python",
   "name": "pangolin"
  },
  "language_info": {
   "codemirror_mode": {
    "name": "ipython",
    "version": 3
   },
   "file_extension": ".py",
   "mimetype": "text/x-python",
   "name": "python",
   "nbconvert_exporter": "python",
   "pygments_lexer": "ipython3",
   "version": "3.6.7"
  }
 },
 "nbformat": 4,
 "nbformat_minor": 4
}
