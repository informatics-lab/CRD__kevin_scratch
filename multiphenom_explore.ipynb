{
 "cells": [
  {
   "cell_type": "markdown",
   "metadata": {},
   "source": [
    "# Pipeline to set multi-phenomena xr.Datasets for writing to Zarr"
   ]
  },
  {
   "cell_type": "code",
   "execution_count": 1,
   "metadata": {},
   "outputs": [],
   "source": [
    "import iris\n",
    "import os\n",
    "import xarray as xr\n",
    "import numpy as np"
   ]
  },
  {
   "cell_type": "code",
   "execution_count": 2,
   "metadata": {},
   "outputs": [],
   "source": [
    "def pp_to_cube(filename, filepath, constraints={}):\n",
    "    # Load a cube from a .pp file\n",
    "    cube, = iris.load(os.path.join(filepath, filename), iris.AttributeConstraint(**constraints))\n",
    "    print(f'Cube loaded from {filename}')\n",
    "    return cube"
   ]
  },
  {
   "cell_type": "code",
   "execution_count": 3,
   "metadata": {},
   "outputs": [],
   "source": [
    "def cube_to_xr(cube):\n",
    "    # Convert Iris cube to Xarray Dataset\n",
    "    return xr.DataArray.from_iris(cube).to_dataset()"
   ]
  },
  {
   "cell_type": "code",
   "execution_count": 4,
   "metadata": {},
   "outputs": [],
   "source": [
    "def xr_to_zarr(dataset, zarr_store, chunks={'time':10, 'grid_latitude':219, 'grid_longitude':286}, append_dim='time'):\n",
    "    # Write dataset to new zarr store\n",
    "    # OR append dataset to an existing zarr store\n",
    "    dataset = dataset.chunk(chunks=chunks)\n",
    "    if os.path.isdir(zarr_store):\n",
    "        dataset.to_zarr(zarr_store, consolidated=True, append_dim=append_dim)\n",
    "        print(f'Appended cube to {zarr_store}')\n",
    "    else:\n",
    "        dataset.to_zarr(zarr_store, mode='w', consolidated=True)\n",
    "        print(f'Written cube to {zarr_store}')"
   ]
  },
  {
   "cell_type": "code",
   "execution_count": 5,
   "metadata": {},
   "outputs": [],
   "source": [
    "def datetimes_from_cube(cube):\n",
    "    return xr.DataArray.from_iris(cube).time.data\n",
    "\n",
    "def datetimes_from_zarr(zarr_store):\n",
    "    return xr.open_zarr(zarr_store).time.data"
   ]
  },
  {
   "cell_type": "markdown",
   "metadata": {},
   "source": [
    "## Load one .pp file, pull out multiple phenomena, make one Dataset"
   ]
  },
  {
   "cell_type": "code",
   "execution_count": 6,
   "metadata": {},
   "outputs": [],
   "source": [
    "# Variables for loading data\n",
    "filepath = '/data/cssp-china/mini-dataset-24-01-19/20CR/daily'\n",
    "files = sorted(os.listdir(filepath))\n",
    "\n",
    "STASH_TEMP = 'm01s16i203'\n",
    "STASH_PRECIP = 'm01s05i216'\n",
    "STASH_UWIND = 'm01s03i225'\n",
    "STASH_VWIND = 'm01s03i226'"
   ]
  },
  {
   "cell_type": "code",
   "execution_count": 7,
   "metadata": {},
   "outputs": [
    {
     "data": {
      "text/plain": [
       "[<iris 'Cube' of m01s05i217 / (unknown) (time: 10; grid_latitude: 219; grid_longitude: 286)>,\n",
       "<iris 'Cube' of air_pressure_at_sea_level / (Pa) (time: 10; grid_latitude: 219; grid_longitude: 286)>,\n",
       "<iris 'Cube' of air_temperature / (K) (time: 10; grid_latitude: 219; grid_longitude: 286)>,\n",
       "<iris 'Cube' of air_temperature / (K) (time: 10; grid_latitude: 219; grid_longitude: 286)>,\n",
       "<iris 'Cube' of air_temperature / (K) (time: 10; grid_latitude: 219; grid_longitude: 286)>,\n",
       "<iris 'Cube' of air_temperature / (K) (time: 10; pressure: 14; grid_latitude: 219; grid_longitude: 286)>,\n",
       "<iris 'Cube' of cloud_area_fraction / (1) (time: 10; grid_latitude: 219; grid_longitude: 286)>,\n",
       "<iris 'Cube' of geopotential_height / (m) (time: 10; pressure: 14; grid_latitude: 219; grid_longitude: 286)>,\n",
       "<iris 'Cube' of precipitation_flux / (kg m-2 s-1) (time: 10; grid_latitude: 219; grid_longitude: 286)>,\n",
       "<iris 'Cube' of relative_humidity / (%) (time: 10; grid_latitude: 219; grid_longitude: 286)>,\n",
       "<iris 'Cube' of relative_humidity / (%) (time: 10; grid_latitude: 219; grid_longitude: 286)>,\n",
       "<iris 'Cube' of relative_humidity / (%) (time: 10; grid_latitude: 219; grid_longitude: 286)>,\n",
       "<iris 'Cube' of relative_humidity / (%) (time: 10; pressure: 14; grid_latitude: 219; grid_longitude: 286)>,\n",
       "<iris 'Cube' of specific_humidity / (1) (time: 10; grid_latitude: 219; grid_longitude: 286)>,\n",
       "<iris 'Cube' of surface_air_pressure / (Pa) (time: 10; grid_latitude: 219; grid_longitude: 286)>,\n",
       "<iris 'Cube' of surface_downwelling_longwave_flux_in_air / (W m-2) (time: 10; grid_latitude: 219; grid_longitude: 286)>,\n",
       "<iris 'Cube' of surface_downwelling_shortwave_flux_in_air / (W m-2) (time: 10; grid_latitude: 219; grid_longitude: 286)>,\n",
       "<iris 'Cube' of surface_temperature / (K) (time: 10; grid_latitude: 219; grid_longitude: 286)>,\n",
       "<iris 'Cube' of surface_temperature / (K) (time: 10; grid_latitude: 219; grid_longitude: 286)>,\n",
       "<iris 'Cube' of surface_temperature / (K) (time: 10; grid_latitude: 219; grid_longitude: 286)>,\n",
       "<iris 'Cube' of x_wind / (m s-1) (time: 10; grid_latitude: 218; grid_longitude: 286)>,\n",
       "<iris 'Cube' of x_wind / (m s-1) (time: 10; pressure: 14; grid_latitude: 218; grid_longitude: 286)>,\n",
       "<iris 'Cube' of y_wind / (m s-1) (time: 10; grid_latitude: 218; grid_longitude: 286)>,\n",
       "<iris 'Cube' of y_wind / (m s-1) (time: 10; pressure: 14; grid_latitude: 218; grid_longitude: 286)>]"
      ]
     },
     "execution_count": 7,
     "metadata": {},
     "output_type": "execute_result"
    }
   ],
   "source": [
    "cubes = iris.load(os.path.join(filepath, files[1]))\n",
    "cubes"
   ]
  },
  {
   "cell_type": "code",
   "execution_count": 28,
   "metadata": {
    "collapsed": true,
    "jupyter": {
     "outputs_hidden": true
    }
   },
   "outputs": [
    {
     "data": {
      "text/plain": [
       "[<iris 'Cube' of air_temperature / (K) (time: 10; pressure: 14; grid_latitude: 219; grid_longitude: 286)>]"
      ]
     },
     "execution_count": 28,
     "metadata": {},
     "output_type": "execute_result"
    }
   ],
   "source": [
    "cubes.extract(iris.AttributeConstraint(STASH = STASH_TEMP))"
   ]
  },
  {
   "cell_type": "code",
   "execution_count": 29,
   "metadata": {
    "collapsed": true,
    "jupyter": {
     "outputs_hidden": true
    }
   },
   "outputs": [
    {
     "data": {
      "text/plain": [
       "[<iris 'Cube' of precipitation_flux / (kg m-2 s-1) (time: 10; grid_latitude: 219; grid_longitude: 286)>]"
      ]
     },
     "execution_count": 29,
     "metadata": {},
     "output_type": "execute_result"
    }
   ],
   "source": [
    "cubes.extract(iris.AttributeConstraint(STASH = STASH_PRECIP))"
   ]
  },
  {
   "cell_type": "code",
   "execution_count": 30,
   "metadata": {
    "collapsed": true,
    "jupyter": {
     "outputs_hidden": true
    }
   },
   "outputs": [
    {
     "data": {
      "text/plain": [
       "[<iris 'Cube' of x_wind / (m s-1) (time: 10; grid_latitude: 218; grid_longitude: 286)>]"
      ]
     },
     "execution_count": 30,
     "metadata": {},
     "output_type": "execute_result"
    }
   ],
   "source": [
    "cubes.extract(iris.AttributeConstraint(STASH = STASH_UWIND))"
   ]
  },
  {
   "cell_type": "code",
   "execution_count": 31,
   "metadata": {
    "collapsed": true,
    "jupyter": {
     "outputs_hidden": true
    }
   },
   "outputs": [
    {
     "data": {
      "text/plain": [
       "[<iris 'Cube' of y_wind / (m s-1) (time: 10; grid_latitude: 218; grid_longitude: 286)>]"
      ]
     },
     "execution_count": 31,
     "metadata": {},
     "output_type": "execute_result"
    }
   ],
   "source": [
    "cubes.extract(iris.AttributeConstraint(STASH = STASH_VWIND))"
   ]
  },
  {
   "cell_type": "code",
   "execution_count": 8,
   "metadata": {},
   "outputs": [],
   "source": [
    "cube_t, = cubes.extract(iris.AttributeConstraint(STASH = STASH_TEMP))\n",
    "cube_p, = cubes.extract(iris.AttributeConstraint(STASH = STASH_PRECIP))\n",
    "cube_u, = cubes.extract(iris.AttributeConstraint(STASH = STASH_UWIND))\n",
    "cube_v, = cubes.extract(iris.AttributeConstraint(STASH = STASH_VWIND))\n",
    "\n",
    "# cubelist = iris.cube.CubeList([cube_t, cube_p, cube_u, cube_v])"
   ]
  },
  {
   "cell_type": "code",
   "execution_count": null,
   "metadata": {
    "collapsed": true,
    "jupyter": {
     "outputs_hidden": true
    }
   },
   "outputs": [],
   "source": [
    "cubelist"
   ]
  },
  {
   "cell_type": "code",
   "execution_count": 42,
   "metadata": {
    "collapsed": true,
    "jupyter": {
     "outputs_hidden": true
    }
   },
   "outputs": [
    {
     "name": "stderr",
     "output_type": "stream",
     "text": [
      "/envs/auto-build-envs/datasci/lib/python3.6/site-packages/dask/array/core.py:3855: PerformanceWarning: Increasing number of chunks by factor of 10\n",
      "  **blockwise_kwargs\n"
     ]
    }
   ],
   "source": [
    "ds_list = [cube_to_xr(cube) for cube in cubelist]\n",
    "ds = xr.merge(ds_list)"
   ]
  },
  {
   "cell_type": "code",
   "execution_count": 43,
   "metadata": {
    "collapsed": true,
    "jupyter": {
     "outputs_hidden": true
    }
   },
   "outputs": [
    {
     "data": {
      "text/plain": [
       "<xarray.Dataset>\n",
       "Dimensions:                  (grid_latitude: 437, grid_longitude: 572, pressure: 14, time: 10)\n",
       "Coordinates:\n",
       "  * grid_latitude            (grid_latitude) float64 -25.08 -24.97 ... 22.88\n",
       "  * grid_longitude           (grid_longitude) float64 323.5 323.6 ... 386.3\n",
       "  * time                     (time) datetime64[ns] 1851-01-05T12:00:00 ... 1851-01-14T12:00:00\n",
       "  * pressure                 (pressure) float32 10.0 50.0 100.0 ... 925.0 1000.0\n",
       "    forecast_reference_time  datetime64[ns] 1849-12-01\n",
       "    forecast_period          (time) timedelta64[ns] 400 days 12:00:00 ... 409 days 12:00:00\n",
       "    height                   float64 10.0\n",
       "Data variables:\n",
       "    air_temperature          (time, pressure, grid_latitude, grid_longitude) float32 dask.array<chunksize=(1, 1, 437, 572), meta=np.ndarray>\n",
       "    precipitation_flux       (time, grid_latitude, grid_longitude) float32 dask.array<chunksize=(1, 437, 572), meta=np.ndarray>\n",
       "    x_wind                   (time, grid_latitude, grid_longitude) float32 dask.array<chunksize=(1, 437, 572), meta=np.ndarray>\n",
       "    y_wind                   (time, grid_latitude, grid_longitude) float32 dask.array<chunksize=(1, 437, 572), meta=np.ndarray>"
      ]
     },
     "execution_count": 43,
     "metadata": {},
     "output_type": "execute_result"
    }
   ],
   "source": [
    "ds"
   ]
  },
  {
   "cell_type": "code",
   "execution_count": 81,
   "metadata": {
    "collapsed": true,
    "jupyter": {
     "outputs_hidden": true
    }
   },
   "outputs": [
    {
     "data": {
      "text/plain": [
       "array([[[        nan,         nan,         nan, ...,         nan,\n",
       "                 nan,         nan],\n",
       "        [        nan,  2.5029297 ,         nan, ..., -5.0683594 ,\n",
       "                 nan, -5.0683594 ],\n",
       "        [        nan,         nan,         nan, ...,         nan,\n",
       "                 nan,         nan],\n",
       "        ...,\n",
       "        [        nan,         nan,         nan, ...,         nan,\n",
       "                 nan,         nan],\n",
       "        [        nan, -3.399414  ,         nan, ..., -1.8779297 ,\n",
       "                 nan, -1.8779297 ],\n",
       "        [        nan,         nan,         nan, ...,         nan,\n",
       "                 nan,         nan]],\n",
       "\n",
       "       [[        nan,         nan,         nan, ...,         nan,\n",
       "                 nan,         nan],\n",
       "        [        nan,  1.4765625 ,         nan, ..., -3.6357422 ,\n",
       "                 nan, -3.6357422 ],\n",
       "        [        nan,         nan,         nan, ...,         nan,\n",
       "                 nan,         nan],\n",
       "        ...,\n",
       "        [        nan,         nan,         nan, ...,         nan,\n",
       "                 nan,         nan],\n",
       "        [        nan, -3.21875   ,         nan, ..., -1.7099609 ,\n",
       "                 nan, -1.7099609 ],\n",
       "        [        nan,         nan,         nan, ...,         nan,\n",
       "                 nan,         nan]],\n",
       "\n",
       "       [[        nan,         nan,         nan, ...,         nan,\n",
       "                 nan,         nan],\n",
       "        [        nan, -0.078125  ,         nan, ...,  0.4501953 ,\n",
       "                 nan,  0.4501953 ],\n",
       "        [        nan,         nan,         nan, ...,         nan,\n",
       "                 nan,         nan],\n",
       "        ...,\n",
       "        [        nan,         nan,         nan, ...,         nan,\n",
       "                 nan,         nan],\n",
       "        [        nan, -1.1728516 ,         nan, ..., -7.1904297 ,\n",
       "                 nan, -7.1904297 ],\n",
       "        [        nan,         nan,         nan, ...,         nan,\n",
       "                 nan,         nan]],\n",
       "\n",
       "       ...,\n",
       "\n",
       "       [[        nan,         nan,         nan, ...,         nan,\n",
       "                 nan,         nan],\n",
       "        [        nan,  0.39648438,         nan, ..., -0.98828125,\n",
       "                 nan, -0.98828125],\n",
       "        [        nan,         nan,         nan, ...,         nan,\n",
       "                 nan,         nan],\n",
       "        ...,\n",
       "        [        nan,         nan,         nan, ...,         nan,\n",
       "                 nan,         nan],\n",
       "        [        nan,  2.3935547 ,         nan, ..., -4.3085938 ,\n",
       "                 nan, -4.3085938 ],\n",
       "        [        nan,         nan,         nan, ...,         nan,\n",
       "                 nan,         nan]],\n",
       "\n",
       "       [[        nan,         nan,         nan, ...,         nan,\n",
       "                 nan,         nan],\n",
       "        [        nan,  0.47558594,         nan, ..., -1.0888672 ,\n",
       "                 nan, -1.0888672 ],\n",
       "        [        nan,         nan,         nan, ...,         nan,\n",
       "                 nan,         nan],\n",
       "        ...,\n",
       "        [        nan,         nan,         nan, ...,         nan,\n",
       "                 nan,         nan],\n",
       "        [        nan,  1.9951172 ,         nan, ..., -4.739258  ,\n",
       "                 nan, -4.739258  ],\n",
       "        [        nan,         nan,         nan, ...,         nan,\n",
       "                 nan,         nan]],\n",
       "\n",
       "       [[        nan,         nan,         nan, ...,         nan,\n",
       "                 nan,         nan],\n",
       "        [        nan,  0.5986328 ,         nan, ..., -2.368164  ,\n",
       "                 nan, -2.368164  ],\n",
       "        [        nan,         nan,         nan, ...,         nan,\n",
       "                 nan,         nan],\n",
       "        ...,\n",
       "        [        nan,         nan,         nan, ...,         nan,\n",
       "                 nan,         nan],\n",
       "        [        nan,  0.95996094,         nan, ..., -4.3691406 ,\n",
       "                 nan, -4.3691406 ],\n",
       "        [        nan,         nan,         nan, ...,         nan,\n",
       "                 nan,         nan]]], dtype=float32)"
      ]
     },
     "execution_count": 81,
     "metadata": {},
     "output_type": "execute_result"
    }
   ],
   "source": [
    "ds.y_wind.data.compute()"
   ]
  },
  {
   "cell_type": "code",
   "execution_count": 47,
   "metadata": {
    "collapsed": true,
    "jupyter": {
     "outputs_hidden": true
    }
   },
   "outputs": [
    {
     "name": "stderr",
     "output_type": "stream",
     "text": [
      "/envs/auto-build-envs/datasci/lib/python3.6/site-packages/dask/array/core.py:3855: PerformanceWarning: Increasing number of chunks by factor of 10\n",
      "  **blockwise_kwargs\n"
     ]
    },
    {
     "data": {
      "text/plain": [
       "<xarray.Dataset>\n",
       "Dimensions:                  (grid_latitude: 437, grid_longitude: 572, pressure: 14, time: 10)\n",
       "Coordinates:\n",
       "  * grid_latitude            (grid_latitude) float64 -25.08 -24.97 ... 22.88\n",
       "  * grid_longitude           (grid_longitude) float64 323.5 323.6 ... 386.3\n",
       "  * time                     (time) datetime64[ns] 1851-01-05T12:00:00 ... 1851-01-14T12:00:00\n",
       "  * pressure                 (pressure) float32 10.0 50.0 100.0 ... 925.0 1000.0\n",
       "    forecast_reference_time  datetime64[ns] 1849-12-01\n",
       "    forecast_period          (time) timedelta64[ns] 400 days 12:00:00 ... 409 days 12:00:00\n",
       "    height                   float64 10.0\n",
       "Data variables:\n",
       "    air_temperature          (time, pressure, grid_latitude, grid_longitude) float32 dask.array<chunksize=(1, 1, 437, 572), meta=np.ndarray>\n",
       "    precipitation_flux       (time, grid_latitude, grid_longitude) float32 dask.array<chunksize=(1, 437, 572), meta=np.ndarray>\n",
       "    x_wind                   (time, grid_latitude, grid_longitude) float32 dask.array<chunksize=(1, 437, 572), meta=np.ndarray>\n",
       "    y_wind                   (time, grid_latitude, grid_longitude) float32 dask.array<chunksize=(1, 437, 572), meta=np.ndarray>"
      ]
     },
     "execution_count": 47,
     "metadata": {},
     "output_type": "execute_result"
    }
   ],
   "source": [
    "da_list = [xr.DataArray.from_iris(cube) for cube in cubelist]\n",
    "ds_ = xr.merge(da_list)\n",
    "ds_"
   ]
  },
  {
   "cell_type": "code",
   "execution_count": 49,
   "metadata": {
    "collapsed": true,
    "jupyter": {
     "outputs_hidden": true
    }
   },
   "outputs": [
    {
     "data": {
      "text/plain": [
       "array([[[        nan,         nan,         nan, ...,         nan,\n",
       "                 nan,         nan],\n",
       "        [        nan, -5.484375  ,         nan, ..., -1.3212891 ,\n",
       "                 nan, -1.3212891 ],\n",
       "        [        nan,         nan,         nan, ...,         nan,\n",
       "                 nan,         nan],\n",
       "        ...,\n",
       "        [        nan,         nan,         nan, ...,         nan,\n",
       "                 nan,         nan],\n",
       "        [        nan,  1.9941406 ,         nan, ...,  3.4873047 ,\n",
       "                 nan,  3.4873047 ],\n",
       "        [        nan,         nan,         nan, ...,         nan,\n",
       "                 nan,         nan]],\n",
       "\n",
       "       [[        nan,         nan,         nan, ...,         nan,\n",
       "                 nan,         nan],\n",
       "        [        nan, -6.131836  ,         nan, ...,  2.0751953 ,\n",
       "                 nan,  2.0751953 ],\n",
       "        [        nan,         nan,         nan, ...,         nan,\n",
       "                 nan,         nan],\n",
       "        ...,\n",
       "        [        nan,         nan,         nan, ...,         nan,\n",
       "                 nan,         nan],\n",
       "        [        nan,  1.4824219 ,         nan, ..., -0.6191406 ,\n",
       "                 nan, -0.6191406 ],\n",
       "        [        nan,         nan,         nan, ...,         nan,\n",
       "                 nan,         nan]],\n",
       "\n",
       "       [[        nan,         nan,         nan, ...,         nan,\n",
       "                 nan,         nan],\n",
       "        [        nan, -7.741211  ,         nan, ...,  4.838867  ,\n",
       "                 nan,  4.838867  ],\n",
       "        [        nan,         nan,         nan, ...,         nan,\n",
       "                 nan,         nan],\n",
       "        ...,\n",
       "        [        nan,         nan,         nan, ...,         nan,\n",
       "                 nan,         nan],\n",
       "        [        nan,  0.65527344,         nan, ...,  2.3408203 ,\n",
       "                 nan,  2.3408203 ],\n",
       "        [        nan,         nan,         nan, ...,         nan,\n",
       "                 nan,         nan]],\n",
       "\n",
       "       ...,\n",
       "\n",
       "       [[        nan,         nan,         nan, ...,         nan,\n",
       "                 nan,         nan],\n",
       "        [        nan, -3.0009766 ,         nan, ...,  4.544922  ,\n",
       "                 nan,  4.544922  ],\n",
       "        [        nan,         nan,         nan, ...,         nan,\n",
       "                 nan,         nan],\n",
       "        ...,\n",
       "        [        nan,         nan,         nan, ...,         nan,\n",
       "                 nan,         nan],\n",
       "        [        nan, -2.3164062 ,         nan, ...,  4.576172  ,\n",
       "                 nan,  4.576172  ],\n",
       "        [        nan,         nan,         nan, ...,         nan,\n",
       "                 nan,         nan]],\n",
       "\n",
       "       [[        nan,         nan,         nan, ...,         nan,\n",
       "                 nan,         nan],\n",
       "        [        nan, -3.680664  ,         nan, ...,  5.383789  ,\n",
       "                 nan,  5.383789  ],\n",
       "        [        nan,         nan,         nan, ...,         nan,\n",
       "                 nan,         nan],\n",
       "        ...,\n",
       "        [        nan,         nan,         nan, ...,         nan,\n",
       "                 nan,         nan],\n",
       "        [        nan, -3.2773438 ,         nan, ...,  3.5732422 ,\n",
       "                 nan,  3.5732422 ],\n",
       "        [        nan,         nan,         nan, ...,         nan,\n",
       "                 nan,         nan]],\n",
       "\n",
       "       [[        nan,         nan,         nan, ...,         nan,\n",
       "                 nan,         nan],\n",
       "        [        nan, -3.5419922 ,         nan, ...,  5.626953  ,\n",
       "                 nan,  5.626953  ],\n",
       "        [        nan,         nan,         nan, ...,         nan,\n",
       "                 nan,         nan],\n",
       "        ...,\n",
       "        [        nan,         nan,         nan, ...,         nan,\n",
       "                 nan,         nan],\n",
       "        [        nan, -4.6601562 ,         nan, ...,  3.8603516 ,\n",
       "                 nan,  3.8603516 ],\n",
       "        [        nan,         nan,         nan, ...,         nan,\n",
       "                 nan,         nan]]], dtype=float32)"
      ]
     },
     "execution_count": 49,
     "metadata": {},
     "output_type": "execute_result"
    }
   ],
   "source": [
    "ds_.x_wind.data.compute()"
   ]
  },
  {
   "cell_type": "code",
   "execution_count": 51,
   "metadata": {
    "collapsed": true,
    "jupyter": {
     "outputs_hidden": true
    }
   },
   "outputs": [
    {
     "data": {
      "text/plain": [
       "array([[[0.0000000e+00,           nan, 0.0000000e+00, ...,\n",
       "                   nan, 0.0000000e+00,           nan],\n",
       "        [          nan,           nan,           nan, ...,\n",
       "                   nan,           nan,           nan],\n",
       "        [3.4183049e-05,           nan, 2.9238454e-05, ...,\n",
       "                   nan, 5.7143745e-07,           nan],\n",
       "        ...,\n",
       "        [3.3518436e-04,           nan, 3.5878492e-04, ...,\n",
       "                   nan, 3.4338835e-04,           nan],\n",
       "        [          nan,           nan,           nan, ...,\n",
       "                   nan,           nan,           nan],\n",
       "        [0.0000000e+00,           nan, 0.0000000e+00, ...,\n",
       "                   nan, 0.0000000e+00,           nan]],\n",
       "\n",
       "       [[0.0000000e+00,           nan, 0.0000000e+00, ...,\n",
       "                   nan, 0.0000000e+00,           nan],\n",
       "        [          nan,           nan,           nan, ...,\n",
       "                   nan,           nan,           nan],\n",
       "        [3.4140621e-07,           nan, 0.0000000e+00, ...,\n",
       "                   nan, 0.0000000e+00,           nan],\n",
       "        ...,\n",
       "        [3.3505689e-04,           nan, 3.1821828e-04, ...,\n",
       "                   nan, 1.4761087e-04,           nan],\n",
       "        [          nan,           nan,           nan, ...,\n",
       "                   nan,           nan,           nan],\n",
       "        [0.0000000e+00,           nan, 0.0000000e+00, ...,\n",
       "                   nan, 0.0000000e+00,           nan]],\n",
       "\n",
       "       [[0.0000000e+00,           nan, 0.0000000e+00, ...,\n",
       "                   nan, 0.0000000e+00,           nan],\n",
       "        [          nan,           nan,           nan, ...,\n",
       "                   nan,           nan,           nan],\n",
       "        [2.1850820e-08,           nan, 2.0279368e-08, ...,\n",
       "                   nan, 4.4904250e-06,           nan],\n",
       "        ...,\n",
       "        [2.4684254e-04,           nan, 2.4540169e-04, ...,\n",
       "                   nan, 1.6459479e-05,           nan],\n",
       "        [          nan,           nan,           nan, ...,\n",
       "                   nan,           nan,           nan],\n",
       "        [0.0000000e+00,           nan, 0.0000000e+00, ...,\n",
       "                   nan, 0.0000000e+00,           nan]],\n",
       "\n",
       "       ...,\n",
       "\n",
       "       [[0.0000000e+00,           nan, 0.0000000e+00, ...,\n",
       "                   nan, 0.0000000e+00,           nan],\n",
       "        [          nan,           nan,           nan, ...,\n",
       "                   nan,           nan,           nan],\n",
       "        [0.0000000e+00,           nan, 0.0000000e+00, ...,\n",
       "                   nan, 4.1191635e-04,           nan],\n",
       "        ...,\n",
       "        [0.0000000e+00,           nan, 0.0000000e+00, ...,\n",
       "                   nan, 4.0407610e-04,           nan],\n",
       "        [          nan,           nan,           nan, ...,\n",
       "                   nan,           nan,           nan],\n",
       "        [0.0000000e+00,           nan, 0.0000000e+00, ...,\n",
       "                   nan, 0.0000000e+00,           nan]],\n",
       "\n",
       "       [[0.0000000e+00,           nan, 0.0000000e+00, ...,\n",
       "                   nan, 0.0000000e+00,           nan],\n",
       "        [          nan,           nan,           nan, ...,\n",
       "                   nan,           nan,           nan],\n",
       "        [0.0000000e+00,           nan, 0.0000000e+00, ...,\n",
       "                   nan, 2.8959769e-04,           nan],\n",
       "        ...,\n",
       "        [0.0000000e+00,           nan, 0.0000000e+00, ...,\n",
       "                   nan, 5.2888214e-04,           nan],\n",
       "        [          nan,           nan,           nan, ...,\n",
       "                   nan,           nan,           nan],\n",
       "        [0.0000000e+00,           nan, 0.0000000e+00, ...,\n",
       "                   nan, 0.0000000e+00,           nan]],\n",
       "\n",
       "       [[0.0000000e+00,           nan, 0.0000000e+00, ...,\n",
       "                   nan, 0.0000000e+00,           nan],\n",
       "        [          nan,           nan,           nan, ...,\n",
       "                   nan,           nan,           nan],\n",
       "        [0.0000000e+00,           nan, 0.0000000e+00, ...,\n",
       "                   nan, 3.3122255e-06,           nan],\n",
       "        ...,\n",
       "        [9.7007591e-10,           nan, 0.0000000e+00, ...,\n",
       "                   nan, 4.6950497e-04,           nan],\n",
       "        [          nan,           nan,           nan, ...,\n",
       "                   nan,           nan,           nan],\n",
       "        [0.0000000e+00,           nan, 0.0000000e+00, ...,\n",
       "                   nan, 0.0000000e+00,           nan]]], dtype=float32)"
      ]
     },
     "execution_count": 51,
     "metadata": {},
     "output_type": "execute_result"
    }
   ],
   "source": [
    "ds_.precipitation_flux.data.compute()"
   ]
  },
  {
   "cell_type": "code",
   "execution_count": 53,
   "metadata": {
    "collapsed": true,
    "jupyter": {
     "outputs_hidden": true
    }
   },
   "outputs": [
    {
     "name": "stdout",
     "output_type": "stream",
     "text": [
      "Written cube to ../zarr_xarray_multiphenom\n"
     ]
    }
   ],
   "source": [
    "zarr_store = '../zarr_xarray_multiphenom'\n",
    "xr_to_zarr(ds_, zarr_store)"
   ]
  },
  {
   "cell_type": "code",
   "execution_count": 54,
   "metadata": {
    "collapsed": true,
    "jupyter": {
     "outputs_hidden": true
    }
   },
   "outputs": [
    {
     "data": {
      "text/plain": [
       "<xarray.Dataset>\n",
       "Dimensions:                  (grid_latitude: 437, grid_longitude: 572, pressure: 14, time: 10)\n",
       "Coordinates:\n",
       "    forecast_period          (time) timedelta64[ns] dask.array<chunksize=(10,), meta=np.ndarray>\n",
       "    forecast_reference_time  datetime64[ns] ...\n",
       "  * grid_latitude            (grid_latitude) float32 -25.08 -24.969997 ... 22.88\n",
       "  * grid_longitude           (grid_longitude) float32 323.48 ... 386.29004\n",
       "    height                   float64 ...\n",
       "  * pressure                 (pressure) float32 10.0 50.0 100.0 ... 925.0 1000.0\n",
       "  * time                     (time) datetime64[ns] 1851-01-05T12:00:00 ... 1851-01-14T12:00:00\n",
       "Data variables:\n",
       "    air_temperature          (time, pressure, grid_latitude, grid_longitude) float32 dask.array<chunksize=(10, 1, 219, 286), meta=np.ndarray>\n",
       "    precipitation_flux       (time, grid_latitude, grid_longitude) float32 dask.array<chunksize=(10, 219, 286), meta=np.ndarray>\n",
       "    x_wind                   (time, grid_latitude, grid_longitude) float32 dask.array<chunksize=(10, 219, 286), meta=np.ndarray>\n",
       "    y_wind                   (time, grid_latitude, grid_longitude) float32 dask.array<chunksize=(10, 219, 286), meta=np.ndarray>"
      ]
     },
     "execution_count": 54,
     "metadata": {},
     "output_type": "execute_result"
    }
   ],
   "source": [
    "ds_z = xr.open_zarr(zarr_store)\n",
    "ds_z"
   ]
  },
  {
   "cell_type": "code",
   "execution_count": 59,
   "metadata": {
    "collapsed": true,
    "jupyter": {
     "outputs_hidden": true
    }
   },
   "outputs": [
    {
     "data": {
      "text/plain": [
       "masked_array(\n",
       "  data=[[[--, --, --, ..., --, --, --],\n",
       "         [--, -5.484375, --, ..., -1.3212890625, --, -1.3212890625],\n",
       "         [--, --, --, ..., --, --, --],\n",
       "         ...,\n",
       "         [--, --, --, ..., --, --, --],\n",
       "         [--, 1.994140625, --, ..., 3.4873046875, --, 3.4873046875],\n",
       "         [--, --, --, ..., --, --, --]],\n",
       "\n",
       "        [[--, --, --, ..., --, --, --],\n",
       "         [--, -6.1318359375, --, ..., 2.0751953125, --, 2.0751953125],\n",
       "         [--, --, --, ..., --, --, --],\n",
       "         ...,\n",
       "         [--, --, --, ..., --, --, --],\n",
       "         [--, 1.482421875, --, ..., -0.619140625, --, -0.619140625],\n",
       "         [--, --, --, ..., --, --, --]],\n",
       "\n",
       "        [[--, --, --, ..., --, --, --],\n",
       "         [--, -7.7412109375, --, ..., 4.8388671875, --, 4.8388671875],\n",
       "         [--, --, --, ..., --, --, --],\n",
       "         ...,\n",
       "         [--, --, --, ..., --, --, --],\n",
       "         [--, 0.6552734375, --, ..., 2.3408203125, --, 2.3408203125],\n",
       "         [--, --, --, ..., --, --, --]],\n",
       "\n",
       "        ...,\n",
       "\n",
       "        [[--, --, --, ..., --, --, --],\n",
       "         [--, -3.0009765625, --, ..., 4.544921875, --, 4.544921875],\n",
       "         [--, --, --, ..., --, --, --],\n",
       "         ...,\n",
       "         [--, --, --, ..., --, --, --],\n",
       "         [--, -2.31640625, --, ..., 4.576171875, --, 4.576171875],\n",
       "         [--, --, --, ..., --, --, --]],\n",
       "\n",
       "        [[--, --, --, ..., --, --, --],\n",
       "         [--, -3.6806640625, --, ..., 5.3837890625, --, 5.3837890625],\n",
       "         [--, --, --, ..., --, --, --],\n",
       "         ...,\n",
       "         [--, --, --, ..., --, --, --],\n",
       "         [--, -3.27734375, --, ..., 3.5732421875, --, 3.5732421875],\n",
       "         [--, --, --, ..., --, --, --]],\n",
       "\n",
       "        [[--, --, --, ..., --, --, --],\n",
       "         [--, -3.5419921875, --, ..., 5.626953125, --, 5.626953125],\n",
       "         [--, --, --, ..., --, --, --],\n",
       "         ...,\n",
       "         [--, --, --, ..., --, --, --],\n",
       "         [--, -4.66015625, --, ..., 3.8603515625, --, 3.8603515625],\n",
       "         [--, --, --, ..., --, --, --]]],\n",
       "  mask=[[[ True,  True,  True, ...,  True,  True,  True],\n",
       "         [ True, False,  True, ..., False,  True, False],\n",
       "         [ True,  True,  True, ...,  True,  True,  True],\n",
       "         ...,\n",
       "         [ True,  True,  True, ...,  True,  True,  True],\n",
       "         [ True, False,  True, ..., False,  True, False],\n",
       "         [ True,  True,  True, ...,  True,  True,  True]],\n",
       "\n",
       "        [[ True,  True,  True, ...,  True,  True,  True],\n",
       "         [ True, False,  True, ..., False,  True, False],\n",
       "         [ True,  True,  True, ...,  True,  True,  True],\n",
       "         ...,\n",
       "         [ True,  True,  True, ...,  True,  True,  True],\n",
       "         [ True, False,  True, ..., False,  True, False],\n",
       "         [ True,  True,  True, ...,  True,  True,  True]],\n",
       "\n",
       "        [[ True,  True,  True, ...,  True,  True,  True],\n",
       "         [ True, False,  True, ..., False,  True, False],\n",
       "         [ True,  True,  True, ...,  True,  True,  True],\n",
       "         ...,\n",
       "         [ True,  True,  True, ...,  True,  True,  True],\n",
       "         [ True, False,  True, ..., False,  True, False],\n",
       "         [ True,  True,  True, ...,  True,  True,  True]],\n",
       "\n",
       "        ...,\n",
       "\n",
       "        [[ True,  True,  True, ...,  True,  True,  True],\n",
       "         [ True, False,  True, ..., False,  True, False],\n",
       "         [ True,  True,  True, ...,  True,  True,  True],\n",
       "         ...,\n",
       "         [ True,  True,  True, ...,  True,  True,  True],\n",
       "         [ True, False,  True, ..., False,  True, False],\n",
       "         [ True,  True,  True, ...,  True,  True,  True]],\n",
       "\n",
       "        [[ True,  True,  True, ...,  True,  True,  True],\n",
       "         [ True, False,  True, ..., False,  True, False],\n",
       "         [ True,  True,  True, ...,  True,  True,  True],\n",
       "         ...,\n",
       "         [ True,  True,  True, ...,  True,  True,  True],\n",
       "         [ True, False,  True, ..., False,  True, False],\n",
       "         [ True,  True,  True, ...,  True,  True,  True]],\n",
       "\n",
       "        [[ True,  True,  True, ...,  True,  True,  True],\n",
       "         [ True, False,  True, ..., False,  True, False],\n",
       "         [ True,  True,  True, ...,  True,  True,  True],\n",
       "         ...,\n",
       "         [ True,  True,  True, ...,  True,  True,  True],\n",
       "         [ True, False,  True, ..., False,  True, False],\n",
       "         [ True,  True,  True, ...,  True,  True,  True]]],\n",
       "  fill_value=1e+20,\n",
       "  dtype=float32)"
      ]
     },
     "execution_count": 59,
     "metadata": {},
     "output_type": "execute_result"
    }
   ],
   "source": [
    "cube_x_z = ds_z.x_wind.to_iris()\n",
    "cube_x_z.data"
   ]
  },
  {
   "cell_type": "markdown",
   "metadata": {},
   "source": [
    "### CONCLUSION\n",
    "1. Merging xr.DataArrays with different grids results in sparse arrays on common grid\n",
    "2. If this is not desired behaviour, we can filter out data on different grids and save to seperate zarr groups\n",
    "3. Despite the interleaving, the zarr can be written, read by Xarray (NaN data) and converted to Iris cube (masked data)"
   ]
  },
  {
   "cell_type": "markdown",
   "metadata": {},
   "source": [
    "# NEXT: Non-interleaving grids"
   ]
  },
  {
   "cell_type": "code",
   "execution_count": 66,
   "metadata": {
    "collapsed": true,
    "jupyter": {
     "outputs_hidden": true
    }
   },
   "outputs": [
    {
     "name": "stdout",
     "output_type": "stream",
     "text": [
      "Cube loaded from apepda.pa526i0.nc\n"
     ]
    },
    {
     "data": {
      "text/html": [
       "\n",
       "<style>\n",
       "  a.iris {\n",
       "      text-decoration: none !important;\n",
       "  }\n",
       "  table.iris {\n",
       "      white-space: pre;\n",
       "      border: 1px solid;\n",
       "      border-color: #9c9c9c;\n",
       "      font-family: monaco, monospace;\n",
       "  }\n",
       "  th.iris {\n",
       "      background: #303f3f;\n",
       "      color: #e0e0e0;\n",
       "      border-left: 1px solid;\n",
       "      border-color: #9c9c9c;\n",
       "      font-size: 1.05em;\n",
       "      min-width: 50px;\n",
       "      max-width: 125px;\n",
       "  }\n",
       "  tr.iris :first-child {\n",
       "      border-right: 1px solid #9c9c9c !important;\n",
       "  }\n",
       "  td.iris-title {\n",
       "      background: #d5dcdf;\n",
       "      border-top: 1px solid #9c9c9c;\n",
       "      font-weight: bold;\n",
       "  }\n",
       "  .iris-word-cell {\n",
       "      text-align: left !important;\n",
       "      white-space: pre;\n",
       "  }\n",
       "  .iris-subheading-cell {\n",
       "      padding-left: 2em !important;\n",
       "  }\n",
       "  .iris-inclusion-cell {\n",
       "      padding-right: 1em !important;\n",
       "  }\n",
       "  .iris-panel-body {\n",
       "      padding-top: 0px;\n",
       "  }\n",
       "  .iris-panel-title {\n",
       "      padding-left: 3em;\n",
       "  }\n",
       "  .iris-panel-title {\n",
       "      margin-top: 7px;\n",
       "  }\n",
       "</style>\n",
       "<table class=\"iris\" id=\"140057208926784\">\n",
       "    <tr class=\"iris\">\n",
       "<th class=\"iris iris-word-cell\">M01S03I289 (1)</th>\n",
       "<th class=\"iris iris-word-cell\">pseudo_level</th>\n",
       "<th class=\"iris iris-word-cell\">time</th>\n",
       "<th class=\"iris iris-word-cell\">grid_latitude</th>\n",
       "<th class=\"iris iris-word-cell\">grid_longitude</th>\n",
       "</tr>\n",
       "    <tr class=\"iris\">\n",
       "<td class=\"iris-word-cell iris-subheading-cell\">Shape</td>\n",
       "<td class=\"iris iris-inclusion-cell\">5</td>\n",
       "<td class=\"iris iris-inclusion-cell\">10</td>\n",
       "<td class=\"iris iris-inclusion-cell\">219</td>\n",
       "<td class=\"iris iris-inclusion-cell\">286</td>\n",
       "</td>\n",
       "    <tr class=\"iris\">\n",
       "    <td class=\"iris-title iris-word-cell\">Dimension coordinates</td>\n",
       "    <td class=\"iris-title\"></td>\n",
       "    <td class=\"iris-title\"></td>\n",
       "    <td class=\"iris-title\"></td>\n",
       "    <td class=\"iris-title\"></td>\n",
       "</tr>\n",
       "<tr class=\"iris\">\n",
       "    <td class=\"iris-word-cell iris-subheading-cell\">\tpseudo_level</td>\n",
       "    <td class=\"iris-inclusion-cell\">x</td>\n",
       "    <td class=\"iris-inclusion-cell\">-</td>\n",
       "    <td class=\"iris-inclusion-cell\">-</td>\n",
       "    <td class=\"iris-inclusion-cell\">-</td>\n",
       "</tr>\n",
       "<tr class=\"iris\">\n",
       "    <td class=\"iris-word-cell iris-subheading-cell\">\ttime</td>\n",
       "    <td class=\"iris-inclusion-cell\">-</td>\n",
       "    <td class=\"iris-inclusion-cell\">x</td>\n",
       "    <td class=\"iris-inclusion-cell\">-</td>\n",
       "    <td class=\"iris-inclusion-cell\">-</td>\n",
       "</tr>\n",
       "<tr class=\"iris\">\n",
       "    <td class=\"iris-word-cell iris-subheading-cell\">\tgrid_latitude</td>\n",
       "    <td class=\"iris-inclusion-cell\">-</td>\n",
       "    <td class=\"iris-inclusion-cell\">-</td>\n",
       "    <td class=\"iris-inclusion-cell\">x</td>\n",
       "    <td class=\"iris-inclusion-cell\">-</td>\n",
       "</tr>\n",
       "<tr class=\"iris\">\n",
       "    <td class=\"iris-word-cell iris-subheading-cell\">\tgrid_longitude</td>\n",
       "    <td class=\"iris-inclusion-cell\">-</td>\n",
       "    <td class=\"iris-inclusion-cell\">-</td>\n",
       "    <td class=\"iris-inclusion-cell\">-</td>\n",
       "    <td class=\"iris-inclusion-cell\">x</td>\n",
       "</tr>\n",
       "<tr class=\"iris\">\n",
       "    <td class=\"iris-title iris-word-cell\">Auxiliary coordinates</td>\n",
       "    <td class=\"iris-title\"></td>\n",
       "    <td class=\"iris-title\"></td>\n",
       "    <td class=\"iris-title\"></td>\n",
       "    <td class=\"iris-title\"></td>\n",
       "</tr>\n",
       "<tr class=\"iris\">\n",
       "    <td class=\"iris-word-cell iris-subheading-cell\">\tforecast_period</td>\n",
       "    <td class=\"iris-inclusion-cell\">-</td>\n",
       "    <td class=\"iris-inclusion-cell\">x</td>\n",
       "    <td class=\"iris-inclusion-cell\">-</td>\n",
       "    <td class=\"iris-inclusion-cell\">-</td>\n",
       "</tr>\n",
       "<tr class=\"iris\">\n",
       "    <td class=\"iris-title iris-word-cell\">Scalar coordinates</td>\n",
       "    <td class=\"iris-title\"></td>\n",
       "    <td class=\"iris-title\"></td>\n",
       "    <td class=\"iris-title\"></td>\n",
       "    <td class=\"iris-title\"></td>\n",
       "</tr>\n",
       "<tr class=\"iris\">\n",
       "    <td class=\"iris-word-cell iris-subheading-cell\">\tforecast_reference_time</td>\n",
       "    <td class=\"iris-word-cell\" colspan=\"4\">1849-12-01 00:00:00</td>\n",
       "</tr>\n",
       "<tr class=\"iris\">\n",
       "    <td class=\"iris-title iris-word-cell\">Attributes</td>\n",
       "    <td class=\"iris-title\"></td>\n",
       "    <td class=\"iris-title\"></td>\n",
       "    <td class=\"iris-title\"></td>\n",
       "    <td class=\"iris-title\"></td>\n",
       "</tr>\n",
       "<tr class=\"iris\">\n",
       "    <td class=\"iris-word-cell iris-subheading-cell\">\tSTASH</td>\n",
       "    <td class=\"iris-word-cell\" colspan=\"4\">m01s03i289</td>\n",
       "</tr>\n",
       "<tr class=\"iris\">\n",
       "    <td class=\"iris-word-cell iris-subheading-cell\">\tsource</td>\n",
       "    <td class=\"iris-word-cell\" colspan=\"4\">Data from Met Office Unified Model</td>\n",
       "</tr>\n",
       "<tr class=\"iris\">\n",
       "    <td class=\"iris-title iris-word-cell\">Cell methods</td>\n",
       "    <td class=\"iris-title\"></td>\n",
       "    <td class=\"iris-title\"></td>\n",
       "    <td class=\"iris-title\"></td>\n",
       "    <td class=\"iris-title\"></td>\n",
       "</tr>\n",
       "<tr class=\"iris\">\n",
       "    <td class=\"iris-word-cell iris-subheading-cell\">\tmean</td>\n",
       "    <td class=\"iris-word-cell\" colspan=\"4\">time (1 hour)</td>\n",
       "</tr>\n",
       "</table>\n",
       "        "
      ],
      "text/plain": [
       "<iris 'Cube' of m01s03i289 / (1) (pseudo_level: 5; time: 10; grid_latitude: 219; grid_longitude: 286)>"
      ]
     },
     "execution_count": 66,
     "metadata": {},
     "output_type": "execute_result"
    }
   ],
   "source": [
    "filepath_nc = '/data/cssp-china/sample-data-17-01-20/cssp_china_nc/'\n",
    "filename_nc = 'apepda.pa526i0.nc'\n",
    "STASH_UNKNOWN = 'm01s03i289'\n",
    "cube_unknown = pp_to_cube(filename_nc, filepath_nc, constraints={'STASH': STASH_UNKNOWN})\n",
    "cube_unknown"
   ]
  },
  {
   "cell_type": "code",
   "execution_count": 67,
   "metadata": {
    "collapsed": true,
    "jupyter": {
     "outputs_hidden": true
    }
   },
   "outputs": [
    {
     "name": "stderr",
     "output_type": "stream",
     "text": [
      "/envs/auto-build-envs/datasci/lib/python3.6/site-packages/dask/array/core.py:3855: PerformanceWarning: Increasing number of chunks by factor of 10\n",
      "  **blockwise_kwargs\n"
     ]
    },
    {
     "data": {
      "text/plain": [
       "<xarray.Dataset>\n",
       "Dimensions:                  (grid_latitude: 437, grid_longitude: 572, pressure: 14, pseudo_level_0: 5, time: 20)\n",
       "Coordinates:\n",
       "  * grid_latitude            (grid_latitude) float64 -25.08 -24.97 ... 22.88\n",
       "  * grid_longitude           (grid_longitude) float64 323.5 323.6 ... 386.3\n",
       "  * time                     (time) datetime64[ns] 1851-01-05T12:00:00 ... 1852-06-17T12:00:00\n",
       "  * pressure                 (pressure) float32 10.0 50.0 100.0 ... 925.0 1000.0\n",
       "    forecast_reference_time  datetime64[ns] 1849-12-01\n",
       "    forecast_period          (time) timedelta64[ns] 400 days 12:00:00 ... 929 days 12:00:00\n",
       "    height                   float64 10.0\n",
       "  * pseudo_level_0           (pseudo_level_0) int32 1 2 3 4 5\n",
       "Data variables:\n",
       "    air_temperature          (time, pressure, grid_latitude, grid_longitude) float32 dask.array<chunksize=(1, 1, 437, 572), meta=np.ndarray>\n",
       "    precipitation_flux       (time, grid_latitude, grid_longitude) float32 dask.array<chunksize=(1, 437, 572), meta=np.ndarray>\n",
       "    x_wind                   (time, grid_latitude, grid_longitude) float32 dask.array<chunksize=(1, 437, 572), meta=np.ndarray>\n",
       "    y_wind                   (time, grid_latitude, grid_longitude) float32 dask.array<chunksize=(1, 437, 572), meta=np.ndarray>\n",
       "    m01s03i289               (pseudo_level_0, time, grid_latitude, grid_longitude) float32 dask.array<chunksize=(5, 20, 437, 572), meta=np.ndarray>"
      ]
     },
     "execution_count": 67,
     "metadata": {},
     "output_type": "execute_result"
    }
   ],
   "source": [
    "da_unk = xr.DataArray.from_iris(cube_unknown)\n",
    "ds_unk = xr.merge([ds_, da_unk])\n",
    "ds_unk"
   ]
  },
  {
   "cell_type": "code",
   "execution_count": 70,
   "metadata": {
    "collapsed": true,
    "jupyter": {
     "outputs_hidden": true
    }
   },
   "outputs": [
    {
     "data": {
      "text/plain": [
       "array([[[[          nan,           nan,           nan, ...,\n",
       "                    nan,           nan,           nan],\n",
       "         [          nan,           nan,           nan, ...,\n",
       "                    nan,           nan,           nan],\n",
       "         [          nan,           nan,           nan, ...,\n",
       "                    nan,           nan,           nan],\n",
       "         ...,\n",
       "         [          nan,           nan,           nan, ...,\n",
       "                    nan,           nan,           nan],\n",
       "         [          nan,           nan,           nan, ...,\n",
       "                    nan,           nan,           nan],\n",
       "         [          nan,           nan,           nan, ...,\n",
       "                    nan,           nan,           nan]],\n",
       "\n",
       "        [[          nan,           nan,           nan, ...,\n",
       "                    nan,           nan,           nan],\n",
       "         [          nan,           nan,           nan, ...,\n",
       "                    nan,           nan,           nan],\n",
       "         [          nan,           nan,           nan, ...,\n",
       "                    nan,           nan,           nan],\n",
       "         ...,\n",
       "         [          nan,           nan,           nan, ...,\n",
       "                    nan,           nan,           nan],\n",
       "         [          nan,           nan,           nan, ...,\n",
       "                    nan,           nan,           nan],\n",
       "         [          nan,           nan,           nan, ...,\n",
       "                    nan,           nan,           nan]],\n",
       "\n",
       "        [[          nan,           nan,           nan, ...,\n",
       "                    nan,           nan,           nan],\n",
       "         [          nan,           nan,           nan, ...,\n",
       "                    nan,           nan,           nan],\n",
       "         [          nan,           nan,           nan, ...,\n",
       "                    nan,           nan,           nan],\n",
       "         ...,\n",
       "         [          nan,           nan,           nan, ...,\n",
       "                    nan,           nan,           nan],\n",
       "         [          nan,           nan,           nan, ...,\n",
       "                    nan,           nan,           nan],\n",
       "         [          nan,           nan,           nan, ...,\n",
       "                    nan,           nan,           nan]],\n",
       "\n",
       "        ...,\n",
       "\n",
       "        [[          nan,           nan,           nan, ...,\n",
       "                    nan,           nan,           nan],\n",
       "         [          nan,           nan,           nan, ...,\n",
       "                    nan,           nan,           nan],\n",
       "         [          nan,           nan,           nan, ...,\n",
       "                    nan,           nan,           nan],\n",
       "         ...,\n",
       "         [7.9688640e-08,           nan, 7.9688640e-08, ...,\n",
       "                    nan,           nan,           nan],\n",
       "         [          nan,           nan,           nan, ...,\n",
       "                    nan,           nan,           nan],\n",
       "         [7.9688640e-08,           nan, 7.9688640e-08, ...,\n",
       "                    nan,           nan,           nan]],\n",
       "\n",
       "        [[          nan,           nan,           nan, ...,\n",
       "                    nan,           nan,           nan],\n",
       "         [          nan,           nan,           nan, ...,\n",
       "                    nan,           nan,           nan],\n",
       "         [          nan,           nan,           nan, ...,\n",
       "                    nan,           nan,           nan],\n",
       "         ...,\n",
       "         [7.9071256e-08,           nan, 7.9071256e-08, ...,\n",
       "                    nan,           nan,           nan],\n",
       "         [          nan,           nan,           nan, ...,\n",
       "                    nan,           nan,           nan],\n",
       "         [7.9071256e-08,           nan, 7.9071256e-08, ...,\n",
       "                    nan,           nan,           nan]],\n",
       "\n",
       "        [[          nan,           nan,           nan, ...,\n",
       "                    nan,           nan,           nan],\n",
       "         [          nan,           nan,           nan, ...,\n",
       "                    nan,           nan,           nan],\n",
       "         [          nan,           nan,           nan, ...,\n",
       "                    nan,           nan,           nan],\n",
       "         ...,\n",
       "         [7.9058431e-08,           nan, 7.9058431e-08, ...,\n",
       "                    nan,           nan,           nan],\n",
       "         [          nan,           nan,           nan, ...,\n",
       "                    nan,           nan,           nan],\n",
       "         [7.9058431e-08,           nan, 7.9058431e-08, ...,\n",
       "                    nan,           nan,           nan]]],\n",
       "\n",
       "\n",
       "       [[[          nan,           nan,           nan, ...,\n",
       "                    nan,           nan,           nan],\n",
       "         [          nan,           nan,           nan, ...,\n",
       "                    nan,           nan,           nan],\n",
       "         [          nan,           nan,           nan, ...,\n",
       "                    nan,           nan,           nan],\n",
       "         ...,\n",
       "         [          nan,           nan,           nan, ...,\n",
       "                    nan,           nan,           nan],\n",
       "         [          nan,           nan,           nan, ...,\n",
       "                    nan,           nan,           nan],\n",
       "         [          nan,           nan,           nan, ...,\n",
       "                    nan,           nan,           nan]],\n",
       "\n",
       "        [[          nan,           nan,           nan, ...,\n",
       "                    nan,           nan,           nan],\n",
       "         [          nan,           nan,           nan, ...,\n",
       "                    nan,           nan,           nan],\n",
       "         [          nan,           nan,           nan, ...,\n",
       "                    nan,           nan,           nan],\n",
       "         ...,\n",
       "         [          nan,           nan,           nan, ...,\n",
       "                    nan,           nan,           nan],\n",
       "         [          nan,           nan,           nan, ...,\n",
       "                    nan,           nan,           nan],\n",
       "         [          nan,           nan,           nan, ...,\n",
       "                    nan,           nan,           nan]],\n",
       "\n",
       "        [[          nan,           nan,           nan, ...,\n",
       "                    nan,           nan,           nan],\n",
       "         [          nan,           nan,           nan, ...,\n",
       "                    nan,           nan,           nan],\n",
       "         [          nan,           nan,           nan, ...,\n",
       "                    nan,           nan,           nan],\n",
       "         ...,\n",
       "         [          nan,           nan,           nan, ...,\n",
       "                    nan,           nan,           nan],\n",
       "         [          nan,           nan,           nan, ...,\n",
       "                    nan,           nan,           nan],\n",
       "         [          nan,           nan,           nan, ...,\n",
       "                    nan,           nan,           nan]],\n",
       "\n",
       "        ...,\n",
       "\n",
       "        [[          nan,           nan,           nan, ...,\n",
       "                    nan,           nan,           nan],\n",
       "         [          nan,           nan,           nan, ...,\n",
       "                    nan,           nan,           nan],\n",
       "         [          nan,           nan,           nan, ...,\n",
       "                    nan,           nan,           nan],\n",
       "         ...,\n",
       "         [4.0365563e-08,           nan, 4.0365563e-08, ...,\n",
       "                    nan,           nan,           nan],\n",
       "         [          nan,           nan,           nan, ...,\n",
       "                    nan,           nan,           nan],\n",
       "         [4.0365563e-08,           nan, 4.0365563e-08, ...,\n",
       "                    nan,           nan,           nan]],\n",
       "\n",
       "        [[          nan,           nan,           nan, ...,\n",
       "                    nan,           nan,           nan],\n",
       "         [          nan,           nan,           nan, ...,\n",
       "                    nan,           nan,           nan],\n",
       "         [          nan,           nan,           nan, ...,\n",
       "                    nan,           nan,           nan],\n",
       "         ...,\n",
       "         [4.4381569e-08,           nan, 4.4381569e-08, ...,\n",
       "                    nan,           nan,           nan],\n",
       "         [          nan,           nan,           nan, ...,\n",
       "                    nan,           nan,           nan],\n",
       "         [4.4381569e-08,           nan, 4.4381569e-08, ...,\n",
       "                    nan,           nan,           nan]],\n",
       "\n",
       "        [[          nan,           nan,           nan, ...,\n",
       "                    nan,           nan,           nan],\n",
       "         [          nan,           nan,           nan, ...,\n",
       "                    nan,           nan,           nan],\n",
       "         [          nan,           nan,           nan, ...,\n",
       "                    nan,           nan,           nan],\n",
       "         ...,\n",
       "         [4.0428343e-08,           nan, 4.0428343e-08, ...,\n",
       "                    nan,           nan,           nan],\n",
       "         [          nan,           nan,           nan, ...,\n",
       "                    nan,           nan,           nan],\n",
       "         [4.0428343e-08,           nan, 4.0428343e-08, ...,\n",
       "                    nan,           nan,           nan]]],\n",
       "\n",
       "\n",
       "       [[[          nan,           nan,           nan, ...,\n",
       "                    nan,           nan,           nan],\n",
       "         [          nan,           nan,           nan, ...,\n",
       "                    nan,           nan,           nan],\n",
       "         [          nan,           nan,           nan, ...,\n",
       "                    nan,           nan,           nan],\n",
       "         ...,\n",
       "         [          nan,           nan,           nan, ...,\n",
       "                    nan,           nan,           nan],\n",
       "         [          nan,           nan,           nan, ...,\n",
       "                    nan,           nan,           nan],\n",
       "         [          nan,           nan,           nan, ...,\n",
       "                    nan,           nan,           nan]],\n",
       "\n",
       "        [[          nan,           nan,           nan, ...,\n",
       "                    nan,           nan,           nan],\n",
       "         [          nan,           nan,           nan, ...,\n",
       "                    nan,           nan,           nan],\n",
       "         [          nan,           nan,           nan, ...,\n",
       "                    nan,           nan,           nan],\n",
       "         ...,\n",
       "         [          nan,           nan,           nan, ...,\n",
       "                    nan,           nan,           nan],\n",
       "         [          nan,           nan,           nan, ...,\n",
       "                    nan,           nan,           nan],\n",
       "         [          nan,           nan,           nan, ...,\n",
       "                    nan,           nan,           nan]],\n",
       "\n",
       "        [[          nan,           nan,           nan, ...,\n",
       "                    nan,           nan,           nan],\n",
       "         [          nan,           nan,           nan, ...,\n",
       "                    nan,           nan,           nan],\n",
       "         [          nan,           nan,           nan, ...,\n",
       "                    nan,           nan,           nan],\n",
       "         ...,\n",
       "         [          nan,           nan,           nan, ...,\n",
       "                    nan,           nan,           nan],\n",
       "         [          nan,           nan,           nan, ...,\n",
       "                    nan,           nan,           nan],\n",
       "         [          nan,           nan,           nan, ...,\n",
       "                    nan,           nan,           nan]],\n",
       "\n",
       "        ...,\n",
       "\n",
       "        [[          nan,           nan,           nan, ...,\n",
       "                    nan,           nan,           nan],\n",
       "         [          nan,           nan,           nan, ...,\n",
       "                    nan,           nan,           nan],\n",
       "         [          nan,           nan,           nan, ...,\n",
       "                    nan,           nan,           nan],\n",
       "         ...,\n",
       "         [8.3789672e-08,           nan, 8.3789672e-08, ...,\n",
       "                    nan,           nan,           nan],\n",
       "         [          nan,           nan,           nan, ...,\n",
       "                    nan,           nan,           nan],\n",
       "         [8.3789672e-08,           nan, 8.3789672e-08, ...,\n",
       "                    nan,           nan,           nan]],\n",
       "\n",
       "        [[          nan,           nan,           nan, ...,\n",
       "                    nan,           nan,           nan],\n",
       "         [          nan,           nan,           nan, ...,\n",
       "                    nan,           nan,           nan],\n",
       "         [          nan,           nan,           nan, ...,\n",
       "                    nan,           nan,           nan],\n",
       "         ...,\n",
       "         [7.8991306e-08,           nan, 7.8991306e-08, ...,\n",
       "                    nan,           nan,           nan],\n",
       "         [          nan,           nan,           nan, ...,\n",
       "                    nan,           nan,           nan],\n",
       "         [7.8991306e-08,           nan, 7.8991306e-08, ...,\n",
       "                    nan,           nan,           nan]],\n",
       "\n",
       "        [[          nan,           nan,           nan, ...,\n",
       "                    nan,           nan,           nan],\n",
       "         [          nan,           nan,           nan, ...,\n",
       "                    nan,           nan,           nan],\n",
       "         [          nan,           nan,           nan, ...,\n",
       "                    nan,           nan,           nan],\n",
       "         ...,\n",
       "         [7.6928238e-08,           nan, 7.6928238e-08, ...,\n",
       "                    nan,           nan,           nan],\n",
       "         [          nan,           nan,           nan, ...,\n",
       "                    nan,           nan,           nan],\n",
       "         [7.6928238e-08,           nan, 7.6928238e-08, ...,\n",
       "                    nan,           nan,           nan]]],\n",
       "\n",
       "\n",
       "       [[[          nan,           nan,           nan, ...,\n",
       "                    nan,           nan,           nan],\n",
       "         [          nan,           nan,           nan, ...,\n",
       "                    nan,           nan,           nan],\n",
       "         [          nan,           nan,           nan, ...,\n",
       "                    nan,           nan,           nan],\n",
       "         ...,\n",
       "         [          nan,           nan,           nan, ...,\n",
       "                    nan,           nan,           nan],\n",
       "         [          nan,           nan,           nan, ...,\n",
       "                    nan,           nan,           nan],\n",
       "         [          nan,           nan,           nan, ...,\n",
       "                    nan,           nan,           nan]],\n",
       "\n",
       "        [[          nan,           nan,           nan, ...,\n",
       "                    nan,           nan,           nan],\n",
       "         [          nan,           nan,           nan, ...,\n",
       "                    nan,           nan,           nan],\n",
       "         [          nan,           nan,           nan, ...,\n",
       "                    nan,           nan,           nan],\n",
       "         ...,\n",
       "         [          nan,           nan,           nan, ...,\n",
       "                    nan,           nan,           nan],\n",
       "         [          nan,           nan,           nan, ...,\n",
       "                    nan,           nan,           nan],\n",
       "         [          nan,           nan,           nan, ...,\n",
       "                    nan,           nan,           nan]],\n",
       "\n",
       "        [[          nan,           nan,           nan, ...,\n",
       "                    nan,           nan,           nan],\n",
       "         [          nan,           nan,           nan, ...,\n",
       "                    nan,           nan,           nan],\n",
       "         [          nan,           nan,           nan, ...,\n",
       "                    nan,           nan,           nan],\n",
       "         ...,\n",
       "         [          nan,           nan,           nan, ...,\n",
       "                    nan,           nan,           nan],\n",
       "         [          nan,           nan,           nan, ...,\n",
       "                    nan,           nan,           nan],\n",
       "         [          nan,           nan,           nan, ...,\n",
       "                    nan,           nan,           nan]],\n",
       "\n",
       "        ...,\n",
       "\n",
       "        [[          nan,           nan,           nan, ...,\n",
       "                    nan,           nan,           nan],\n",
       "         [          nan,           nan,           nan, ...,\n",
       "                    nan,           nan,           nan],\n",
       "         [          nan,           nan,           nan, ...,\n",
       "                    nan,           nan,           nan],\n",
       "         ...,\n",
       "         [9.7567877e-08,           nan, 9.7567877e-08, ...,\n",
       "                    nan,           nan,           nan],\n",
       "         [          nan,           nan,           nan, ...,\n",
       "                    nan,           nan,           nan],\n",
       "         [9.7567877e-08,           nan, 9.7567877e-08, ...,\n",
       "                    nan,           nan,           nan]],\n",
       "\n",
       "        [[          nan,           nan,           nan, ...,\n",
       "                    nan,           nan,           nan],\n",
       "         [          nan,           nan,           nan, ...,\n",
       "                    nan,           nan,           nan],\n",
       "         [          nan,           nan,           nan, ...,\n",
       "                    nan,           nan,           nan],\n",
       "         ...,\n",
       "         [8.0395431e-08,           nan, 8.0395431e-08, ...,\n",
       "                    nan,           nan,           nan],\n",
       "         [          nan,           nan,           nan, ...,\n",
       "                    nan,           nan,           nan],\n",
       "         [8.0395431e-08,           nan, 8.0395431e-08, ...,\n",
       "                    nan,           nan,           nan]],\n",
       "\n",
       "        [[          nan,           nan,           nan, ...,\n",
       "                    nan,           nan,           nan],\n",
       "         [          nan,           nan,           nan, ...,\n",
       "                    nan,           nan,           nan],\n",
       "         [          nan,           nan,           nan, ...,\n",
       "                    nan,           nan,           nan],\n",
       "         ...,\n",
       "         [8.6996906e-08,           nan, 8.6996906e-08, ...,\n",
       "                    nan,           nan,           nan],\n",
       "         [          nan,           nan,           nan, ...,\n",
       "                    nan,           nan,           nan],\n",
       "         [8.6996906e-08,           nan, 8.6996906e-08, ...,\n",
       "                    nan,           nan,           nan]]],\n",
       "\n",
       "\n",
       "       [[[          nan,           nan,           nan, ...,\n",
       "                    nan,           nan,           nan],\n",
       "         [          nan,           nan,           nan, ...,\n",
       "                    nan,           nan,           nan],\n",
       "         [          nan,           nan,           nan, ...,\n",
       "                    nan,           nan,           nan],\n",
       "         ...,\n",
       "         [          nan,           nan,           nan, ...,\n",
       "                    nan,           nan,           nan],\n",
       "         [          nan,           nan,           nan, ...,\n",
       "                    nan,           nan,           nan],\n",
       "         [          nan,           nan,           nan, ...,\n",
       "                    nan,           nan,           nan]],\n",
       "\n",
       "        [[          nan,           nan,           nan, ...,\n",
       "                    nan,           nan,           nan],\n",
       "         [          nan,           nan,           nan, ...,\n",
       "                    nan,           nan,           nan],\n",
       "         [          nan,           nan,           nan, ...,\n",
       "                    nan,           nan,           nan],\n",
       "         ...,\n",
       "         [          nan,           nan,           nan, ...,\n",
       "                    nan,           nan,           nan],\n",
       "         [          nan,           nan,           nan, ...,\n",
       "                    nan,           nan,           nan],\n",
       "         [          nan,           nan,           nan, ...,\n",
       "                    nan,           nan,           nan]],\n",
       "\n",
       "        [[          nan,           nan,           nan, ...,\n",
       "                    nan,           nan,           nan],\n",
       "         [          nan,           nan,           nan, ...,\n",
       "                    nan,           nan,           nan],\n",
       "         [          nan,           nan,           nan, ...,\n",
       "                    nan,           nan,           nan],\n",
       "         ...,\n",
       "         [          nan,           nan,           nan, ...,\n",
       "                    nan,           nan,           nan],\n",
       "         [          nan,           nan,           nan, ...,\n",
       "                    nan,           nan,           nan],\n",
       "         [          nan,           nan,           nan, ...,\n",
       "                    nan,           nan,           nan]],\n",
       "\n",
       "        ...,\n",
       "\n",
       "        [[          nan,           nan,           nan, ...,\n",
       "                    nan,           nan,           nan],\n",
       "         [          nan,           nan,           nan, ...,\n",
       "                    nan,           nan,           nan],\n",
       "         [          nan,           nan,           nan, ...,\n",
       "                    nan,           nan,           nan],\n",
       "         ...,\n",
       "         [4.3578687e-08,           nan, 4.3578687e-08, ...,\n",
       "                    nan,           nan,           nan],\n",
       "         [          nan,           nan,           nan, ...,\n",
       "                    nan,           nan,           nan],\n",
       "         [4.3578687e-08,           nan, 4.3578687e-08, ...,\n",
       "                    nan,           nan,           nan]],\n",
       "\n",
       "        [[          nan,           nan,           nan, ...,\n",
       "                    nan,           nan,           nan],\n",
       "         [          nan,           nan,           nan, ...,\n",
       "                    nan,           nan,           nan],\n",
       "         [          nan,           nan,           nan, ...,\n",
       "                    nan,           nan,           nan],\n",
       "         ...,\n",
       "         [4.1994898e-08,           nan, 4.1994898e-08, ...,\n",
       "                    nan,           nan,           nan],\n",
       "         [          nan,           nan,           nan, ...,\n",
       "                    nan,           nan,           nan],\n",
       "         [4.1994898e-08,           nan, 4.1994898e-08, ...,\n",
       "                    nan,           nan,           nan]],\n",
       "\n",
       "        [[          nan,           nan,           nan, ...,\n",
       "                    nan,           nan,           nan],\n",
       "         [          nan,           nan,           nan, ...,\n",
       "                    nan,           nan,           nan],\n",
       "         [          nan,           nan,           nan, ...,\n",
       "                    nan,           nan,           nan],\n",
       "         ...,\n",
       "         [4.0274745e-08,           nan, 4.0274745e-08, ...,\n",
       "                    nan,           nan,           nan],\n",
       "         [          nan,           nan,           nan, ...,\n",
       "                    nan,           nan,           nan],\n",
       "         [4.0274745e-08,           nan, 4.0274745e-08, ...,\n",
       "                    nan,           nan,           nan]]]], dtype=float32)"
      ]
     },
     "execution_count": 70,
     "metadata": {},
     "output_type": "execute_result"
    }
   ],
   "source": [
    "ds_unk.m01s03i289.data.compute()"
   ]
  },
  {
   "cell_type": "markdown",
   "metadata": {},
   "source": [
    "### This gnarly cube is still on one of the two grids so can still be interleaved"
   ]
  },
  {
   "cell_type": "markdown",
   "metadata": {},
   "source": [
    "# NEXT 2.0: What happens if we add something like UKV data?"
   ]
  },
  {
   "cell_type": "code",
   "execution_count": 71,
   "metadata": {
    "collapsed": true,
    "jupyter": {
     "outputs_hidden": true
    }
   },
   "outputs": [
    {
     "data": {
      "text/plain": [
       "[<iris 'Cube' of air_pressure_at_sea_level / (Pa) (forecast_period: 6; forecast_reference_time: 4; grid_latitude: 810; grid_longitude: 621)>]"
      ]
     },
     "execution_count": 71,
     "metadata": {},
     "output_type": "execute_result"
    }
   ],
   "source": [
    "filepath_ukv = '/data/project-data-ukv/pmsl/'\n",
    "filename_ukv = 'pmsl_ukv_20171201.nc'\n",
    "cubes_ukv = iris.load(os.path.join(filepath_ukv, filename_ukv))\n",
    "cubes_ukv"
   ]
  },
  {
   "cell_type": "code",
   "execution_count": 72,
   "metadata": {
    "collapsed": true,
    "jupyter": {
     "outputs_hidden": true
    }
   },
   "outputs": [
    {
     "data": {
      "text/plain": [
       "<xarray.DataArray 'air_pressure_at_sea_level' (forecast_period: 6, forecast_reference_time: 4, grid_latitude: 810, grid_longitude: 621)>\n",
       "dask.array<filled, shape=(6, 4, 810, 621), dtype=float32, chunksize=(6, 4, 810, 621), chunktype=numpy.ndarray>\n",
       "Coordinates:\n",
       "  * forecast_period          (forecast_period) timedelta64[ns] 00:00:00 ... 05:00:00\n",
       "  * forecast_reference_time  (forecast_reference_time) datetime64[ns] 2017-12-01T03:00:00 ... 2017-12-01T21:00:00\n",
       "  * grid_latitude            (grid_latitude) float32 -3.7707 -3.7572 ... 7.1508\n",
       "  * grid_longitude           (grid_longitude) float64 354.9 354.9 ... 363.3\n",
       "    time                     (forecast_reference_time, forecast_period) datetime64[ns] ...\n",
       "Attributes:\n",
       "    standard_name:  air_pressure_at_sea_level\n",
       "    units:          Pa\n",
       "    source:         Data from Met Office Unified Model\n",
       "    um_version:     10.6\n",
       "    Conventions:    CF-1.5\n",
       "    STASH:          m01s16i222"
      ]
     },
     "execution_count": 72,
     "metadata": {},
     "output_type": "execute_result"
    }
   ],
   "source": [
    "da_ukv = xr.DataArray.from_iris(cubes_ukv[0])\n",
    "da_ukv"
   ]
  },
  {
   "cell_type": "code",
   "execution_count": 73,
   "metadata": {
    "collapsed": true,
    "jupyter": {
     "outputs_hidden": true
    }
   },
   "outputs": [
    {
     "name": "stderr",
     "output_type": "stream",
     "text": [
      "/envs/auto-build-envs/datasci/lib/python3.6/site-packages/dask/array/core.py:3855: PerformanceWarning: Increasing number of chunks by factor of 10\n",
      "  **blockwise_kwargs\n"
     ]
    },
    {
     "data": {
      "text/plain": [
       "<xarray.Dataset>\n",
       "Dimensions:                    (forecast_period: 6, forecast_reference_time: 4, grid_latitude: 1247, grid_longitude: 1193, pressure: 14, pseudo_level_0: 5, time: 20)\n",
       "Coordinates:\n",
       "  * grid_latitude              (grid_latitude) float64 -25.08 -24.97 ... 22.88\n",
       "  * grid_longitude             (grid_longitude) float64 323.5 323.6 ... 386.3\n",
       "  * time                       (time) datetime64[ns] 1851-01-05T12:00:00 ... 1852-06-17T12:00:00\n",
       "  * pressure                   (pressure) float32 10.0 50.0 ... 925.0 1000.0\n",
       "  * forecast_reference_time    (forecast_reference_time) datetime64[ns] 2017-12-01T03:00:00 ... 2017-12-01T21:00:00\n",
       "  * forecast_period            (forecast_period) timedelta64[ns] 00:00:00 ... 05:00:00\n",
       "    height                     float64 10.0\n",
       "  * pseudo_level_0             (pseudo_level_0) int32 1 2 3 4 5\n",
       "Data variables:\n",
       "    air_temperature            (time, pressure, grid_latitude, grid_longitude) float32 dask.array<chunksize=(1, 1, 1247, 1193), meta=np.ndarray>\n",
       "    precipitation_flux         (time, grid_latitude, grid_longitude) float32 dask.array<chunksize=(1, 1247, 1193), meta=np.ndarray>\n",
       "    x_wind                     (time, grid_latitude, grid_longitude) float32 dask.array<chunksize=(1, 1247, 1193), meta=np.ndarray>\n",
       "    y_wind                     (time, grid_latitude, grid_longitude) float32 dask.array<chunksize=(1, 1247, 1193), meta=np.ndarray>\n",
       "    m01s03i289                 (pseudo_level_0, time, grid_latitude, grid_longitude) float32 dask.array<chunksize=(5, 20, 1247, 1193), meta=np.ndarray>\n",
       "    air_pressure_at_sea_level  (forecast_period, forecast_reference_time, grid_latitude, grid_longitude) float32 dask.array<chunksize=(6, 4, 1247, 1193), meta=np.ndarray>"
      ]
     },
     "execution_count": 73,
     "metadata": {},
     "output_type": "execute_result"
    }
   ],
   "source": [
    "ds_disgusting = xr.merge([ds_unk, da_ukv])\n",
    "ds_disgusting"
   ]
  },
  {
   "cell_type": "code",
   "execution_count": 74,
   "metadata": {
    "collapsed": true,
    "jupyter": {
     "outputs_hidden": true
    }
   },
   "outputs": [
    {
     "data": {
      "text/plain": [
       "<xarray.DataArray 'air_pressure_at_sea_level' (forecast_period: 6, forecast_reference_time: 4, grid_latitude: 1247, grid_longitude: 1193)>\n",
       "dask.array<where, shape=(6, 4, 1247, 1193), dtype=float32, chunksize=(6, 4, 1247, 1193), chunktype=numpy.ndarray>\n",
       "Coordinates:\n",
       "  * grid_latitude            (grid_latitude) float64 -25.08 -24.97 ... 22.88\n",
       "  * grid_longitude           (grid_longitude) float64 323.5 323.6 ... 386.3\n",
       "  * forecast_reference_time  (forecast_reference_time) datetime64[ns] 2017-12-01T03:00:00 ... 2017-12-01T21:00:00\n",
       "  * forecast_period          (forecast_period) timedelta64[ns] 00:00:00 ... 05:00:00\n",
       "    height                   float64 10.0\n",
       "Attributes:\n",
       "    standard_name:  air_pressure_at_sea_level\n",
       "    units:          Pa\n",
       "    source:         Data from Met Office Unified Model\n",
       "    um_version:     10.6\n",
       "    Conventions:    CF-1.5\n",
       "    STASH:          m01s16i222"
      ]
     },
     "execution_count": 74,
     "metadata": {},
     "output_type": "execute_result"
    }
   ],
   "source": [
    "ds_disgusting.air_pressure_at_sea_level"
   ]
  },
  {
   "cell_type": "code",
   "execution_count": 75,
   "metadata": {
    "collapsed": true,
    "jupyter": {
     "outputs_hidden": true
    }
   },
   "outputs": [
    {
     "data": {
      "text/plain": [
       "<xarray.DataArray 'air_pressure_at_sea_level' (grid_latitude: 1247, grid_longitude: 1193)>\n",
       "dask.array<getitem, shape=(1247, 1193), dtype=float32, chunksize=(1247, 1193), chunktype=numpy.ndarray>\n",
       "Coordinates:\n",
       "  * grid_latitude            (grid_latitude) float64 -25.08 -24.97 ... 22.88\n",
       "  * grid_longitude           (grid_longitude) float64 323.5 323.6 ... 386.3\n",
       "    forecast_reference_time  datetime64[ns] 2017-12-01T09:00:00\n",
       "    forecast_period          timedelta64[ns] 01:00:00\n",
       "    height                   float64 10.0\n",
       "Attributes:\n",
       "    standard_name:  air_pressure_at_sea_level\n",
       "    units:          Pa\n",
       "    source:         Data from Met Office Unified Model\n",
       "    um_version:     10.6\n",
       "    Conventions:    CF-1.5\n",
       "    STASH:          m01s16i222"
      ]
     },
     "execution_count": 75,
     "metadata": {},
     "output_type": "execute_result"
    }
   ],
   "source": [
    "ds_disgusting.air_pressure_at_sea_level[1, 1, :, :]"
   ]
  },
  {
   "cell_type": "code",
   "execution_count": 78,
   "metadata": {
    "collapsed": true,
    "jupyter": {
     "outputs_hidden": true
    }
   },
   "outputs": [
    {
     "data": {
      "text/plain": [
       "<matplotlib.collections.QuadMesh at 0x7f60ec163d68>"
      ]
     },
     "execution_count": 78,
     "metadata": {},
     "output_type": "execute_result"
    },
    {
     "data": {
      "image/png": "[encoded data removed]",
      "text/plain": [
       "<Figure size 432x288 with 2 Axes>"
      ]
     },
     "metadata": {
      "needs_background": "light"
     },
     "output_type": "display_data"
    }
   ],
   "source": [
    "%matplotlib inline\n",
    "ds_disgusting.air_pressure_at_sea_level[1, 1, :, :].plot()"
   ]
  },
  {
   "cell_type": "code",
   "execution_count": 80,
   "metadata": {
    "collapsed": true,
    "jupyter": {
     "outputs_hidden": true
    }
   },
   "outputs": [
    {
     "data": {
      "text/plain": [
       "<matplotlib.collections.QuadMesh at 0x7f60ec07bd30>"
      ]
     },
     "execution_count": 80,
     "metadata": {},
     "output_type": "execute_result"
    },
    {
     "data": {
      "image/png": "[encoded data removed]",
      "text/plain": [
       "<Figure size 432x288 with 2 Axes>"
      ]
     },
     "metadata": {
      "needs_background": "light"
     },
     "output_type": "display_data"
    }
   ],
   "source": [
    "ds_disgusting.x_wind[1].plot()"
   ]
  },
  {
   "cell_type": "code",
   "execution_count": null,
   "metadata": {
    "collapsed": true,
    "jupyter": {
     "outputs_hidden": true
    }
   },
   "outputs": [],
   "source": []
  }
 ],
 "metadata": {
  "kernelspec": {
   "display_name": "Python (datasci)",
   "language": "python",
   "name": "datasci"
  },
  "language_info": {
   "codemirror_mode": {
    "name": "ipython",
    "version": 3
   },
   "file_extension": ".py",
   "mimetype": "text/x-python",
   "name": "python",
   "nbconvert_exporter": "python",
   "pygments_lexer": "ipython3",
   "version": "3.6.9"
  }
 },
 "nbformat": 4,
 "nbformat_minor": 4
}
