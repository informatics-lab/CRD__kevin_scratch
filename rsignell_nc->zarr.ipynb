{
 "cells": [
  {
   "cell_type": "markdown",
   "metadata": {},
   "source": [
    "# Convert lots of small NetCDFs to one big Zarr\n",
    "The National Water Model writes a new NetCDF file for each hour, resulting in 8760 files for a year!  Here's how we are convering bunchs of little NetCDF files to Zarr.  \n",
    "\n",
    "In theory, this would be a simple as:\n",
    "\n",
    "```\n",
    "import xarray as xr\n",
    "ds = xr.open_mfdataset('*.nc')\n",
    "ds.to_zarr('all_nc.zarr', consolidated=True)\n",
    "```\n",
    "\n",
    "In practice, we usually want to rechunk and xarray has issues with certain NetCDF elements, and it's a bit more complicated...."
   ]
  },
  {
   "cell_type": "code",
   "execution_count": null,
   "metadata": {},
   "outputs": [],
   "source": [
    "import numpy as np\n",
    "import xarray as xr\n",
    "import pandas as pd\n",
    "import numcodecs\n",
    "from dask.distributed import Client, progress, LocalCluster"
   ]
  },
  {
   "cell_type": "markdown",
   "metadata": {},
   "source": [
    "Build a list of filenames for open_mfdataset"
   ]
  },
  {
   "cell_type": "code",
   "execution_count": null,
   "metadata": {},
   "outputs": [],
   "source": [
    "dates = pd.date_range(start='2017-01-01 00:00',end='2017-12-31 23:00', freq='1h')\n",
    "\n",
    "files = ['./nc/{}/{}.CHRTOUT_DOMAIN1.comp'.format(date.strftime('%Y'),date.strftime('%Y%m%d%H%M')) for date in dates]"
   ]
  },
  {
   "cell_type": "code",
   "execution_count": null,
   "metadata": {},
   "outputs": [],
   "source": [
    "len(files)"
   ]
  },
  {
   "cell_type": "code",
   "execution_count": null,
   "metadata": {},
   "outputs": [],
   "source": [
    "dset = xr.open_dataset(files[0])"
   ]
  },
  {
   "cell_type": "code",
   "execution_count": null,
   "metadata": {},
   "outputs": [],
   "source": [
    "dset"
   ]
  },
  {
   "cell_type": "markdown",
   "metadata": {},
   "source": [
    "A nice chunk size for object storage is on the order of 100Mb.   "
   ]
  },
  {
   "cell_type": "code",
   "execution_count": null,
   "metadata": {},
   "outputs": [],
   "source": [
    "time_chunk_size = 672   \n",
    "feature_chunk_size = 30000"
   ]
  },
  {
   "cell_type": "code",
   "execution_count": null,
   "metadata": {},
   "outputs": [],
   "source": [
    "len(files)/time_chunk_size"
   ]
  },
  {
   "cell_type": "code",
   "execution_count": null,
   "metadata": {},
   "outputs": [],
   "source": [
    "nchunks = len(dset.feature_id)/feature_chunk_size\n",
    "nchunks"
   ]
  },
  {
   "cell_type": "code",
   "execution_count": null,
   "metadata": {},
   "outputs": [],
   "source": [
    "nt_chunks = int(np.ceil(len(files)/time_chunk_size))\n",
    "nt_chunks"
   ]
  },
  {
   "cell_type": "code",
   "execution_count": null,
   "metadata": {},
   "outputs": [],
   "source": [
    "(time_chunk_size * feature_chunk_size )*8 / 1e6"
   ]
  },
  {
   "cell_type": "markdown",
   "metadata": {},
   "source": [
    "... Close enough to 100Mb"
   ]
  },
  {
   "cell_type": "markdown",
   "metadata": {},
   "source": [
    "Create a function to drop stuff that messes up `open_mfdataset`"
   ]
  },
  {
   "cell_type": "code",
   "execution_count": null,
   "metadata": {},
   "outputs": [],
   "source": [
    "def drop_coords(ds):\n",
    "    ds = ds.drop(['reference_time','feature_id', 'crs'])\n",
    "    return ds.reset_coords(drop=True)"
   ]
  },
  {
   "cell_type": "markdown",
   "metadata": {},
   "source": [
    "Create a local dask cluster"
   ]
  },
  {
   "cell_type": "code",
   "execution_count": null,
   "metadata": {},
   "outputs": [],
   "source": [
    "cluster = LocalCluster()\n",
    "cluster"
   ]
  },
  {
   "cell_type": "code",
   "execution_count": null,
   "metadata": {},
   "outputs": [],
   "source": [
    "client = Client(cluster)"
   ]
  },
  {
   "cell_type": "markdown",
   "metadata": {},
   "source": [
    "Tell blosc not to use threads since we are using dask to parallelize"
   ]
  },
  {
   "cell_type": "code",
   "execution_count": null,
   "metadata": {},
   "outputs": [],
   "source": [
    "numcodecs.blosc.use_threads = False"
   ]
  },
  {
   "cell_type": "markdown",
   "metadata": {},
   "source": [
    "Step our way through the dataset, reading one chunk along the time dimension at a time, to avoid dask reading too many chunks before writing and blowing out memory.  First time chunk is written to zarr, then others are appended. "
   ]
  },
  {
   "cell_type": "code",
   "execution_count": null,
   "metadata": {},
   "outputs": [],
   "source": [
    "%%time\n",
    "for i in range(nt_chunks):\n",
    "#for i in range(1):\n",
    "    print(i)\n",
    "    istart = i * time_chunk_size\n",
    "    istop = int(np.min([(i+1) * time_chunk_size, len(files)]))\n",
    "    \n",
    "    ds = xr.open_mfdataset(files[istart:istop], parallel=True, preprocess=drop_coords, combine='by_coords', \n",
    "                       concat_dim='time')\n",
    "\n",
    "    # add back in the 'feature_id' coordinate removed by preprocessing \n",
    "    ds.coords['feature_id'] = dset.coords['feature_id']\n",
    "\n",
    "    ds1 = ds.chunk(chunks={'time':time_chunk_size, 'feature_id':feature_chunk_size})\n",
    "\n",
    "    if i==0:\n",
    "        ds1.to_zarr('zarr/2017f', consolidated=True, mode='w')\n",
    "    else:\n",
    "        ds1.to_zarr('zarr/2017f', consolidated=True, append_dim='time')"
   ]
  },
  {
   "cell_type": "code",
   "execution_count": null,
   "metadata": {},
   "outputs": [],
   "source": []
  }
 ],
 "metadata": {
  "kernelspec": {
   "display_name": "Python (datasci)",
   "language": "python",
   "name": "datasci"
  },
  "language_info": {
   "codemirror_mode": {
    "name": "ipython",
    "version": 3
   },
   "file_extension": ".py",
   "mimetype": "text/x-python",
   "name": "python",
   "nbconvert_exporter": "python",
   "pygments_lexer": "ipython3",
   "version": "3.6.9"
  },
  "widgets": {
   "application/vnd.jupyter.widget-state+json": {
    "state": {
     "09f60392b4f441f392f7aa3fa8d685ca": {
      "model_module": "@jupyter-widgets/base",
      "model_module_version": "1.2.0",
      "model_name": "LayoutModel",
      "state": {}
     },
     "0bd9e97ffe06417ca2f9ecbd58b8c7ce": {
      "model_module": "@jupyter-widgets/base",
      "model_module_version": "1.2.0",
      "model_name": "LayoutModel",
      "state": {}
     },
     "0bde0522f4944f9497cc25fd281f4f34": {
      "model_module": "@jupyter-widgets/controls",
      "model_module_version": "1.5.0",
      "model_name": "DescriptionStyleModel",
      "state": {
       "description_width": ""
      }
     },
     "0cbfede68ed74f2ebec869ddaac41bd2": {
      "model_module": "@jupyter-widgets/controls",
      "model_module_version": "1.5.0",
      "model_name": "HBoxModel",
      "state": {
       "children": [
        "IPY_MODEL_166f3bbbf8f24df89172b53a48fa5816",
        "IPY_MODEL_35b998ec9ddf432ea878503e4cb57009",
        "IPY_MODEL_bd9e1db6ebae464d81372683366da6f4"
       ],
       "layout": "IPY_MODEL_7fa59a02422f404ca36d887d3d34f527"
      }
     },
     "10444f48e4fb406d8e74d70cc61992db": {
      "model_module": "@jupyter-widgets/base",
      "model_module_version": "1.2.0",
      "model_name": "LayoutModel",
      "state": {
       "min_width": "150px"
      }
     },
     "116b525d7c1a45dea10afdf32575fc2a": {
      "model_module": "@jupyter-widgets/controls",
      "model_module_version": "1.5.0",
      "model_name": "HTMLModel",
      "state": {
       "layout": "IPY_MODEL_5c270e206e2e475eb0fc2b54aa8185b8",
       "style": "IPY_MODEL_fad38e1d0d474d4e9a3d3ee879f20572",
       "value": "<h2>LocalCluster</h2>"
      }
     },
     "14edd9679e994692848cf3fa73e4e0c2": {
      "model_module": "@jupyter-widgets/base",
      "model_module_version": "1.2.0",
      "model_name": "LayoutModel",
      "state": {
       "width": "150px"
      }
     },
     "166f3bbbf8f24df89172b53a48fa5816": {
      "model_module": "@jupyter-widgets/controls",
      "model_module_version": "1.5.0",
      "model_name": "IntTextModel",
      "state": {
       "description": "Minimum",
       "layout": "IPY_MODEL_4e98f0fa3b474197b3fe7a3578f84694",
       "step": 1,
       "style": "IPY_MODEL_5d47dac17314417ea9650f660884a5de"
      }
     },
     "18aaea04573e46f48af8e85af387e6f3": {
      "model_module": "@jupyter-widgets/controls",
      "model_module_version": "1.5.0",
      "model_name": "HTMLModel",
      "state": {
       "layout": "IPY_MODEL_7ca4114c01f749b6a0bcbb04f36e8816",
       "style": "IPY_MODEL_96b4210ee9c74accb8859fd04b1a2bc8",
       "value": "<h2>LocalCluster</h2>"
      }
     },
     "1a514a329bed4cb6815fce201ec81a25": {
      "model_module": "@jupyter-widgets/controls",
      "model_module_version": "1.5.0",
      "model_name": "DescriptionStyleModel",
      "state": {
       "description_width": ""
      }
     },
     "1b70ea94a58348e281d3c8f59aa11e21": {
      "model_module": "@jupyter-widgets/controls",
      "model_module_version": "1.5.0",
      "model_name": "ButtonModel",
      "state": {
       "description": "Adapt",
       "layout": "IPY_MODEL_7ada416dd4654703a9de7d85695b5046",
       "style": "IPY_MODEL_9a71a8911eb34a2ca4ef363006191dd2"
      }
     },
     "1d2a9582bbbe4b9fb7708e804500aa88": {
      "model_module": "@jupyter-widgets/controls",
      "model_module_version": "1.5.0",
      "model_name": "HBoxModel",
      "state": {
       "children": [
        "IPY_MODEL_939a097c3dfd48c1995b927e17535930",
        "IPY_MODEL_4aa6653eaed845679ba2e1e841e0cc76",
        "IPY_MODEL_1b70ea94a58348e281d3c8f59aa11e21"
       ],
       "layout": "IPY_MODEL_a45f633ac50b4805852214e4b26f0c70"
      }
     },
     "2807c7610de342a48b1f9764cc10bac3": {
      "model_module": "@jupyter-widgets/controls",
      "model_module_version": "1.5.0",
      "model_name": "HTMLModel",
      "state": {
       "layout": "IPY_MODEL_3fece436655c4e8b884947da0d1077c8",
       "style": "IPY_MODEL_f73a46a0ab0b43dea33108da0a005707",
       "value": "\n<div>\n  <style scoped>\n    .dataframe tbody tr th:only-of-type {\n        vertical-align: middle;\n    }\n\n    .dataframe tbody tr th {\n        vertical-align: top;\n    }\n\n    .dataframe thead th {\n        text-align: right;\n    }\n  </style>\n  <table style=\"text-align: right;\">\n    <tr> <th>Workers</th> <td>8</td></tr>\n    <tr> <th>Cores</th> <td>8</td></tr>\n    <tr> <th>Memory</th> <td>540.91 GB</td></tr>\n  </table>\n</div>\n"
      }
     },
     "2c51f71ae92f41ffb08f5e1fa42b7942": {
      "model_module": "@jupyter-widgets/controls",
      "model_module_version": "1.5.0",
      "model_name": "IntTextModel",
      "state": {
       "description": "Maximum",
       "layout": "IPY_MODEL_14edd9679e994692848cf3fa73e4e0c2",
       "step": 1,
       "style": "IPY_MODEL_341582d6265c4722961af219b4b73c0d"
      }
     },
     "341582d6265c4722961af219b4b73c0d": {
      "model_module": "@jupyter-widgets/controls",
      "model_module_version": "1.5.0",
      "model_name": "DescriptionStyleModel",
      "state": {
       "description_width": ""
      }
     },
     "34781e3f3e374d1bae0bf8515c788526": {
      "model_module": "@jupyter-widgets/controls",
      "model_module_version": "1.5.0",
      "model_name": "DescriptionStyleModel",
      "state": {
       "description_width": ""
      }
     },
     "35515d765a8d4512a0b21c0523c96a9b": {
      "model_module": "@jupyter-widgets/base",
      "model_module_version": "1.2.0",
      "model_name": "LayoutModel",
      "state": {}
     },
     "35b998ec9ddf432ea878503e4cb57009": {
      "model_module": "@jupyter-widgets/controls",
      "model_module_version": "1.5.0",
      "model_name": "IntTextModel",
      "state": {
       "description": "Maximum",
       "layout": "IPY_MODEL_4e98f0fa3b474197b3fe7a3578f84694",
       "step": 1,
       "style": "IPY_MODEL_45012b509e82447a882168c89cc3294a"
      }
     },
     "384da4a05e45440db06de4e61c267994": {
      "model_module": "@jupyter-widgets/base",
      "model_module_version": "1.2.0",
      "model_name": "LayoutModel",
      "state": {}
     },
     "399a1411fbfe47fe82f6bf804b434c09": {
      "model_module": "@jupyter-widgets/controls",
      "model_module_version": "1.5.0",
      "model_name": "ButtonModel",
      "state": {
       "description": "Scale",
       "layout": "IPY_MODEL_14edd9679e994692848cf3fa73e4e0c2",
       "style": "IPY_MODEL_ef4283a199be4280a7473f78921ebb7a"
      }
     },
     "3a4a70223ad04577afe21c0a2caeb8f5": {
      "model_module": "@jupyter-widgets/controls",
      "model_module_version": "1.5.0",
      "model_name": "HTMLModel",
      "state": {
       "layout": "IPY_MODEL_a580d96051814c57bde0f41678f00504",
       "style": "IPY_MODEL_0bde0522f4944f9497cc25fd281f4f34",
       "value": "<p><b>Dashboard: </b><a href=\"http://127.0.0.1:8787/status\" target=\"_blank\">http://127.0.0.1:8787/status</a></p>\n"
      }
     },
     "3b193b9eb576419fa6d90ad278476d44": {
      "model_module": "@jupyter-widgets/base",
      "model_module_version": "1.2.0",
      "model_name": "LayoutModel",
      "state": {}
     },
     "3b59684f3fec4aa2ae0067c92b30f114": {
      "model_module": "@jupyter-widgets/base",
      "model_module_version": "1.2.0",
      "model_name": "LayoutModel",
      "state": {}
     },
     "3fabe6bdaa1f4c1d86f5a775271c3e5a": {
      "model_module": "@jupyter-widgets/controls",
      "model_module_version": "1.5.0",
      "model_name": "DescriptionStyleModel",
      "state": {
       "description_width": ""
      }
     },
     "3fece436655c4e8b884947da0d1077c8": {
      "model_module": "@jupyter-widgets/base",
      "model_module_version": "1.2.0",
      "model_name": "LayoutModel",
      "state": {
       "min_width": "150px"
      }
     },
     "41d8470e436544949947590cf2d81b0b": {
      "model_module": "@jupyter-widgets/base",
      "model_module_version": "1.2.0",
      "model_name": "LayoutModel",
      "state": {}
     },
     "4326bbd2e1f04b96ba1651f0457d7ab6": {
      "model_module": "@jupyter-widgets/controls",
      "model_module_version": "1.5.0",
      "model_name": "DescriptionStyleModel",
      "state": {
       "description_width": ""
      }
     },
     "45012b509e82447a882168c89cc3294a": {
      "model_module": "@jupyter-widgets/controls",
      "model_module_version": "1.5.0",
      "model_name": "DescriptionStyleModel",
      "state": {
       "description_width": ""
      }
     },
     "46632b2539ad4841ac37a98cb241ce90": {
      "model_module": "@jupyter-widgets/controls",
      "model_module_version": "1.5.0",
      "model_name": "ButtonStyleModel",
      "state": {}
     },
     "4a16b2b89dd74c449df5db89fb352b59": {
      "model_module": "@jupyter-widgets/base",
      "model_module_version": "1.2.0",
      "model_name": "LayoutModel",
      "state": {}
     },
     "4aa6653eaed845679ba2e1e841e0cc76": {
      "model_module": "@jupyter-widgets/controls",
      "model_module_version": "1.5.0",
      "model_name": "IntTextModel",
      "state": {
       "description": "Maximum",
       "layout": "IPY_MODEL_7ada416dd4654703a9de7d85695b5046",
       "step": 1,
       "style": "IPY_MODEL_e9def914fe924407bab482718bf010b1"
      }
     },
     "4e554b6f74464e34b9e4d90e8594d0e3": {
      "model_module": "@jupyter-widgets/controls",
      "model_module_version": "1.5.0",
      "model_name": "IntTextModel",
      "state": {
       "description": "Workers",
       "layout": "IPY_MODEL_7ada416dd4654703a9de7d85695b5046",
       "step": 1,
       "style": "IPY_MODEL_3fabe6bdaa1f4c1d86f5a775271c3e5a"
      }
     },
     "4e98f0fa3b474197b3fe7a3578f84694": {
      "model_module": "@jupyter-widgets/base",
      "model_module_version": "1.2.0",
      "model_name": "LayoutModel",
      "state": {
       "width": "150px"
      }
     },
     "513369a2a1fc4edc9622cebfd45bdbf2": {
      "model_module": "@jupyter-widgets/base",
      "model_module_version": "1.2.0",
      "model_name": "LayoutModel",
      "state": {}
     },
     "51b64c28ab574dc99c19181bb345a935": {
      "model_module": "@jupyter-widgets/controls",
      "model_module_version": "1.5.0",
      "model_name": "AccordionModel",
      "state": {
       "_titles": {
        "0": "Manual Scaling",
        "1": "Adaptive Scaling"
       },
       "children": [
        "IPY_MODEL_6a8cdb8f59ec45b384902120d2a09f0a",
        "IPY_MODEL_83585005cc2e4b27a170fc53685e103a"
       ],
       "layout": "IPY_MODEL_c7c22c4e2c344b81a6a2e35b0b1bb94d",
       "selected_index": null
      }
     },
     "561afce9032e409bb5b3b032225d5541": {
      "model_module": "@jupyter-widgets/controls",
      "model_module_version": "1.5.0",
      "model_name": "ButtonModel",
      "state": {
       "description": "Scale",
       "layout": "IPY_MODEL_4e98f0fa3b474197b3fe7a3578f84694",
       "style": "IPY_MODEL_e1fc1a716fb94daebdb5cf168522ffce"
      }
     },
     "56965f7145e043a2bbb2166cb9862555": {
      "model_module": "@jupyter-widgets/base",
      "model_module_version": "1.2.0",
      "model_name": "LayoutModel",
      "state": {}
     },
     "5bd0da2940754727a532aefab927e1a4": {
      "model_module": "@jupyter-widgets/controls",
      "model_module_version": "1.5.0",
      "model_name": "ButtonStyleModel",
      "state": {}
     },
     "5c270e206e2e475eb0fc2b54aa8185b8": {
      "model_module": "@jupyter-widgets/base",
      "model_module_version": "1.2.0",
      "model_name": "LayoutModel",
      "state": {}
     },
     "5d47dac17314417ea9650f660884a5de": {
      "model_module": "@jupyter-widgets/controls",
      "model_module_version": "1.5.0",
      "model_name": "DescriptionStyleModel",
      "state": {
       "description_width": ""
      }
     },
     "68c8449613ae4f2e885702d870fb8ec8": {
      "model_module": "@jupyter-widgets/base",
      "model_module_version": "1.2.0",
      "model_name": "LayoutModel",
      "state": {}
     },
     "6a8cdb8f59ec45b384902120d2a09f0a": {
      "model_module": "@jupyter-widgets/controls",
      "model_module_version": "1.5.0",
      "model_name": "HBoxModel",
      "state": {
       "children": [
        "IPY_MODEL_ac287d6940104586860c1c76f58531e4",
        "IPY_MODEL_399a1411fbfe47fe82f6bf804b434c09"
       ],
       "layout": "IPY_MODEL_41d8470e436544949947590cf2d81b0b"
      }
     },
     "6a9542952e694341b1c3c31735295f76": {
      "model_module": "@jupyter-widgets/controls",
      "model_module_version": "1.5.0",
      "model_name": "HTMLModel",
      "state": {
       "layout": "IPY_MODEL_10444f48e4fb406d8e74d70cc61992db",
       "style": "IPY_MODEL_97d85cf4e0da42859bcca341c35ee548",
       "value": "\n<div>\n  <style scoped>\n    .dataframe tbody tr th:only-of-type {\n        vertical-align: middle;\n    }\n\n    .dataframe tbody tr th {\n        vertical-align: top;\n    }\n\n    .dataframe thead th {\n        text-align: right;\n    }\n  </style>\n  <table style=\"text-align: right;\">\n    <tr> <th>Workers</th> <td>8</td></tr>\n    <tr> <th>Cores</th> <td>40</td></tr>\n    <tr> <th>Memory</th> <td>540.91 GB</td></tr>\n  </table>\n</div>\n"
      }
     },
     "6adf9acec6544b7c8320442ed5ea7d4d": {
      "model_module": "@jupyter-widgets/base",
      "model_module_version": "1.2.0",
      "model_name": "LayoutModel",
      "state": {}
     },
     "6b3bb80a29044d7a98771511718cb797": {
      "model_module": "@jupyter-widgets/controls",
      "model_module_version": "1.5.0",
      "model_name": "HTMLModel",
      "state": {
       "layout": "IPY_MODEL_b790110b58254695af23818ec6d06f47",
       "style": "IPY_MODEL_9091aaee251349eba0672cc81c3d8056",
       "value": "\n<div>\n  <style scoped>\n    .dataframe tbody tr th:only-of-type {\n        vertical-align: middle;\n    }\n\n    .dataframe tbody tr th {\n        vertical-align: top;\n    }\n\n    .dataframe thead th {\n        text-align: right;\n    }\n  </style>\n  <table style=\"text-align: right;\">\n    <tr> <th>Workers</th> <td>8</td></tr>\n    <tr> <th>Cores</th> <td>40</td></tr>\n    <tr> <th>Memory</th> <td>540.91 GB</td></tr>\n  </table>\n</div>\n"
      }
     },
     "6bbe1fbd905741fa8c0d7a2d0742f519": {
      "model_module": "@jupyter-widgets/base",
      "model_module_version": "1.2.0",
      "model_name": "LayoutModel",
      "state": {}
     },
     "6fa3dd431b92447989bc63e59c1253e5": {
      "model_module": "@jupyter-widgets/controls",
      "model_module_version": "1.5.0",
      "model_name": "DescriptionStyleModel",
      "state": {
       "description_width": ""
      }
     },
     "79c74a13946a43c3a7d55300bf085866": {
      "model_module": "@jupyter-widgets/controls",
      "model_module_version": "1.5.0",
      "model_name": "VBoxModel",
      "state": {
       "children": [
        "IPY_MODEL_116b525d7c1a45dea10afdf32575fc2a",
        "IPY_MODEL_ec90aea084414c71a8338c5c2d68e307",
        "IPY_MODEL_ce9aaee26ddd48ab9f44bf616774d7fd"
       ],
       "layout": "IPY_MODEL_3b59684f3fec4aa2ae0067c92b30f114"
      }
     },
     "7ada416dd4654703a9de7d85695b5046": {
      "model_module": "@jupyter-widgets/base",
      "model_module_version": "1.2.0",
      "model_name": "LayoutModel",
      "state": {
       "width": "150px"
      }
     },
     "7ca4114c01f749b6a0bcbb04f36e8816": {
      "model_module": "@jupyter-widgets/base",
      "model_module_version": "1.2.0",
      "model_name": "LayoutModel",
      "state": {}
     },
     "7f42b0885b844ceda8a213c4ab634df7": {
      "model_module": "@jupyter-widgets/controls",
      "model_module_version": "1.5.0",
      "model_name": "ButtonModel",
      "state": {
       "description": "Adapt",
       "layout": "IPY_MODEL_14edd9679e994692848cf3fa73e4e0c2",
       "style": "IPY_MODEL_46632b2539ad4841ac37a98cb241ce90"
      }
     },
     "7fa59a02422f404ca36d887d3d34f527": {
      "model_module": "@jupyter-widgets/base",
      "model_module_version": "1.2.0",
      "model_name": "LayoutModel",
      "state": {}
     },
     "83585005cc2e4b27a170fc53685e103a": {
      "model_module": "@jupyter-widgets/controls",
      "model_module_version": "1.5.0",
      "model_name": "HBoxModel",
      "state": {
       "children": [
        "IPY_MODEL_dfe452c763cf4ea4bb95bb1ab560ed2c",
        "IPY_MODEL_2c51f71ae92f41ffb08f5e1fa42b7942",
        "IPY_MODEL_7f42b0885b844ceda8a213c4ab634df7"
       ],
       "layout": "IPY_MODEL_513369a2a1fc4edc9622cebfd45bdbf2"
      }
     },
     "85f9adb9e20c4abea53873cbba30755c": {
      "model_module": "@jupyter-widgets/controls",
      "model_module_version": "1.5.0",
      "model_name": "HTMLModel",
      "state": {
       "layout": "IPY_MODEL_4a16b2b89dd74c449df5db89fb352b59",
       "style": "IPY_MODEL_4326bbd2e1f04b96ba1651f0457d7ab6",
       "value": "<h2>LocalCluster</h2>"
      }
     },
     "867cfdb1bcd2476987cb789f6c92f550": {
      "model_module": "@jupyter-widgets/controls",
      "model_module_version": "1.5.0",
      "model_name": "HBoxModel",
      "state": {
       "children": [
        "IPY_MODEL_4e554b6f74464e34b9e4d90e8594d0e3",
        "IPY_MODEL_e0330ca1a7c9475fad76b5912a8b9d3b"
       ],
       "layout": "IPY_MODEL_68c8449613ae4f2e885702d870fb8ec8"
      }
     },
     "8857abc3b0a44f7aab2e8295cfad8d1b": {
      "model_module": "@jupyter-widgets/controls",
      "model_module_version": "1.5.0",
      "model_name": "AccordionModel",
      "state": {
       "_titles": {
        "0": "Manual Scaling",
        "1": "Adaptive Scaling"
       },
       "children": [
        "IPY_MODEL_91c9b6f075284222ac23934df67d5563",
        "IPY_MODEL_0cbfede68ed74f2ebec869ddaac41bd2"
       ],
       "layout": "IPY_MODEL_f9a36bc7fb1342578d03cd9acb56e119",
       "selected_index": null
      }
     },
     "9091aaee251349eba0672cc81c3d8056": {
      "model_module": "@jupyter-widgets/controls",
      "model_module_version": "1.5.0",
      "model_name": "DescriptionStyleModel",
      "state": {
       "description_width": ""
      }
     },
     "91c9b6f075284222ac23934df67d5563": {
      "model_module": "@jupyter-widgets/controls",
      "model_module_version": "1.5.0",
      "model_name": "HBoxModel",
      "state": {
       "children": [
        "IPY_MODEL_fb72fa920a65490c98934909cfaa56a8",
        "IPY_MODEL_561afce9032e409bb5b3b032225d5541"
       ],
       "layout": "IPY_MODEL_6adf9acec6544b7c8320442ed5ea7d4d"
      }
     },
     "939a097c3dfd48c1995b927e17535930": {
      "model_module": "@jupyter-widgets/controls",
      "model_module_version": "1.5.0",
      "model_name": "IntTextModel",
      "state": {
       "description": "Minimum",
       "layout": "IPY_MODEL_7ada416dd4654703a9de7d85695b5046",
       "step": 1,
       "style": "IPY_MODEL_dc0543b7b997483fb7f6142be03800a0"
      }
     },
     "96b4210ee9c74accb8859fd04b1a2bc8": {
      "model_module": "@jupyter-widgets/controls",
      "model_module_version": "1.5.0",
      "model_name": "DescriptionStyleModel",
      "state": {
       "description_width": ""
      }
     },
     "97d85cf4e0da42859bcca341c35ee548": {
      "model_module": "@jupyter-widgets/controls",
      "model_module_version": "1.5.0",
      "model_name": "DescriptionStyleModel",
      "state": {
       "description_width": ""
      }
     },
     "9a71a8911eb34a2ca4ef363006191dd2": {
      "model_module": "@jupyter-widgets/controls",
      "model_module_version": "1.5.0",
      "model_name": "ButtonStyleModel",
      "state": {}
     },
     "a45f633ac50b4805852214e4b26f0c70": {
      "model_module": "@jupyter-widgets/base",
      "model_module_version": "1.2.0",
      "model_name": "LayoutModel",
      "state": {}
     },
     "a580d96051814c57bde0f41678f00504": {
      "model_module": "@jupyter-widgets/base",
      "model_module_version": "1.2.0",
      "model_name": "LayoutModel",
      "state": {}
     },
     "a8db9564850144d2aeeba623174f5ae2": {
      "model_module": "@jupyter-widgets/controls",
      "model_module_version": "1.5.0",
      "model_name": "ButtonStyleModel",
      "state": {}
     },
     "ac287d6940104586860c1c76f58531e4": {
      "model_module": "@jupyter-widgets/controls",
      "model_module_version": "1.5.0",
      "model_name": "IntTextModel",
      "state": {
       "description": "Workers",
       "layout": "IPY_MODEL_14edd9679e994692848cf3fa73e4e0c2",
       "step": 1,
       "style": "IPY_MODEL_e62ceffe4a9b40d196329b63c7cb1560"
      }
     },
     "b0b6a9fdb5d74c41811b9c87a1889e7d": {
      "model_module": "@jupyter-widgets/controls",
      "model_module_version": "1.5.0",
      "model_name": "VBoxModel",
      "state": {
       "children": [
        "IPY_MODEL_85f9adb9e20c4abea53873cbba30755c",
        "IPY_MODEL_deac1bb711064eff846235fc15b63852",
        "IPY_MODEL_3a4a70223ad04577afe21c0a2caeb8f5"
       ],
       "layout": "IPY_MODEL_35515d765a8d4512a0b21c0523c96a9b"
      }
     },
     "b74ee393e2564af9bd280cb095d1e590": {
      "model_module": "@jupyter-widgets/base",
      "model_module_version": "1.2.0",
      "model_name": "LayoutModel",
      "state": {
       "min_width": "500px"
      }
     },
     "b790110b58254695af23818ec6d06f47": {
      "model_module": "@jupyter-widgets/base",
      "model_module_version": "1.2.0",
      "model_name": "LayoutModel",
      "state": {
       "min_width": "150px"
      }
     },
     "bd9e1db6ebae464d81372683366da6f4": {
      "model_module": "@jupyter-widgets/controls",
      "model_module_version": "1.5.0",
      "model_name": "ButtonModel",
      "state": {
       "description": "Adapt",
       "layout": "IPY_MODEL_4e98f0fa3b474197b3fe7a3578f84694",
       "style": "IPY_MODEL_5bd0da2940754727a532aefab927e1a4"
      }
     },
     "c7c22c4e2c344b81a6a2e35b0b1bb94d": {
      "model_module": "@jupyter-widgets/base",
      "model_module_version": "1.2.0",
      "model_name": "LayoutModel",
      "state": {
       "min_width": "500px"
      }
     },
     "cae579065b134bfb89083f984a0e8de5": {
      "model_module": "@jupyter-widgets/controls",
      "model_module_version": "1.5.0",
      "model_name": "DescriptionStyleModel",
      "state": {
       "description_width": ""
      }
     },
     "cd0958c1e2a049269e5a8fb9337ea95e": {
      "model_module": "@jupyter-widgets/controls",
      "model_module_version": "1.5.0",
      "model_name": "AccordionModel",
      "state": {
       "_titles": {
        "0": "Manual Scaling",
        "1": "Adaptive Scaling"
       },
       "children": [
        "IPY_MODEL_867cfdb1bcd2476987cb789f6c92f550",
        "IPY_MODEL_1d2a9582bbbe4b9fb7708e804500aa88"
       ],
       "layout": "IPY_MODEL_b74ee393e2564af9bd280cb095d1e590",
       "selected_index": null
      }
     },
     "ce9aaee26ddd48ab9f44bf616774d7fd": {
      "model_module": "@jupyter-widgets/controls",
      "model_module_version": "1.5.0",
      "model_name": "HTMLModel",
      "state": {
       "layout": "IPY_MODEL_09f60392b4f441f392f7aa3fa8d685ca",
       "style": "IPY_MODEL_6fa3dd431b92447989bc63e59c1253e5",
       "value": "<p><b>Dashboard: </b><a href=\"http://127.0.0.1:8787/status\" target=\"_blank\">http://127.0.0.1:8787/status</a></p>\n"
      }
     },
     "d2a69396a4a44cb7be4f30a0afeeaa2d": {
      "model_module": "@jupyter-widgets/controls",
      "model_module_version": "1.5.0",
      "model_name": "HTMLModel",
      "state": {
       "layout": "IPY_MODEL_6bbe1fbd905741fa8c0d7a2d0742f519",
       "style": "IPY_MODEL_34781e3f3e374d1bae0bf8515c788526",
       "value": "<p><b>Dashboard: </b><a href=\"http://127.0.0.1:8787/status\" target=\"_blank\">http://127.0.0.1:8787/status</a></p>\n"
      }
     },
     "d48d41d4e6b9440bb9f19db20a06b31b": {
      "model_module": "@jupyter-widgets/controls",
      "model_module_version": "1.5.0",
      "model_name": "VBoxModel",
      "state": {
       "children": [
        "IPY_MODEL_18aaea04573e46f48af8e85af387e6f3",
        "IPY_MODEL_d97648f5761e4602a3bf16be017947f2",
        "IPY_MODEL_d2a69396a4a44cb7be4f30a0afeeaa2d"
       ],
       "layout": "IPY_MODEL_56965f7145e043a2bbb2166cb9862555"
      }
     },
     "d97648f5761e4602a3bf16be017947f2": {
      "model_module": "@jupyter-widgets/controls",
      "model_module_version": "1.5.0",
      "model_name": "HBoxModel",
      "state": {
       "children": [
        "IPY_MODEL_6b3bb80a29044d7a98771511718cb797",
        "IPY_MODEL_8857abc3b0a44f7aab2e8295cfad8d1b"
       ],
       "layout": "IPY_MODEL_0bd9e97ffe06417ca2f9ecbd58b8c7ce"
      }
     },
     "dc0543b7b997483fb7f6142be03800a0": {
      "model_module": "@jupyter-widgets/controls",
      "model_module_version": "1.5.0",
      "model_name": "DescriptionStyleModel",
      "state": {
       "description_width": ""
      }
     },
     "deac1bb711064eff846235fc15b63852": {
      "model_module": "@jupyter-widgets/controls",
      "model_module_version": "1.5.0",
      "model_name": "HBoxModel",
      "state": {
       "children": [
        "IPY_MODEL_6a9542952e694341b1c3c31735295f76",
        "IPY_MODEL_cd0958c1e2a049269e5a8fb9337ea95e"
       ],
       "layout": "IPY_MODEL_384da4a05e45440db06de4e61c267994"
      }
     },
     "dfe452c763cf4ea4bb95bb1ab560ed2c": {
      "model_module": "@jupyter-widgets/controls",
      "model_module_version": "1.5.0",
      "model_name": "IntTextModel",
      "state": {
       "description": "Minimum",
       "layout": "IPY_MODEL_14edd9679e994692848cf3fa73e4e0c2",
       "step": 1,
       "style": "IPY_MODEL_cae579065b134bfb89083f984a0e8de5"
      }
     },
     "e0330ca1a7c9475fad76b5912a8b9d3b": {
      "model_module": "@jupyter-widgets/controls",
      "model_module_version": "1.5.0",
      "model_name": "ButtonModel",
      "state": {
       "description": "Scale",
       "layout": "IPY_MODEL_7ada416dd4654703a9de7d85695b5046",
       "style": "IPY_MODEL_a8db9564850144d2aeeba623174f5ae2"
      }
     },
     "e1fc1a716fb94daebdb5cf168522ffce": {
      "model_module": "@jupyter-widgets/controls",
      "model_module_version": "1.5.0",
      "model_name": "ButtonStyleModel",
      "state": {}
     },
     "e62ceffe4a9b40d196329b63c7cb1560": {
      "model_module": "@jupyter-widgets/controls",
      "model_module_version": "1.5.0",
      "model_name": "DescriptionStyleModel",
      "state": {
       "description_width": ""
      }
     },
     "e9def914fe924407bab482718bf010b1": {
      "model_module": "@jupyter-widgets/controls",
      "model_module_version": "1.5.0",
      "model_name": "DescriptionStyleModel",
      "state": {
       "description_width": ""
      }
     },
     "ec90aea084414c71a8338c5c2d68e307": {
      "model_module": "@jupyter-widgets/controls",
      "model_module_version": "1.5.0",
      "model_name": "HBoxModel",
      "state": {
       "children": [
        "IPY_MODEL_2807c7610de342a48b1f9764cc10bac3",
        "IPY_MODEL_51b64c28ab574dc99c19181bb345a935"
       ],
       "layout": "IPY_MODEL_3b193b9eb576419fa6d90ad278476d44"
      }
     },
     "ef4283a199be4280a7473f78921ebb7a": {
      "model_module": "@jupyter-widgets/controls",
      "model_module_version": "1.5.0",
      "model_name": "ButtonStyleModel",
      "state": {}
     },
     "f73a46a0ab0b43dea33108da0a005707": {
      "model_module": "@jupyter-widgets/controls",
      "model_module_version": "1.5.0",
      "model_name": "DescriptionStyleModel",
      "state": {
       "description_width": ""
      }
     },
     "f9a36bc7fb1342578d03cd9acb56e119": {
      "model_module": "@jupyter-widgets/base",
      "model_module_version": "1.2.0",
      "model_name": "LayoutModel",
      "state": {
       "min_width": "500px"
      }
     },
     "fad38e1d0d474d4e9a3d3ee879f20572": {
      "model_module": "@jupyter-widgets/controls",
      "model_module_version": "1.5.0",
      "model_name": "DescriptionStyleModel",
      "state": {
       "description_width": ""
      }
     },
     "fb72fa920a65490c98934909cfaa56a8": {
      "model_module": "@jupyter-widgets/controls",
      "model_module_version": "1.5.0",
      "model_name": "IntTextModel",
      "state": {
       "description": "Workers",
       "layout": "IPY_MODEL_4e98f0fa3b474197b3fe7a3578f84694",
       "step": 1,
       "style": "IPY_MODEL_1a514a329bed4cb6815fce201ec81a25"
      }
     }
    },
    "version_major": 2,
    "version_minor": 0
   }
  }
 },
 "nbformat": 4,
 "nbformat_minor": 4
}
